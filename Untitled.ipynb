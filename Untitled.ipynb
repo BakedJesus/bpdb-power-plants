{
 "cells": [
  {
   "cell_type": "code",
   "execution_count": 3,
   "id": "5591887e-26fc-416b-9cb9-6a56833509ef",
   "metadata": {
    "tags": []
   },
   "outputs": [],
   "source": [
    "import pandas as pd"
   ]
  },
  {
   "cell_type": "code",
   "execution_count": 36,
   "id": "283e0f6c-13e8-4ed1-865e-2b94ffd49013",
   "metadata": {
    "tags": []
   },
   "outputs": [],
   "source": [
    "#dates = pd.read_excel('bpdb_selected.xlsx', sheet_name='dates', parse_dates=True).dropna()\n",
    "dates = pd.read_csv('bpdb_dates.csv', index_col=0)\n",
    "dates['start'] = pd.to_datetime(dates.start).astype('int64')"
   ]
  },
  {
   "cell_type": "code",
   "execution_count": 39,
   "id": "fed64640-108e-400b-b323-7d2c5a755d6c",
   "metadata": {
    "tags": []
   },
   "outputs": [
    {
     "data": {
      "text/html": [
       "<div>\n",
       "<style scoped>\n",
       "    .dataframe tbody tr th:only-of-type {\n",
       "        vertical-align: middle;\n",
       "    }\n",
       "\n",
       "    .dataframe tbody tr th {\n",
       "        vertical-align: top;\n",
       "    }\n",
       "\n",
       "    .dataframe thead th {\n",
       "        text-align: right;\n",
       "    }\n",
       "</style>\n",
       "<table border=\"1\" class=\"dataframe\">\n",
       "  <thead>\n",
       "    <tr style=\"text-align: right;\">\n",
       "      <th></th>\n",
       "      <th>plant</th>\n",
       "      <th>start</th>\n",
       "    </tr>\n",
       "  </thead>\n",
       "  <tbody>\n",
       "    <tr>\n",
       "      <th>0</th>\n",
       "      <td>Shikalbaha 150 MW Power Plant</td>\n",
       "      <td>1282089600000000000</td>\n",
       "    </tr>\n",
       "    <tr>\n",
       "      <th>1</th>\n",
       "      <td>Siddhirganj 2x120 MW GTPP</td>\n",
       "      <td>1287014400000000000</td>\n",
       "    </tr>\n",
       "  </tbody>\n",
       "</table>\n",
       "</div>"
      ],
      "text/plain": [
       "                           plant                start\n",
       "0  Shikalbaha 150 MW Power Plant  1282089600000000000\n",
       "1      Siddhirganj 2x120 MW GTPP  1287014400000000000"
      ]
     },
     "execution_count": 39,
     "metadata": {},
     "output_type": "execute_result"
    }
   ],
   "source": [
    "dates.head(2)"
   ]
  },
  {
   "cell_type": "code",
   "execution_count": 40,
   "id": "b9564ee9-c655-46c1-ab50-2fda0035bdc9",
   "metadata": {
    "tags": []
   },
   "outputs": [
    {
     "data": {
      "text/plain": [
       "Index(['own', 'plant_name_x', 'fuel_type', 'capacity_mw', 'net_generation_gwh',\n",
       "       'usage', 'costs_name', '2021_units', '2021_amount',\n",
       "       '2021_cost_per_unit', '2022_units', '2022_amount',\n",
       "       '2022_cost_per_unit'],\n",
       "      dtype='object')"
      ]
     },
     "execution_count": 40,
     "metadata": {},
     "output_type": "execute_result"
    }
   ],
   "source": [
    "rdf = pd.read_csv('handmade22.csv', index_col=0)\n",
    "rdf.columns"
   ]
  },
  {
   "cell_type": "code",
   "execution_count": 76,
   "id": "b3fa5996-6196-4d52-83c2-dc6de2f67f6a",
   "metadata": {
    "tags": []
   },
   "outputs": [],
   "source": [
    "import numpy as np\n",
    "from fuzzywuzzy import fuzz\n",
    "from fuzzywuzzy import process\n",
    "\n",
    "# Let's create a dictionary where the keys are the plant names from the plants_df and the values are the plant names from the costs_df that have the highest match score.\n",
    "def match_columns(ser1, ser2, threshold):\n",
    "    \"\"\"\n",
    "    Finds ser2 matches for unique items in ser1\n",
    "    1:1 matching\n",
    "    \"\"\"\n",
    "    match_dict = {}\n",
    "    for og_txt in list(ser1.unique()):\n",
    "        matches = process.extract(og_txt, ser2.unique(), limit=1, scorer=fuzz.token_sort_ratio)\n",
    "        if matches[0][1] >= threshold:\n",
    "            match_dict[og_txt] = matches[0][0]\n",
    "    return match_dict\n",
    "\n",
    "def multi_match_columns(ser1, ser2, threshold):\n",
    "    \"\"\"\n",
    "    Finds ser2 matches for each list of items in ser1\n",
    "    \"\"\"\n",
    "    match_dict = {}\n",
    "    for i, og_txt_list in ser1.items():\n",
    "        for og_txt in og_txt_list:\n",
    "            matches = process.extract(og_txt, ser2.unique(), limit=1, scorer=fuzz.token_sort_ratio)\n",
    "            if matches[0][1] >= threshold:\n",
    "                match_dict[i] = matches[0][0]\n",
    "                break\n",
    "    return match_dict\n",
    "    \n",
    "\n",
    "\n",
    "def check_new_matches(ser1, ser2, threshold_old, threshold_new):\n",
    "    old = match_columns(ser1, ser2, threshold_old)\n",
    "    new = match_columns(ser1, ser2, threshold_new)\n",
    "    print(len(old.keys()))\n",
    "    diff_keys = [k for k in new.keys() if k not in old.keys()]\n",
    "    return {k:new[k] for k in diff_keys}"
   ]
  },
  {
   "cell_type": "code",
   "execution_count": 43,
   "id": "c5c07a20-1be8-47d4-87d9-ab6547b2d01f",
   "metadata": {
    "tags": []
   },
   "outputs": [
    {
     "name": "stdout",
     "output_type": "stream",
     "text": [
      "12\n"
     ]
    },
    {
     "data": {
      "text/plain": [
       "{'Power Pac Motiara - Jamalpur': 'Jamalpur 115 MW Power Plant',\n",
       " 'Faridpur Peacking Power Plant': 'Faridpur 50 MW Peaking PP',\n",
       " 'SHAHJIBAZAR POWER CO. LTD.': 'Shahjibazar CCPP',\n",
       " 'Bera Peacking Power Plant': 'Keraniganj Power Plant',\n",
       " 'Fenchuganj 2x 90 MW CCPP (1st & 2nd Unit)': 'Fenchuganj 90 MW CCPP',\n",
       " 'Dohazari Peacking Power Plant': 'Katakhali 50 MW Peaking Power Plant',\n",
       " 'Hathazari Peacking Power Plant': 'Katakhali 50 MW Peaking Power Plant'}"
      ]
     },
     "execution_count": 43,
     "metadata": {},
     "output_type": "execute_result"
    }
   ],
   "source": [
    "check_new_matches(rdf.costs_name, dates.plant, 75, 70)"
   ]
  },
  {
   "cell_type": "code",
   "execution_count": 72,
   "id": "9b193c90-1498-4579-80b6-d613f411a527",
   "metadata": {
    "tags": []
   },
   "outputs": [],
   "source": [
    "combo = {}\n",
    "for i in rdf.iterrows():\n",
    "    n1 = i[1]['costs_name']\n",
    "    n2 = i[1]['plant_name_x']\n",
    "    combo[i[0]] = [n1, n2]\n",
    "rdf[\"namelist\"] = pd.Series(combo)"
   ]
  },
  {
   "cell_type": "code",
   "execution_count": 84,
   "id": "a53b5433-41f4-4d02-ab70-b065a0fbbeed",
   "metadata": {
    "tags": []
   },
   "outputs": [],
   "source": [
    "pd.concat([rdf[[\"namelist\"]], dates[['plant']]]).to_csv('gpt_match_test.csv')"
   ]
  },
  {
   "cell_type": "code",
   "execution_count": 79,
   "id": "47a530ff-d2ce-4822-a755-90e73de2ccce",
   "metadata": {
    "tags": []
   },
   "outputs": [
    {
     "data": {
      "text/html": [
       "<div>\n",
       "<style scoped>\n",
       "    .dataframe tbody tr th:only-of-type {\n",
       "        vertical-align: middle;\n",
       "    }\n",
       "\n",
       "    .dataframe tbody tr th {\n",
       "        vertical-align: top;\n",
       "    }\n",
       "\n",
       "    .dataframe thead th {\n",
       "        text-align: right;\n",
       "    }\n",
       "</style>\n",
       "<table border=\"1\" class=\"dataframe\">\n",
       "  <thead>\n",
       "    <tr style=\"text-align: right;\">\n",
       "      <th></th>\n",
       "      <th>plant</th>\n",
       "      <th>start</th>\n",
       "    </tr>\n",
       "  </thead>\n",
       "  <tbody>\n",
       "    <tr>\n",
       "      <th>0</th>\n",
       "      <td>Shikalbaha 150 MW Power Plant</td>\n",
       "      <td>1282089600000000000</td>\n",
       "    </tr>\n",
       "    <tr>\n",
       "      <th>1</th>\n",
       "      <td>Siddhirganj 2x120 MW GTPP</td>\n",
       "      <td>1287014400000000000</td>\n",
       "    </tr>\n",
       "    <tr>\n",
       "      <th>4</th>\n",
       "      <td>Ashuganj Rental Power Plant</td>\n",
       "      <td>1270598400000000000</td>\n",
       "    </tr>\n",
       "    <tr>\n",
       "      <th>5</th>\n",
       "      <td>Shikalbaha 55 MW Rental Power Plant</td>\n",
       "      <td>1273104000000000000</td>\n",
       "    </tr>\n",
       "    <tr>\n",
       "      <th>6</th>\n",
       "      <td>Thakurgaon, 3 Years Rental PP</td>\n",
       "      <td>1280707200000000000</td>\n",
       "    </tr>\n",
       "    <tr>\n",
       "      <th>...</th>\n",
       "      <td>...</td>\n",
       "      <td>...</td>\n",
       "    </tr>\n",
       "    <tr>\n",
       "      <th>223</th>\n",
       "      <td>Mirsorai, Chittagong 150 MW PP</td>\n",
       "      <td>1643673600000000000</td>\n",
       "    </tr>\n",
       "    <tr>\n",
       "      <th>224</th>\n",
       "      <td>Ghorasal 3rd Unit Repowering ST</td>\n",
       "      <td>1646092800000000000</td>\n",
       "    </tr>\n",
       "    <tr>\n",
       "      <th>225</th>\n",
       "      <td>Ghorasal 4th Unit Repowering</td>\n",
       "      <td>1654041600000000000</td>\n",
       "    </tr>\n",
       "    <tr>\n",
       "      <th>226</th>\n",
       "      <td>Khulna 330 MW CCPP (D/F)</td>\n",
       "      <td>1654041600000000000</td>\n",
       "    </tr>\n",
       "    <tr>\n",
       "      <th>227</th>\n",
       "      <td>Sreepur 150 MW  Power Plant</td>\n",
       "      <td>1669852800000000000</td>\n",
       "    </tr>\n",
       "  </tbody>\n",
       "</table>\n",
       "<p>146 rows × 2 columns</p>\n",
       "</div>"
      ],
      "text/plain": [
       "                                   plant                start\n",
       "0          Shikalbaha 150 MW Power Plant  1282089600000000000\n",
       "1              Siddhirganj 2x120 MW GTPP  1287014400000000000\n",
       "4            Ashuganj Rental Power Plant  1270598400000000000\n",
       "5    Shikalbaha 55 MW Rental Power Plant  1273104000000000000\n",
       "6          Thakurgaon, 3 Years Rental PP  1280707200000000000\n",
       "..                                   ...                  ...\n",
       "223       Mirsorai, Chittagong 150 MW PP  1643673600000000000\n",
       "224      Ghorasal 3rd Unit Repowering ST  1646092800000000000\n",
       "225         Ghorasal 4th Unit Repowering  1654041600000000000\n",
       "226             Khulna 330 MW CCPP (D/F)  1654041600000000000\n",
       "227          Sreepur 150 MW  Power Plant  1669852800000000000\n",
       "\n",
       "[146 rows x 2 columns]"
      ]
     },
     "execution_count": 79,
     "metadata": {},
     "output_type": "execute_result"
    }
   ],
   "source": [
    "dates"
   ]
  },
  {
   "cell_type": "code",
   "execution_count": null,
   "id": "87e0ac24-56e1-4acb-9156-a6a3f3e1d018",
   "metadata": {},
   "outputs": [],
   "source": []
  }
 ],
 "metadata": {
  "kernelspec": {
   "display_name": "Python 3 (ipykernel)",
   "language": "python",
   "name": "python3"
  },
  "language_info": {
   "codemirror_mode": {
    "name": "ipython",
    "version": 3
   },
   "file_extension": ".py",
   "mimetype": "text/x-python",
   "name": "python",
   "nbconvert_exporter": "python",
   "pygments_lexer": "ipython3",
   "version": "3.10.9"
  }
 },
 "nbformat": 4,
 "nbformat_minor": 5
}
