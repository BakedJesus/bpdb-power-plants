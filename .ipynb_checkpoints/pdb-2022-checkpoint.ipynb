{
 "cells": [
  {
   "cell_type": "code",
   "execution_count": 1,
   "id": "f41a9a80-2479-48cc-b2ea-9aea9e30a04d",
   "metadata": {
    "tags": []
   },
   "outputs": [
    {
     "name": "stdout",
     "output_type": "stream",
     "text": [
      "Machine-Learning-for-Algorithmic-Trading-Second-Edition\n",
      "Machine-Learning-Trading-Strategies\n",
      "matched_pdf.csv\n",
      "merged_plants.csv\n",
      "news_sentiment\n",
      "OpenBBTerminal\n",
      "pass\n",
      "pdb1.csv\n",
      "pdb-2022.ipynb\n",
      "pdb_costs.csv\n",
      "pdb.ipynb\n",
      "pysystemtrade\n",
      "quant_books\n",
      "quant_pca\n",
      "quant_pca_2\n",
      "quantstats\n",
      "research\n",
      "unmatched_costs.csv\n",
      "unmatched_pdf.csv\n",
      "Untitled.ipynb\n",
      "zipline-technical-analysis\n"
     ]
    }
   ],
   "source": [
    "import pandas as pd\n",
    "!ls"
   ]
  },
  {
   "cell_type": "code",
   "execution_count": 7,
   "id": "a8c80125-64a1-4348-a3f7-9bd105eae9c4",
   "metadata": {
    "tags": []
   },
   "outputs": [
    {
     "data": {
      "text/html": [
       "<div>\n",
       "<style scoped>\n",
       "    .dataframe tbody tr th:only-of-type {\n",
       "        vertical-align: middle;\n",
       "    }\n",
       "\n",
       "    .dataframe tbody tr th {\n",
       "        vertical-align: top;\n",
       "    }\n",
       "\n",
       "    .dataframe thead th {\n",
       "        text-align: right;\n",
       "    }\n",
       "</style>\n",
       "<table border=\"1\" class=\"dataframe\">\n",
       "  <thead>\n",
       "    <tr style=\"text-align: right;\">\n",
       "      <th></th>\n",
       "      <th>Sl.\\nNo.</th>\n",
       "      <th>own</th>\n",
       "      <th>plant_name</th>\n",
       "      <th>Unnamed: 3</th>\n",
       "      <th>Unnamed: 4</th>\n",
       "      <th>Unnamed: 5</th>\n",
       "      <th>Unnamed: 6</th>\n",
       "      <th>Unnamed: 7</th>\n",
       "      <th>Unnamed: 8</th>\n",
       "      <th>Unnamed: 9</th>\n",
       "      <th>...</th>\n",
       "      <th>capacity_mw</th>\n",
       "      <th>Unnamed: 18</th>\n",
       "      <th>Unnamed: 19</th>\n",
       "      <th>Unnamed: 20</th>\n",
       "      <th>net_generation_gwh</th>\n",
       "      <th>Unnamed: 22</th>\n",
       "      <th>Unnamed: 23</th>\n",
       "      <th>Unnamed: 24</th>\n",
       "      <th>Unnamed: 25</th>\n",
       "      <th>Annual Plant factor (%)</th>\n",
       "    </tr>\n",
       "  </thead>\n",
       "  <tbody>\n",
       "    <tr>\n",
       "      <th>0</th>\n",
       "      <td>1</td>\n",
       "      <td>Public</td>\n",
       "      <td>a) Ghorasal TPP (Unit 1&amp; 2)</td>\n",
       "      <td>NaN</td>\n",
       "      <td>NaN</td>\n",
       "      <td>NaN</td>\n",
       "      <td>NaN</td>\n",
       "      <td>NaN</td>\n",
       "      <td>NaN</td>\n",
       "      <td>NaN</td>\n",
       "      <td>...</td>\n",
       "      <td>0</td>\n",
       "      <td>NaN</td>\n",
       "      <td>NaN</td>\n",
       "      <td>NaN</td>\n",
       "      <td>30.1564</td>\n",
       "      <td>NaN</td>\n",
       "      <td>NaN</td>\n",
       "      <td>NaN</td>\n",
       "      <td>NaN</td>\n",
       "      <td>0.058</td>\n",
       "    </tr>\n",
       "    <tr>\n",
       "      <th>1</th>\n",
       "      <td>NaN</td>\n",
       "      <td>Public</td>\n",
       "      <td>b) Ghorasal Repowered CCPP Unit-3</td>\n",
       "      <td>NaN</td>\n",
       "      <td>NaN</td>\n",
       "      <td>NaN</td>\n",
       "      <td>NaN</td>\n",
       "      <td>NaN</td>\n",
       "      <td>NaN</td>\n",
       "      <td>NaN</td>\n",
       "      <td>...</td>\n",
       "      <td>260</td>\n",
       "      <td>NaN</td>\n",
       "      <td>NaN</td>\n",
       "      <td>NaN</td>\n",
       "      <td>47.1487</td>\n",
       "      <td>NaN</td>\n",
       "      <td>NaN</td>\n",
       "      <td>NaN</td>\n",
       "      <td>NaN</td>\n",
       "      <td>0.023</td>\n",
       "    </tr>\n",
       "    <tr>\n",
       "      <th>2</th>\n",
       "      <td>NaN</td>\n",
       "      <td>Public</td>\n",
       "      <td>c) Ghorasal Repowered CCPP Unit-4</td>\n",
       "      <td>NaN</td>\n",
       "      <td>NaN</td>\n",
       "      <td>NaN</td>\n",
       "      <td>NaN</td>\n",
       "      <td>NaN</td>\n",
       "      <td>NaN</td>\n",
       "      <td>NaN</td>\n",
       "      <td>...</td>\n",
       "      <td>210</td>\n",
       "      <td>NaN</td>\n",
       "      <td>NaN</td>\n",
       "      <td>NaN</td>\n",
       "      <td>280.5226</td>\n",
       "      <td>NaN</td>\n",
       "      <td>NaN</td>\n",
       "      <td>NaN</td>\n",
       "      <td>NaN</td>\n",
       "      <td>0.197</td>\n",
       "    </tr>\n",
       "    <tr>\n",
       "      <th>3</th>\n",
       "      <td>NaN</td>\n",
       "      <td>Public</td>\n",
       "      <td>d) Ghorasal TPP Unit-5</td>\n",
       "      <td>NaN</td>\n",
       "      <td>NaN</td>\n",
       "      <td>NaN</td>\n",
       "      <td>NaN</td>\n",
       "      <td>NaN</td>\n",
       "      <td>NaN</td>\n",
       "      <td>NaN</td>\n",
       "      <td>...</td>\n",
       "      <td>210</td>\n",
       "      <td>NaN</td>\n",
       "      <td>NaN</td>\n",
       "      <td>NaN</td>\n",
       "      <td>963.6894</td>\n",
       "      <td>NaN</td>\n",
       "      <td>NaN</td>\n",
       "      <td>NaN</td>\n",
       "      <td>NaN</td>\n",
       "      <td>0.62</td>\n",
       "    </tr>\n",
       "    <tr>\n",
       "      <th>4</th>\n",
       "      <td>NaN</td>\n",
       "      <td>Public</td>\n",
       "      <td>e) Ghorasal TPP Unit-6</td>\n",
       "      <td>NaN</td>\n",
       "      <td>NaN</td>\n",
       "      <td>NaN</td>\n",
       "      <td>NaN</td>\n",
       "      <td>NaN</td>\n",
       "      <td>NaN</td>\n",
       "      <td>NaN</td>\n",
       "      <td>...</td>\n",
       "      <td>0</td>\n",
       "      <td>NaN</td>\n",
       "      <td>NaN</td>\n",
       "      <td>NaN</td>\n",
       "      <td>-2.2060</td>\n",
       "      <td>NaN</td>\n",
       "      <td>NaN</td>\n",
       "      <td>NaN</td>\n",
       "      <td>NaN</td>\n",
       "      <td>-</td>\n",
       "    </tr>\n",
       "  </tbody>\n",
       "</table>\n",
       "<p>5 rows × 27 columns</p>\n",
       "</div>"
      ],
      "text/plain": [
       "  Sl.\\nNo.     own                         plant_name  Unnamed: 3  Unnamed: 4  \\\n",
       "0        1  Public        a) Ghorasal TPP (Unit 1& 2)         NaN         NaN   \n",
       "1      NaN  Public  b) Ghorasal Repowered CCPP Unit-3         NaN         NaN   \n",
       "2      NaN  Public  c) Ghorasal Repowered CCPP Unit-4         NaN         NaN   \n",
       "3      NaN  Public             d) Ghorasal TPP Unit-5         NaN         NaN   \n",
       "4      NaN  Public             e) Ghorasal TPP Unit-6         NaN         NaN   \n",
       "\n",
       "   Unnamed: 5  Unnamed: 6  Unnamed: 7  Unnamed: 8  Unnamed: 9  ...  \\\n",
       "0         NaN         NaN         NaN         NaN         NaN  ...   \n",
       "1         NaN         NaN         NaN         NaN         NaN  ...   \n",
       "2         NaN         NaN         NaN         NaN         NaN  ...   \n",
       "3         NaN         NaN         NaN         NaN         NaN  ...   \n",
       "4         NaN         NaN         NaN         NaN         NaN  ...   \n",
       "\n",
       "   capacity_mw Unnamed: 18  Unnamed: 19  Unnamed: 20  net_generation_gwh  \\\n",
       "0            0         NaN          NaN          NaN             30.1564   \n",
       "1          260         NaN          NaN          NaN             47.1487   \n",
       "2          210         NaN          NaN          NaN            280.5226   \n",
       "3          210         NaN          NaN          NaN            963.6894   \n",
       "4            0         NaN          NaN          NaN             -2.2060   \n",
       "\n",
       "   Unnamed: 22  Unnamed: 23 Unnamed: 24  Unnamed: 25  Annual Plant factor (%)  \n",
       "0          NaN          NaN         NaN          NaN                    0.058  \n",
       "1          NaN          NaN         NaN          NaN                    0.023  \n",
       "2          NaN          NaN         NaN          NaN                    0.197  \n",
       "3          NaN          NaN         NaN          NaN                     0.62  \n",
       "4          NaN          NaN         NaN          NaN                        -  \n",
       "\n",
       "[5 rows x 27 columns]"
      ]
     },
     "execution_count": 7,
     "metadata": {},
     "output_type": "execute_result"
    }
   ],
   "source": [
    "pdb = pd.read_excel('research/bpdb_main.xlsx', sheet_name='final')\n",
    "# pdb = pd.read_excel('research/2022_bpdb_main_2.xlsx', sheet_name='clean') \n",
    "pdb.head()"
   ]
  },
  {
   "cell_type": "code",
   "execution_count": 5,
   "id": "f7455e40-b960-4324-ac11-e08d596ad6a2",
   "metadata": {
    "tags": []
   },
   "outputs": [
    {
     "data": {
      "text/plain": [
       "Index(['plant', 'net_generation', 'total_cost', 'cost_per_unit', 'Unnamed: 4'], dtype='object')"
      ]
     },
     "execution_count": 5,
     "metadata": {},
     "output_type": "execute_result"
    }
   ],
   "source": [
    "pdb.columns"
   ]
  },
  {
   "cell_type": "code",
   "execution_count": 6,
   "id": "9013c66c-e6cc-44d6-931f-0500ac6e8c0d",
   "metadata": {
    "tags": []
   },
   "outputs": [
    {
     "data": {
      "text/plain": [
       "(119, 5)"
      ]
     },
     "execution_count": 6,
     "metadata": {},
     "output_type": "execute_result"
    }
   ],
   "source": [
    "pdb.shape"
   ]
  },
  {
   "cell_type": "code",
   "execution_count": 18,
   "id": "d018a4c2-16c2-4f69-ab2a-46e90f2f823f",
   "metadata": {
    "tags": []
   },
   "outputs": [],
   "source": [
    "db1 = pdb[['own', 'plant_name', 'fuel_type', 'capacity_mw', 'net_generation_gwh', 'Annual Plant factor (%)']].iloc[1:]"
   ]
  },
  {
   "cell_type": "code",
   "execution_count": 22,
   "id": "14a3b2e4-c2be-481c-b67d-64865c6d685a",
   "metadata": {
    "tags": []
   },
   "outputs": [
    {
     "data": {
      "text/html": [
       "<div>\n",
       "<style scoped>\n",
       "    .dataframe tbody tr th:only-of-type {\n",
       "        vertical-align: middle;\n",
       "    }\n",
       "\n",
       "    .dataframe tbody tr th {\n",
       "        vertical-align: top;\n",
       "    }\n",
       "\n",
       "    .dataframe thead th {\n",
       "        text-align: right;\n",
       "    }\n",
       "</style>\n",
       "<table border=\"1\" class=\"dataframe\">\n",
       "  <thead>\n",
       "    <tr style=\"text-align: right;\">\n",
       "      <th></th>\n",
       "      <th>own</th>\n",
       "      <th>plant_name</th>\n",
       "      <th>fuel_type</th>\n",
       "      <th>capacity_mw</th>\n",
       "      <th>net_generation_gwh</th>\n",
       "      <th>Annual Plant factor (%)</th>\n",
       "    </tr>\n",
       "  </thead>\n",
       "  <tbody>\n",
       "    <tr>\n",
       "      <th>1</th>\n",
       "      <td>Public</td>\n",
       "      <td>b) Ghorasal Repowered CCPP Unit-3</td>\n",
       "      <td>Gas</td>\n",
       "      <td>260</td>\n",
       "      <td>47.1487</td>\n",
       "      <td>0.023</td>\n",
       "    </tr>\n",
       "    <tr>\n",
       "      <th>2</th>\n",
       "      <td>Public</td>\n",
       "      <td>c) Ghorasal Repowered CCPP Unit-4</td>\n",
       "      <td>Gas</td>\n",
       "      <td>210</td>\n",
       "      <td>280.5226</td>\n",
       "      <td>0.197</td>\n",
       "    </tr>\n",
       "    <tr>\n",
       "      <th>3</th>\n",
       "      <td>Public</td>\n",
       "      <td>d) Ghorasal TPP Unit-5</td>\n",
       "      <td>Gas</td>\n",
       "      <td>210</td>\n",
       "      <td>963.6894</td>\n",
       "      <td>0.62</td>\n",
       "    </tr>\n",
       "    <tr>\n",
       "      <th>4</th>\n",
       "      <td>Public</td>\n",
       "      <td>e) Ghorasal TPP Unit-6</td>\n",
       "      <td>Gas</td>\n",
       "      <td>0</td>\n",
       "      <td>-2.2060</td>\n",
       "      <td>-</td>\n",
       "    </tr>\n",
       "    <tr>\n",
       "      <th>5</th>\n",
       "      <td>Public</td>\n",
       "      <td>Ghorasal 365 MW CCPP Unit-7</td>\n",
       "      <td>Gas</td>\n",
       "      <td>365</td>\n",
       "      <td>1315.1245</td>\n",
       "      <td>0.434</td>\n",
       "    </tr>\n",
       "    <tr>\n",
       "      <th>...</th>\n",
       "      <td>...</td>\n",
       "      <td>...</td>\n",
       "      <td>...</td>\n",
       "      <td>...</td>\n",
       "      <td>...</td>\n",
       "      <td>...</td>\n",
       "    </tr>\n",
       "    <tr>\n",
       "      <th>171</th>\n",
       "      <td>IMPORT</td>\n",
       "      <td>Power Import (Bheramara-Bharampur Phase-1)</td>\n",
       "      <td>Import</td>\n",
       "      <td>500</td>\n",
       "      <td>1730.7260</td>\n",
       "      <td>NaN</td>\n",
       "    </tr>\n",
       "    <tr>\n",
       "      <th>172</th>\n",
       "      <td>IMPORT</td>\n",
       "      <td>Import from Tripura (1st Phase)</td>\n",
       "      <td>Import</td>\n",
       "      <td>100</td>\n",
       "      <td>1028.8180</td>\n",
       "      <td>NaN</td>\n",
       "    </tr>\n",
       "    <tr>\n",
       "      <th>173</th>\n",
       "      <td>IMPORT</td>\n",
       "      <td>Import from Tripura (2nd  Phase)</td>\n",
       "      <td>Import</td>\n",
       "      <td>60</td>\n",
       "      <td>1023.5395</td>\n",
       "      <td>NaN</td>\n",
       "    </tr>\n",
       "    <tr>\n",
       "      <th>174</th>\n",
       "      <td>IMPORT</td>\n",
       "      <td>Power Import (Bheramara-Bharampur Phase-2)</td>\n",
       "      <td>Import</td>\n",
       "      <td>300</td>\n",
       "      <td>2539.0500</td>\n",
       "      <td>NaN</td>\n",
       "    </tr>\n",
       "    <tr>\n",
       "      <th>175</th>\n",
       "      <td>IMPORT</td>\n",
       "      <td>Sembcorp Energy India Ltd.</td>\n",
       "      <td>Import</td>\n",
       "      <td>200</td>\n",
       "      <td>1781.2230</td>\n",
       "      <td>NaN</td>\n",
       "    </tr>\n",
       "  </tbody>\n",
       "</table>\n",
       "<p>175 rows × 6 columns</p>\n",
       "</div>"
      ],
      "text/plain": [
       "        own                                  plant_name fuel_type capacity_mw  \\\n",
       "1    Public           b) Ghorasal Repowered CCPP Unit-3       Gas         260   \n",
       "2    Public           c) Ghorasal Repowered CCPP Unit-4       Gas         210   \n",
       "3    Public                      d) Ghorasal TPP Unit-5       Gas         210   \n",
       "4    Public                      e) Ghorasal TPP Unit-6       Gas           0   \n",
       "5    Public                 Ghorasal 365 MW CCPP Unit-7       Gas         365   \n",
       "..      ...                                         ...       ...         ...   \n",
       "171  IMPORT  Power Import (Bheramara-Bharampur Phase-1)    Import         500   \n",
       "172  IMPORT             Import from Tripura (1st Phase)    Import         100   \n",
       "173  IMPORT            Import from Tripura (2nd  Phase)    Import          60   \n",
       "174  IMPORT  Power Import (Bheramara-Bharampur Phase-2)    Import         300   \n",
       "175  IMPORT                  Sembcorp Energy India Ltd.    Import         200   \n",
       "\n",
       "     net_generation_gwh Annual Plant factor (%)  \n",
       "1               47.1487                   0.023  \n",
       "2              280.5226                   0.197  \n",
       "3              963.6894                    0.62  \n",
       "4               -2.2060                       -  \n",
       "5             1315.1245                   0.434  \n",
       "..                  ...                     ...  \n",
       "171           1730.7260                     NaN  \n",
       "172           1028.8180                     NaN  \n",
       "173           1023.5395                     NaN  \n",
       "174           2539.0500                     NaN  \n",
       "175           1781.2230                     NaN  \n",
       "\n",
       "[175 rows x 6 columns]"
      ]
     },
     "execution_count": 22,
     "metadata": {},
     "output_type": "execute_result"
    }
   ],
   "source": [
    "db1"
   ]
  },
  {
   "cell_type": "code",
   "execution_count": 23,
   "id": "d6ebf682-8b7b-4ded-a351-efa539cb7f31",
   "metadata": {
    "tags": []
   },
   "outputs": [],
   "source": [
    "db1 = db1.loc[db1.plant_name.dropna().index]"
   ]
  },
  {
   "cell_type": "code",
   "execution_count": 25,
   "id": "621d6cda-86f3-47d1-a6c7-ea3f059a3624",
   "metadata": {
    "tags": []
   },
   "outputs": [
    {
     "data": {
      "text/html": [
       "<div>\n",
       "<style scoped>\n",
       "    .dataframe tbody tr th:only-of-type {\n",
       "        vertical-align: middle;\n",
       "    }\n",
       "\n",
       "    .dataframe tbody tr th {\n",
       "        vertical-align: top;\n",
       "    }\n",
       "\n",
       "    .dataframe thead th {\n",
       "        text-align: right;\n",
       "    }\n",
       "</style>\n",
       "<table border=\"1\" class=\"dataframe\">\n",
       "  <thead>\n",
       "    <tr style=\"text-align: right;\">\n",
       "      <th></th>\n",
       "      <th>own</th>\n",
       "      <th>plant_name</th>\n",
       "      <th>fuel_type</th>\n",
       "      <th>capacity_mw</th>\n",
       "      <th>net_generation_gwh</th>\n",
       "      <th>Annual Plant factor (%)</th>\n",
       "    </tr>\n",
       "  </thead>\n",
       "  <tbody>\n",
       "    <tr>\n",
       "      <th>4</th>\n",
       "      <td>Public</td>\n",
       "      <td>e) Ghorasal TPP Unit-6</td>\n",
       "      <td>Gas</td>\n",
       "      <td>0</td>\n",
       "      <td>-2.2060</td>\n",
       "      <td>-</td>\n",
       "    </tr>\n",
       "    <tr>\n",
       "      <th>8</th>\n",
       "      <td>Public</td>\n",
       "      <td>210 MW Shiddirganj TPP</td>\n",
       "      <td>Gas</td>\n",
       "      <td>210</td>\n",
       "      <td>-1.2870</td>\n",
       "      <td>-</td>\n",
       "    </tr>\n",
       "    <tr>\n",
       "      <th>21</th>\n",
       "      <td>Public</td>\n",
       "      <td>Hathazari 100 MW Peaking PP</td>\n",
       "      <td>F.Oil</td>\n",
       "      <td>98</td>\n",
       "      <td>-0.8567</td>\n",
       "      <td>0.001</td>\n",
       "    </tr>\n",
       "    <tr>\n",
       "      <th>7</th>\n",
       "      <td>Public</td>\n",
       "      <td>Haripur GTPP</td>\n",
       "      <td>Gas</td>\n",
       "      <td>32</td>\n",
       "      <td>-0.4225</td>\n",
       "      <td>-</td>\n",
       "    </tr>\n",
       "    <tr>\n",
       "      <th>6</th>\n",
       "      <td>Public</td>\n",
       "      <td>Tongi 80 MW GTPP</td>\n",
       "      <td>Gas</td>\n",
       "      <td>105</td>\n",
       "      <td>-0.2004</td>\n",
       "      <td>-</td>\n",
       "    </tr>\n",
       "    <tr>\n",
       "      <th>51</th>\n",
       "      <td>Public</td>\n",
       "      <td>Bheramara GT unit-3</td>\n",
       "      <td>HSD</td>\n",
       "      <td>20</td>\n",
       "      <td>-0.1532</td>\n",
       "      <td>0</td>\n",
       "    </tr>\n",
       "    <tr>\n",
       "      <th>18</th>\n",
       "      <td>Public</td>\n",
       "      <td>Rauzan 210 MW /ST (2nd)</td>\n",
       "      <td>Gas</td>\n",
       "      <td>210</td>\n",
       "      <td>0.0000</td>\n",
       "      <td>-</td>\n",
       "    </tr>\n",
       "    <tr>\n",
       "      <th>105</th>\n",
       "      <td>IPP</td>\n",
       "      <td>CLC Power Co. Ltd. 108 MW Bosila Keranigonj</td>\n",
       "      <td>F.Oil</td>\n",
       "      <td>108</td>\n",
       "      <td>0.0000</td>\n",
       "      <td>0</td>\n",
       "    </tr>\n",
       "    <tr>\n",
       "      <th>26</th>\n",
       "      <td>Public</td>\n",
       "      <td>Sonagazi 1 MW Wind PP</td>\n",
       "      <td>Wind</td>\n",
       "      <td>0</td>\n",
       "      <td>0.0230</td>\n",
       "      <td>-</td>\n",
       "    </tr>\n",
       "    <tr>\n",
       "      <th>72</th>\n",
       "      <td>Public</td>\n",
       "      <td>Sirajgonj 2 MW Wind Plant</td>\n",
       "      <td>Wind</td>\n",
       "      <td>-</td>\n",
       "      <td>0.0301</td>\n",
       "      <td>-</td>\n",
       "    </tr>\n",
       "    <tr>\n",
       "      <th>142</th>\n",
       "      <td>IPP</td>\n",
       "      <td>Sailo Solar Power Plant Shantahar</td>\n",
       "      <td>Solar</td>\n",
       "      <td>-</td>\n",
       "      <td>0.1646</td>\n",
       "      <td>-</td>\n",
       "    </tr>\n",
       "    <tr>\n",
       "      <th>27</th>\n",
       "      <td>Public</td>\n",
       "      <td>Kutubdia 900KW Wind PP</td>\n",
       "      <td>Wind</td>\n",
       "      <td>0</td>\n",
       "      <td>0.6083</td>\n",
       "      <td>-</td>\n",
       "    </tr>\n",
       "    <tr>\n",
       "      <th>143</th>\n",
       "      <td>IPP</td>\n",
       "      <td>Shailla 400 KW Solar</td>\n",
       "      <td>Solar</td>\n",
       "      <td>-</td>\n",
       "      <td>1.0031</td>\n",
       "      <td>-</td>\n",
       "    </tr>\n",
       "    <tr>\n",
       "      <th>78</th>\n",
       "      <td>Public</td>\n",
       "      <td>Rangpur 20 MW /GT</td>\n",
       "      <td>HSD</td>\n",
       "      <td>20</td>\n",
       "      <td>1.4037</td>\n",
       "      <td>0.009</td>\n",
       "    </tr>\n",
       "    <tr>\n",
       "      <th>77</th>\n",
       "      <td>Public</td>\n",
       "      <td>Saidpur 20 MW /GT</td>\n",
       "      <td>HSD</td>\n",
       "      <td>20</td>\n",
       "      <td>2.0647</td>\n",
       "      <td>0.013</td>\n",
       "    </tr>\n",
       "    <tr>\n",
       "      <th>137</th>\n",
       "      <td>IPP</td>\n",
       "      <td>Sharishabari 3 MW Engreen Solar Power Plant</td>\n",
       "      <td>Solar</td>\n",
       "      <td>3</td>\n",
       "      <td>3.9442</td>\n",
       "      <td>0.15</td>\n",
       "    </tr>\n",
       "    <tr>\n",
       "      <th>73</th>\n",
       "      <td>Public</td>\n",
       "      <td>Sirajgonj 7.6 MW Solar Power Plant</td>\n",
       "      <td>Solar</td>\n",
       "      <td>6</td>\n",
       "      <td>3.9538</td>\n",
       "      <td>-</td>\n",
       "    </tr>\n",
       "    <tr>\n",
       "      <th>54</th>\n",
       "      <td>Public</td>\n",
       "      <td>Gopalganj 100 MW Peaking PP</td>\n",
       "      <td>F.Oil</td>\n",
       "      <td>109</td>\n",
       "      <td>4.1326</td>\n",
       "      <td>0.007</td>\n",
       "    </tr>\n",
       "    <tr>\n",
       "      <th>28</th>\n",
       "      <td>Public</td>\n",
       "      <td>Kaptai Solar</td>\n",
       "      <td>Solar</td>\n",
       "      <td>7</td>\n",
       "      <td>9.7123</td>\n",
       "      <td>0.159</td>\n",
       "    </tr>\n",
       "    <tr>\n",
       "      <th>139</th>\n",
       "      <td>IPP</td>\n",
       "      <td>Sympa Solar Power 8 MW</td>\n",
       "      <td>Solar</td>\n",
       "      <td>8</td>\n",
       "      <td>11.2690</td>\n",
       "      <td>0.16</td>\n",
       "    </tr>\n",
       "  </tbody>\n",
       "</table>\n",
       "</div>"
      ],
      "text/plain": [
       "        own                                   plant_name fuel_type  \\\n",
       "4    Public                       e) Ghorasal TPP Unit-6       Gas   \n",
       "8    Public                       210 MW Shiddirganj TPP       Gas   \n",
       "21   Public                  Hathazari 100 MW Peaking PP     F.Oil   \n",
       "7    Public                                 Haripur GTPP       Gas   \n",
       "6    Public                             Tongi 80 MW GTPP       Gas   \n",
       "51   Public                          Bheramara GT unit-3       HSD   \n",
       "18   Public                      Rauzan 210 MW /ST (2nd)       Gas   \n",
       "105     IPP  CLC Power Co. Ltd. 108 MW Bosila Keranigonj     F.Oil   \n",
       "26   Public                        Sonagazi 1 MW Wind PP      Wind   \n",
       "72   Public                    Sirajgonj 2 MW Wind Plant      Wind   \n",
       "142     IPP            Sailo Solar Power Plant Shantahar     Solar   \n",
       "27   Public                       Kutubdia 900KW Wind PP      Wind   \n",
       "143     IPP                         Shailla 400 KW Solar     Solar   \n",
       "78   Public                            Rangpur 20 MW /GT       HSD   \n",
       "77   Public                            Saidpur 20 MW /GT       HSD   \n",
       "137     IPP  Sharishabari 3 MW Engreen Solar Power Plant     Solar   \n",
       "73   Public           Sirajgonj 7.6 MW Solar Power Plant     Solar   \n",
       "54   Public                  Gopalganj 100 MW Peaking PP     F.Oil   \n",
       "28   Public                                 Kaptai Solar     Solar   \n",
       "139     IPP                       Sympa Solar Power 8 MW     Solar   \n",
       "\n",
       "    capacity_mw  net_generation_gwh Annual Plant factor (%)  \n",
       "4             0             -2.2060                       -  \n",
       "8           210             -1.2870                       -  \n",
       "21           98             -0.8567                   0.001  \n",
       "7            32             -0.4225                       -  \n",
       "6           105             -0.2004                       -  \n",
       "51           20             -0.1532                       0  \n",
       "18          210              0.0000                       -  \n",
       "105         108              0.0000                       0  \n",
       "26            0              0.0230                       -  \n",
       "72            -              0.0301                       -  \n",
       "142           -              0.1646                       -  \n",
       "27            0              0.6083                       -  \n",
       "143           -              1.0031                       -  \n",
       "78           20              1.4037                   0.009  \n",
       "77           20              2.0647                   0.013  \n",
       "137           3              3.9442                    0.15  \n",
       "73            6              3.9538                       -  \n",
       "54          109              4.1326                   0.007  \n",
       "28            7              9.7123                   0.159  \n",
       "139           8             11.2690                    0.16  "
      ]
     },
     "execution_count": 25,
     "metadata": {},
     "output_type": "execute_result"
    }
   ],
   "source": [
    "db1.sort_values(by='net_generation_gwh').head(20)"
   ]
  },
  {
   "cell_type": "code",
   "execution_count": 27,
   "id": "a5fa4197-b1db-4696-93e8-88e2b59cf3b9",
   "metadata": {
    "tags": []
   },
   "outputs": [],
   "source": [
    "db1.to_csv('research/pdb1.csv')"
   ]
  },
  {
   "cell_type": "code",
   "execution_count": 35,
   "id": "4c214124-742e-41b4-a3f7-f68bf16b8acc",
   "metadata": {
    "tags": []
   },
   "outputs": [],
   "source": [
    "df = db1\n",
    "# Before converting, we replace hyphens with NaNs as hyphens can't be converted to numeric values\n",
    "df.replace('-', pd.NA, inplace=True)\n",
    "df['capacity_mw'] = pd.to_numeric(df['capacity_mw'], errors='coerce')\n",
    "df['Annual Plant factor (%)'] = pd.to_numeric(df['Annual Plant factor (%)'], errors='coerce')"
   ]
  },
  {
   "cell_type": "code",
   "execution_count": 38,
   "id": "e54a9fb6-50f5-4246-a246-884f2e4920f4",
   "metadata": {
    "tags": []
   },
   "outputs": [
    {
     "data": {
      "text/plain": [
       "own                         0\n",
       "plant_name                  0\n",
       "fuel_type                   1\n",
       "capacity_mw                 9\n",
       "net_generation_gwh          0\n",
       "Annual Plant factor (%)    16\n",
       "dtype: int64"
      ]
     },
     "execution_count": 38,
     "metadata": {},
     "output_type": "execute_result"
    }
   ],
   "source": [
    "missing_values = db1.isnull().sum()\n",
    "missing_values"
   ]
  },
  {
   "cell_type": "code",
   "execution_count": 58,
   "id": "d051b7a7-dfd0-4653-8b19-e380077b3929",
   "metadata": {
    "tags": []
   },
   "outputs": [
    {
     "data": {
      "text/html": [
       "<div>\n",
       "<style scoped>\n",
       "    .dataframe tbody tr th:only-of-type {\n",
       "        vertical-align: middle;\n",
       "    }\n",
       "\n",
       "    .dataframe tbody tr th {\n",
       "        vertical-align: top;\n",
       "    }\n",
       "\n",
       "    .dataframe thead th {\n",
       "        text-align: right;\n",
       "    }\n",
       "</style>\n",
       "<table border=\"1\" class=\"dataframe\">\n",
       "  <thead>\n",
       "    <tr style=\"text-align: right;\">\n",
       "      <th></th>\n",
       "      <th>own</th>\n",
       "      <th>plant_name</th>\n",
       "      <th>fuel_type</th>\n",
       "      <th>capacity_mw</th>\n",
       "      <th>net_generation_gwh</th>\n",
       "      <th>usage</th>\n",
       "    </tr>\n",
       "  </thead>\n",
       "  <tbody>\n",
       "    <tr>\n",
       "      <th>1</th>\n",
       "      <td>Public</td>\n",
       "      <td>Ghorasal Repowered CCPP Unit-3</td>\n",
       "      <td>Gas</td>\n",
       "      <td>260.0</td>\n",
       "      <td>47.1487</td>\n",
       "      <td>0.023</td>\n",
       "    </tr>\n",
       "    <tr>\n",
       "      <th>2</th>\n",
       "      <td>Public</td>\n",
       "      <td>Ghorasal Repowered CCPP Unit-4</td>\n",
       "      <td>Gas</td>\n",
       "      <td>210.0</td>\n",
       "      <td>280.5226</td>\n",
       "      <td>0.197</td>\n",
       "    </tr>\n",
       "    <tr>\n",
       "      <th>3</th>\n",
       "      <td>Public</td>\n",
       "      <td>Ghorasal TPP Unit-5</td>\n",
       "      <td>Gas</td>\n",
       "      <td>210.0</td>\n",
       "      <td>963.6894</td>\n",
       "      <td>0.620</td>\n",
       "    </tr>\n",
       "    <tr>\n",
       "      <th>4</th>\n",
       "      <td>Public</td>\n",
       "      <td>Ghorasal TPP Unit-6</td>\n",
       "      <td>Gas</td>\n",
       "      <td>0.0</td>\n",
       "      <td>-2.2060</td>\n",
       "      <td>NaN</td>\n",
       "    </tr>\n",
       "    <tr>\n",
       "      <th>5</th>\n",
       "      <td>Public</td>\n",
       "      <td>Ghorasal 365 MW CCPP Unit-7</td>\n",
       "      <td>Gas</td>\n",
       "      <td>365.0</td>\n",
       "      <td>1315.1245</td>\n",
       "      <td>0.434</td>\n",
       "    </tr>\n",
       "    <tr>\n",
       "      <th>...</th>\n",
       "      <td>...</td>\n",
       "      <td>...</td>\n",
       "      <td>...</td>\n",
       "      <td>...</td>\n",
       "      <td>...</td>\n",
       "      <td>...</td>\n",
       "    </tr>\n",
       "    <tr>\n",
       "      <th>171</th>\n",
       "      <td>IMPORT</td>\n",
       "      <td>Power Import (Bheramara-Bharampur Phase-1)</td>\n",
       "      <td>Import</td>\n",
       "      <td>500.0</td>\n",
       "      <td>1730.7260</td>\n",
       "      <td>NaN</td>\n",
       "    </tr>\n",
       "    <tr>\n",
       "      <th>172</th>\n",
       "      <td>IMPORT</td>\n",
       "      <td>Import from Tripura (1st Phase)</td>\n",
       "      <td>Import</td>\n",
       "      <td>100.0</td>\n",
       "      <td>1028.8180</td>\n",
       "      <td>NaN</td>\n",
       "    </tr>\n",
       "    <tr>\n",
       "      <th>173</th>\n",
       "      <td>IMPORT</td>\n",
       "      <td>Import from Tripura (2nd  Phase)</td>\n",
       "      <td>Import</td>\n",
       "      <td>60.0</td>\n",
       "      <td>1023.5395</td>\n",
       "      <td>NaN</td>\n",
       "    </tr>\n",
       "    <tr>\n",
       "      <th>174</th>\n",
       "      <td>IMPORT</td>\n",
       "      <td>Power Import (Bheramara-Bharampur Phase-2)</td>\n",
       "      <td>Import</td>\n",
       "      <td>300.0</td>\n",
       "      <td>2539.0500</td>\n",
       "      <td>NaN</td>\n",
       "    </tr>\n",
       "    <tr>\n",
       "      <th>175</th>\n",
       "      <td>IMPORT</td>\n",
       "      <td>Sembcorp Energy India Ltd.</td>\n",
       "      <td>Import</td>\n",
       "      <td>200.0</td>\n",
       "      <td>1781.2230</td>\n",
       "      <td>NaN</td>\n",
       "    </tr>\n",
       "  </tbody>\n",
       "</table>\n",
       "<p>158 rows × 6 columns</p>\n",
       "</div>"
      ],
      "text/plain": [
       "        own                                  plant_name fuel_type  \\\n",
       "1    Public              Ghorasal Repowered CCPP Unit-3       Gas   \n",
       "2    Public              Ghorasal Repowered CCPP Unit-4       Gas   \n",
       "3    Public                         Ghorasal TPP Unit-5       Gas   \n",
       "4    Public                         Ghorasal TPP Unit-6       Gas   \n",
       "5    Public                 Ghorasal 365 MW CCPP Unit-7       Gas   \n",
       "..      ...                                         ...       ...   \n",
       "171  IMPORT  Power Import (Bheramara-Bharampur Phase-1)    Import   \n",
       "172  IMPORT             Import from Tripura (1st Phase)    Import   \n",
       "173  IMPORT            Import from Tripura (2nd  Phase)    Import   \n",
       "174  IMPORT  Power Import (Bheramara-Bharampur Phase-2)    Import   \n",
       "175  IMPORT                  Sembcorp Energy India Ltd.    Import   \n",
       "\n",
       "     capacity_mw  net_generation_gwh  usage  \n",
       "1          260.0             47.1487  0.023  \n",
       "2          210.0            280.5226  0.197  \n",
       "3          210.0            963.6894  0.620  \n",
       "4            0.0             -2.2060    NaN  \n",
       "5          365.0           1315.1245  0.434  \n",
       "..           ...                 ...    ...  \n",
       "171        500.0           1730.7260    NaN  \n",
       "172        100.0           1028.8180    NaN  \n",
       "173         60.0           1023.5395    NaN  \n",
       "174        300.0           2539.0500    NaN  \n",
       "175        200.0           1781.2230    NaN  \n",
       "\n",
       "[158 rows x 6 columns]"
      ]
     },
     "execution_count": 58,
     "metadata": {},
     "output_type": "execute_result"
    }
   ],
   "source": [
    "df['plant_name'] = df['plant_name'].replace(to_replace=r'^[a-z]\\)', value='', regex=True)\n",
    "df.to_csv('research/pdb1.csv')\n",
    "df"
   ]
  },
  {
   "cell_type": "markdown",
   "id": "ea7b51d5-5b05-4b62-b667-13e73e97fa67",
   "metadata": {
    "tags": []
   },
   "source": [
    "## SAVEPOINT"
   ]
  },
  {
   "cell_type": "code",
   "execution_count": 5,
   "id": "435c3fe0-a9a8-451d-bff3-43b1030a5c86",
   "metadata": {
    "tags": []
   },
   "outputs": [],
   "source": [
    "df = pd.read_csv('research/pdb1.csv', index_col=0)"
   ]
  },
  {
   "cell_type": "code",
   "execution_count": 6,
   "id": "22af416f-175c-4f55-8f2a-7859e33edce7",
   "metadata": {
    "tags": []
   },
   "outputs": [
    {
     "data": {
      "text/html": [
       "<div>\n",
       "<style scoped>\n",
       "    .dataframe tbody tr th:only-of-type {\n",
       "        vertical-align: middle;\n",
       "    }\n",
       "\n",
       "    .dataframe tbody tr th {\n",
       "        vertical-align: top;\n",
       "    }\n",
       "\n",
       "    .dataframe thead th {\n",
       "        text-align: right;\n",
       "    }\n",
       "</style>\n",
       "<table border=\"1\" class=\"dataframe\">\n",
       "  <thead>\n",
       "    <tr style=\"text-align: right;\">\n",
       "      <th></th>\n",
       "      <th>own</th>\n",
       "      <th>plant_name</th>\n",
       "      <th>fuel_type</th>\n",
       "      <th>capacity_mw</th>\n",
       "      <th>net_generation_gwh</th>\n",
       "      <th>usage</th>\n",
       "    </tr>\n",
       "  </thead>\n",
       "  <tbody>\n",
       "    <tr>\n",
       "      <th>1</th>\n",
       "      <td>Public</td>\n",
       "      <td>Ghorasal Repowered CCPP Unit-3</td>\n",
       "      <td>Gas</td>\n",
       "      <td>260.0</td>\n",
       "      <td>47.1487</td>\n",
       "      <td>0.023</td>\n",
       "    </tr>\n",
       "    <tr>\n",
       "      <th>2</th>\n",
       "      <td>Public</td>\n",
       "      <td>Ghorasal Repowered CCPP Unit-4</td>\n",
       "      <td>Gas</td>\n",
       "      <td>210.0</td>\n",
       "      <td>280.5226</td>\n",
       "      <td>0.197</td>\n",
       "    </tr>\n",
       "    <tr>\n",
       "      <th>3</th>\n",
       "      <td>Public</td>\n",
       "      <td>Ghorasal TPP Unit-5</td>\n",
       "      <td>Gas</td>\n",
       "      <td>210.0</td>\n",
       "      <td>963.6894</td>\n",
       "      <td>0.620</td>\n",
       "    </tr>\n",
       "    <tr>\n",
       "      <th>4</th>\n",
       "      <td>Public</td>\n",
       "      <td>Ghorasal TPP Unit-6</td>\n",
       "      <td>Gas</td>\n",
       "      <td>0.0</td>\n",
       "      <td>-2.2060</td>\n",
       "      <td>NaN</td>\n",
       "    </tr>\n",
       "    <tr>\n",
       "      <th>5</th>\n",
       "      <td>Public</td>\n",
       "      <td>Ghorasal 365 MW CCPP Unit-7</td>\n",
       "      <td>Gas</td>\n",
       "      <td>365.0</td>\n",
       "      <td>1315.1245</td>\n",
       "      <td>0.434</td>\n",
       "    </tr>\n",
       "    <tr>\n",
       "      <th>...</th>\n",
       "      <td>...</td>\n",
       "      <td>...</td>\n",
       "      <td>...</td>\n",
       "      <td>...</td>\n",
       "      <td>...</td>\n",
       "      <td>...</td>\n",
       "    </tr>\n",
       "    <tr>\n",
       "      <th>171</th>\n",
       "      <td>IMPORT</td>\n",
       "      <td>Power Import (Bheramara-Bharampur Phase-1)</td>\n",
       "      <td>Import</td>\n",
       "      <td>500.0</td>\n",
       "      <td>1730.7260</td>\n",
       "      <td>NaN</td>\n",
       "    </tr>\n",
       "    <tr>\n",
       "      <th>172</th>\n",
       "      <td>IMPORT</td>\n",
       "      <td>Import from Tripura (1st Phase)</td>\n",
       "      <td>Import</td>\n",
       "      <td>100.0</td>\n",
       "      <td>1028.8180</td>\n",
       "      <td>NaN</td>\n",
       "    </tr>\n",
       "    <tr>\n",
       "      <th>173</th>\n",
       "      <td>IMPORT</td>\n",
       "      <td>Import from Tripura (2nd  Phase)</td>\n",
       "      <td>Import</td>\n",
       "      <td>60.0</td>\n",
       "      <td>1023.5395</td>\n",
       "      <td>NaN</td>\n",
       "    </tr>\n",
       "    <tr>\n",
       "      <th>174</th>\n",
       "      <td>IMPORT</td>\n",
       "      <td>Power Import (Bheramara-Bharampur Phase-2)</td>\n",
       "      <td>Import</td>\n",
       "      <td>300.0</td>\n",
       "      <td>2539.0500</td>\n",
       "      <td>NaN</td>\n",
       "    </tr>\n",
       "    <tr>\n",
       "      <th>175</th>\n",
       "      <td>IMPORT</td>\n",
       "      <td>Sembcorp Energy India Ltd.</td>\n",
       "      <td>Import</td>\n",
       "      <td>200.0</td>\n",
       "      <td>1781.2230</td>\n",
       "      <td>NaN</td>\n",
       "    </tr>\n",
       "  </tbody>\n",
       "</table>\n",
       "<p>158 rows × 6 columns</p>\n",
       "</div>"
      ],
      "text/plain": [
       "        own                                  plant_name fuel_type  \\\n",
       "1    Public              Ghorasal Repowered CCPP Unit-3       Gas   \n",
       "2    Public              Ghorasal Repowered CCPP Unit-4       Gas   \n",
       "3    Public                         Ghorasal TPP Unit-5       Gas   \n",
       "4    Public                         Ghorasal TPP Unit-6       Gas   \n",
       "5    Public                 Ghorasal 365 MW CCPP Unit-7       Gas   \n",
       "..      ...                                         ...       ...   \n",
       "171  IMPORT  Power Import (Bheramara-Bharampur Phase-1)    Import   \n",
       "172  IMPORT             Import from Tripura (1st Phase)    Import   \n",
       "173  IMPORT            Import from Tripura (2nd  Phase)    Import   \n",
       "174  IMPORT  Power Import (Bheramara-Bharampur Phase-2)    Import   \n",
       "175  IMPORT                  Sembcorp Energy India Ltd.    Import   \n",
       "\n",
       "     capacity_mw  net_generation_gwh  usage  \n",
       "1          260.0             47.1487  0.023  \n",
       "2          210.0            280.5226  0.197  \n",
       "3          210.0            963.6894  0.620  \n",
       "4            0.0             -2.2060    NaN  \n",
       "5          365.0           1315.1245  0.434  \n",
       "..           ...                 ...    ...  \n",
       "171        500.0           1730.7260    NaN  \n",
       "172        100.0           1028.8180    NaN  \n",
       "173         60.0           1023.5395    NaN  \n",
       "174        300.0           2539.0500    NaN  \n",
       "175        200.0           1781.2230    NaN  \n",
       "\n",
       "[158 rows x 6 columns]"
      ]
     },
     "execution_count": 6,
     "metadata": {},
     "output_type": "execute_result"
    }
   ],
   "source": [
    "df"
   ]
  },
  {
   "cell_type": "code",
   "execution_count": 52,
   "id": "a55b2b7c-7b57-423a-865e-b4f35ce07f0c",
   "metadata": {
    "tags": []
   },
   "outputs": [
    {
     "data": {
      "image/png": "[encoded data removed]",
      "text/plain": [
       "<Figure size 1800x800 with 2 Axes>"
      ]
     },
     "metadata": {},
     "output_type": "display_data"
    }
   ],
   "source": [
    "# Rename 'Annual Plant factor (%)' column to 'usage'\n",
    "df = df.rename(columns={'Annual Plant factor (%)': 'usage'})\n",
    "\n",
    "# Convert 'usage' and 'capacity_mw' to numeric, replacing errors with NaN\n",
    "df['usage'] = pd.to_numeric(df['usage'], errors='coerce')\n",
    "df['capacity_mw'] = pd.to_numeric(df['capacity_mw'], errors='coerce')\n",
    "\n",
    "# Import necessary libraries\n",
    "import matplotlib.pyplot as plt\n",
    "import seaborn as sns\n",
    "\n",
    "# Set the style of seaborn\n",
    "sns.set(style=\"whitegrid\")\n",
    "\n",
    "# Create a figure instance, and the two subplots\n",
    "fig = plt.figure(figsize=(18,8))\n",
    "\n",
    "# Add first subplot for capacity_mw\n",
    "ax1 = fig.add_subplot(121)\n",
    "\n",
    "# Create a boxplot for capacity_mw for each ownership type\n",
    "sns.boxplot(x=\"own\", y=\"capacity_mw\", data=df, ax=ax1)\n",
    "plt.title('Boxplot of Capacity by Ownership')\n",
    "\n",
    "# Add second subplot for usage\n",
    "ax2 = fig.add_subplot(122)\n",
    "\n",
    "# Create a boxplot for usage for each ownership type\n",
    "sns.boxplot(x=\"own\", y=\"usage\", data=df, ax=ax2)\n",
    "plt.title('Boxplot of Usage by Ownership')\n",
    "\n",
    "plt.tight_layout()\n",
    "plt.show()"
   ]
  },
  {
   "cell_type": "code",
   "execution_count": 53,
   "id": "bb42edfe-34cc-4673-931a-51bcadc07823",
   "metadata": {
    "tags": []
   },
   "outputs": [
    {
     "data": {
      "image/png": "[encoded data removed]",
      "text/plain": [
       "<Figure size 1800x800 with 2 Axes>"
      ]
     },
     "metadata": {},
     "output_type": "display_data"
    }
   ],
   "source": [
    "# Create a figure instance, and the two subplots\n",
    "fig = plt.figure(figsize=(18,8))\n",
    "\n",
    "# Add first subplot for capacity_mw\n",
    "ax1 = fig.add_subplot(121)\n",
    "\n",
    "# Create a boxplot for capacity_mw for each fuel type\n",
    "sns.boxplot(x=\"fuel_type\", y=\"capacity_mw\", data=df, ax=ax1)\n",
    "plt.title('Boxplot of Capacity by Fuel Type')\n",
    "plt.xticks(rotation=90)\n",
    "\n",
    "# Add second subplot for usage\n",
    "ax2 = fig.add_subplot(122)\n",
    "\n",
    "# Create a boxplot for usage for each fuel type\n",
    "sns.boxplot(x=\"fuel_type\", y=\"usage\", data=df, ax=ax2)\n",
    "plt.title('Boxplot of Usage by Fuel Type')\n",
    "plt.xticks(rotation=90)\n",
    "\n",
    "plt.tight_layout()\n",
    "plt.show()"
   ]
  },
  {
   "cell_type": "markdown",
   "id": "c21a4d00-ca7d-4cf9-831d-b08ea45491a6",
   "metadata": {
    "tags": []
   },
   "source": [
    "# Costs"
   ]
  },
  {
   "cell_type": "code",
   "execution_count": 8,
   "id": "68fadd15-7668-45a8-b659-19176e1a5750",
   "metadata": {
    "tags": []
   },
   "outputs": [
    {
     "data": {
      "text/html": [
       "<div>\n",
       "<style scoped>\n",
       "    .dataframe tbody tr th:only-of-type {\n",
       "        vertical-align: middle;\n",
       "    }\n",
       "\n",
       "    .dataframe tbody tr th {\n",
       "        vertical-align: top;\n",
       "    }\n",
       "\n",
       "    .dataframe thead th {\n",
       "        text-align: right;\n",
       "    }\n",
       "</style>\n",
       "<table border=\"1\" class=\"dataframe\">\n",
       "  <thead>\n",
       "    <tr style=\"text-align: right;\">\n",
       "      <th></th>\n",
       "      <th>plant</th>\n",
       "      <th>net_generation</th>\n",
       "      <th>total_cost</th>\n",
       "      <th>cost_per_unit</th>\n",
       "      <th>Unnamed: 4</th>\n",
       "    </tr>\n",
       "  </thead>\n",
       "  <tbody>\n",
       "    <tr>\n",
       "      <th>0</th>\n",
       "      <td>RPC LTD.Mymensingh (210 MW)</td>\n",
       "      <td>1106935572</td>\n",
       "      <td>4130993792</td>\n",
       "      <td>3.73</td>\n",
       "      <td>IPP</td>\n",
       "    </tr>\n",
       "    <tr>\n",
       "      <th>1</th>\n",
       "      <td>BPDB RPCL PowerGen Ltd.</td>\n",
       "      <td>480557237</td>\n",
       "      <td>9535028277</td>\n",
       "      <td>19.84</td>\n",
       "      <td>IPP</td>\n",
       "    </tr>\n",
       "    <tr>\n",
       "      <th>2</th>\n",
       "      <td>Haripur Power Ltd.</td>\n",
       "      <td>1919174000</td>\n",
       "      <td>3267873587</td>\n",
       "      <td>1.7</td>\n",
       "      <td>IPP</td>\n",
       "    </tr>\n",
       "    <tr>\n",
       "      <th>3</th>\n",
       "      <td>Meghnaghat Power Ltd.</td>\n",
       "      <td>2140792000</td>\n",
       "      <td>5709336569</td>\n",
       "      <td>2.67</td>\n",
       "      <td>IPP</td>\n",
       "    </tr>\n",
       "    <tr>\n",
       "      <th>4</th>\n",
       "      <td>Doreen Power Generation &amp; System Ltd.-Feni</td>\n",
       "      <td>161137638</td>\n",
       "      <td>467524474</td>\n",
       "      <td>2.9</td>\n",
       "      <td>IPP</td>\n",
       "    </tr>\n",
       "  </tbody>\n",
       "</table>\n",
       "</div>"
      ],
      "text/plain": [
       "                                        plant net_generation  total_cost  \\\n",
       "0                 RPC LTD.Mymensingh (210 MW)     1106935572  4130993792   \n",
       "1                     BPDB RPCL PowerGen Ltd.      480557237  9535028277   \n",
       "2                          Haripur Power Ltd.     1919174000  3267873587   \n",
       "3                       Meghnaghat Power Ltd.     2140792000  5709336569   \n",
       "4  Doreen Power Generation & System Ltd.-Feni      161137638   467524474   \n",
       "\n",
       "  cost_per_unit Unnamed: 4  \n",
       "0          3.73        IPP  \n",
       "1         19.84        IPP  \n",
       "2           1.7        IPP  \n",
       "3          2.67        IPP  \n",
       "4           2.9        IPP  "
      ]
     },
     "execution_count": 8,
     "metadata": {},
     "output_type": "execute_result"
    }
   ],
   "source": [
    "# costs = pd.read_excel('research/bpdb_main.xlsx', sheet_name='costs')\n",
    "costs = pd.read_excel('research/2022_bpdb_main_2.xlsx', sheet_name='clean') \n",
    "costs.head()"
   ]
  },
  {
   "cell_type": "code",
   "execution_count": 9,
   "id": "7900daa2-2d4f-43a4-8d42-d5d0c65e3081",
   "metadata": {
    "tags": []
   },
   "outputs": [],
   "source": [
    "costs.replace('-', pd.NA, inplace=True)"
   ]
  },
  {
   "cell_type": "code",
   "execution_count": 12,
   "id": "fba0373a-bc33-499c-b5c4-f33c933c781f",
   "metadata": {
    "tags": []
   },
   "outputs": [],
   "source": [
    "costs.rename(columns={'Unnamed: 4':'Own'}, inplace=True)"
   ]
  },
  {
   "cell_type": "code",
   "execution_count": 69,
   "id": "f2710e99-03a9-4be1-a367-923f0f2c19f5",
   "metadata": {
    "tags": []
   },
   "outputs": [],
   "source": [
    "df2 = costs[['Own', 'plant_name', '2021_units', '2021_amount', '2021_cost_per_unit']]"
   ]
  },
  {
   "cell_type": "code",
   "execution_count": 70,
   "id": "d7e19eaf-bb93-4903-b77c-2c1d94460bc1",
   "metadata": {
    "tags": []
   },
   "outputs": [
    {
     "name": "stderr",
     "output_type": "stream",
     "text": [
      "/tmp/ipykernel_43319/3422450403.py:1: SettingWithCopyWarning: \n",
      "A value is trying to be set on a copy of a slice from a DataFrame\n",
      "\n",
      "See the caveats in the documentation: https://pandas.pydata.org/pandas-docs/stable/user_guide/indexing.html#returning-a-view-versus-a-copy\n",
      "  df2.replace('-', pd.NA, inplace=True)\n"
     ]
    }
   ],
   "source": [
    "df2.replace('-', pd.NA, inplace=True)\n",
    "df2.to_csv('research/pdb_costs.csv')"
   ]
  },
  {
   "cell_type": "markdown",
   "id": "efae5982-d60a-44e9-841b-91d2059c818f",
   "metadata": {},
   "source": [
    "## SAVEPOINT 2"
   ]
  },
  {
   "cell_type": "code",
   "execution_count": 71,
   "id": "564f90ac-5f3e-42f6-92d4-ee6c45648abc",
   "metadata": {
    "tags": []
   },
   "outputs": [
    {
     "data": {
      "text/html": [
       "<div>\n",
       "<style scoped>\n",
       "    .dataframe tbody tr th:only-of-type {\n",
       "        vertical-align: middle;\n",
       "    }\n",
       "\n",
       "    .dataframe tbody tr th {\n",
       "        vertical-align: top;\n",
       "    }\n",
       "\n",
       "    .dataframe thead th {\n",
       "        text-align: right;\n",
       "    }\n",
       "</style>\n",
       "<table border=\"1\" class=\"dataframe\">\n",
       "  <thead>\n",
       "    <tr style=\"text-align: right;\">\n",
       "      <th></th>\n",
       "      <th>Unnamed: 0</th>\n",
       "      <th>Own</th>\n",
       "      <th>plant_name</th>\n",
       "      <th>2021_units</th>\n",
       "      <th>2021_amount</th>\n",
       "      <th>2021_cost_per_unit</th>\n",
       "    </tr>\n",
       "  </thead>\n",
       "  <tbody>\n",
       "    <tr>\n",
       "      <th>0</th>\n",
       "      <td>0</td>\n",
       "      <td>RENTAL</td>\n",
       "      <td>BARKATULLAH ELECTRO DYNAMICS LTD.</td>\n",
       "      <td>3.530717e+08</td>\n",
       "      <td>1.101900e+09</td>\n",
       "      <td>3.12</td>\n",
       "    </tr>\n",
       "    <tr>\n",
       "      <th>1</th>\n",
       "      <td>1</td>\n",
       "      <td>RENTAL</td>\n",
       "      <td>SHAHJIBAZAR POWER CO. LTD.</td>\n",
       "      <td>6.054847e+08</td>\n",
       "      <td>2.039823e+09</td>\n",
       "      <td>3.37</td>\n",
       "    </tr>\n",
       "    <tr>\n",
       "      <th>2</th>\n",
       "      <td>2</td>\n",
       "      <td>RENTAL</td>\n",
       "      <td>DESH CAMBRIDGE, KUMERGOAN</td>\n",
       "      <td>6.141295e+07</td>\n",
       "      <td>2.359771e+08</td>\n",
       "      <td>3.84</td>\n",
       "    </tr>\n",
       "    <tr>\n",
       "      <th>3</th>\n",
       "      <td>3</td>\n",
       "      <td>RENTAL</td>\n",
       "      <td>ENERGYPRIMA, KUMERGOAN</td>\n",
       "      <td>NaN</td>\n",
       "      <td>NaN</td>\n",
       "      <td>NaN</td>\n",
       "    </tr>\n",
       "    <tr>\n",
       "      <th>4</th>\n",
       "      <td>4</td>\n",
       "      <td>RENTAL</td>\n",
       "      <td>ENERGYPRIMA, SHAHJIBAZAR</td>\n",
       "      <td>NaN</td>\n",
       "      <td>NaN</td>\n",
       "      <td>NaN</td>\n",
       "    </tr>\n",
       "    <tr>\n",
       "      <th>...</th>\n",
       "      <td>...</td>\n",
       "      <td>...</td>\n",
       "      <td>...</td>\n",
       "      <td>...</td>\n",
       "      <td>...</td>\n",
       "      <td>...</td>\n",
       "    </tr>\n",
       "    <tr>\n",
       "      <th>154</th>\n",
       "      <td>154</td>\n",
       "      <td>PUBLIC</td>\n",
       "      <td>North West Power Gen (NWPGCL)- Sirajgonj (Unit...</td>\n",
       "      <td>1.447005e+09</td>\n",
       "      <td>4.890842e+09</td>\n",
       "      <td>3.38</td>\n",
       "    </tr>\n",
       "    <tr>\n",
       "      <th>155</th>\n",
       "      <td>155</td>\n",
       "      <td>PUBLIC</td>\n",
       "      <td>North West Power Gen (NWPGCL)- Khulna</td>\n",
       "      <td>2.790803e+08</td>\n",
       "      <td>7.770390e+09</td>\n",
       "      <td>27.84</td>\n",
       "    </tr>\n",
       "    <tr>\n",
       "      <th>156</th>\n",
       "      <td>156</td>\n",
       "      <td>PUBLIC</td>\n",
       "      <td>North West Power Gen (NWPGCL)- Bheramara</td>\n",
       "      <td>2.706235e+09</td>\n",
       "      <td>7.636098e+09</td>\n",
       "      <td>2.82</td>\n",
       "    </tr>\n",
       "    <tr>\n",
       "      <th>157</th>\n",
       "      <td>157</td>\n",
       "      <td>PUBLIC</td>\n",
       "      <td>North West Power Gen (NWPGCL)- Madhumati</td>\n",
       "      <td>1.160741e+07</td>\n",
       "      <td>1.485424e+09</td>\n",
       "      <td>127.97</td>\n",
       "    </tr>\n",
       "    <tr>\n",
       "      <th>158</th>\n",
       "      <td>158</td>\n",
       "      <td>PUBLIC</td>\n",
       "      <td>BPDB RPCL PowerGen Ltd.</td>\n",
       "      <td>3.877887e+08</td>\n",
       "      <td>5.857190e+09</td>\n",
       "      <td>15.10</td>\n",
       "    </tr>\n",
       "  </tbody>\n",
       "</table>\n",
       "<p>159 rows × 6 columns</p>\n",
       "</div>"
      ],
      "text/plain": [
       "     Unnamed: 0     Own                                         plant_name  \\\n",
       "0             0  RENTAL                  BARKATULLAH ELECTRO DYNAMICS LTD.   \n",
       "1             1  RENTAL                         SHAHJIBAZAR POWER CO. LTD.   \n",
       "2             2  RENTAL                          DESH CAMBRIDGE, KUMERGOAN   \n",
       "3             3  RENTAL                             ENERGYPRIMA, KUMERGOAN   \n",
       "4             4  RENTAL                           ENERGYPRIMA, SHAHJIBAZAR   \n",
       "..          ...     ...                                                ...   \n",
       "154         154  PUBLIC  North West Power Gen (NWPGCL)- Sirajgonj (Unit...   \n",
       "155         155  PUBLIC              North West Power Gen (NWPGCL)- Khulna   \n",
       "156         156  PUBLIC           North West Power Gen (NWPGCL)- Bheramara   \n",
       "157         157  PUBLIC           North West Power Gen (NWPGCL)- Madhumati   \n",
       "158         158  PUBLIC                            BPDB RPCL PowerGen Ltd.   \n",
       "\n",
       "       2021_units   2021_amount  2021_cost_per_unit  \n",
       "0    3.530717e+08  1.101900e+09                3.12  \n",
       "1    6.054847e+08  2.039823e+09                3.37  \n",
       "2    6.141295e+07  2.359771e+08                3.84  \n",
       "3             NaN           NaN                 NaN  \n",
       "4             NaN           NaN                 NaN  \n",
       "..            ...           ...                 ...  \n",
       "154  1.447005e+09  4.890842e+09                3.38  \n",
       "155  2.790803e+08  7.770390e+09               27.84  \n",
       "156  2.706235e+09  7.636098e+09                2.82  \n",
       "157  1.160741e+07  1.485424e+09              127.97  \n",
       "158  3.877887e+08  5.857190e+09               15.10  \n",
       "\n",
       "[159 rows x 6 columns]"
      ]
     },
     "execution_count": 71,
     "metadata": {},
     "output_type": "execute_result"
    }
   ],
   "source": [
    "pd.read_csv('research/pdb_costs.csv')"
   ]
  },
  {
   "cell_type": "code",
   "execution_count": 13,
   "id": "84e9e016-6794-4c85-9cc0-0009595f1e21",
   "metadata": {
    "tags": []
   },
   "outputs": [],
   "source": [
    "# Reload the datasets\n",
    "costs_df = costs\n",
    "plants_df = pd.read_csv('research/pdb1.csv', index_col=0)"
   ]
  },
  {
   "cell_type": "code",
   "execution_count": 14,
   "id": "8474941a-72cc-408e-975e-02c12bf2b9ec",
   "metadata": {
    "tags": []
   },
   "outputs": [
    {
     "data": {
      "text/plain": [
       "158"
      ]
     },
     "execution_count": 14,
     "metadata": {},
     "output_type": "execute_result"
    }
   ],
   "source": [
    "len(plants_df.plant_name.unique())"
   ]
  },
  {
   "cell_type": "code",
   "execution_count": 16,
   "id": "14508182-6e3a-42b7-bbb9-7c3ab9f0a766",
   "metadata": {
    "tags": []
   },
   "outputs": [
    {
     "data": {
      "text/plain": [
       "118"
      ]
     },
     "execution_count": 16,
     "metadata": {},
     "output_type": "execute_result"
    }
   ],
   "source": [
    "len(costs_df.plant.unique())"
   ]
  },
  {
   "cell_type": "code",
   "execution_count": 14,
   "id": "aa7ba9df-f6e2-4c1e-a0ae-df9ce7566143",
   "metadata": {
    "tags": []
   },
   "outputs": [],
   "source": [
    "# Step 1 : Isolate SIPP plants using intersection of \"RENTAL & SIPP\" and \"IPP & SIPP\"\n",
    "costs_df[\"sipp\"] = [1 if \"SIPP\" in costs_df.loc[i, \"Own\"] else 0 for i in costs_df.index]\n",
    "plants_df[\"sipp\"] = [1 if \"SIPP\" in plants_df.loc[i, \"own\"] else 0 for i in plants_df.index]"
   ]
  },
  {
   "cell_type": "code",
   "execution_count": 2,
   "id": "46c96517-ecf2-4e3c-8441-46e537507826",
   "metadata": {
    "tags": []
   },
   "outputs": [
    {
     "name": "stderr",
     "output_type": "stream",
     "text": [
      "/home/qavi/anaconda3/lib/python3.10/site-packages/fuzzywuzzy/fuzz.py:11: UserWarning: Using slow pure-python SequenceMatcher. Install python-Levenshtein to remove this warning\n",
      "  warnings.warn('Using slow pure-python SequenceMatcher. Install python-Levenshtein to remove this warning')\n"
     ]
    }
   ],
   "source": [
    "# Attempt 2\n",
    "#!pip install fuzzywuzzy\n",
    "import numpy as np\n",
    "from fuzzywuzzy import fuzz\n",
    "from fuzzywuzzy import process"
   ]
  },
  {
   "cell_type": "code",
   "execution_count": 75,
   "id": "1689fbfc-9309-47ef-8f27-e10cb9af8251",
   "metadata": {
    "tags": []
   },
   "outputs": [],
   "source": [
    "# Preprocess the 'Own' and 'own' columns to have the same format for matching\n",
    "costs_df['Own'] = costs_df['Own'].str.replace(' & ', '/').str.upper()\n",
    "plants_df['own'] = plants_df['own'].str.replace(' & ', '/').str.upper()\n",
    "\n",
    "# Create a new column in each dataframe that concatenates the plant name and owner\n",
    "plants_df['plant_owner'] = plants_df['plant_name'] + ' ' + plants_df['own']\n",
    "costs_df['plant_owner'] = costs_df['plant_name'] + ' ' + costs_df['Own']\n",
    "\n",
    "plants_df['plant_owner'] = plants_df['plant_owner'].str.upper()\n",
    "costs_df['plant_owner'] = costs_df['plant_owner'].str.upper()\n",
    "\n",
    "# Create a dictionary for matching\n",
    "match_dict = {}\n",
    "\n",
    "for plant_owner in plants_df.plant_owner.unique():\n",
    "    matches = process.extract(plant_owner, costs_df.plant_owner.unique(), limit=1, scorer=fuzz.token_sort_ratio)\n",
    "    if matches[0][1] >= 60:\n",
    "        match_dict[plant_owner] = matches[0][0]\n",
    "\n",
    "# Replace the plant_owner names in the plants_df with the matched names from the costs_df\n",
    "plants_df_replaced = plants_df.copy()\n",
    "plants_df_replaced['plant_owner'] = plants_df_replaced['plant_owner'].replace(match_dict)\n",
    "\n",
    "# # Merge the two dataframes using an outer join\n",
    "# merged_df = pd.merge(plants_df_replaced, costs_df, on='plant_owner', how='outer', suffixes=('_plants', '_costs'))\n",
    "\n",
    "# # Count the number of rows where the plant_owner is present in both dataframes\n",
    "# successful_merge_count = merged_df.dropna(subset=['plant_owner']).shape[0]\n",
    "\n",
    "# # Count the total number of unique plant_owners in the original dataframes\n",
    "# total_plants_count = len(plants_df.plant_owner.unique()) + len(costs_df.plant_owner.unique())\n",
    "\n",
    "# # Calculate the merge success rate\n",
    "# merge_success_rate = successful_merge_count / total_plants_count\n",
    "\n",
    "# successful_merge_count, total_plants_count, merge_success_rate, merged_df.head()\n"
   ]
  },
  {
   "cell_type": "code",
   "execution_count": 76,
   "id": "18875959-a12b-48f1-8eaa-ac9b249e93c1",
   "metadata": {
    "tags": []
   },
   "outputs": [
    {
     "data": {
      "text/plain": [
       "{' GHORASAL TPP UNIT-5 PUBLIC': 'GHORASHAL POWER STATION PUBLIC',\n",
       " ' GHORASAL TPP UNIT-6 PUBLIC': 'GHORASHAL POWER STATION PUBLIC',\n",
       " 'GHORASAL 365 MW CCPP UNIT-7 PUBLIC': 'FENCHUGANJ 2X 90 MW CCPP (1ST & 2ND UNIT) PUBLIC',\n",
       " 'TONGI 80 MW GTPP PUBLIC': 'APSCL (450 MW) SOUTH PUBLIC',\n",
       " 'HARIPUR GTPP PUBLIC': 'SBU HARIPUR PUBLIC',\n",
       " '210 MW SHIDDIRGANJ TPP PUBLIC': 'SIDDIRGONJ POWER STATION PUBLIC',\n",
       " 'SIDDHIRGANJ 2X120 MW GTPP PUBLIC': 'SIDDIRGONJ POWER STATION PUBLIC',\n",
       " 'HARIPUR 412 MW CCPP PUBLIC': 'EGCB LTD. (412) MW PUBLIC',\n",
       " 'GAZIPUR 52 MW PP PUBLIC': 'RPCL 52MW GAZIPUR IPP/SIPP',\n",
       " 'KODDA 150 MW PP PUBLIC': 'APSCL (NEW 50 MW) PUBLIC',\n",
       " 'SIDDHIRGANJ 335 MW CCPP PUBLIC': 'SHAHJIBAZAR 330 CCPP PUBLIC',\n",
       " 'GAZIPUR 100 MW PP PUBLIC': 'RPCL - GAZIPUR (105MW) IPP/SIPP',\n",
       " 'KARNAFULI HYDRO PUBLIC': 'KARNAFULI HYDRO POWER STATION PUBLIC',\n",
       " 'SHIKALBAHA 150 MW PEAKING PP PUBLIC': 'SHANTAHAR 50MW POWER PLANT PUBLIC',\n",
       " 'HATHAZARI 100 MW PEAKING PP PUBLIC': 'HATHAZARI PEACKING POWER PLANT PUBLIC',\n",
       " 'RPCL RAOZAN 25 MW PUBLIC': 'RPCL 25MW RAWJAN IPP/SIPP',\n",
       " 'SHIKALBAHA 225 MW PS PUBLIC': 'SHIKALBAHA 225 MW SHAMIPUR (DUAL FUEL) PUBLIC',\n",
       " 'KUTUBDIA 900KW WIND PP PUBLIC': 'WIND BASE POWER STATION, KUTUBDIA & HATIYA PUBLIC',\n",
       " 'KAPTAI SOLAR PUBLIC': '7.4 MW SOLAR PV POWER PLANT AT KAPTAI PUBLIC',\n",
       " 'ASHUGANJ 50 MW PP PUBLIC': 'APSCL (NEW 50 MW) PUBLIC',\n",
       " 'ASHUGANJ 225 MW CCPP PUBLIC': 'BHOLA 225 MW CCPP PUBLIC',\n",
       " 'ASHUGANJ 450 MW CCPP (SOUTH) PUBLIC': 'APSCL (450 MW) SOUTH PUBLIC',\n",
       " 'ASHUGANJ 450 MW CCPP (NORTH) PUBLIC': 'APSCL (450 MW) NORTH PUBLIC',\n",
       " 'CHANDPUR 150 MW CCPP PUBLIC': 'CHADPUR CC POWER PLANT PUBLIC',\n",
       " 'TITAS 50 MW PEAKING PP PUBLIC': 'TITAS 50 MW PEACKING POWER PLANT PUBLIC',\n",
       " 'SHAHJIBAZAR 70 MW GT, HABIGANJ PUBLIC': 'SHAHJIBAZAR 100 P/S PUBLIC',\n",
       " 'SHAHJIBAZAR 330 MW CCPP PUBLIC': 'SHAHJIBAZAR 330 CCPP PUBLIC',\n",
       " 'FENCHUGANJ C.C. (UNIT #1) PUBLIC': 'FENCHUGANJ 2X 90 MW CCPP (1ST & 2ND UNIT) PUBLIC',\n",
       " 'FENCHUGANJ C.C. (UNIT #2) PUBLIC': 'FENCHUGANJ 2X 90 MW CCPP (1ST & 2ND UNIT) PUBLIC',\n",
       " 'SYLHET 1X20 MW /GT PUBLIC': 'KUMERGOAN GT POWER SYLHET PUBLIC',\n",
       " 'SYLHET 225 MW CCPP PUBLIC': 'BHOLA 225 MW CCPP PUBLIC',\n",
       " 'BIBIANA III 400 MW CCPP PUBLIC': 'BIBIYANA-3 400MW PUBLIC',\n",
       " 'SHAHAZIBAZAR 100 MW GT PUBLIC': 'SHAHJIBAZAR 100 P/S PUBLIC',\n",
       " 'BIBIYANA - SOUTH  383 MW CCPP PUBLIC': 'BIBIYANA - SOUTH PUBLIC',\n",
       " 'KHULNA 225 MW (NWPGCL) PUBLIC': 'BHOLA 225 MW CCPP PUBLIC',\n",
       " 'BHERAMARA GT UNIT-3 PUBLIC': 'BHERAMARA POWER STATION PUBLIC',\n",
       " 'BHERAMARA 360 MW CCPP (NWPGCL) PUBLIC': 'BHOLA 225 MW CCPP PUBLIC',\n",
       " 'FARIDPUR 50 MW PEAKING PP PUBLIC': 'FARIDPUR PEACKING POWER PLANT PUBLIC',\n",
       " 'GOPALGANJ 100 MW PEAKING PP PUBLIC': 'GOPALGONJ PEAKING POWER PLANT PUBLIC',\n",
       " 'MODHUMOTI 105 MW NWPGCL PUBLIC': 'NORTH WEST POWER GEN (NWPGCL)- MADHUMATI PUBLIC',\n",
       " 'BHOLA 225 MW CCPP PUBLIC': 'BHOLA 225 MW CCPP PUBLIC',\n",
       " 'BAGHABARI 71 MW /GT\\nBAGHABARI 100 MW /GT PUBLIC': 'BAGHABARI 50 PEAKING POWER PLANT PUBLIC',\n",
       " 'SIRAJGONJ 210 MW CC (NWPGCL) UNIT-1 PUBLIC': 'NORTH WEST POWER GEN (NWPGCL)- SIRAJGONJ (UNIT - 2) PUBLIC',\n",
       " 'BAGHABARI 50 MW PEAKING RE PUBLIC': 'BAGHABARI 50 PEAKING POWER PLANT PUBLIC',\n",
       " 'BERA 70 MW PEAKING RE PUBLIC': 'BERA PEACKING POWER PLANT PUBLIC',\n",
       " 'SANTAHAR 50 MW PP PUBLIC': 'SHANTAHAR 50MW POWER PLANT PUBLIC',\n",
       " 'KATAKHALI 50 MW PP PUBLIC': 'KATAKHALI 50MW POWER PLANT PUBLIC',\n",
       " 'CHAPAINOBABGONJ PEAKING POWER STATION 100 MW, AMNURA PUBLIC': 'CHAPAINOBABGONJ PEAKING PP 100 MW AMNURA PUBLIC',\n",
       " 'SIRAJGONJ 210 MW CC (NWPGCL) UNIT-2 PUBLIC': 'NORTH WEST POWER GEN (NWPGCL)- SIRAJGONJ (UNIT - 2) PUBLIC',\n",
       " 'SIRAJGONJ 210 MW CC (NWPGCL) UNIT-3 PUBLIC': 'NORTH WEST POWER GEN (NWPGCL)- SIRAJGONJ (UNIT - 2) PUBLIC',\n",
       " 'SIRAJGONJ 2 MW WIND PLANT PUBLIC': 'NORTH WEST POWER GEN (NWPGCL)- SIRAJGONJ PUBLIC',\n",
       " 'SIRAJGONJ 7.6 MW SOLAR POWER PLANT PUBLIC': '7.4 MW SOLAR PV POWER PLANT AT KAPTAI PUBLIC',\n",
       " 'BARAPUKURIA COAL BASED S/T (UNIT 1,2) PUBLIC': 'BARAPUKURIA POWER STATION PUBLIC',\n",
       " 'BARAPUKURIA COAL BASED S/T (UNIT 3) PUBLIC': 'BARAPUKURIA POWER STATION PUBLIC',\n",
       " 'SAIDPUR 20 MW /GT PUBLIC': 'EGCB LTD. (210X2) MW PUBLIC',\n",
       " 'RANGPUR 20 MW /GT PUBLIC': 'EGCB LTD. (210X2) MW PUBLIC',\n",
       " 'RURAL POWER COMPANY LTD.(RPCL) IPP': 'CLC POWER COMPANY LTD. IPP/SIPP',\n",
       " 'HARIPUR POWER LTD. IPP': 'HARIPUR POWER LTD. IPP/SIPP',\n",
       " 'MEGHNAGHAT POWER LTD. IPP': 'MEGHNAGHAT POWER LTD. IPP/SIPP',\n",
       " 'REGENT ENERGY & POWER LTD 108 MW IPP': 'REGENT ENERGY & POWER LTD. IPP/SIPP',\n",
       " 'UNITED POWER CO. LTD.200 MW EXP IPP': 'UNITED MYMENSINGH POWER LTD. (200MW) IPP/SIPP',\n",
       " 'SUMMIT BIBIYANA - II POWER CO LTD. 341 MW IPP': 'SUMMIT BIBIYANA II POWER COMPANY LTD. IPP/SIPP',\n",
       " 'KUSHIARA POWER CO. LTD (163MW)CCPP FENCHUGANJ IPP': 'KUSHIARA POWER COMPANY LTD. IPP/SIPP',\n",
       " 'SUMMIT MEGHNAGHAT POWER CO.LTD. IPP': 'SUMMIT MEGHNAGHAT POWER LTD. IPP/SIPP',\n",
       " 'NUTAN BIDDYUT 220MW BHOLA IPP': 'NUTAN BIDYUT (BANGLADESH) LTD. (220MW) IPP/SIPP',\n",
       " 'RAJ LANKA POWER GEN.COM. LTD.NATOR 55 MW IPP': 'LANKA POWER LIMITED - FENI IPP/SIPP',\n",
       " 'DIGITAL  POWER & ASSOCIATES GAGNAGAR IPP': 'DIGITAL POWER & ASSOCIATES LTD. IPP/SIPP',\n",
       " 'BARAKA PATENGA IPP': 'BARAKA PATENGA POWER LIMITED IPP/SIPP',\n",
       " 'SINHA PEOPLES ENERGY LTD.KATPATTI 52.5 MW EXP IPP': 'SINHA PEOPLE ENERGY LTD. IPP/SIPP',\n",
       " 'SUMMIT   BARISHAL (110 MW) IPP': 'SUMMIT BARISHAL POWER LTD. IPP/SIPP',\n",
       " 'SUMMIT NARAYANGONJ POWER UNIT-2 MADANGONJ (55 MW) IPP': 'SUMMIT NARAYANGONJ POWER UNIT II LTD. IPP/SIPP',\n",
       " 'DHAKA(DOREEN) NORTHERN POWER LTD.MANIKGONJ IPP': 'DOREEN NORTHERN POWER LIMITED IPP/SIPP',\n",
       " 'DHAKA(DOREEN) SOUTHERN POWER LTD.NOBABGONJ IPP': 'DOREEN SOUTHERN POWER LIMITED IPP/SIPP',\n",
       " 'POWERPAC MUTIARA JAMALPUR POWER PLANT LTD IPP': 'POWER PAC MOTIARA - JAMALPUR IPP/SIPP',\n",
       " 'KAMALAGHAT BANCO ENERGY GENERATION IPP': 'M/S BANCO ENERGY GENERATION LTD. IPP/SIPP',\n",
       " 'KODDA GAZIPUR 300MW POWER LTD.(UNIT-2 SUMMIT) IPP': 'SUMMIT GAZIPUR II POWER LTD. - KODDA (300MW) IPP/SIPP',\n",
       " 'UNITED MYMENSING POWER(UMPL) 200MW GENERATION IPP': 'UNITED MYMENSINGH POWER LTD. (200MW) IPP/SIPP',\n",
       " 'KODDA GAZIPUR 149MW POWER LTD. (UNIT-1 SUMMIT) ACE ALLIANCE IPP': 'ACE ALLIANCE POWER LTD. (149MW) (SUMMIT GAZIPUR) IPP/SIPP',\n",
       " 'LOBONCHORA ORION POWER RUPSHA LTD. 105 MW IPP': 'ORION POWER RUPSHA LTD. - KHULNA (105MW) IPP/SIPP',\n",
       " 'DESH ENERGY CHANDPUR  200 MW IPP': 'DESH ENERGY CHANDPUR POWER COMPANY LTD. IPP/SIPP',\n",
       " 'UNITED JAMALPUR PPL IPP': 'UNITED JAMALPUR 200MW IPP/SIPP',\n",
       " 'CONFIDENCE CPBL- 2 BOGURA IPP': 'CONFIDENCE POWER LTD. (UNIT-2) - BOGRA IPP/SIPP',\n",
       " 'BARAKA SHIKALBAHA 105MW PS IPP': 'BARAKA SHIKALBAHA POWER LTD. (105MW) IPP/SIPP',\n",
       " 'UNITED ANWARA 300MW PS IPP': 'UNITED - ANAWARA (300MW) IPP/SIPP',\n",
       " 'CONFIDENCE POWER  LTD. 113MW RANGPUR IPP': 'CONFIDENCE POWER LTD. - RANGPUR IPP/SIPP',\n",
       " 'KARNAPHULI POWER LTD. IPP': 'KARNAPHULI POWER LTD. IPP/SIPP',\n",
       " 'FENI LANKA POWER 114 MW PP IPP': 'LANKA POWER LIMITED - FENI IPP/SIPP',\n",
       " 'BOGURA 113 MW PP (CONFIDENCE) UNIT-1 IPP': 'CONFIDENCE POWER LTD. (UNIT-2) - BOGRA IPP/SIPP',\n",
       " 'HF 113 MW POWER LIMITED IPP': 'HF POWER COMPANY LIMITED IPP/SIPP',\n",
       " 'MANIKGANJ 162MW P0WER GENERATION IPP': 'MANIKGONJ POWER GENERATIONS LIMITED (162MW) IPP/SIPP',\n",
       " 'ORION POWER SONARGAON LTD. IPP': 'ORION POWER SONARGAON LTD. IPP/SIPP',\n",
       " 'TANGAIL POLLY POWER 22 MW TPPGCL IPP': 'TANGAIL PALLI POWER GENERATION LTD. (22MW) IPP/SIPP',\n",
       " 'BHAIRAB POWER 54.5 MW IPP': 'BHAIRAB POWER LIMITED (54.50MW) IPP/SIPP',\n",
       " 'UNITED PAYRA PP PATUAKHALI IMP IPP': 'UNITED PAYRA (150MW) IPP/SIPP',\n",
       " 'APR ENERGY 300MW IPP': 'APR ENERGY 300MW IPP/SIPP',\n",
       " 'AGGREKO, AOURAHATI 100MW IPP': 'AGGREKO ENERGY SOLUTION LTD. - AORAHATI (100MW) IPP/SIPP',\n",
       " 'AGGREKO, BRAHMANGAON 100MW IPP': 'AGGREKO ENERGY SOLUTION LTD. - BHAHMANGOAN (100MW) IPP/SIPP',\n",
       " 'SYMPA SOLAR POWER 8 MW IPP': 'SYMPA SOLAR POWER LIMITED IPP/SIPP',\n",
       " '50 MW HDFC SOLAR POWER PLANT IPP': 'HDFC SINPOWER LTD. (50MW) IPP/SIPP',\n",
       " 'MANIKGANJ 35MW SPECTRA SOLAR PARK LTD. IPP': 'SPECTRA SOLAR PARK IPP/SIPP',\n",
       " 'SAILO SOLAR POWER PLANT SHANTAHAR IPP': 'SHANTAHAR 50MW POWER PLANT PUBLIC',\n",
       " 'BOGURA 20 RPP (3 YRS) ENERGY PRIMA RENTAL/SIPP': 'ENERGYPRIMA, BOGRA RENTAL',\n",
       " 'GHORASHAL 78 MW QRPP (3 YRS MAX POWER) RENTAL/SIPP': 'MAX POWER LTD.-GHORASAL RENTAL',\n",
       " 'TANGAIL SIPP (22 MW) (DOREEN POWER LTD.) RENTAL/SIPP': 'DOREEN POWER GENERATION & SYSTEM LTD.- TANGAIL IPP/SIPP',\n",
       " 'FENI SIPP (22 MW) (DOREEN POWER LTD.) RENTAL/SIPP': 'REGENT ENERGY & POWER LTD. IPP/SIPP',\n",
       " 'JANGALIA 33 MW (SUMMIT PURBANCHOL PO. CO. LTD.) RENTAL/SIPP': 'SUMMIT PURBACHAL POWER LTD.-JANGALIA IPP/SIPP',\n",
       " 'KUMARGAO 10 MW DESH COMBRIDGE (15 YRS) RENTAL/SIPP': 'DESH CAMBRIDGE, KUMERGOAN RENTAL',\n",
       " 'FENCHUGONJ 50 MW RENTAL (ENERGY PRIMA) RENTAL/SIPP': 'ENERGYPRIMA, FENCHUGONJ RENTAL',\n",
       " 'BHOLA 32 MW (VENTURE ENERGY RESOURCES LTD.) RENTAL/SIPP': 'VENTURE ENERGY, BHOLA RENTAL',\n",
       " 'SHAHJAHANULLAH POWER GEN CO. LTD. RENTAL/SIPP': 'SHAHJANULLAH POWER GENERATION CO. LTD. IPP/SIPP',\n",
       " 'AGGREKO 95 MW BHOLA RENTAL/SIPP': 'AGGREKO INTERNATIONAL LTD.-BHOLA (95 MW) RENTAL',\n",
       " 'KPCL( 115 MW) U-2 RENTAL/SIPP': 'KPCL -UNIT-2 RENTAL',\n",
       " 'KHANJAHAN ALI NOAPARA  40 MW RENTAL/SIPP': 'KHANJAHAN ALI POWER LTD. RENTAL',\n",
       " 'SUMMIT  POWER CO. LTD MADANGONJ (100 MW) RENTAL/SIPP': 'SUMMIT NARAYANGONJ POWER LTD. RENTAL',\n",
       " 'IEL, MEGHNAGHAT 100 MW RENTAL/SIPP': 'MEGHNAGHAT POWER LTD. IPP/SIPP',\n",
       " 'AMNURA 50MW SINHA POWER RENTAL/SIPP': 'AMNURA(SINHA POWER GENERATION) RENTAL',\n",
       " 'POWER PAC MUTIARA,KERANIGONJ,100MW RENTAL/SIPP': 'POWER PAC MUTIARA KERANIGONJ RENTAL',\n",
       " 'JULDA ACORN INFRA.SERVICE LTD.100MW RENTAL/SIPP': 'ACRON INFRASTRUCTURE SERVICE LTD. RENTAL',\n",
       " 'KATAKHALI (NORTHERN) PEAKING RENTAL/SIPP': 'NORTHERN POWER RENTAL',\n",
       " 'SEMBCORP ENERGY INDIA LTD. IMPORT': 'SEMBCROP ENERGY INDIA LTD. 250MW IMPORT'}"
      ]
     },
     "execution_count": 76,
     "metadata": {},
     "output_type": "execute_result"
    }
   ],
   "source": [
    "match_dict"
   ]
  },
  {
   "cell_type": "code",
   "execution_count": 77,
   "id": "7f117718-9a34-4352-8a97-f2c68cf12244",
   "metadata": {
    "tags": []
   },
   "outputs": [
    {
     "data": {
      "text/plain": [
       "120"
      ]
     },
     "execution_count": 77,
     "metadata": {},
     "output_type": "execute_result"
    }
   ],
   "source": [
    "len(match_dict.keys())"
   ]
  },
  {
   "cell_type": "code",
   "execution_count": 62,
   "id": "290d42c0-6ff4-4477-97fb-7f15e7000a66",
   "metadata": {
    "tags": []
   },
   "outputs": [
    {
     "data": {
      "text/html": [
       "<div>\n",
       "<style scoped>\n",
       "    .dataframe tbody tr th:only-of-type {\n",
       "        vertical-align: middle;\n",
       "    }\n",
       "\n",
       "    .dataframe tbody tr th {\n",
       "        vertical-align: top;\n",
       "    }\n",
       "\n",
       "    .dataframe thead th {\n",
       "        text-align: right;\n",
       "    }\n",
       "</style>\n",
       "<table border=\"1\" class=\"dataframe\">\n",
       "  <thead>\n",
       "    <tr style=\"text-align: right;\">\n",
       "      <th></th>\n",
       "      <th>Own</th>\n",
       "      <th>plant_name</th>\n",
       "      <th>2021_units</th>\n",
       "      <th>2021_amount</th>\n",
       "      <th>2021_cost_per_unit</th>\n",
       "      <th>sipp</th>\n",
       "      <th>plant_owner</th>\n",
       "    </tr>\n",
       "  </thead>\n",
       "  <tbody>\n",
       "    <tr>\n",
       "      <th>42</th>\n",
       "      <td>PUBLIC</td>\n",
       "      <td>Siddirgonj Power Station</td>\n",
       "      <td>-1287000.0</td>\n",
       "      <td>828728526.0</td>\n",
       "      <td>NaN</td>\n",
       "      <td>0</td>\n",
       "      <td>SIDDIRGONJ POWER STATION PUBLIC</td>\n",
       "    </tr>\n",
       "  </tbody>\n",
       "</table>\n",
       "</div>"
      ],
      "text/plain": [
       "       Own                plant_name  2021_units  2021_amount  \\\n",
       "42  PUBLIC  Siddirgonj Power Station  -1287000.0  828728526.0   \n",
       "\n",
       "    2021_cost_per_unit  sipp                      plant_owner  \n",
       "42                 NaN     0  SIDDIRGONJ POWER STATION PUBLIC  "
      ]
     },
     "execution_count": 62,
     "metadata": {},
     "output_type": "execute_result"
    }
   ],
   "source": [
    "costs_df.loc[costs_df.plant_owner==plants_df_replaced.loc[9, \"plant_owner\"]]"
   ]
  },
  {
   "cell_type": "code",
   "execution_count": 78,
   "id": "30d19e39-4468-41f4-a931-cb70ff089655",
   "metadata": {
    "tags": []
   },
   "outputs": [],
   "source": [
    "# Get costs_df columns only for merged ones\n",
    "plants_df_replaced[\"costs_plant_name\"] = [costs_df.loc[costs_df.plant_owner==plants_df_replaced.loc[i, \"plant_owner\"]].plant_name.values[0] if plants_df_replaced.loc[i, \"plant_owner\"] in list(match_dict.values()) else None for i in plants_df_replaced.index]\n",
    "plants_df_replaced[\"costs_own\"] = [costs_df.loc[costs_df.plant_owner==plants_df_replaced.loc[i, \"plant_owner\"]].Own.values[0] if plants_df_replaced.loc[i, \"plant_owner\"] in list(match_dict.values()) else None for i in plants_df_replaced.index]\n",
    "# end"
   ]
  },
  {
   "cell_type": "code",
   "execution_count": 79,
   "id": "fa4a65ed-b13f-4f77-b01c-5ee2f6438886",
   "metadata": {
    "tags": []
   },
   "outputs": [
    {
     "data": {
      "text/plain": [
       "Index(['own', 'plant_name', 'fuel_type', 'capacity_mw', 'net_generation_gwh',\n",
       "       'usage', 'plant_owner', 'costs_plant_name', 'costs_own'],\n",
       "      dtype='object')"
      ]
     },
     "execution_count": 79,
     "metadata": {},
     "output_type": "execute_result"
    }
   ],
   "source": [
    "plants_df_replaced.columns"
   ]
  },
  {
   "cell_type": "code",
   "execution_count": 81,
   "id": "72d2ad34-1189-40bf-976e-305cc16588c8",
   "metadata": {
    "tags": []
   },
   "outputs": [],
   "source": [
    "#plants_df_replaced.to_csv('merged_plants.csv')\n",
    "plants_df_replaced[[\"own\", \"plant_name\", 'costs_plant_name', 'costs_own']].to_csv('merged_plants.csv')"
   ]
  },
  {
   "cell_type": "code",
   "execution_count": 35,
   "id": "0aa4e6de-ab3f-4beb-a35f-7ca821c057be",
   "metadata": {
    "tags": []
   },
   "outputs": [
    {
     "data": {
      "text/html": [
       "<div>\n",
       "<style scoped>\n",
       "    .dataframe tbody tr th:only-of-type {\n",
       "        vertical-align: middle;\n",
       "    }\n",
       "\n",
       "    .dataframe tbody tr th {\n",
       "        vertical-align: top;\n",
       "    }\n",
       "\n",
       "    .dataframe thead th {\n",
       "        text-align: right;\n",
       "    }\n",
       "</style>\n",
       "<table border=\"1\" class=\"dataframe\">\n",
       "  <thead>\n",
       "    <tr style=\"text-align: right;\">\n",
       "      <th></th>\n",
       "      <th>Own</th>\n",
       "      <th>plant_name</th>\n",
       "      <th>2021_units</th>\n",
       "      <th>2021_amount</th>\n",
       "      <th>2021_cost_per_unit</th>\n",
       "      <th>sipp</th>\n",
       "      <th>plant_owner</th>\n",
       "    </tr>\n",
       "  </thead>\n",
       "  <tbody>\n",
       "    <tr>\n",
       "      <th>31</th>\n",
       "      <td>PUBLIC</td>\n",
       "      <td>7.4 MW Solar Pv Power Plant At Kaptai</td>\n",
       "      <td>9712274.0</td>\n",
       "      <td>5.623535e+07</td>\n",
       "      <td>5.79</td>\n",
       "      <td>0</td>\n",
       "      <td>7.4 MW SOLAR PV POWER PLANT AT KAPTAI PUBLIC</td>\n",
       "    </tr>\n",
       "    <tr>\n",
       "      <th>128</th>\n",
       "      <td>IPP/SIPP</td>\n",
       "      <td>ACE Alliance Power Ltd. (149MW) (Summit Gazipur)</td>\n",
       "      <td>791750046.0</td>\n",
       "      <td>8.370705e+09</td>\n",
       "      <td>10.57</td>\n",
       "      <td>1</td>\n",
       "      <td>ACE ALLIANCE POWER LTD. (149MW) (SUMMIT GAZIPU...</td>\n",
       "    </tr>\n",
       "    <tr>\n",
       "      <th>16</th>\n",
       "      <td>RENTAL</td>\n",
       "      <td>ACRON INFRASTRUCTURE SERVICE LTD.</td>\n",
       "      <td>189942210.0</td>\n",
       "      <td>3.132865e+09</td>\n",
       "      <td>16.49</td>\n",
       "      <td>0</td>\n",
       "      <td>ACRON INFRASTRUCTURE SERVICE LTD. RENTAL</td>\n",
       "    </tr>\n",
       "    <tr>\n",
       "      <th>20</th>\n",
       "      <td>RENTAL</td>\n",
       "      <td>AGGREKO INTERNATIONAL LTD.-BHOLA (95 MW)</td>\n",
       "      <td>559103805.0</td>\n",
       "      <td>2.310335e+09</td>\n",
       "      <td>4.13</td>\n",
       "      <td>0</td>\n",
       "      <td>AGGREKO INTERNATIONAL LTD.-BHOLA (95 MW) RENTAL</td>\n",
       "    </tr>\n",
       "    <tr>\n",
       "      <th>17</th>\n",
       "      <td>RENTAL</td>\n",
       "      <td>AMNURA(SINHA POWER GENERATION)</td>\n",
       "      <td>16256328.0</td>\n",
       "      <td>1.082121e+08</td>\n",
       "      <td>6.66</td>\n",
       "      <td>0</td>\n",
       "      <td>AMNURA(SINHA POWER GENERATION) RENTAL</td>\n",
       "    </tr>\n",
       "    <tr>\n",
       "      <th>...</th>\n",
       "      <td>...</td>\n",
       "      <td>...</td>\n",
       "      <td>...</td>\n",
       "      <td>...</td>\n",
       "      <td>...</td>\n",
       "      <td>...</td>\n",
       "      <td>...</td>\n",
       "    </tr>\n",
       "    <tr>\n",
       "      <th>100</th>\n",
       "      <td>IPP/SIPP</td>\n",
       "      <td>United Payra (150MW)</td>\n",
       "      <td>33419172.0</td>\n",
       "      <td>1.077172e+09</td>\n",
       "      <td>32.23</td>\n",
       "      <td>1</td>\n",
       "      <td>UNITED PAYRA (150MW) IPP/SIPP</td>\n",
       "    </tr>\n",
       "    <tr>\n",
       "      <th>121</th>\n",
       "      <td>IPP/SIPP</td>\n",
       "      <td>United Power Generation &amp; Distribution</td>\n",
       "      <td>205400640.0</td>\n",
       "      <td>6.719100e+08</td>\n",
       "      <td>3.27</td>\n",
       "      <td>1</td>\n",
       "      <td>UNITED POWER GENERATION &amp; DISTRIBUTION IPP/SIPP</td>\n",
       "    </tr>\n",
       "    <tr>\n",
       "      <th>7</th>\n",
       "      <td>RENTAL</td>\n",
       "      <td>VENTURE ENERGY, BHOLA</td>\n",
       "      <td>199537974.0</td>\n",
       "      <td>7.963708e+08</td>\n",
       "      <td>3.99</td>\n",
       "      <td>0</td>\n",
       "      <td>VENTURE ENERGY, BHOLA RENTAL</td>\n",
       "    </tr>\n",
       "    <tr>\n",
       "      <th>30</th>\n",
       "      <td>PUBLIC</td>\n",
       "      <td>Wind Base Power Station, Kutubdia &amp; Hatiya</td>\n",
       "      <td>661410.0</td>\n",
       "      <td>4.085793e+06</td>\n",
       "      <td>6.18</td>\n",
       "      <td>0</td>\n",
       "      <td>WIND BASE POWER STATION, KUTUBDIA &amp; HATIYA PUBLIC</td>\n",
       "    </tr>\n",
       "    <tr>\n",
       "      <th>92</th>\n",
       "      <td>IPP/SIPP</td>\n",
       "      <td>Zodiac Power Ctg. Ltd.</td>\n",
       "      <td>276762524.0</td>\n",
       "      <td>3.085394e+09</td>\n",
       "      <td>11.15</td>\n",
       "      <td>1</td>\n",
       "      <td>ZODIAC POWER CTG. LTD. IPP/SIPP</td>\n",
       "    </tr>\n",
       "  </tbody>\n",
       "</table>\n",
       "<p>143 rows × 7 columns</p>\n",
       "</div>"
      ],
      "text/plain": [
       "          Own                                        plant_name   2021_units  \\\n",
       "31     PUBLIC             7.4 MW Solar Pv Power Plant At Kaptai    9712274.0   \n",
       "128  IPP/SIPP  ACE Alliance Power Ltd. (149MW) (Summit Gazipur)  791750046.0   \n",
       "16     RENTAL                 ACRON INFRASTRUCTURE SERVICE LTD.  189942210.0   \n",
       "20     RENTAL          AGGREKO INTERNATIONAL LTD.-BHOLA (95 MW)  559103805.0   \n",
       "17     RENTAL                    AMNURA(SINHA POWER GENERATION)   16256328.0   \n",
       "..        ...                                               ...          ...   \n",
       "100  IPP/SIPP                              United Payra (150MW)   33419172.0   \n",
       "121  IPP/SIPP            United Power Generation & Distribution  205400640.0   \n",
       "7      RENTAL                             VENTURE ENERGY, BHOLA  199537974.0   \n",
       "30     PUBLIC        Wind Base Power Station, Kutubdia & Hatiya     661410.0   \n",
       "92   IPP/SIPP                            Zodiac Power Ctg. Ltd.  276762524.0   \n",
       "\n",
       "      2021_amount  2021_cost_per_unit  sipp  \\\n",
       "31   5.623535e+07                5.79     0   \n",
       "128  8.370705e+09               10.57     1   \n",
       "16   3.132865e+09               16.49     0   \n",
       "20   2.310335e+09                4.13     0   \n",
       "17   1.082121e+08                6.66     0   \n",
       "..            ...                 ...   ...   \n",
       "100  1.077172e+09               32.23     1   \n",
       "121  6.719100e+08                3.27     1   \n",
       "7    7.963708e+08                3.99     0   \n",
       "30   4.085793e+06                6.18     0   \n",
       "92   3.085394e+09               11.15     1   \n",
       "\n",
       "                                           plant_owner  \n",
       "31        7.4 MW SOLAR PV POWER PLANT AT KAPTAI PUBLIC  \n",
       "128  ACE ALLIANCE POWER LTD. (149MW) (SUMMIT GAZIPU...  \n",
       "16            ACRON INFRASTRUCTURE SERVICE LTD. RENTAL  \n",
       "20     AGGREKO INTERNATIONAL LTD.-BHOLA (95 MW) RENTAL  \n",
       "17               AMNURA(SINHA POWER GENERATION) RENTAL  \n",
       "..                                                 ...  \n",
       "100                      UNITED PAYRA (150MW) IPP/SIPP  \n",
       "121    UNITED POWER GENERATION & DISTRIBUTION IPP/SIPP  \n",
       "7                         VENTURE ENERGY, BHOLA RENTAL  \n",
       "30   WIND BASE POWER STATION, KUTUBDIA & HATIYA PUBLIC  \n",
       "92                     ZODIAC POWER CTG. LTD. IPP/SIPP  \n",
       "\n",
       "[143 rows x 7 columns]"
      ]
     },
     "execution_count": 35,
     "metadata": {},
     "output_type": "execute_result"
    }
   ],
   "source": [
    "costs_df.sort_values(by=\"plant_name\")"
   ]
  },
  {
   "cell_type": "code",
   "execution_count": 40,
   "id": "eea917f1-5823-49ea-99cf-0f9034c0d81a",
   "metadata": {
    "tags": []
   },
   "outputs": [
    {
     "data": {
      "text/plain": [
       "' GHORASAL REPOWERED CCPP UNIT-3 PUBLIC'"
      ]
     },
     "execution_count": 40,
     "metadata": {},
     "output_type": "execute_result"
    }
   ],
   "source": [
    "plants_df_replaced.sort_values(by=\"plant_name\").loc[1, \"plant_owner\"]"
   ]
  },
  {
   "cell_type": "code",
   "execution_count": 38,
   "id": "c19288de-9a4f-4ce3-aaa4-acee158928aa",
   "metadata": {
    "tags": []
   },
   "outputs": [
    {
     "data": {
      "text/html": [
       "<div>\n",
       "<style scoped>\n",
       "    .dataframe tbody tr th:only-of-type {\n",
       "        vertical-align: middle;\n",
       "    }\n",
       "\n",
       "    .dataframe tbody tr th {\n",
       "        vertical-align: top;\n",
       "    }\n",
       "\n",
       "    .dataframe thead th {\n",
       "        text-align: right;\n",
       "    }\n",
       "</style>\n",
       "<table border=\"1\" class=\"dataframe\">\n",
       "  <thead>\n",
       "    <tr style=\"text-align: right;\">\n",
       "      <th></th>\n",
       "      <th>Own</th>\n",
       "      <th>plant_name</th>\n",
       "      <th>2021_units</th>\n",
       "      <th>2021_amount</th>\n",
       "      <th>2021_cost_per_unit</th>\n",
       "      <th>sipp</th>\n",
       "      <th>plant_owner</th>\n",
       "    </tr>\n",
       "  </thead>\n",
       "  <tbody>\n",
       "  </tbody>\n",
       "</table>\n",
       "</div>"
      ],
      "text/plain": [
       "Empty DataFrame\n",
       "Columns: [Own, plant_name, 2021_units, 2021_amount, 2021_cost_per_unit, sipp, plant_owner]\n",
       "Index: []"
      ]
     },
     "execution_count": 38,
     "metadata": {},
     "output_type": "execute_result"
    }
   ],
   "source": [
    "costs_df.loc[costs_df.plant_owner==plants_df_replaced.loc[2, \"plant_owner\"]]"
   ]
  },
  {
   "cell_type": "code",
   "execution_count": 31,
   "id": "9f6d0c7b-097e-4801-8d77-64072bad5fdb",
   "metadata": {
    "tags": []
   },
   "outputs": [
    {
     "data": {
      "text/html": [
       "<div>\n",
       "<style scoped>\n",
       "    .dataframe tbody tr th:only-of-type {\n",
       "        vertical-align: middle;\n",
       "    }\n",
       "\n",
       "    .dataframe tbody tr th {\n",
       "        vertical-align: top;\n",
       "    }\n",
       "\n",
       "    .dataframe thead th {\n",
       "        text-align: right;\n",
       "    }\n",
       "</style>\n",
       "<table border=\"1\" class=\"dataframe\">\n",
       "  <thead>\n",
       "    <tr style=\"text-align: right;\">\n",
       "      <th></th>\n",
       "      <th>own</th>\n",
       "      <th>plant_name</th>\n",
       "      <th>fuel_type</th>\n",
       "      <th>capacity_mw</th>\n",
       "      <th>net_generation_gwh</th>\n",
       "      <th>usage</th>\n",
       "      <th>sipp</th>\n",
       "      <th>plant_owner</th>\n",
       "    </tr>\n",
       "  </thead>\n",
       "  <tbody>\n",
       "    <tr>\n",
       "      <th>30</th>\n",
       "      <td>PUBLIC</td>\n",
       "      <td>Ashuganj TPP Unit-3</td>\n",
       "      <td>Gas</td>\n",
       "      <td>150.0</td>\n",
       "      <td>222.9391</td>\n",
       "      <td>0.209</td>\n",
       "      <td>0</td>\n",
       "      <td>ASHUGANJ TPP UNIT-3 PUBLIC</td>\n",
       "    </tr>\n",
       "    <tr>\n",
       "      <th>31</th>\n",
       "      <td>PUBLIC</td>\n",
       "      <td>Ashuganj TPP Unit-4</td>\n",
       "      <td>Gas</td>\n",
       "      <td>150.0</td>\n",
       "      <td>279.6746</td>\n",
       "      <td>0.261</td>\n",
       "      <td>0</td>\n",
       "      <td>ASHUGANJ TPP UNIT-4 PUBLIC</td>\n",
       "    </tr>\n",
       "    <tr>\n",
       "      <th>32</th>\n",
       "      <td>PUBLIC</td>\n",
       "      <td>Ashuganj TPP Unit-5</td>\n",
       "      <td>Gas</td>\n",
       "      <td>150.0</td>\n",
       "      <td>215.2755</td>\n",
       "      <td>0.202</td>\n",
       "      <td>0</td>\n",
       "      <td>ASHUGANJ TPP UNIT-5 PUBLIC</td>\n",
       "    </tr>\n",
       "    <tr>\n",
       "      <th>1</th>\n",
       "      <td>PUBLIC</td>\n",
       "      <td>Ghorasal Repowered CCPP Unit-3</td>\n",
       "      <td>Gas</td>\n",
       "      <td>260.0</td>\n",
       "      <td>47.1487</td>\n",
       "      <td>0.023</td>\n",
       "      <td>0</td>\n",
       "      <td>GHORASAL REPOWERED CCPP UNIT-3 PUBLIC</td>\n",
       "    </tr>\n",
       "    <tr>\n",
       "      <th>2</th>\n",
       "      <td>PUBLIC</td>\n",
       "      <td>Ghorasal Repowered CCPP Unit-4</td>\n",
       "      <td>Gas</td>\n",
       "      <td>210.0</td>\n",
       "      <td>280.5226</td>\n",
       "      <td>0.197</td>\n",
       "      <td>0</td>\n",
       "      <td>GHORASAL REPOWERED CCPP UNIT-4 PUBLIC</td>\n",
       "    </tr>\n",
       "    <tr>\n",
       "      <th>...</th>\n",
       "      <td>...</td>\n",
       "      <td>...</td>\n",
       "      <td>...</td>\n",
       "      <td>...</td>\n",
       "      <td>...</td>\n",
       "      <td>...</td>\n",
       "      <td>...</td>\n",
       "      <td>...</td>\n",
       "    </tr>\n",
       "    <tr>\n",
       "      <th>117</th>\n",
       "      <td>IPP</td>\n",
       "      <td>United Anwara 300MW PS</td>\n",
       "      <td>F.Oil</td>\n",
       "      <td>300.0</td>\n",
       "      <td>1195.9981</td>\n",
       "      <td>0.460</td>\n",
       "      <td>0</td>\n",
       "      <td>UNITED - ANAWARA (300MW) IPP/SIPP</td>\n",
       "    </tr>\n",
       "    <tr>\n",
       "      <th>114</th>\n",
       "      <td>IPP</td>\n",
       "      <td>United Jamalpur PPL</td>\n",
       "      <td>F.Oil</td>\n",
       "      <td>115.0</td>\n",
       "      <td>538.4717</td>\n",
       "      <td>0.530</td>\n",
       "      <td>0</td>\n",
       "      <td>UNITED JAMALPUR 200MW IPP/SIPP</td>\n",
       "    </tr>\n",
       "    <tr>\n",
       "      <th>108</th>\n",
       "      <td>IPP</td>\n",
       "      <td>United Mymensing Power(UMPL) 200MW Generation</td>\n",
       "      <td>F.Oil</td>\n",
       "      <td>200.0</td>\n",
       "      <td>1019.8212</td>\n",
       "      <td>0.580</td>\n",
       "      <td>0</td>\n",
       "      <td>UNITED MYMENSINGH POWER LTD. (200MW) IPP/SIPP</td>\n",
       "    </tr>\n",
       "    <tr>\n",
       "      <th>130</th>\n",
       "      <td>IPP</td>\n",
       "      <td>United Payra PP Patuakhali Imp</td>\n",
       "      <td>F.Oil</td>\n",
       "      <td>150.0</td>\n",
       "      <td>33.4596</td>\n",
       "      <td>0.030</td>\n",
       "      <td>0</td>\n",
       "      <td>UNITED PAYRA (150MW) IPP/SIPP</td>\n",
       "    </tr>\n",
       "    <tr>\n",
       "      <th>88</th>\n",
       "      <td>IPP</td>\n",
       "      <td>United Power Co. Ltd.200 MW Exp</td>\n",
       "      <td>GAS</td>\n",
       "      <td>195.0</td>\n",
       "      <td>145.6385</td>\n",
       "      <td>0.090</td>\n",
       "      <td>0</td>\n",
       "      <td>UNITED MYMENSINGH POWER LTD. (200MW) IPP/SIPP</td>\n",
       "    </tr>\n",
       "  </tbody>\n",
       "</table>\n",
       "<p>158 rows × 8 columns</p>\n",
       "</div>"
      ],
      "text/plain": [
       "        own                                     plant_name fuel_type  \\\n",
       "30   PUBLIC                            Ashuganj TPP Unit-3       Gas   \n",
       "31   PUBLIC                            Ashuganj TPP Unit-4       Gas   \n",
       "32   PUBLIC                            Ashuganj TPP Unit-5       Gas   \n",
       "1    PUBLIC                 Ghorasal Repowered CCPP Unit-3       Gas   \n",
       "2    PUBLIC                 Ghorasal Repowered CCPP Unit-4       Gas   \n",
       "..      ...                                            ...       ...   \n",
       "117     IPP                         United Anwara 300MW PS     F.Oil   \n",
       "114     IPP                            United Jamalpur PPL     F.Oil   \n",
       "108     IPP  United Mymensing Power(UMPL) 200MW Generation     F.Oil   \n",
       "130     IPP                 United Payra PP Patuakhali Imp     F.Oil   \n",
       "88      IPP                United Power Co. Ltd.200 MW Exp       GAS   \n",
       "\n",
       "     capacity_mw  net_generation_gwh  usage  sipp  \\\n",
       "30         150.0            222.9391  0.209     0   \n",
       "31         150.0            279.6746  0.261     0   \n",
       "32         150.0            215.2755  0.202     0   \n",
       "1          260.0             47.1487  0.023     0   \n",
       "2          210.0            280.5226  0.197     0   \n",
       "..           ...                 ...    ...   ...   \n",
       "117        300.0           1195.9981  0.460     0   \n",
       "114        115.0            538.4717  0.530     0   \n",
       "108        200.0           1019.8212  0.580     0   \n",
       "130        150.0             33.4596  0.030     0   \n",
       "88         195.0            145.6385  0.090     0   \n",
       "\n",
       "                                       plant_owner  \n",
       "30                      ASHUGANJ TPP UNIT-3 PUBLIC  \n",
       "31                      ASHUGANJ TPP UNIT-4 PUBLIC  \n",
       "32                      ASHUGANJ TPP UNIT-5 PUBLIC  \n",
       "1            GHORASAL REPOWERED CCPP UNIT-3 PUBLIC  \n",
       "2            GHORASAL REPOWERED CCPP UNIT-4 PUBLIC  \n",
       "..                                             ...  \n",
       "117              UNITED - ANAWARA (300MW) IPP/SIPP  \n",
       "114                 UNITED JAMALPUR 200MW IPP/SIPP  \n",
       "108  UNITED MYMENSINGH POWER LTD. (200MW) IPP/SIPP  \n",
       "130                  UNITED PAYRA (150MW) IPP/SIPP  \n",
       "88   UNITED MYMENSINGH POWER LTD. (200MW) IPP/SIPP  \n",
       "\n",
       "[158 rows x 8 columns]"
      ]
     },
     "execution_count": 31,
     "metadata": {},
     "output_type": "execute_result"
    }
   ],
   "source": [
    "plants_df_replaced.sort_values(by=\"plant_name\")"
   ]
  },
  {
   "cell_type": "code",
   "execution_count": 86,
   "id": "d8251b4b-dbf2-4106-bf41-57c065afc899",
   "metadata": {
    "tags": []
   },
   "outputs": [
    {
     "data": {
      "text/plain": [
       "(203, 158, 0.2848101265822785, 45)"
      ]
     },
     "execution_count": 86,
     "metadata": {},
     "output_type": "execute_result"
    }
   ],
   "source": [
    "import numpy as np\n",
    "from fuzzywuzzy import fuzz\n",
    "from fuzzywuzzy import process\n",
    "\n",
    "costs_df = df2\n",
    "plants_df = df\n",
    "\n",
    "# Let's create a dictionary where the keys are the plant names from the plants_df and the values are the plant names from the costs_df that have the highest match score.\n",
    "\n",
    "match_dict = {}\n",
    "\n",
    "for plant in plants_df.plant_name.unique():\n",
    "    matches = process.extract(plant, costs_df.plant_name.unique(), limit=1, scorer=fuzz.token_sort_ratio)\n",
    "    if matches[0][1] >= 50:\n",
    "        match_dict[plant] = matches[0][0]\n",
    "\n",
    "# Let's replace the plant names in the plants_df with the matched names from the costs_df.\n",
    "plants_df_replaced = plants_df.copy()\n",
    "plants_df_replaced['plant_name'] = plants_df_replaced['plant_name'].replace(match_dict)\n",
    "\n",
    "# Now, let's merge the two dataframes using an outer join.\n",
    "merged_df = pd.merge(plants_df_replaced, costs_df, on='plant_name', how='outer', suffixes=('_plants', '_costs'))\n",
    "\n",
    "# Let's count the number of rows where the plant_name is present in both dataframes (i.e., the merge was successful).\n",
    "successful_merge_count = merged_df.dropna(subset=['plant_name']).shape[0]\n",
    "\n",
    "# Let's also count the total number of unique plant names in the original dataframes.\n",
    "total_plants_count = len(plants_df.plant_name.unique())\n",
    "\n",
    "# Now, let's calculate the merge success rate.\n",
    "merge_failure_rate = (successful_merge_count-total_plants_count) / total_plants_count\n",
    "\n",
    "successful_merge_count, total_plants_count, merge_failure_rate, successful_merge_count-total_plants_count"
   ]
  },
  {
   "cell_type": "markdown",
   "id": "d9248366-a695-4bcf-aa00-e0c85d478689",
   "metadata": {
    "jp-MarkdownHeadingCollapsed": true,
    "tags": []
   },
   "source": [
    "# AFTER MATCHING BY HAND"
   ]
  },
  {
   "cell_type": "code",
   "execution_count": 190,
   "id": "77fabaf8-f902-4918-ae3a-ebbc820279a7",
   "metadata": {
    "tags": []
   },
   "outputs": [],
   "source": [
    "df = pd.read_csv('research/merged_plants.csv')"
   ]
  },
  {
   "cell_type": "code",
   "execution_count": 191,
   "id": "2eb0d473-e1ec-4cc2-824c-31ece0ca45a2",
   "metadata": {
    "tags": []
   },
   "outputs": [
    {
     "data": {
      "text/html": [
       "<div>\n",
       "<style scoped>\n",
       "    .dataframe tbody tr th:only-of-type {\n",
       "        vertical-align: middle;\n",
       "    }\n",
       "\n",
       "    .dataframe tbody tr th {\n",
       "        vertical-align: top;\n",
       "    }\n",
       "\n",
       "    .dataframe thead th {\n",
       "        text-align: right;\n",
       "    }\n",
       "</style>\n",
       "<table border=\"1\" class=\"dataframe\">\n",
       "  <thead>\n",
       "    <tr style=\"text-align: right;\">\n",
       "      <th></th>\n",
       "      <th>Unnamed: 0</th>\n",
       "      <th>est</th>\n",
       "      <th>own</th>\n",
       "      <th>plant_name</th>\n",
       "      <th>capacity_mw</th>\n",
       "      <th>costs_p1</th>\n",
       "      <th>costs_p2</th>\n",
       "    </tr>\n",
       "  </thead>\n",
       "  <tbody>\n",
       "    <tr>\n",
       "      <th>0</th>\n",
       "      <td>138</td>\n",
       "      <td>NaN</td>\n",
       "      <td>IPP</td>\n",
       "      <td>20 MW Solar Teknaf</td>\n",
       "      <td>20.0</td>\n",
       "      <td>NaN</td>\n",
       "      <td>Technaf Solartech Energy Ltd. (20MW)</td>\n",
       "    </tr>\n",
       "    <tr>\n",
       "      <th>1</th>\n",
       "      <td>8</td>\n",
       "      <td>NaN</td>\n",
       "      <td>PUBLIC</td>\n",
       "      <td>210 MW Shiddirganj TPP</td>\n",
       "      <td>210.0</td>\n",
       "      <td>Siddirgonj Power Station</td>\n",
       "      <td>1</td>\n",
       "    </tr>\n",
       "    <tr>\n",
       "      <th>2</th>\n",
       "      <td>140</td>\n",
       "      <td>NaN</td>\n",
       "      <td>IPP</td>\n",
       "      <td>50 MW HDFC Solar Power Plant</td>\n",
       "      <td>50.0</td>\n",
       "      <td>HDFC SinPower Ltd. (50MW)</td>\n",
       "      <td>1</td>\n",
       "    </tr>\n",
       "    <tr>\n",
       "      <th>3</th>\n",
       "      <td>160</td>\n",
       "      <td>NaN</td>\n",
       "      <td>RENTAL/SIPP</td>\n",
       "      <td>Aggreko 95 MW Bhola</td>\n",
       "      <td>95.0</td>\n",
       "      <td>AGGREKO INTERNATIONAL LTD.-BHOLA (95 MW)</td>\n",
       "      <td>1</td>\n",
       "    </tr>\n",
       "    <tr>\n",
       "      <th>4</th>\n",
       "      <td>134</td>\n",
       "      <td>NaN</td>\n",
       "      <td>IPP</td>\n",
       "      <td>Aggreko, Aourahati 100MW</td>\n",
       "      <td>100.0</td>\n",
       "      <td>Aggreko Energy Solution Ltd. - Aorahati (100MW)</td>\n",
       "      <td>1</td>\n",
       "    </tr>\n",
       "  </tbody>\n",
       "</table>\n",
       "</div>"
      ],
      "text/plain": [
       "   Unnamed: 0  est          own                    plant_name  capacity_mw  \\\n",
       "0         138  NaN          IPP            20 MW Solar Teknaf         20.0   \n",
       "1           8  NaN       PUBLIC        210 MW Shiddirganj TPP        210.0   \n",
       "2         140  NaN          IPP  50 MW HDFC Solar Power Plant         50.0   \n",
       "3         160  NaN  RENTAL/SIPP           Aggreko 95 MW Bhola         95.0   \n",
       "4         134  NaN          IPP      Aggreko, Aourahati 100MW        100.0   \n",
       "\n",
       "                                          costs_p1  \\\n",
       "0                                              NaN   \n",
       "1                         Siddirgonj Power Station   \n",
       "2                        HDFC SinPower Ltd. (50MW)   \n",
       "3         AGGREKO INTERNATIONAL LTD.-BHOLA (95 MW)   \n",
       "4  Aggreko Energy Solution Ltd. - Aorahati (100MW)   \n",
       "\n",
       "                               costs_p2  \n",
       "0  Technaf Solartech Energy Ltd. (20MW)  \n",
       "1                                     1  \n",
       "2                                     1  \n",
       "3                                     1  \n",
       "4                                     1  "
      ]
     },
     "execution_count": 191,
     "metadata": {},
     "output_type": "execute_result"
    }
   ],
   "source": [
    "df.head()"
   ]
  },
  {
   "cell_type": "code",
   "execution_count": 192,
   "id": "bb1be66b-1e52-4a3c-b65f-db169476cbc9",
   "metadata": {
    "tags": []
   },
   "outputs": [],
   "source": [
    "df[\"costs_name\"] = [\"\" for i in range(len(df.index))]\n",
    "for i in df.index:\n",
    "        if df.loc[i, \"costs_p2\"]=='1':\n",
    "            df.loc[i, \"costs_name\"] = df.loc[i, \"costs_p1\"]\n",
    "        else:\n",
    "            df.loc[i, \"costs_name\"] = df.loc[i, \"costs_p2\"]"
   ]
  },
  {
   "cell_type": "code",
   "execution_count": 193,
   "id": "24e0e607-b032-4b5e-9237-a410b8ea0106",
   "metadata": {
    "tags": []
   },
   "outputs": [
    {
     "data": {
      "text/html": [
       "<div>\n",
       "<style scoped>\n",
       "    .dataframe tbody tr th:only-of-type {\n",
       "        vertical-align: middle;\n",
       "    }\n",
       "\n",
       "    .dataframe tbody tr th {\n",
       "        vertical-align: top;\n",
       "    }\n",
       "\n",
       "    .dataframe thead th {\n",
       "        text-align: right;\n",
       "    }\n",
       "</style>\n",
       "<table border=\"1\" class=\"dataframe\">\n",
       "  <thead>\n",
       "    <tr style=\"text-align: right;\">\n",
       "      <th></th>\n",
       "      <th>plant_name</th>\n",
       "      <th>costs_name</th>\n",
       "    </tr>\n",
       "  </thead>\n",
       "  <tbody>\n",
       "    <tr>\n",
       "      <th>0</th>\n",
       "      <td>20 MW Solar Teknaf</td>\n",
       "      <td>Technaf Solartech Energy Ltd. (20MW)</td>\n",
       "    </tr>\n",
       "    <tr>\n",
       "      <th>1</th>\n",
       "      <td>210 MW Shiddirganj TPP</td>\n",
       "      <td>Siddirgonj Power Station</td>\n",
       "    </tr>\n",
       "    <tr>\n",
       "      <th>2</th>\n",
       "      <td>50 MW HDFC Solar Power Plant</td>\n",
       "      <td>HDFC SinPower Ltd. (50MW)</td>\n",
       "    </tr>\n",
       "    <tr>\n",
       "      <th>3</th>\n",
       "      <td>Aggreko 95 MW Bhola</td>\n",
       "      <td>AGGREKO INTERNATIONAL LTD.-BHOLA (95 MW)</td>\n",
       "    </tr>\n",
       "    <tr>\n",
       "      <th>4</th>\n",
       "      <td>Aggreko, Aourahati 100MW</td>\n",
       "      <td>Aggreko Energy Solution Ltd. - Aorahati (100MW)</td>\n",
       "    </tr>\n",
       "    <tr>\n",
       "      <th>...</th>\n",
       "      <td>...</td>\n",
       "      <td>...</td>\n",
       "    </tr>\n",
       "    <tr>\n",
       "      <th>153</th>\n",
       "      <td>United Anwara 300MW PS</td>\n",
       "      <td>United - Anawara (300MW)</td>\n",
       "    </tr>\n",
       "    <tr>\n",
       "      <th>154</th>\n",
       "      <td>United Jamalpur PPL</td>\n",
       "      <td>United Jamalpur 200MW</td>\n",
       "    </tr>\n",
       "    <tr>\n",
       "      <th>155</th>\n",
       "      <td>United Mymensing Power(UMPL) 200MW Generation</td>\n",
       "      <td>United Mymensingh Power Ltd. (200MW)</td>\n",
       "    </tr>\n",
       "    <tr>\n",
       "      <th>156</th>\n",
       "      <td>United Payra PP Patuakhali Imp</td>\n",
       "      <td>United Payra (150MW)</td>\n",
       "    </tr>\n",
       "    <tr>\n",
       "      <th>157</th>\n",
       "      <td>United Power Co. Ltd.200 MW Exp</td>\n",
       "      <td>United Mymensingh Power Ltd. (200MW)</td>\n",
       "    </tr>\n",
       "  </tbody>\n",
       "</table>\n",
       "<p>158 rows × 2 columns</p>\n",
       "</div>"
      ],
      "text/plain": [
       "                                        plant_name  \\\n",
       "0                               20 MW Solar Teknaf   \n",
       "1                           210 MW Shiddirganj TPP   \n",
       "2                     50 MW HDFC Solar Power Plant   \n",
       "3                              Aggreko 95 MW Bhola   \n",
       "4                         Aggreko, Aourahati 100MW   \n",
       "..                                             ...   \n",
       "153                         United Anwara 300MW PS   \n",
       "154                            United Jamalpur PPL   \n",
       "155  United Mymensing Power(UMPL) 200MW Generation   \n",
       "156                 United Payra PP Patuakhali Imp   \n",
       "157                United Power Co. Ltd.200 MW Exp   \n",
       "\n",
       "                                          costs_name  \n",
       "0               Technaf Solartech Energy Ltd. (20MW)  \n",
       "1                           Siddirgonj Power Station  \n",
       "2                          HDFC SinPower Ltd. (50MW)  \n",
       "3           AGGREKO INTERNATIONAL LTD.-BHOLA (95 MW)  \n",
       "4    Aggreko Energy Solution Ltd. - Aorahati (100MW)  \n",
       "..                                               ...  \n",
       "153                         United - Anawara (300MW)  \n",
       "154                            United Jamalpur 200MW  \n",
       "155             United Mymensingh Power Ltd. (200MW)  \n",
       "156                             United Payra (150MW)  \n",
       "157             United Mymensingh Power Ltd. (200MW)  \n",
       "\n",
       "[158 rows x 2 columns]"
      ]
     },
     "execution_count": 193,
     "metadata": {},
     "output_type": "execute_result"
    }
   ],
   "source": [
    "df[[\"plant_name\", \"costs_name\"]]"
   ]
  },
  {
   "cell_type": "code",
   "execution_count": 194,
   "id": "5c8ebee6-d3d3-4109-acc4-de592a2ce989",
   "metadata": {
    "tags": []
   },
   "outputs": [
    {
     "data": {
      "text/plain": [
       "158"
      ]
     },
     "execution_count": 194,
     "metadata": {},
     "output_type": "execute_result"
    }
   ],
   "source": [
    "# Reload the datasets\n",
    "costs_df = pd.read_csv('research/pdb_costs.csv', index_col=0)\n",
    "plants_df = pd.read_csv('research/pdb1.csv', index_col=0)\n",
    "len(plants_df)"
   ]
  },
  {
   "cell_type": "code",
   "execution_count": 195,
   "id": "ca51c0e2-17a8-4ea2-9747-2f72407e118a",
   "metadata": {
    "tags": []
   },
   "outputs": [],
   "source": [
    "plants_df[\"match_name_plants\"] = plants_df[\"plant_name\"].str.strip()\n",
    "df[\"match_name_plants\"] = df[\"plant_name\"].str.strip()"
   ]
  },
  {
   "cell_type": "code",
   "execution_count": 196,
   "id": "c2ac7ce0-8b2c-4890-b0eb-41d37d5b7a45",
   "metadata": {
    "tags": []
   },
   "outputs": [
    {
     "data": {
      "text/plain": [
       "158"
      ]
     },
     "execution_count": 196,
     "metadata": {},
     "output_type": "execute_result"
    }
   ],
   "source": [
    "pdf = plants_df.merge(df[[\"plant_name\", \"costs_name\", \"match_name_plants\"]], left_on='match_name_plants', right_on='match_name_plants')\n",
    "len(pdf.index)"
   ]
  },
  {
   "cell_type": "code",
   "execution_count": 197,
   "id": "d8050fa6-d2d6-460a-a619-459e9ebab737",
   "metadata": {
    "tags": []
   },
   "outputs": [
    {
     "data": {
      "text/html": [
       "<div>\n",
       "<style scoped>\n",
       "    .dataframe tbody tr th:only-of-type {\n",
       "        vertical-align: middle;\n",
       "    }\n",
       "\n",
       "    .dataframe tbody tr th {\n",
       "        vertical-align: top;\n",
       "    }\n",
       "\n",
       "    .dataframe thead th {\n",
       "        text-align: right;\n",
       "    }\n",
       "</style>\n",
       "<table border=\"1\" class=\"dataframe\">\n",
       "  <thead>\n",
       "    <tr style=\"text-align: right;\">\n",
       "      <th></th>\n",
       "      <th>own</th>\n",
       "      <th>plant_name_x</th>\n",
       "      <th>fuel_type</th>\n",
       "      <th>capacity_mw</th>\n",
       "      <th>net_generation_gwh</th>\n",
       "      <th>usage</th>\n",
       "      <th>costs_name</th>\n",
       "    </tr>\n",
       "  </thead>\n",
       "  <tbody>\n",
       "    <tr>\n",
       "      <th>0</th>\n",
       "      <td>Public</td>\n",
       "      <td>Ghorasal Repowered CCPP Unit-3</td>\n",
       "      <td>Gas</td>\n",
       "      <td>260.0</td>\n",
       "      <td>47.1487</td>\n",
       "      <td>0.023</td>\n",
       "      <td>Ghorashal Power Station 630MW</td>\n",
       "    </tr>\n",
       "    <tr>\n",
       "      <th>1</th>\n",
       "      <td>Public</td>\n",
       "      <td>Ghorasal Repowered CCPP Unit-4</td>\n",
       "      <td>Gas</td>\n",
       "      <td>210.0</td>\n",
       "      <td>280.5226</td>\n",
       "      <td>0.197</td>\n",
       "      <td>Ghorashal Power Station 630MW</td>\n",
       "    </tr>\n",
       "    <tr>\n",
       "      <th>2</th>\n",
       "      <td>Public</td>\n",
       "      <td>Ghorasal TPP Unit-5</td>\n",
       "      <td>Gas</td>\n",
       "      <td>210.0</td>\n",
       "      <td>963.6894</td>\n",
       "      <td>0.620</td>\n",
       "      <td>Ghorashal Power Station 630MW</td>\n",
       "    </tr>\n",
       "    <tr>\n",
       "      <th>3</th>\n",
       "      <td>Public</td>\n",
       "      <td>Ghorasal TPP Unit-6</td>\n",
       "      <td>Gas</td>\n",
       "      <td>0.0</td>\n",
       "      <td>-2.2060</td>\n",
       "      <td>NaN</td>\n",
       "      <td>Ghorashal Power Station 630MW</td>\n",
       "    </tr>\n",
       "    <tr>\n",
       "      <th>4</th>\n",
       "      <td>Public</td>\n",
       "      <td>Ghorasal 365 MW CCPP Unit-7</td>\n",
       "      <td>Gas</td>\n",
       "      <td>365.0</td>\n",
       "      <td>1315.1245</td>\n",
       "      <td>0.434</td>\n",
       "      <td>Ghorashal Power Station 365MW</td>\n",
       "    </tr>\n",
       "    <tr>\n",
       "      <th>...</th>\n",
       "      <td>...</td>\n",
       "      <td>...</td>\n",
       "      <td>...</td>\n",
       "      <td>...</td>\n",
       "      <td>...</td>\n",
       "      <td>...</td>\n",
       "      <td>...</td>\n",
       "    </tr>\n",
       "    <tr>\n",
       "      <th>153</th>\n",
       "      <td>IMPORT</td>\n",
       "      <td>Power Import (Bheramara-Bharampur Phase-1)</td>\n",
       "      <td>Import</td>\n",
       "      <td>500.0</td>\n",
       "      <td>1730.7260</td>\n",
       "      <td>NaN</td>\n",
       "      <td>Power Grid Corporation of India - 250MW</td>\n",
       "    </tr>\n",
       "    <tr>\n",
       "      <th>154</th>\n",
       "      <td>IMPORT</td>\n",
       "      <td>Import from Tripura (1st Phase)</td>\n",
       "      <td>Import</td>\n",
       "      <td>100.0</td>\n",
       "      <td>1028.8180</td>\n",
       "      <td>NaN</td>\n",
       "      <td>NVVN Ltd. - India 160 MW (Tripura)</td>\n",
       "    </tr>\n",
       "    <tr>\n",
       "      <th>155</th>\n",
       "      <td>IMPORT</td>\n",
       "      <td>Import from Tripura (2nd  Phase)</td>\n",
       "      <td>Import</td>\n",
       "      <td>60.0</td>\n",
       "      <td>1023.5395</td>\n",
       "      <td>NaN</td>\n",
       "      <td>NVVN Ltd. - India 160 MW (Tripura)</td>\n",
       "    </tr>\n",
       "    <tr>\n",
       "      <th>156</th>\n",
       "      <td>IMPORT</td>\n",
       "      <td>Power Import (Bheramara-Bharampur Phase-2)</td>\n",
       "      <td>Import</td>\n",
       "      <td>300.0</td>\n",
       "      <td>2539.0500</td>\n",
       "      <td>NaN</td>\n",
       "      <td>NVVN Ltd. - India 300 MW</td>\n",
       "    </tr>\n",
       "    <tr>\n",
       "      <th>157</th>\n",
       "      <td>IMPORT</td>\n",
       "      <td>Sembcorp Energy India Ltd.</td>\n",
       "      <td>Import</td>\n",
       "      <td>200.0</td>\n",
       "      <td>1781.2230</td>\n",
       "      <td>NaN</td>\n",
       "      <td>Sembcrop Energy India Ltd. 250MW</td>\n",
       "    </tr>\n",
       "  </tbody>\n",
       "</table>\n",
       "<p>158 rows × 7 columns</p>\n",
       "</div>"
      ],
      "text/plain": [
       "        own                                plant_name_x fuel_type  \\\n",
       "0    Public              Ghorasal Repowered CCPP Unit-3       Gas   \n",
       "1    Public              Ghorasal Repowered CCPP Unit-4       Gas   \n",
       "2    Public                         Ghorasal TPP Unit-5       Gas   \n",
       "3    Public                         Ghorasal TPP Unit-6       Gas   \n",
       "4    Public                 Ghorasal 365 MW CCPP Unit-7       Gas   \n",
       "..      ...                                         ...       ...   \n",
       "153  IMPORT  Power Import (Bheramara-Bharampur Phase-1)    Import   \n",
       "154  IMPORT             Import from Tripura (1st Phase)    Import   \n",
       "155  IMPORT            Import from Tripura (2nd  Phase)    Import   \n",
       "156  IMPORT  Power Import (Bheramara-Bharampur Phase-2)    Import   \n",
       "157  IMPORT                  Sembcorp Energy India Ltd.    Import   \n",
       "\n",
       "     capacity_mw  net_generation_gwh  usage  \\\n",
       "0          260.0             47.1487  0.023   \n",
       "1          210.0            280.5226  0.197   \n",
       "2          210.0            963.6894  0.620   \n",
       "3            0.0             -2.2060    NaN   \n",
       "4          365.0           1315.1245  0.434   \n",
       "..           ...                 ...    ...   \n",
       "153        500.0           1730.7260    NaN   \n",
       "154        100.0           1028.8180    NaN   \n",
       "155         60.0           1023.5395    NaN   \n",
       "156        300.0           2539.0500    NaN   \n",
       "157        200.0           1781.2230    NaN   \n",
       "\n",
       "                                  costs_name  \n",
       "0              Ghorashal Power Station 630MW  \n",
       "1              Ghorashal Power Station 630MW  \n",
       "2              Ghorashal Power Station 630MW  \n",
       "3              Ghorashal Power Station 630MW  \n",
       "4              Ghorashal Power Station 365MW  \n",
       "..                                       ...  \n",
       "153  Power Grid Corporation of India - 250MW  \n",
       "154       NVVN Ltd. - India 160 MW (Tripura)  \n",
       "155       NVVN Ltd. - India 160 MW (Tripura)  \n",
       "156                 NVVN Ltd. - India 300 MW  \n",
       "157         Sembcrop Energy India Ltd. 250MW  \n",
       "\n",
       "[158 rows x 7 columns]"
      ]
     },
     "execution_count": 197,
     "metadata": {},
     "output_type": "execute_result"
    }
   ],
   "source": [
    "pdf.drop(columns=[\"plant_name_y\", \"match_name_plants\"])"
   ]
  },
  {
   "cell_type": "code",
   "execution_count": 198,
   "id": "79ffd72d-b59e-4b8c-8fa5-139feb5d0cdc",
   "metadata": {
    "tags": []
   },
   "outputs": [
    {
     "name": "stdout",
     "output_type": "stream",
     "text": [
      "could not match 0\n",
      "could not match 0\n",
      "could not match 0\n",
      "could not match 0\n",
      "could not match 0\n",
      "could not match 0\n"
     ]
    }
   ],
   "source": [
    "# manual\n",
    "pdf['2021_units'] = None\n",
    "pdf['2021_amount'] = None\n",
    "pdf['2021_cost_per_unit'] = None\n",
    "for i in pdf.index:\n",
    "        cname = pdf.loc[i, \"costs_name\"].strip().upper()\n",
    "        try:\n",
    "            crow = costs_df.loc[costs_df.plant_name.str.strip().str.upper()==cname]\n",
    "            pdf.loc[i, '2021_units'] = crow['2021_units'].values[0]\n",
    "            pdf.loc[i, '2021_amount'] = crow['2021_amount'].values[0]\n",
    "            pdf.loc[i, '2021_cost_per_unit'] = crow['2021_cost_per_unit'].values[0]\n",
    "        except:\n",
    "            print('could not match', cname)"
   ]
  },
  {
   "cell_type": "code",
   "execution_count": 207,
   "id": "e6c94667-5e0b-4c40-9d1c-5674769665c9",
   "metadata": {
    "tags": []
   },
   "outputs": [
    {
     "data": {
      "text/plain": [
       "152"
      ]
     },
     "execution_count": 207,
     "metadata": {},
     "output_type": "execute_result"
    }
   ],
   "source": [
    "len(pdf.loc[pdf[\"costs_name\"]!='0'])"
   ]
  },
  {
   "cell_type": "code",
   "execution_count": 208,
   "id": "e881e009-a825-4953-b2c5-c3e11d792276",
   "metadata": {
    "tags": []
   },
   "outputs": [
    {
     "data": {
      "text/plain": [
       "Index(['own', 'plant_name_x', 'fuel_type', 'capacity_mw', 'net_generation_gwh',\n",
       "       'usage', 'match_name_plants', 'plant_name_y', 'costs_name',\n",
       "       '2021_units', '2021_amount', '2021_cost_per_unit'],\n",
       "      dtype='object')"
      ]
     },
     "execution_count": 208,
     "metadata": {},
     "output_type": "execute_result"
    }
   ],
   "source": [
    "final_df = pdf.loc[pdf[\"costs_name\"]!='0']\n",
    "final_df.columns"
   ]
  },
  {
   "cell_type": "code",
   "execution_count": 209,
   "id": "0a1d563d-1c28-4c8f-93af-c3639a16bda6",
   "metadata": {
    "tags": []
   },
   "outputs": [],
   "source": [
    "final_df.to_csv('research/final_power_plants.csv')"
   ]
  },
  {
   "cell_type": "markdown",
   "id": "11362e1d-c12a-4b5a-b094-f61228dea708",
   "metadata": {},
   "source": [
    "# Adding 2022 data"
   ]
  },
  {
   "cell_type": "code",
   "execution_count": 104,
   "id": "971b05a3-f803-48fc-9534-7c72ecac94f1",
   "metadata": {
    "tags": []
   },
   "outputs": [
    {
     "data": {
      "text/html": [
       "<div>\n",
       "<style scoped>\n",
       "    .dataframe tbody tr th:only-of-type {\n",
       "        vertical-align: middle;\n",
       "    }\n",
       "\n",
       "    .dataframe tbody tr th {\n",
       "        vertical-align: top;\n",
       "    }\n",
       "\n",
       "    .dataframe thead th {\n",
       "        text-align: right;\n",
       "    }\n",
       "</style>\n",
       "<table border=\"1\" class=\"dataframe\">\n",
       "  <thead>\n",
       "    <tr style=\"text-align: right;\">\n",
       "      <th></th>\n",
       "      <th>own</th>\n",
       "      <th>plant_name_x</th>\n",
       "      <th>fuel_type</th>\n",
       "      <th>capacity_mw</th>\n",
       "      <th>net_generation_gwh</th>\n",
       "      <th>usage</th>\n",
       "      <th>match_name_plants</th>\n",
       "      <th>plant_name_y</th>\n",
       "      <th>costs_name</th>\n",
       "      <th>2021_units</th>\n",
       "      <th>2021_amount</th>\n",
       "      <th>2021_cost_per_unit</th>\n",
       "    </tr>\n",
       "  </thead>\n",
       "  <tbody>\n",
       "    <tr>\n",
       "      <th>0</th>\n",
       "      <td>Public</td>\n",
       "      <td>Ghorasal Repowered CCPP Unit-3</td>\n",
       "      <td>Gas</td>\n",
       "      <td>260.0</td>\n",
       "      <td>47.1487</td>\n",
       "      <td>0.023</td>\n",
       "      <td>Ghorasal Repowered CCPP Unit-3</td>\n",
       "      <td>Ghorasal Repowered CCPP Unit-3</td>\n",
       "      <td>Ghorashal Power Station 630MW</td>\n",
       "      <td>1.319311e+09</td>\n",
       "      <td>4.128007e+09</td>\n",
       "      <td>3.13</td>\n",
       "    </tr>\n",
       "    <tr>\n",
       "      <th>1</th>\n",
       "      <td>Public</td>\n",
       "      <td>Ghorasal Repowered CCPP Unit-4</td>\n",
       "      <td>Gas</td>\n",
       "      <td>210.0</td>\n",
       "      <td>280.5226</td>\n",
       "      <td>0.197</td>\n",
       "      <td>Ghorasal Repowered CCPP Unit-4</td>\n",
       "      <td>Ghorasal Repowered CCPP Unit-4</td>\n",
       "      <td>Ghorashal Power Station 630MW</td>\n",
       "      <td>1.319311e+09</td>\n",
       "      <td>4.128007e+09</td>\n",
       "      <td>3.13</td>\n",
       "    </tr>\n",
       "    <tr>\n",
       "      <th>2</th>\n",
       "      <td>Public</td>\n",
       "      <td>Ghorasal TPP Unit-5</td>\n",
       "      <td>Gas</td>\n",
       "      <td>210.0</td>\n",
       "      <td>963.6894</td>\n",
       "      <td>0.620</td>\n",
       "      <td>Ghorasal TPP Unit-5</td>\n",
       "      <td>Ghorasal TPP Unit-5</td>\n",
       "      <td>Ghorashal Power Station 630MW</td>\n",
       "      <td>1.319311e+09</td>\n",
       "      <td>4.128007e+09</td>\n",
       "      <td>3.13</td>\n",
       "    </tr>\n",
       "    <tr>\n",
       "      <th>3</th>\n",
       "      <td>Public</td>\n",
       "      <td>Ghorasal TPP Unit-6</td>\n",
       "      <td>Gas</td>\n",
       "      <td>0.0</td>\n",
       "      <td>-2.2060</td>\n",
       "      <td>NaN</td>\n",
       "      <td>Ghorasal TPP Unit-6</td>\n",
       "      <td>Ghorasal TPP Unit-6</td>\n",
       "      <td>Ghorashal Power Station 630MW</td>\n",
       "      <td>1.319311e+09</td>\n",
       "      <td>4.128007e+09</td>\n",
       "      <td>3.13</td>\n",
       "    </tr>\n",
       "    <tr>\n",
       "      <th>4</th>\n",
       "      <td>Public</td>\n",
       "      <td>Ghorasal 365 MW CCPP Unit-7</td>\n",
       "      <td>Gas</td>\n",
       "      <td>365.0</td>\n",
       "      <td>1315.1245</td>\n",
       "      <td>0.434</td>\n",
       "      <td>Ghorasal 365 MW CCPP Unit-7</td>\n",
       "      <td>Ghorasal 365 MW CCPP Unit-7</td>\n",
       "      <td>Ghorashal Power Station 365MW</td>\n",
       "      <td>1.315124e+09</td>\n",
       "      <td>4.406810e+09</td>\n",
       "      <td>3.35</td>\n",
       "    </tr>\n",
       "  </tbody>\n",
       "</table>\n",
       "</div>"
      ],
      "text/plain": [
       "      own                     plant_name_x fuel_type  capacity_mw  \\\n",
       "0  Public   Ghorasal Repowered CCPP Unit-3       Gas        260.0   \n",
       "1  Public   Ghorasal Repowered CCPP Unit-4       Gas        210.0   \n",
       "2  Public              Ghorasal TPP Unit-5       Gas        210.0   \n",
       "3  Public              Ghorasal TPP Unit-6       Gas          0.0   \n",
       "4  Public      Ghorasal 365 MW CCPP Unit-7       Gas        365.0   \n",
       "\n",
       "   net_generation_gwh  usage               match_name_plants  \\\n",
       "0             47.1487  0.023  Ghorasal Repowered CCPP Unit-3   \n",
       "1            280.5226  0.197  Ghorasal Repowered CCPP Unit-4   \n",
       "2            963.6894  0.620             Ghorasal TPP Unit-5   \n",
       "3             -2.2060    NaN             Ghorasal TPP Unit-6   \n",
       "4           1315.1245  0.434     Ghorasal 365 MW CCPP Unit-7   \n",
       "\n",
       "                     plant_name_y                     costs_name  \\\n",
       "0  Ghorasal Repowered CCPP Unit-3  Ghorashal Power Station 630MW   \n",
       "1  Ghorasal Repowered CCPP Unit-4  Ghorashal Power Station 630MW   \n",
       "2             Ghorasal TPP Unit-5  Ghorashal Power Station 630MW   \n",
       "3             Ghorasal TPP Unit-6  Ghorashal Power Station 630MW   \n",
       "4     Ghorasal 365 MW CCPP Unit-7  Ghorashal Power Station 365MW   \n",
       "\n",
       "     2021_units   2021_amount  2021_cost_per_unit  \n",
       "0  1.319311e+09  4.128007e+09                3.13  \n",
       "1  1.319311e+09  4.128007e+09                3.13  \n",
       "2  1.319311e+09  4.128007e+09                3.13  \n",
       "3  1.319311e+09  4.128007e+09                3.13  \n",
       "4  1.315124e+09  4.406810e+09                3.35  "
      ]
     },
     "execution_count": 104,
     "metadata": {},
     "output_type": "execute_result"
    }
   ],
   "source": [
    "final_df =  pd.read_csv('research/final_power_plants.csv', index_col=0)\n",
    "costs_df = pd.read_excel('research/2022_bpdb_main_2.xlsx', sheet_name='clean') \n",
    "final_df.head()"
   ]
  },
  {
   "cell_type": "code",
   "execution_count": 105,
   "id": "e6aa0818-1f06-4d2b-a841-0b095bfd54f5",
   "metadata": {
    "tags": []
   },
   "outputs": [
    {
     "data": {
      "text/html": [
       "<div>\n",
       "<style scoped>\n",
       "    .dataframe tbody tr th:only-of-type {\n",
       "        vertical-align: middle;\n",
       "    }\n",
       "\n",
       "    .dataframe tbody tr th {\n",
       "        vertical-align: top;\n",
       "    }\n",
       "\n",
       "    .dataframe thead th {\n",
       "        text-align: right;\n",
       "    }\n",
       "</style>\n",
       "<table border=\"1\" class=\"dataframe\">\n",
       "  <thead>\n",
       "    <tr style=\"text-align: right;\">\n",
       "      <th></th>\n",
       "      <th>plant</th>\n",
       "      <th>net_generation</th>\n",
       "      <th>total_cost</th>\n",
       "      <th>cost_per_unit</th>\n",
       "      <th>Unnamed: 4</th>\n",
       "    </tr>\n",
       "  </thead>\n",
       "  <tbody>\n",
       "    <tr>\n",
       "      <th>0</th>\n",
       "      <td>RPC LTD.Mymensingh (210 MW)</td>\n",
       "      <td>1106935572</td>\n",
       "      <td>4130993792</td>\n",
       "      <td>3.73</td>\n",
       "      <td>IPP</td>\n",
       "    </tr>\n",
       "    <tr>\n",
       "      <th>1</th>\n",
       "      <td>BPDB RPCL PowerGen Ltd.</td>\n",
       "      <td>480557237</td>\n",
       "      <td>9535028277</td>\n",
       "      <td>19.84</td>\n",
       "      <td>IPP</td>\n",
       "    </tr>\n",
       "    <tr>\n",
       "      <th>2</th>\n",
       "      <td>Haripur Power Ltd.</td>\n",
       "      <td>1919174000</td>\n",
       "      <td>3267873587</td>\n",
       "      <td>1.7</td>\n",
       "      <td>IPP</td>\n",
       "    </tr>\n",
       "    <tr>\n",
       "      <th>3</th>\n",
       "      <td>Meghnaghat Power Ltd.</td>\n",
       "      <td>2140792000</td>\n",
       "      <td>5709336569</td>\n",
       "      <td>2.67</td>\n",
       "      <td>IPP</td>\n",
       "    </tr>\n",
       "    <tr>\n",
       "      <th>4</th>\n",
       "      <td>Doreen Power Generation &amp; System Ltd.-Feni</td>\n",
       "      <td>161137638</td>\n",
       "      <td>467524474</td>\n",
       "      <td>2.9</td>\n",
       "      <td>IPP</td>\n",
       "    </tr>\n",
       "  </tbody>\n",
       "</table>\n",
       "</div>"
      ],
      "text/plain": [
       "                                        plant net_generation  total_cost  \\\n",
       "0                 RPC LTD.Mymensingh (210 MW)     1106935572  4130993792   \n",
       "1                     BPDB RPCL PowerGen Ltd.      480557237  9535028277   \n",
       "2                          Haripur Power Ltd.     1919174000  3267873587   \n",
       "3                       Meghnaghat Power Ltd.     2140792000  5709336569   \n",
       "4  Doreen Power Generation & System Ltd.-Feni      161137638   467524474   \n",
       "\n",
       "  cost_per_unit Unnamed: 4  \n",
       "0          3.73        IPP  \n",
       "1         19.84        IPP  \n",
       "2           1.7        IPP  \n",
       "3          2.67        IPP  \n",
       "4           2.9        IPP  "
      ]
     },
     "execution_count": 105,
     "metadata": {},
     "output_type": "execute_result"
    }
   ],
   "source": [
    "costs_df.head()"
   ]
  },
  {
   "cell_type": "markdown",
   "id": "7d8e52b7-e865-44dc-bbe8-a21f6f3295a5",
   "metadata": {
    "tags": []
   },
   "source": [
    "## Costs df merging public and rest"
   ]
  },
  {
   "cell_type": "code",
   "execution_count": 43,
   "id": "f9fab9af-f1bd-448a-be70-bd7d000b7554",
   "metadata": {
    "tags": []
   },
   "outputs": [
    {
     "name": "stderr",
     "output_type": "stream",
     "text": [
      "/tmp/ipykernel_9605/972402161.py:3: SettingWithCopyWarning: \n",
      "A value is trying to be set on a copy of a slice from a DataFrame.\n",
      "Try using .loc[row_indexer,col_indexer] = value instead\n",
      "\n",
      "See the caveats in the documentation: https://pandas.pydata.org/pandas-docs/stable/user_guide/indexing.html#returning-a-view-versus-a-copy\n",
      "  costs_public['Own'] = \"public\"\n"
     ]
    }
   ],
   "source": [
    "public = pd.read_excel('research/2022_bpdb_main_2.xlsx', sheet_name='public') \n",
    "costs_public = public[['plant', 'net_generation', 'total_cost', 'cost_per_unit']]\n",
    "costs_public['Own'] = \"public\"\n",
    "costs_df.rename(columns={'Unnamed: 4':'Own'}, inplace=True)\n",
    "cdf = costs_public\n",
    "costs_public_2 = cdf.loc[[i for i in cdf.index if \"Total\" not in cdf.plant.iloc[i][:10]]]"
   ]
  },
  {
   "cell_type": "code",
   "execution_count": 48,
   "id": "965854c6-e8a0-4e55-a2d8-3acb7f125224",
   "metadata": {
    "tags": []
   },
   "outputs": [
    {
     "data": {
      "text/plain": [
       "168"
      ]
     },
     "execution_count": 48,
     "metadata": {},
     "output_type": "execute_result"
    }
   ],
   "source": [
    "len(costs_df)+len(costs_public_2)"
   ]
  },
  {
   "cell_type": "code",
   "execution_count": 50,
   "id": "a35d53db-50d3-45c8-8d8a-bc83320c2803",
   "metadata": {
    "tags": []
   },
   "outputs": [
    {
     "data": {
      "text/plain": [
       "168"
      ]
     },
     "execution_count": 50,
     "metadata": {},
     "output_type": "execute_result"
    }
   ],
   "source": [
    "len(cdf)"
   ]
  },
  {
   "cell_type": "code",
   "execution_count": 49,
   "id": "f27ae319-9bd0-43af-9b53-be20e8c17e1a",
   "metadata": {
    "tags": []
   },
   "outputs": [
    {
     "name": "stderr",
     "output_type": "stream",
     "text": [
      "/tmp/ipykernel_9605/444190469.py:1: FutureWarning: The frame.append method is deprecated and will be removed from pandas in a future version. Use pandas.concat instead.\n",
      "  cdf = costs_df.append(costs_public_2)\n"
     ]
    },
    {
     "data": {
      "text/plain": [
       "166"
      ]
     },
     "execution_count": 49,
     "metadata": {},
     "output_type": "execute_result"
    }
   ],
   "source": [
    "cdf = costs_df.append(costs_public_2)\n",
    "len(cdf.plant.unique())"
   ]
  },
  {
   "cell_type": "code",
   "execution_count": 51,
   "id": "f613e630-f5a1-4bab-8545-3c24eae5c636",
   "metadata": {
    "tags": []
   },
   "outputs": [
    {
     "data": {
      "text/plain": [
       "152"
      ]
     },
     "execution_count": 51,
     "metadata": {},
     "output_type": "execute_result"
    }
   ],
   "source": [
    "len(final_df)"
   ]
  },
  {
   "cell_type": "code",
   "execution_count": 52,
   "id": "d8c62862-84bb-404b-8d84-e82151974c93",
   "metadata": {
    "tags": []
   },
   "outputs": [
    {
     "data": {
      "text/plain": [
       "Index(['plant', 'net_generation', 'total_cost', 'cost_per_unit', 'Own'], dtype='object')"
      ]
     },
     "execution_count": 52,
     "metadata": {},
     "output_type": "execute_result"
    }
   ],
   "source": [
    "cdf.columns"
   ]
  },
  {
   "cell_type": "code",
   "execution_count": 96,
   "id": "51d8c084-0914-4908-a5f2-eb6dbef909cf",
   "metadata": {
    "tags": []
   },
   "outputs": [
    {
     "data": {
      "text/plain": [
       "18.11"
      ]
     },
     "execution_count": 96,
     "metadata": {},
     "output_type": "execute_result"
    }
   ],
   "source": [
    "cdf.iloc[15]['cost_per_unit']"
   ]
  },
  {
   "cell_type": "code",
   "execution_count": 112,
   "id": "006cca95-11b8-47e9-93e0-2a507279822f",
   "metadata": {
    "collapsed": true,
    "jupyter": {
     "outputs_hidden": true
    },
    "tags": []
   },
   "outputs": [
    {
     "name": "stdout",
     "output_type": "stream",
     "text": [
      "MATCH TONGI POWER STATION 136\n",
      "nan\n",
      "MATCH RPCL 52MW GAZIPUR 15\n",
      "18.11\n",
      "MATCH BPDB RPCL POWERGEN LTD. 1\n",
      "19.84\n",
      "MATCH KARNAFULI HYDRO POWER STATION 119\n",
      "2.7\n",
      "MATCH HATHAZARI PEACKING POWER PLANT 150\n",
      "31.67\n",
      "MATCH DOHAZARI PEACKING POWER PLANT 151\n",
      "19Jl4\n",
      "MATCH RPCL 25MW RAWJAN 16\n",
      "18.67\n",
      "MATCH APSCL (EXCEPT NEW 573 MW) 73\n",
      "7.24\n",
      "MATCH APSCL (EXCEPT NEW 573 MW) 73\n",
      "7.24\n",
      "MATCH APSCL (EXCEPT NEW 573 MW) 73\n",
      "7.24\n",
      "MATCH APSCL (NEW 50 MW) 74\n",
      "2.14\n",
      "MATCH APSCL (225 MW) 75\n",
      "3.32\n",
      "MATCH APSCL (450 MW) SOUTH 76\n",
      "3.76\n",
      "MATCH APSCL (450 MW) NORTH 77\n",
      "2.95\n",
      "MATCH CHADPUR CC POWER PLANT 138\n",
      "223\n",
      "MATCH KUMERGOAN GT POWER SYLHET 132\n",
      "3.6\n",
      "MATCH SYLHET 225 MW PEAKING POWER PLANT 133\n",
      "213\n",
      "MATCH BIBIYANA - SOUTH 143\n",
      "JBS\n",
      "MATCH NORTH WEST POWER GEN (NWPGCL)- KHULNA 85\n",
      "25.47\n",
      "MATCH NORTH WEST POWER GEN (NWPGCL)- BHERAMARA 86\n",
      "3.53\n",
      "MATCH FARIDPUR PEACKING POWER PLANT 152\n",
      "20.93\n",
      "MATCH GOPALGONJ PEAKING POWER PLANT 153\n",
      "51.49\n",
      "MATCH NORTH WEST POWER GEN (NWPGCL)- MADHUMATI 87\n",
      "28.45\n",
      "MATCH NORTH WEST POWER GEN (NWPGCL)- SIRAJGONJ 82\n",
      "9.56\n",
      "MATCH BERA PEACKING POWER PLANT 149\n",
      "2259\n",
      "MATCH SHANTAHAR 50MW POWER PLANT 155\n",
      "19.57\n",
      "MATCH KATAKHALI 50MW POWER PLANT 156\n",
      "1934\n",
      "MATCH NORTH WEST POWER GEN (NWPGCL)- SIRAJGONJ (UNIT - 2) 83\n",
      "7.46\n",
      "MATCH NORTH WEST POWER GEN (NWPGCL)- SIRAJGONJ (UNIT - 3) 84\n",
      "3.89\n",
      "MATCH MIDLAND POWER COMPANY LTD. 9\n",
      "2.75\n",
      "MATCH HARIPUR POWER LTD. 2\n",
      "1.7\n",
      "MATCH MEGHNAGHAT POWER LTD. 3\n",
      "2.67\n",
      "MATCH REGENT ENERGY & POWER LTD. 13\n",
      "4.08\n",
      "MATCH SUMMIT BIBIYANA II POWER COMPANY LTD. 22\n",
      "2.6\n",
      "MATCH KUSHIARA POWER COMPANY LTD. 30\n",
      "3.07\n",
      "MATCH SUMMIT MEGHNAGHAT POWER LTD. 8\n",
      "4.22\n",
      "MATCH RAJ LANKA POWER LIMITED 10\n",
      "15.58\n",
      "MATCH DIGITAL POWER & ASSOCIATES LTD. 12\n",
      "16.96\n",
      "MATCH BARAKA PATENGA POWER LIMITED 11\n",
      "15.55\n",
      "MATCH LAKDHANVI BANGLA POWER LTD. 17\n",
      "16.83\n",
      "MATCH SINHA PEOPLE ENERGY LTD. 19\n",
      "19.58\n",
      "MATCH SUMMIT BARISHAL POWER LTD. 23\n",
      "36.85\n",
      "MATCH SUMMIT NARAYANGONJ POWER UNIT II LTD. 24\n",
      "17.29\n",
      "MATCH DOREEN NORTHERN POWER LIMITED 26\n",
      "16.48\n",
      "MATCH DOREEN SOUTHERN POWER LIMITED 25\n",
      "16.2\n",
      "MATCH POWER PAC MOTIARA - JAMALPUR 27\n",
      "22.02\n",
      "MATCH M/S BANCO ENERGY GENERATION LTD. 31\n",
      "15.83\n",
      "MATCH DESH ENERGY CHANDPUR POWER COMPANY LTD. 42\n",
      "17.2\n",
      "MATCH MIDLAND EAST POWER COMPANY LTD. 43\n",
      "15.49\n",
      "MATCH UNITED JAMALPUR 200MW 48\n",
      "17.25\n",
      "MATCH UNITED - ANAWARA (300MW) 51\n",
      "16.66\n",
      "MATCH KARNAPHULI POWER LTD. 53\n",
      "15.47\n",
      "MATCH LANKA POWER LIMITED - FENI 54\n",
      "17.37\n",
      "MATCH HF POWER COMPANY LIMITED 55\n",
      "15.41\n",
      "MATCH MANIKGONJ POWER GENERATIONS LIMITED (162MW) 57\n",
      "15.81\n",
      "MATCH ORION POWER SONARGAON LTD. 66\n",
      "13.19\n",
      "MATCH ANLIMA ENERGY LIMITED (116MW) 59\n",
      "15.18\n",
      "MATCH UNITED PAYRA (150MW) 60\n",
      "32.53\n",
      "MATCH BANGLA TRACK POWER COMPANY LTD. 32\n",
      "42.33\n",
      "MATCH ENGREEN SOLAR 29\n",
      "16.42\n",
      "MATCH SYMPA SOLAR POWER LIMITED 49\n",
      "11.26\n",
      "MATCH SPECTRA SOLAR PARK 61\n",
      "11.96\n",
      "MATCH GBB POWER LTD. 118\n",
      "4.09\n",
      "MATCH ENERGYPRIMA, BOGRA 102\n",
      "-\n",
      "MATCH MAX POWER LTD.-GHORASAL 106\n",
      "-\n",
      "MATCH DOREEN POWER GENERATION & SYSTEM LTD.-FENI 4\n",
      "2.9\n",
      "MATCH SUMMIT PURBACHAL POWER LTD.-JANGALIA 7\n",
      "4.06\n",
      "MATCH PRECISION ENERGY LTD. 110\n",
      "4.55\n",
      "MATCH DESH CAMBRIDGE, KUMERGOAN 100\n",
      "3.62\n",
      "MATCH BARKATULLAH ELECTRO DYNAMICS LTD. 97\n",
      "nan\n",
      "MATCH ENERGYPRIMA, FENCHUGONJ 101\n",
      "3.03\n",
      "MATCH SHAHJANULLAH POWER GENERATION CO. LTD. 28\n",
      "3.45\n",
      "MATCH AGGREKO INTERNATIONAL LTD.-BHOLA (95 MW) 117\n",
      "12,82\n",
      "MATCH KPCL -UNIT-2 107\n",
      "19.91\n",
      "MATCH SUMMIT NARAYANGONJ POWER LTD. 105\n",
      "19.21\n",
      "MATCH IELCONSOURTIUM & ASSOCIATES 109\n",
      "-\n",
      "MATCH AMNURA(SINHA POWER GENERATION) 114\n",
      "13.15\n",
      "MATCH POWER PAC MUTIARA KERANIGONJ 115\n",
      "27.37\n",
      "MATCH ACRON INFRASTRUCTURE SERVICE LTD. 113\n",
      "18.44\n",
      "MATCH NORTHERN POWER 26\n",
      "16.48\n",
      "MATCH POWER GRID CORPORATION OF INDIA - 250MW 93\n",
      "-\n"
     ]
    }
   ],
   "source": [
    "# manual\n",
    "pdf = final_df\n",
    "pdf['2022_units'] = None\n",
    "pdf['2022_amount'] = None\n",
    "pdf['2022_cost_per_unit'] = None\n",
    "matches=[]\n",
    "nomatch = []\n",
    "for i in pdf.index:\n",
    "        cname = pdf.loc[i, \"costs_name\"].strip().upper()\n",
    "        try:\n",
    "            src = cdf.plant.str.upper().str.find(cname)\n",
    "            srci = src.loc[src>-1].index[0]\n",
    "            crow = cdf.iloc[srci]\n",
    "            matches.append(srci)\n",
    "            print('MATCH', cname, srci)\n",
    "            print(crow['cost_per_unit'])\n",
    "            pdf.loc[i, '2022_units'] = crow['net_generation']\n",
    "            pdf.loc[i, '2022_amount'] = crow['total_cost']\n",
    "            pdf.loc[i, '2022_cost_per_unit'] = crow['cost_per_unit']\n",
    "        except:\n",
    "            #print('could not match', cname)\n",
    "            nomatch.append(cname)\n",
    "            pass"
   ]
  },
  {
   "cell_type": "code",
   "execution_count": 107,
   "id": "d5e4569a-3402-43e5-a544-8aa9a28bc1ef",
   "metadata": {
    "tags": []
   },
   "outputs": [
    {
     "data": {
      "text/plain": [
       "71"
      ]
     },
     "execution_count": 107,
     "metadata": {},
     "output_type": "execute_result"
    }
   ],
   "source": [
    "len(nomatch)"
   ]
  },
  {
   "cell_type": "code",
   "execution_count": 86,
   "id": "7a7043e2-f4f8-4b6e-aaad-5b524f7f1f84",
   "metadata": {
    "tags": []
   },
   "outputs": [],
   "source": [
    "cdf.reset_index(inplace=True)"
   ]
  },
  {
   "cell_type": "code",
   "execution_count": 110,
   "id": "b180728a-af84-4922-8654-3390b41c5a85",
   "metadata": {
    "tags": []
   },
   "outputs": [
    {
     "data": {
      "text/html": [
       "<div>\n",
       "<style scoped>\n",
       "    .dataframe tbody tr th:only-of-type {\n",
       "        vertical-align: middle;\n",
       "    }\n",
       "\n",
       "    .dataframe tbody tr th {\n",
       "        vertical-align: top;\n",
       "    }\n",
       "\n",
       "    .dataframe thead th {\n",
       "        text-align: right;\n",
       "    }\n",
       "</style>\n",
       "<table border=\"1\" class=\"dataframe\">\n",
       "  <thead>\n",
       "    <tr style=\"text-align: right;\">\n",
       "      <th></th>\n",
       "      <th>own</th>\n",
       "      <th>plant_name_x</th>\n",
       "      <th>fuel_type</th>\n",
       "      <th>capacity_mw</th>\n",
       "      <th>net_generation_gwh</th>\n",
       "      <th>usage</th>\n",
       "      <th>match_name_plants</th>\n",
       "      <th>plant_name_y</th>\n",
       "      <th>costs_name</th>\n",
       "      <th>2021_units</th>\n",
       "      <th>2021_amount</th>\n",
       "      <th>2021_cost_per_unit</th>\n",
       "      <th>2022_units</th>\n",
       "      <th>2022_amount</th>\n",
       "      <th>2022_cost_per_unit</th>\n",
       "    </tr>\n",
       "  </thead>\n",
       "  <tbody>\n",
       "    <tr>\n",
       "      <th>5</th>\n",
       "      <td>Public</td>\n",
       "      <td>Tongi 80 MW GTPP</td>\n",
       "      <td>Gas</td>\n",
       "      <td>105.0</td>\n",
       "      <td>-0.2004</td>\n",
       "      <td>NaN</td>\n",
       "      <td>Tongi 80 MW GTPP</td>\n",
       "      <td>Tongi 80 MW GTPP</td>\n",
       "      <td>Tongi Power Station</td>\n",
       "      <td>-200350.0</td>\n",
       "      <td>2.320397e+08</td>\n",
       "      <td>NaN</td>\n",
       "      <td>-74765</td>\n",
       "      <td>l')(l026,ll6</td>\n",
       "      <td>NaN</td>\n",
       "    </tr>\n",
       "    <tr>\n",
       "      <th>10</th>\n",
       "      <td>Public</td>\n",
       "      <td>Gazipur 52 MW PP</td>\n",
       "      <td>F.Oil</td>\n",
       "      <td>52.0</td>\n",
       "      <td>112.6812</td>\n",
       "      <td>0.255</td>\n",
       "      <td>Gazipur 52 MW PP</td>\n",
       "      <td>Gazipur 52 MW PP</td>\n",
       "      <td>RPCL 52MW Gazipur</td>\n",
       "      <td>112666731.0</td>\n",
       "      <td>1.794319e+09</td>\n",
       "      <td>15.93</td>\n",
       "      <td>209417122</td>\n",
       "      <td>3793092964</td>\n",
       "      <td>18.11</td>\n",
       "    </tr>\n",
       "    <tr>\n",
       "      <th>11</th>\n",
       "      <td>Public</td>\n",
       "      <td>Kodda 150 MW PP</td>\n",
       "      <td>F.Oil</td>\n",
       "      <td>149.0</td>\n",
       "      <td>387.4975</td>\n",
       "      <td>0.308</td>\n",
       "      <td>Kodda 150 MW PP</td>\n",
       "      <td>Kodda 150 MW PP</td>\n",
       "      <td>BPDB RPCL PowerGen Ltd.</td>\n",
       "      <td>387788703.0</td>\n",
       "      <td>5.857190e+09</td>\n",
       "      <td>15.10</td>\n",
       "      <td>480557237</td>\n",
       "      <td>9535028277</td>\n",
       "      <td>19.84</td>\n",
       "    </tr>\n",
       "    <tr>\n",
       "      <th>14</th>\n",
       "      <td>Public</td>\n",
       "      <td>Karnafuli Hydro</td>\n",
       "      <td>Hydro</td>\n",
       "      <td>230.0</td>\n",
       "      <td>654.9908</td>\n",
       "      <td>0.326</td>\n",
       "      <td>Karnafuli Hydro</td>\n",
       "      <td>Karnafuli Hydro</td>\n",
       "      <td>Karnafuli Hydro Power Station</td>\n",
       "      <td>654990772.0</td>\n",
       "      <td>1.964678e+09</td>\n",
       "      <td>3.00</td>\n",
       "      <td>743538106</td>\n",
       "      <td>2,00l\\941,837</td>\n",
       "      <td>2.7</td>\n",
       "    </tr>\n",
       "    <tr>\n",
       "      <th>18</th>\n",
       "      <td>Public</td>\n",
       "      <td>Hathazari 100 MW Peaking PP</td>\n",
       "      <td>F.Oil</td>\n",
       "      <td>98.0</td>\n",
       "      <td>-0.8567</td>\n",
       "      <td>0.001</td>\n",
       "      <td>Hathazari 100 MW Peaking PP</td>\n",
       "      <td>Hathazari 100 MW Peaking PP</td>\n",
       "      <td>Hathazari Peacking Power Plant</td>\n",
       "      <td>-856680.0</td>\n",
       "      <td>3.570323e+08</td>\n",
       "      <td>NaN</td>\n",
       "      <td>28044085</td>\n",
       "      <td>m,l74 '116</td>\n",
       "      <td>31.67</td>\n",
       "    </tr>\n",
       "    <tr>\n",
       "      <th>...</th>\n",
       "      <td>...</td>\n",
       "      <td>...</td>\n",
       "      <td>...</td>\n",
       "      <td>...</td>\n",
       "      <td>...</td>\n",
       "      <td>...</td>\n",
       "      <td>...</td>\n",
       "      <td>...</td>\n",
       "      <td>...</td>\n",
       "      <td>...</td>\n",
       "      <td>...</td>\n",
       "      <td>...</td>\n",
       "      <td>...</td>\n",
       "      <td>...</td>\n",
       "      <td>...</td>\n",
       "    </tr>\n",
       "    <tr>\n",
       "      <th>149</th>\n",
       "      <td>RENTAL &amp; SIPP</td>\n",
       "      <td>Amnura 50MW Sinha Power</td>\n",
       "      <td>F.oil</td>\n",
       "      <td>50.0</td>\n",
       "      <td>34.3120</td>\n",
       "      <td>0.080</td>\n",
       "      <td>Amnura 50MW Sinha Power</td>\n",
       "      <td>Amnura 50MW Sinha Power</td>\n",
       "      <td>AMNURA(SINHA POWER GENERATION)</td>\n",
       "      <td>16256328.0</td>\n",
       "      <td>1.082121e+08</td>\n",
       "      <td>6.66</td>\n",
       "      <td>20839351</td>\n",
       "      <td>274117988</td>\n",
       "      <td>13.15</td>\n",
       "    </tr>\n",
       "    <tr>\n",
       "      <th>150</th>\n",
       "      <td>RENTAL &amp; SIPP</td>\n",
       "      <td>Power Pac Mutiara,Keranigonj,100MW</td>\n",
       "      <td>F.oil</td>\n",
       "      <td>100.0</td>\n",
       "      <td>217.8660</td>\n",
       "      <td>0.250</td>\n",
       "      <td>Power Pac Mutiara,Keranigonj,100MW</td>\n",
       "      <td>Power Pac Mutiara,Keranigonj,100MW</td>\n",
       "      <td>POWER PAC MUTIARA KERANIGONJ</td>\n",
       "      <td>217866024.0</td>\n",
       "      <td>1.792998e+09</td>\n",
       "      <td>8.23</td>\n",
       "      <td>91903200</td>\n",
       "      <td>2515217918</td>\n",
       "      <td>27.37</td>\n",
       "    </tr>\n",
       "    <tr>\n",
       "      <th>151</th>\n",
       "      <td>RENTAL &amp; SIPP</td>\n",
       "      <td>Julda Acorn Infra.service Ltd.100MW</td>\n",
       "      <td>F.oil</td>\n",
       "      <td>100.0</td>\n",
       "      <td>189.9422</td>\n",
       "      <td>0.220</td>\n",
       "      <td>Julda Acorn Infra.service Ltd.100MW</td>\n",
       "      <td>Julda Acorn Infra.service Ltd.100MW</td>\n",
       "      <td>ACRON INFRASTRUCTURE SERVICE LTD.</td>\n",
       "      <td>189942210.0</td>\n",
       "      <td>3.132865e+09</td>\n",
       "      <td>16.49</td>\n",
       "      <td>222839580</td>\n",
       "      <td>4110168523</td>\n",
       "      <td>18.44</td>\n",
       "    </tr>\n",
       "    <tr>\n",
       "      <th>152</th>\n",
       "      <td>RENTAL &amp; SIPP</td>\n",
       "      <td>Katakhali (Northern) Peaking</td>\n",
       "      <td>F.oil</td>\n",
       "      <td>50.0</td>\n",
       "      <td>21.6708</td>\n",
       "      <td>0.050</td>\n",
       "      <td>Katakhali (Northern) Peaking</td>\n",
       "      <td>Katakhali (Northern) Peaking</td>\n",
       "      <td>NORTHERN POWER</td>\n",
       "      <td>21344414.0</td>\n",
       "      <td>2.241151e+08</td>\n",
       "      <td>10.50</td>\n",
       "      <td>297602757</td>\n",
       "      <td>4903100529</td>\n",
       "      <td>16.48</td>\n",
       "    </tr>\n",
       "    <tr>\n",
       "      <th>153</th>\n",
       "      <td>IMPORT</td>\n",
       "      <td>Power Import (Bheramara-Bharampur Phase-1)</td>\n",
       "      <td>Import</td>\n",
       "      <td>500.0</td>\n",
       "      <td>1730.7260</td>\n",
       "      <td>NaN</td>\n",
       "      <td>Power Import (Bheramara-Bharampur Phase-1)</td>\n",
       "      <td>Power Import (Bheramara-Bharampur Phase-1)</td>\n",
       "      <td>Power Grid Corporation of India - 250MW</td>\n",
       "      <td>NaN</td>\n",
       "      <td>9.936165e+08</td>\n",
       "      <td>7.21</td>\n",
       "      <td>-</td>\n",
       "      <td>886126987</td>\n",
       "      <td>-</td>\n",
       "    </tr>\n",
       "  </tbody>\n",
       "</table>\n",
       "<p>79 rows × 15 columns</p>\n",
       "</div>"
      ],
      "text/plain": [
       "               own                                plant_name_x fuel_type  \\\n",
       "5           Public                            Tongi 80 MW GTPP       Gas   \n",
       "10          Public                            Gazipur 52 MW PP     F.Oil   \n",
       "11          Public                             Kodda 150 MW PP     F.Oil   \n",
       "14          Public                             Karnafuli Hydro     Hydro   \n",
       "18          Public                 Hathazari 100 MW Peaking PP     F.Oil   \n",
       "..             ...                                         ...       ...   \n",
       "149  RENTAL & SIPP                     Amnura 50MW Sinha Power     F.oil   \n",
       "150  RENTAL & SIPP          Power Pac Mutiara,Keranigonj,100MW     F.oil   \n",
       "151  RENTAL & SIPP         Julda Acorn Infra.service Ltd.100MW     F.oil   \n",
       "152  RENTAL & SIPP                Katakhali (Northern) Peaking     F.oil   \n",
       "153         IMPORT  Power Import (Bheramara-Bharampur Phase-1)    Import   \n",
       "\n",
       "     capacity_mw  net_generation_gwh  usage  \\\n",
       "5          105.0             -0.2004    NaN   \n",
       "10          52.0            112.6812  0.255   \n",
       "11         149.0            387.4975  0.308   \n",
       "14         230.0            654.9908  0.326   \n",
       "18          98.0             -0.8567  0.001   \n",
       "..           ...                 ...    ...   \n",
       "149         50.0             34.3120  0.080   \n",
       "150        100.0            217.8660  0.250   \n",
       "151        100.0            189.9422  0.220   \n",
       "152         50.0             21.6708  0.050   \n",
       "153        500.0           1730.7260    NaN   \n",
       "\n",
       "                              match_name_plants  \\\n",
       "5                              Tongi 80 MW GTPP   \n",
       "10                             Gazipur 52 MW PP   \n",
       "11                              Kodda 150 MW PP   \n",
       "14                              Karnafuli Hydro   \n",
       "18                  Hathazari 100 MW Peaking PP   \n",
       "..                                          ...   \n",
       "149                     Amnura 50MW Sinha Power   \n",
       "150          Power Pac Mutiara,Keranigonj,100MW   \n",
       "151         Julda Acorn Infra.service Ltd.100MW   \n",
       "152                Katakhali (Northern) Peaking   \n",
       "153  Power Import (Bheramara-Bharampur Phase-1)   \n",
       "\n",
       "                                   plant_name_y  \\\n",
       "5                              Tongi 80 MW GTPP   \n",
       "10                             Gazipur 52 MW PP   \n",
       "11                              Kodda 150 MW PP   \n",
       "14                              Karnafuli Hydro   \n",
       "18                  Hathazari 100 MW Peaking PP   \n",
       "..                                          ...   \n",
       "149                     Amnura 50MW Sinha Power   \n",
       "150          Power Pac Mutiara,Keranigonj,100MW   \n",
       "151         Julda Acorn Infra.service Ltd.100MW   \n",
       "152                Katakhali (Northern) Peaking   \n",
       "153  Power Import (Bheramara-Bharampur Phase-1)   \n",
       "\n",
       "                                  costs_name   2021_units   2021_amount  \\\n",
       "5                        Tongi Power Station    -200350.0  2.320397e+08   \n",
       "10                         RPCL 52MW Gazipur  112666731.0  1.794319e+09   \n",
       "11                   BPDB RPCL PowerGen Ltd.  387788703.0  5.857190e+09   \n",
       "14             Karnafuli Hydro Power Station  654990772.0  1.964678e+09   \n",
       "18            Hathazari Peacking Power Plant    -856680.0  3.570323e+08   \n",
       "..                                       ...          ...           ...   \n",
       "149           AMNURA(SINHA POWER GENERATION)   16256328.0  1.082121e+08   \n",
       "150             POWER PAC MUTIARA KERANIGONJ  217866024.0  1.792998e+09   \n",
       "151        ACRON INFRASTRUCTURE SERVICE LTD.  189942210.0  3.132865e+09   \n",
       "152                           NORTHERN POWER   21344414.0  2.241151e+08   \n",
       "153  Power Grid Corporation of India - 250MW          NaN  9.936165e+08   \n",
       "\n",
       "     2021_cost_per_unit 2022_units    2022_amount 2022_cost_per_unit  \n",
       "5                   NaN     -74765   l')(l026,ll6                NaN  \n",
       "10                15.93  209417122     3793092964              18.11  \n",
       "11                15.10  480557237     9535028277              19.84  \n",
       "14                 3.00  743538106  2,00l\\941,837                2.7  \n",
       "18                  NaN   28044085     m,l74 '116              31.67  \n",
       "..                  ...        ...            ...                ...  \n",
       "149                6.66   20839351      274117988              13.15  \n",
       "150                8.23   91903200     2515217918              27.37  \n",
       "151               16.49  222839580     4110168523              18.44  \n",
       "152               10.50  297602757     4903100529              16.48  \n",
       "153                7.21          -      886126987                  -  \n",
       "\n",
       "[79 rows x 15 columns]"
      ]
     },
     "execution_count": 110,
     "metadata": {},
     "output_type": "execute_result"
    }
   ],
   "source": [
    "pdf.loc[pdf['2022_amount'].dropna().index]"
   ]
  },
  {
   "cell_type": "code",
   "execution_count": 116,
   "id": "f0f7fd45-40ba-49d8-ad22-8c846361965b",
   "metadata": {
    "tags": []
   },
   "outputs": [],
   "source": [
    "unmatched_costs = cdf.loc[[i for i in cdf.index if i not in matches]]\n",
    "unmatched_pdf = pdf.loc[pdf['2022_amount'].isna()]"
   ]
  },
  {
   "cell_type": "code",
   "execution_count": 119,
   "id": "b9eeb074-2db7-4495-a5a4-145dbadd3fba",
   "metadata": {
    "tags": []
   },
   "outputs": [],
   "source": [
    "unmatched_pdf.to_csv('unmatched_pdf.csv')\n",
    "unmatched_costs.to_csv('unmatched_costs.csv')\n",
    "pdf.loc[pdf['2022_amount'].dropna().index].to_csv('matched_pdf.csv')"
   ]
  },
  {
   "cell_type": "markdown",
   "id": "a42e5041-f521-4476-ada8-e24bd3a51db7",
   "metadata": {},
   "source": [
    "# New point"
   ]
  },
  {
   "cell_type": "code",
   "execution_count": 3,
   "id": "b13cb74d-84c0-4abc-bd97-ff4f5b0ea225",
   "metadata": {
    "tags": []
   },
   "outputs": [],
   "source": [
    "unmatched_pdf = pd.read_csv('unmatched_pdf.csv', index_col=0)\n",
    "unmatched_costs = pd.read_csv('unmatched_costs.csv', index_col=0)"
   ]
  },
  {
   "cell_type": "code",
   "execution_count": 7,
   "id": "3c44c193-8a80-468d-b5e8-ad0b661dc270",
   "metadata": {
    "tags": []
   },
   "outputs": [
    {
     "data": {
      "text/html": [
       "<div>\n",
       "<style scoped>\n",
       "    .dataframe tbody tr th:only-of-type {\n",
       "        vertical-align: middle;\n",
       "    }\n",
       "\n",
       "    .dataframe tbody tr th {\n",
       "        vertical-align: top;\n",
       "    }\n",
       "\n",
       "    .dataframe thead th {\n",
       "        text-align: right;\n",
       "    }\n",
       "</style>\n",
       "<table border=\"1\" class=\"dataframe\">\n",
       "  <thead>\n",
       "    <tr style=\"text-align: right;\">\n",
       "      <th></th>\n",
       "      <th>own</th>\n",
       "      <th>plant_name_x</th>\n",
       "      <th>fuel_type</th>\n",
       "      <th>capacity_mw</th>\n",
       "      <th>net_generation_gwh</th>\n",
       "      <th>usage</th>\n",
       "      <th>match_name_plants</th>\n",
       "      <th>plant_name_y</th>\n",
       "      <th>costs_name</th>\n",
       "      <th>2021_units</th>\n",
       "      <th>2021_amount</th>\n",
       "      <th>2021_cost_per_unit</th>\n",
       "      <th>2022_units</th>\n",
       "      <th>2022_amount</th>\n",
       "      <th>2022_cost_per_unit</th>\n",
       "    </tr>\n",
       "  </thead>\n",
       "  <tbody>\n",
       "    <tr>\n",
       "      <th>0</th>\n",
       "      <td>Public</td>\n",
       "      <td>Ghorasal Repowered CCPP Unit-3</td>\n",
       "      <td>Gas</td>\n",
       "      <td>260.0</td>\n",
       "      <td>47.1487</td>\n",
       "      <td>0.023</td>\n",
       "      <td>Ghorasal Repowered CCPP Unit-3</td>\n",
       "      <td>Ghorasal Repowered CCPP Unit-3</td>\n",
       "      <td>Ghorashal Power Station 630MW</td>\n",
       "      <td>1.319311e+09</td>\n",
       "      <td>4.128007e+09</td>\n",
       "      <td>3.13</td>\n",
       "      <td>NaN</td>\n",
       "      <td>NaN</td>\n",
       "      <td>NaN</td>\n",
       "    </tr>\n",
       "    <tr>\n",
       "      <th>1</th>\n",
       "      <td>Public</td>\n",
       "      <td>Ghorasal Repowered CCPP Unit-4</td>\n",
       "      <td>Gas</td>\n",
       "      <td>210.0</td>\n",
       "      <td>280.5226</td>\n",
       "      <td>0.197</td>\n",
       "      <td>Ghorasal Repowered CCPP Unit-4</td>\n",
       "      <td>Ghorasal Repowered CCPP Unit-4</td>\n",
       "      <td>Ghorashal Power Station 630MW</td>\n",
       "      <td>1.319311e+09</td>\n",
       "      <td>4.128007e+09</td>\n",
       "      <td>3.13</td>\n",
       "      <td>NaN</td>\n",
       "      <td>NaN</td>\n",
       "      <td>NaN</td>\n",
       "    </tr>\n",
       "  </tbody>\n",
       "</table>\n",
       "</div>"
      ],
      "text/plain": [
       "      own                     plant_name_x fuel_type  capacity_mw  \\\n",
       "0  Public   Ghorasal Repowered CCPP Unit-3       Gas        260.0   \n",
       "1  Public   Ghorasal Repowered CCPP Unit-4       Gas        210.0   \n",
       "\n",
       "   net_generation_gwh  usage               match_name_plants  \\\n",
       "0             47.1487  0.023  Ghorasal Repowered CCPP Unit-3   \n",
       "1            280.5226  0.197  Ghorasal Repowered CCPP Unit-4   \n",
       "\n",
       "                     plant_name_y                     costs_name  \\\n",
       "0  Ghorasal Repowered CCPP Unit-3  Ghorashal Power Station 630MW   \n",
       "1  Ghorasal Repowered CCPP Unit-4  Ghorashal Power Station 630MW   \n",
       "\n",
       "     2021_units   2021_amount  2021_cost_per_unit  2022_units  2022_amount  \\\n",
       "0  1.319311e+09  4.128007e+09                3.13         NaN          NaN   \n",
       "1  1.319311e+09  4.128007e+09                3.13         NaN          NaN   \n",
       "\n",
       "  2022_cost_per_unit  \n",
       "0                NaN  \n",
       "1                NaN  "
      ]
     },
     "execution_count": 7,
     "metadata": {},
     "output_type": "execute_result"
    }
   ],
   "source": [
    "unmatched_pdf.head(2)"
   ]
  },
  {
   "cell_type": "code",
   "execution_count": 6,
   "id": "f5fc5fb4-fa8a-4b6d-aa23-9d19fd1ee5bb",
   "metadata": {
    "tags": []
   },
   "outputs": [
    {
     "data": {
      "text/plain": [
       "Index(['level_0', 'index', 'plant', 'net_generation', 'total_cost',\n",
       "       'cost_per_unit', 'Own', 'match_name_plants'],\n",
       "      dtype='object')"
      ]
     },
     "execution_count": 6,
     "metadata": {},
     "output_type": "execute_result"
    }
   ],
   "source": [
    "unmatched_costs.columns"
   ]
  },
  {
   "cell_type": "code",
   "execution_count": 50,
   "id": "0e83817f-8897-46ec-8b62-ace1bb3fa543",
   "metadata": {
    "tags": []
   },
   "outputs": [],
   "source": [
    "import numpy as np\n",
    "from fuzzywuzzy import fuzz\n",
    "from fuzzywuzzy import process\n",
    "\n",
    "# Let's create a dictionary where the keys are the plant names from the plants_df and the values are the plant names from the costs_df that have the highest match score.\n",
    "def match_columns(ser1, ser2, threshold):\n",
    "    \"\"\"\n",
    "    Finds ser2 matches for unique items in ser1\n",
    "    1:1 matching\n",
    "    \"\"\"\n",
    "    match_dict = {}\n",
    "    for og_txt in list(ser1.unique()):\n",
    "        matches = process.extract(og_txt, ser2.unique(), limit=1, scorer=fuzz.token_sort_ratio)\n",
    "        if matches[0][1] >= threshold:\n",
    "            match_dict[og_txt] = matches[0][0]\n",
    "    return match_dict"
   ]
  },
  {
   "cell_type": "code",
   "execution_count": 22,
   "id": "58d54965-9f57-4398-92ca-a1bd7f5eaad0",
   "metadata": {
    "tags": []
   },
   "outputs": [],
   "source": [
    "def check_new_matches(ser1, ser2, threshold_old, threshold_new):\n",
    "    old = match_columns(ser1, ser2, threshold_old)\n",
    "    new = match_columns(ser1, ser2, threshold_new)\n",
    "    print(len(old.keys())\n",
    "    diff_keys = [k for k in new.keys() if k not in old.keys()]\n",
    "    return {k:new[k] for k in diff_keys}"
   ]
  },
  {
   "cell_type": "code",
   "execution_count": 62,
   "id": "17f3ca5f-a489-4586-95df-4abcad339c36",
   "metadata": {
    "tags": []
   },
   "outputs": [
    {
     "data": {
      "text/plain": [
       "{'Chapainobabgonj Peaking Pp 100 MW Amnura': 'Chapainobabgonj Peaking PP100 MWAmnura'}"
      ]
     },
     "execution_count": 62,
     "metadata": {},
     "output_type": "execute_result"
    }
   ],
   "source": [
    "check_new_matches(unmatched_pdf.costs_name, unmatched_costs.plant, 75, 70)"
   ]
  },
  {
   "cell_type": "code",
   "execution_count": 64,
   "id": "46181f97-4003-44e0-8213-09b913b493bf",
   "metadata": {
    "tags": []
   },
   "outputs": [],
   "source": [
    "extra_matches = {\n",
    "'Chapainobabgonj Peaking Pp 100 MW Amnura':'Chapainobabgonj Peaking PP100 MWAmnura',\n",
    "'VENTURE ENERGY, BHOLA' : 'VENTUREENERGY,BHOLA',\n",
    "'Siddirgonj Power Station': 'Siddirgonj PowerStation',\n",
    "'ECPV Power Ltd.':'ECPVPower Ltd.',\n",
    "'Sbu Haripur (BPDB Book Costs)':'SBU HARIPUR',\n",
    "'Bhola 225 MW CCPP': 'Bhola 225MWCCPP',\n",
    "}\n",
    "normal_matches = match_columns(unmatched_pdf.costs_name, unmatched_costs.plant, 75)\n",
    "match_df = pd.DataFrame.from_dict(extra_matches | normal_matches, orient=\"index\")"
   ]
  },
  {
   "cell_type": "code",
   "execution_count": 66,
   "id": "93c3c4d0-2bff-4a7f-8aa5-75d8bd198297",
   "metadata": {
    "tags": []
   },
   "outputs": [
    {
     "data": {
      "text/plain": [
       "60"
      ]
     },
     "execution_count": 66,
     "metadata": {},
     "output_type": "execute_result"
    }
   ],
   "source": [
    "len(match_df)"
   ]
  },
  {
   "cell_type": "code",
   "execution_count": 70,
   "id": "40eb5fce-06b1-471e-a921-9a4c48e02641",
   "metadata": {
    "tags": []
   },
   "outputs": [],
   "source": [
    "unmatched_pdf[\"costs_name_2022\"] = [match_df.loc[cost_name].values[0] if cost_name in match_df.index else None for cost_name in unmatched_pdf.costs_name.values]\n",
    "# for cost_name in unmatched_pdf.costs_name.values:\n",
    "#     print(cost_name)\n",
    "#     match_df.loc[cost_name].values[0]\n",
    "#"
   ]
  },
  {
   "cell_type": "code",
   "execution_count": 71,
   "id": "857891e0-5130-4929-a3ba-2bdfd561215d",
   "metadata": {
    "tags": []
   },
   "outputs": [
    {
     "data": {
      "text/html": [
       "<div>\n",
       "<style scoped>\n",
       "    .dataframe tbody tr th:only-of-type {\n",
       "        vertical-align: middle;\n",
       "    }\n",
       "\n",
       "    .dataframe tbody tr th {\n",
       "        vertical-align: top;\n",
       "    }\n",
       "\n",
       "    .dataframe thead th {\n",
       "        text-align: right;\n",
       "    }\n",
       "</style>\n",
       "<table border=\"1\" class=\"dataframe\">\n",
       "  <thead>\n",
       "    <tr style=\"text-align: right;\">\n",
       "      <th></th>\n",
       "      <th>own</th>\n",
       "      <th>plant_name_x</th>\n",
       "      <th>fuel_type</th>\n",
       "      <th>capacity_mw</th>\n",
       "      <th>net_generation_gwh</th>\n",
       "      <th>usage</th>\n",
       "      <th>match_name_plants</th>\n",
       "      <th>plant_name_y</th>\n",
       "      <th>costs_name</th>\n",
       "      <th>2021_units</th>\n",
       "      <th>2021_amount</th>\n",
       "      <th>2021_cost_per_unit</th>\n",
       "      <th>2022_units</th>\n",
       "      <th>2022_amount</th>\n",
       "      <th>2022_cost_per_unit</th>\n",
       "      <th>costs_name_2</th>\n",
       "      <th>costs_name_2022</th>\n",
       "    </tr>\n",
       "  </thead>\n",
       "  <tbody>\n",
       "    <tr>\n",
       "      <th>0</th>\n",
       "      <td>Public</td>\n",
       "      <td>Ghorasal Repowered CCPP Unit-3</td>\n",
       "      <td>Gas</td>\n",
       "      <td>260.0</td>\n",
       "      <td>47.1487</td>\n",
       "      <td>0.023</td>\n",
       "      <td>Ghorasal Repowered CCPP Unit-3</td>\n",
       "      <td>Ghorasal Repowered CCPP Unit-3</td>\n",
       "      <td>Ghorashal Power Station 630MW</td>\n",
       "      <td>1.319311e+09</td>\n",
       "      <td>4.128007e+09</td>\n",
       "      <td>3.13</td>\n",
       "      <td>NaN</td>\n",
       "      <td>NaN</td>\n",
       "      <td>NaN</td>\n",
       "      <td>Ghorashal Power Station (Unit 3)</td>\n",
       "      <td>Ghorashal Power Station (Unit 3)</td>\n",
       "    </tr>\n",
       "    <tr>\n",
       "      <th>1</th>\n",
       "      <td>Public</td>\n",
       "      <td>Ghorasal Repowered CCPP Unit-4</td>\n",
       "      <td>Gas</td>\n",
       "      <td>210.0</td>\n",
       "      <td>280.5226</td>\n",
       "      <td>0.197</td>\n",
       "      <td>Ghorasal Repowered CCPP Unit-4</td>\n",
       "      <td>Ghorasal Repowered CCPP Unit-4</td>\n",
       "      <td>Ghorashal Power Station 630MW</td>\n",
       "      <td>1.319311e+09</td>\n",
       "      <td>4.128007e+09</td>\n",
       "      <td>3.13</td>\n",
       "      <td>NaN</td>\n",
       "      <td>NaN</td>\n",
       "      <td>NaN</td>\n",
       "      <td>Ghorashal Power Station (Unit 3)</td>\n",
       "      <td>Ghorashal Power Station (Unit 3)</td>\n",
       "    </tr>\n",
       "    <tr>\n",
       "      <th>2</th>\n",
       "      <td>Public</td>\n",
       "      <td>Ghorasal TPP Unit-5</td>\n",
       "      <td>Gas</td>\n",
       "      <td>210.0</td>\n",
       "      <td>963.6894</td>\n",
       "      <td>0.620</td>\n",
       "      <td>Ghorasal TPP Unit-5</td>\n",
       "      <td>Ghorasal TPP Unit-5</td>\n",
       "      <td>Ghorashal Power Station 630MW</td>\n",
       "      <td>1.319311e+09</td>\n",
       "      <td>4.128007e+09</td>\n",
       "      <td>3.13</td>\n",
       "      <td>NaN</td>\n",
       "      <td>NaN</td>\n",
       "      <td>NaN</td>\n",
       "      <td>Ghorashal Power Station (Unit 3)</td>\n",
       "      <td>Ghorashal Power Station (Unit 3)</td>\n",
       "    </tr>\n",
       "    <tr>\n",
       "      <th>3</th>\n",
       "      <td>Public</td>\n",
       "      <td>Ghorasal TPP Unit-6</td>\n",
       "      <td>Gas</td>\n",
       "      <td>0.0</td>\n",
       "      <td>-2.2060</td>\n",
       "      <td>NaN</td>\n",
       "      <td>Ghorasal TPP Unit-6</td>\n",
       "      <td>Ghorasal TPP Unit-6</td>\n",
       "      <td>Ghorashal Power Station 630MW</td>\n",
       "      <td>1.319311e+09</td>\n",
       "      <td>4.128007e+09</td>\n",
       "      <td>3.13</td>\n",
       "      <td>NaN</td>\n",
       "      <td>NaN</td>\n",
       "      <td>NaN</td>\n",
       "      <td>Ghorashal Power Station (Unit 3)</td>\n",
       "      <td>Ghorashal Power Station (Unit 3)</td>\n",
       "    </tr>\n",
       "    <tr>\n",
       "      <th>4</th>\n",
       "      <td>Public</td>\n",
       "      <td>Ghorasal 365 MW CCPP Unit-7</td>\n",
       "      <td>Gas</td>\n",
       "      <td>365.0</td>\n",
       "      <td>1315.1245</td>\n",
       "      <td>0.434</td>\n",
       "      <td>Ghorasal 365 MW CCPP Unit-7</td>\n",
       "      <td>Ghorasal 365 MW CCPP Unit-7</td>\n",
       "      <td>Ghorashal Power Station 365MW</td>\n",
       "      <td>1.315124e+09</td>\n",
       "      <td>4.406810e+09</td>\n",
       "      <td>3.35</td>\n",
       "      <td>NaN</td>\n",
       "      <td>NaN</td>\n",
       "      <td>NaN</td>\n",
       "      <td>Ghorashal Power Station (Unit 3)</td>\n",
       "      <td>Ghorashal Power Station (Unit 3)</td>\n",
       "    </tr>\n",
       "  </tbody>\n",
       "</table>\n",
       "</div>"
      ],
      "text/plain": [
       "      own                     plant_name_x fuel_type  capacity_mw  \\\n",
       "0  Public   Ghorasal Repowered CCPP Unit-3       Gas        260.0   \n",
       "1  Public   Ghorasal Repowered CCPP Unit-4       Gas        210.0   \n",
       "2  Public              Ghorasal TPP Unit-5       Gas        210.0   \n",
       "3  Public              Ghorasal TPP Unit-6       Gas          0.0   \n",
       "4  Public      Ghorasal 365 MW CCPP Unit-7       Gas        365.0   \n",
       "\n",
       "   net_generation_gwh  usage               match_name_plants  \\\n",
       "0             47.1487  0.023  Ghorasal Repowered CCPP Unit-3   \n",
       "1            280.5226  0.197  Ghorasal Repowered CCPP Unit-4   \n",
       "2            963.6894  0.620             Ghorasal TPP Unit-5   \n",
       "3             -2.2060    NaN             Ghorasal TPP Unit-6   \n",
       "4           1315.1245  0.434     Ghorasal 365 MW CCPP Unit-7   \n",
       "\n",
       "                     plant_name_y                     costs_name  \\\n",
       "0  Ghorasal Repowered CCPP Unit-3  Ghorashal Power Station 630MW   \n",
       "1  Ghorasal Repowered CCPP Unit-4  Ghorashal Power Station 630MW   \n",
       "2             Ghorasal TPP Unit-5  Ghorashal Power Station 630MW   \n",
       "3             Ghorasal TPP Unit-6  Ghorashal Power Station 630MW   \n",
       "4     Ghorasal 365 MW CCPP Unit-7  Ghorashal Power Station 365MW   \n",
       "\n",
       "     2021_units   2021_amount  2021_cost_per_unit  2022_units  2022_amount  \\\n",
       "0  1.319311e+09  4.128007e+09                3.13         NaN          NaN   \n",
       "1  1.319311e+09  4.128007e+09                3.13         NaN          NaN   \n",
       "2  1.319311e+09  4.128007e+09                3.13         NaN          NaN   \n",
       "3  1.319311e+09  4.128007e+09                3.13         NaN          NaN   \n",
       "4  1.315124e+09  4.406810e+09                3.35         NaN          NaN   \n",
       "\n",
       "  2022_cost_per_unit                      costs_name_2  \\\n",
       "0                NaN  Ghorashal Power Station (Unit 3)   \n",
       "1                NaN  Ghorashal Power Station (Unit 3)   \n",
       "2                NaN  Ghorashal Power Station (Unit 3)   \n",
       "3                NaN  Ghorashal Power Station (Unit 3)   \n",
       "4                NaN  Ghorashal Power Station (Unit 3)   \n",
       "\n",
       "                    costs_name_2022  \n",
       "0  Ghorashal Power Station (Unit 3)  \n",
       "1  Ghorashal Power Station (Unit 3)  \n",
       "2  Ghorashal Power Station (Unit 3)  \n",
       "3  Ghorashal Power Station (Unit 3)  \n",
       "4  Ghorashal Power Station (Unit 3)  "
      ]
     },
     "execution_count": 71,
     "metadata": {},
     "output_type": "execute_result"
    }
   ],
   "source": [
    "unmatched_pdf.head()"
   ]
  },
  {
   "cell_type": "code",
   "execution_count": 73,
   "id": "4ee1bec6-5481-4d00-91b3-60f761cc3dc6",
   "metadata": {
    "tags": []
   },
   "outputs": [],
   "source": [
    "left_merged = pd.merge(unmatched_pdf, unmatched_costs, how=\"left\", left_on=\"costs_name_2022\", right_on=\"plant\")"
   ]
  },
  {
   "cell_type": "code",
   "execution_count": 75,
   "id": "59f3ba76-9a74-4d40-b120-cf3ba2356e20",
   "metadata": {
    "tags": []
   },
   "outputs": [
    {
     "data": {
      "text/plain": [
       "Index(['own', 'plant_name_x', 'fuel_type', 'capacity_mw', 'net_generation_gwh',\n",
       "       'usage', 'match_name_plants_x', 'plant_name_y', 'costs_name',\n",
       "       '2021_units', '2021_amount', '2021_cost_per_unit', '2022_units',\n",
       "       '2022_amount', '2022_cost_per_unit', 'costs_name_2', 'costs_name_2022',\n",
       "       'level_0', 'index', 'plant', 'net_generation', 'total_cost',\n",
       "       'cost_per_unit', 'Own', 'match_name_plants_y'],\n",
       "      dtype='object')"
      ]
     },
     "execution_count": 75,
     "metadata": {},
     "output_type": "execute_result"
    }
   ],
   "source": [
    "left_merged.columns"
   ]
  },
  {
   "cell_type": "code",
   "execution_count": 76,
   "id": "837b511a-b594-4e06-a240-6237cdf4dd3f",
   "metadata": {
    "tags": []
   },
   "outputs": [
    {
     "data": {
      "text/plain": [
       "Index(['own', 'plant_name_x', 'fuel_type', 'capacity_mw', 'net_generation_gwh',\n",
       "       'usage', 'match_name_plants', 'plant_name_y', 'costs_name',\n",
       "       '2021_units', '2021_amount', '2021_cost_per_unit', '2022_units',\n",
       "       '2022_amount', '2022_cost_per_unit'],\n",
       "      dtype='object')"
      ]
     },
     "execution_count": 76,
     "metadata": {},
     "output_type": "execute_result"
    }
   ],
   "source": [
    "matched_pdf = pd.read_csv('matched_pdf.csv', index_col=0)\n",
    "matched_pdf.columns"
   ]
  },
  {
   "cell_type": "code",
   "execution_count": 81,
   "id": "c78861ff-589c-4cb9-a908-f52eccf787c1",
   "metadata": {
    "tags": []
   },
   "outputs": [],
   "source": [
    "unmatched_final = left_merged[['own', 'plant_name_x', 'fuel_type', 'capacity_mw', 'net_generation_gwh',\n",
    "       'usage','costs_name',\n",
    "       '2021_units', '2021_amount', '2021_cost_per_unit','costs_name_2022',\n",
    "       'net_generation', 'total_cost','cost_per_unit']]"
   ]
  },
  {
   "cell_type": "code",
   "execution_count": 86,
   "id": "5c93df6d-44ff-424d-87b6-43f29ac71cf1",
   "metadata": {
    "tags": []
   },
   "outputs": [
    {
     "name": "stderr",
     "output_type": "stream",
     "text": [
      "/tmp/ipykernel_27357/273645618.py:3: SettingWithCopyWarning: \n",
      "A value is trying to be set on a copy of a slice from a DataFrame\n",
      "\n",
      "See the caveats in the documentation: https://pandas.pydata.org/pandas-docs/stable/user_guide/indexing.html#returning-a-view-versus-a-copy\n",
      "  unmatched_final.rename(columns={xa:ya for xa,ya in zip(x,y)}, inplace=True)\n"
     ]
    }
   ],
   "source": [
    "x = ['net_generation', 'total_cost','cost_per_unit']\n",
    "y = ['2022_units', '2022_amount', '2022_cost_per_unit']\n",
    "unmatched_final.rename(columns={xa:ya for xa,ya in zip(x,y)}, inplace=True)"
   ]
  },
  {
   "cell_type": "code",
   "execution_count": 91,
   "id": "5c97e276-6129-4219-a62a-f9b85e56aafa",
   "metadata": {
    "tags": []
   },
   "outputs": [],
   "source": [
    "prehand = pd.concat([matched_pdf, unmatched_final])"
   ]
  },
  {
   "cell_type": "code",
   "execution_count": 92,
   "id": "c64e2699-2882-43aa-afb1-f970551b04b8",
   "metadata": {
    "tags": []
   },
   "outputs": [
    {
     "data": {
      "text/plain": [
       "(154, 16)"
      ]
     },
     "execution_count": 92,
     "metadata": {},
     "output_type": "execute_result"
    }
   ],
   "source": [
    "prehand.shape"
   ]
  },
  {
   "cell_type": "code",
   "execution_count": 93,
   "id": "b3fc970e-31c3-4b5b-b8d6-d4b4ba251ce5",
   "metadata": {
    "tags": []
   },
   "outputs": [
    {
     "data": {
      "text/plain": [
       "Index(['own', 'plant_name_x', 'fuel_type', 'capacity_mw', 'net_generation_gwh',\n",
       "       'usage', 'match_name_plants', 'plant_name_y', 'costs_name',\n",
       "       '2021_units', '2021_amount', '2021_cost_per_unit', '2022_units',\n",
       "       '2022_amount', '2022_cost_per_unit', 'costs_name_2022'],\n",
       "      dtype='object')"
      ]
     },
     "execution_count": 93,
     "metadata": {},
     "output_type": "execute_result"
    }
   ],
   "source": [
    "prehand.columns"
   ]
  },
  {
   "cell_type": "code",
   "execution_count": 94,
   "id": "387508ee-47f9-49d5-8353-c81a9d2c233f",
   "metadata": {
    "tags": []
   },
   "outputs": [
    {
     "data": {
      "text/plain": [
       "142"
      ]
     },
     "execution_count": 94,
     "metadata": {},
     "output_type": "execute_result"
    }
   ],
   "source": [
    "len(prehand.costs_name.unique())"
   ]
  },
  {
   "cell_type": "code",
   "execution_count": 95,
   "id": "cf7197d2-16dc-42a8-b4b1-f9d83856662f",
   "metadata": {
    "tags": []
   },
   "outputs": [
    {
     "data": {
      "text/plain": [
       "146"
      ]
     },
     "execution_count": 95,
     "metadata": {},
     "output_type": "execute_result"
    }
   ],
   "source": [
    "len(prehand['2022_units'].dropna())"
   ]
  },
  {
   "cell_type": "code",
   "execution_count": 98,
   "id": "cc6d4b24-26c2-49b1-a320-9b6b95b43a16",
   "metadata": {
    "tags": []
   },
   "outputs": [
    {
     "data": {
      "text/plain": [
       "130              MAX POWER LTD.-GHORASAL\n",
       "137    BARKATULLAH ELECTRO DYNAMICS LTD.\n",
       "5          Sbu Haripur (BPDB Book Costs)\n",
       "17      Titas 50 MW Peacking Power Plant\n",
       "42                CLC Power Company Ltd.\n",
       "56                      APR Energy 300MW\n",
       "63                    ENERGYPRIMA, BOGRA\n",
       "69           IELCONSOURTIUM & ASSOCIATES\n",
       "Name: costs_name, dtype: object"
      ]
     },
     "execution_count": 98,
     "metadata": {},
     "output_type": "execute_result"
    }
   ],
   "source": [
    "prehand.loc[prehand['2022_units'].isna()].costs_name"
   ]
  },
  {
   "cell_type": "code",
   "execution_count": 99,
   "id": "2f6620b2-423a-4048-8896-71de3c3044bc",
   "metadata": {
    "tags": []
   },
   "outputs": [],
   "source": [
    "prehand.to_csv('research/prehand.csv') "
   ]
  },
  {
   "cell_type": "code",
   "execution_count": 100,
   "id": "d37ca632-92cc-453a-b26e-837ca653901a",
   "metadata": {
    "tags": []
   },
   "outputs": [],
   "source": [
    "handmade = pd.read_csv('research/prehand.csv', index_col=0)"
   ]
  },
  {
   "cell_type": "code",
   "execution_count": 108,
   "id": "925117ff-12c5-4763-b6a2-6d7fd0fe8f68",
   "metadata": {
    "tags": []
   },
   "outputs": [
    {
     "data": {
      "text/plain": [
       "Index(['own', 'plant_name_x', 'fuel_type', 'capacity_mw', 'net_generation_gwh',\n",
       "       'usage', 'costs_name', '2021_units', '2021_amount',\n",
       "       '2021_cost_per_unit', '2022_units', '2022_amount',\n",
       "       '2022_cost_per_unit'],\n",
       "      dtype='object')"
      ]
     },
     "execution_count": 108,
     "metadata": {},
     "output_type": "execute_result"
    }
   ],
   "source": [
    "handmade.columns"
   ]
  },
  {
   "cell_type": "code",
   "execution_count": 104,
   "id": "b5cb0ff4-baaa-4a09-aa37-735967ae8812",
   "metadata": {
    "tags": []
   },
   "outputs": [],
   "source": [
    "handmade = handmade[['own', 'plant_name_x','fuel_type', 'capacity_mw', 'net_generation_gwh','usage','costs_name',\n",
    "       '2021_units', '2021_amount', '2021_cost_per_unit',\n",
    "        '2022_units','2022_amount', '2022_cost_per_unit']]"
   ]
  },
  {
   "cell_type": "code",
   "execution_count": 118,
   "id": "9bc4ac4d-d8f2-4977-a599-0315742f1ec6",
   "metadata": {
    "collapsed": true,
    "jupyter": {
     "outputs_hidden": true
    },
    "tags": []
   },
   "outputs": [
    {
     "name": "stderr",
     "output_type": "stream",
     "text": [
      "/tmp/ipykernel_27357/3267515668.py:1: SettingWithCopyWarning: \n",
      "A value is trying to be set on a copy of a slice from a DataFrame.\n",
      "Try using .loc[row_indexer,col_indexer] = value instead\n",
      "\n",
      "See the caveats in the documentation: https://pandas.pydata.org/pandas-docs/stable/user_guide/indexing.html#returning-a-view-versus-a-copy\n",
      "  handmade['2022_units'] = pd.to_numeric(handmade['2022_units'].str.extract('(\\d+)', expand=False))\n",
      "/tmp/ipykernel_27357/3267515668.py:2: SettingWithCopyWarning: \n",
      "A value is trying to be set on a copy of a slice from a DataFrame.\n",
      "Try using .loc[row_indexer,col_indexer] = value instead\n",
      "\n",
      "See the caveats in the documentation: https://pandas.pydata.org/pandas-docs/stable/user_guide/indexing.html#returning-a-view-versus-a-copy\n",
      "  handmade['2022_amount'] = pd.to_numeric(handmade['2022_amount'].str.extract('(\\d+)', expand=False))\n",
      "/tmp/ipykernel_27357/3267515668.py:3: SettingWithCopyWarning: \n",
      "A value is trying to be set on a copy of a slice from a DataFrame.\n",
      "Try using .loc[row_indexer,col_indexer] = value instead\n",
      "\n",
      "See the caveats in the documentation: https://pandas.pydata.org/pandas-docs/stable/user_guide/indexing.html#returning-a-view-versus-a-copy\n",
      "  handmade['2022_cost_per_unit'] = pd.to_numeric(handmade['2022_cost_per_unit'].str.extract('(\\d+)', expand=False))\n"
     ]
    }
   ],
   "source": [
    "handmade['2022_units'] = pd.to_numeric(handmade['2022_units'].str.extract('(\\d+)', expand=False))\n",
    "handmade['2022_amount'] = pd.to_numeric(handmade['2022_amount'].str.extract('(\\d+)', expand=False))\n",
    "handmade['2022_cost_per_unit'] = pd.to_numeric(handmade['2022_cost_per_unit'].str.extract('(\\d+)', expand=False))"
   ]
  },
  {
   "cell_type": "code",
   "execution_count": 120,
   "id": "4408c66a-7933-45e2-b2a0-076925807c3c",
   "metadata": {
    "tags": []
   },
   "outputs": [],
   "source": [
    "handmade.to_csv('research/handmade22.csv')"
   ]
  },
  {
   "cell_type": "code",
   "execution_count": 121,
   "id": "ceb8f53e-36da-4766-ac33-1108dee361a9",
   "metadata": {
    "tags": []
   },
   "outputs": [
    {
     "data": {
      "text/html": [
       "<div>\n",
       "<style scoped>\n",
       "    .dataframe tbody tr th:only-of-type {\n",
       "        vertical-align: middle;\n",
       "    }\n",
       "\n",
       "    .dataframe tbody tr th {\n",
       "        vertical-align: top;\n",
       "    }\n",
       "\n",
       "    .dataframe thead th {\n",
       "        text-align: right;\n",
       "    }\n",
       "</style>\n",
       "<table border=\"1\" class=\"dataframe\">\n",
       "  <thead>\n",
       "    <tr style=\"text-align: right;\">\n",
       "      <th></th>\n",
       "      <th>capacity_mw</th>\n",
       "      <th>net_generation_gwh</th>\n",
       "      <th>usage</th>\n",
       "      <th>2021_units</th>\n",
       "      <th>2021_amount</th>\n",
       "      <th>2021_cost_per_unit</th>\n",
       "      <th>2022_units</th>\n",
       "      <th>2022_amount</th>\n",
       "      <th>2022_cost_per_unit</th>\n",
       "    </tr>\n",
       "  </thead>\n",
       "  <tbody>\n",
       "    <tr>\n",
       "      <th>count</th>\n",
       "      <td>149.000000</td>\n",
       "      <td>154.000000</td>\n",
       "      <td>143.000000</td>\n",
       "      <td>1.520000e+02</td>\n",
       "      <td>1.530000e+02</td>\n",
       "      <td>145.000000</td>\n",
       "      <td>1.480000e+02</td>\n",
       "      <td>1.490000e+02</td>\n",
       "      <td>142.000000</td>\n",
       "    </tr>\n",
       "    <tr>\n",
       "      <th>mean</th>\n",
       "      <td>147.973154</td>\n",
       "      <td>516.521776</td>\n",
       "      <td>0.372727</td>\n",
       "      <td>5.846164e+08</td>\n",
       "      <td>3.680904e+09</td>\n",
       "      <td>16.481793</td>\n",
       "      <td>5.620818e+08</td>\n",
       "      <td>4.638841e+09</td>\n",
       "      <td>2505.908451</td>\n",
       "    </tr>\n",
       "    <tr>\n",
       "      <th>std</th>\n",
       "      <td>123.116400</td>\n",
       "      <td>653.800340</td>\n",
       "      <td>0.252881</td>\n",
       "      <td>7.383964e+08</td>\n",
       "      <td>4.498848e+09</td>\n",
       "      <td>30.955602</td>\n",
       "      <td>7.594872e+08</td>\n",
       "      <td>7.747088e+09</td>\n",
       "      <td>12586.166001</td>\n",
       "    </tr>\n",
       "    <tr>\n",
       "      <th>min</th>\n",
       "      <td>0.000000</td>\n",
       "      <td>-2.206000</td>\n",
       "      <td>0.000000</td>\n",
       "      <td>-1.287000e+06</td>\n",
       "      <td>4.085793e+06</td>\n",
       "      <td>1.680000</td>\n",
       "      <td>1.000000e+00</td>\n",
       "      <td>1.000000e+00</td>\n",
       "      <td>1.000000</td>\n",
       "    </tr>\n",
       "    <tr>\n",
       "      <th>25%</th>\n",
       "      <td>54.000000</td>\n",
       "      <td>70.777150</td>\n",
       "      <td>0.150000</td>\n",
       "      <td>8.624020e+07</td>\n",
       "      <td>9.320094e+08</td>\n",
       "      <td>3.450000</td>\n",
       "      <td>6.492569e+07</td>\n",
       "      <td>2.344310e+05</td>\n",
       "      <td>7.000000</td>\n",
       "    </tr>\n",
       "    <tr>\n",
       "      <th>50%</th>\n",
       "      <td>105.000000</td>\n",
       "      <td>249.271100</td>\n",
       "      <td>0.350000</td>\n",
       "      <td>2.844089e+08</td>\n",
       "      <td>2.641125e+09</td>\n",
       "      <td>10.360000</td>\n",
       "      <td>2.430301e+08</td>\n",
       "      <td>2.194442e+09</td>\n",
       "      <td>16.000000</td>\n",
       "    </tr>\n",
       "    <tr>\n",
       "      <th>75%</th>\n",
       "      <td>210.000000</td>\n",
       "      <td>609.292150</td>\n",
       "      <td>0.570000</td>\n",
       "      <td>7.318915e+08</td>\n",
       "      <td>4.588702e+09</td>\n",
       "      <td>13.400000</td>\n",
       "      <td>7.309609e+08</td>\n",
       "      <td>5.996723e+09</td>\n",
       "      <td>21.500000</td>\n",
       "    </tr>\n",
       "    <tr>\n",
       "      <th>max</th>\n",
       "      <td>622.000000</td>\n",
       "      <td>2945.236600</td>\n",
       "      <td>0.890000</td>\n",
       "      <td>3.811922e+09</td>\n",
       "      <td>3.276485e+10</td>\n",
       "      <td>218.790000</td>\n",
       "      <td>3.998490e+09</td>\n",
       "      <td>5.539561e+10</td>\n",
       "      <td>68129.000000</td>\n",
       "    </tr>\n",
       "  </tbody>\n",
       "</table>\n",
       "</div>"
      ],
      "text/plain": [
       "       capacity_mw  net_generation_gwh       usage    2021_units  \\\n",
       "count   149.000000          154.000000  143.000000  1.520000e+02   \n",
       "mean    147.973154          516.521776    0.372727  5.846164e+08   \n",
       "std     123.116400          653.800340    0.252881  7.383964e+08   \n",
       "min       0.000000           -2.206000    0.000000 -1.287000e+06   \n",
       "25%      54.000000           70.777150    0.150000  8.624020e+07   \n",
       "50%     105.000000          249.271100    0.350000  2.844089e+08   \n",
       "75%     210.000000          609.292150    0.570000  7.318915e+08   \n",
       "max     622.000000         2945.236600    0.890000  3.811922e+09   \n",
       "\n",
       "        2021_amount  2021_cost_per_unit    2022_units   2022_amount  \\\n",
       "count  1.530000e+02          145.000000  1.480000e+02  1.490000e+02   \n",
       "mean   3.680904e+09           16.481793  5.620818e+08  4.638841e+09   \n",
       "std    4.498848e+09           30.955602  7.594872e+08  7.747088e+09   \n",
       "min    4.085793e+06            1.680000  1.000000e+00  1.000000e+00   \n",
       "25%    9.320094e+08            3.450000  6.492569e+07  2.344310e+05   \n",
       "50%    2.641125e+09           10.360000  2.430301e+08  2.194442e+09   \n",
       "75%    4.588702e+09           13.400000  7.309609e+08  5.996723e+09   \n",
       "max    3.276485e+10          218.790000  3.998490e+09  5.539561e+10   \n",
       "\n",
       "       2022_cost_per_unit  \n",
       "count          142.000000  \n",
       "mean          2505.908451  \n",
       "std          12586.166001  \n",
       "min              1.000000  \n",
       "25%              7.000000  \n",
       "50%             16.000000  \n",
       "75%             21.500000  \n",
       "max          68129.000000  "
      ]
     },
     "execution_count": 121,
     "metadata": {},
     "output_type": "execute_result"
    }
   ],
   "source": [
    "handmade.describe()"
   ]
  },
  {
   "cell_type": "code",
   "execution_count": null,
   "id": "4f2be803-0787-41d6-825d-06a9ed0be5ce",
   "metadata": {},
   "outputs": [],
   "source": []
  }
 ],
 "metadata": {
  "kernelspec": {
   "display_name": "Python 3 (ipykernel)",
   "language": "python",
   "name": "python3"
  },
  "language_info": {
   "codemirror_mode": {
    "name": "ipython",
    "version": 3
   },
   "file_extension": ".py",
   "mimetype": "text/x-python",
   "name": "python",
   "nbconvert_exporter": "python",
   "pygments_lexer": "ipython3",
   "version": "3.10.9"
  }
 },
 "nbformat": 4,
 "nbformat_minor": 5
}
