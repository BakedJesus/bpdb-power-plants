{
 "cells": [
  {
   "cell_type": "code",
   "execution_count": 1,
   "id": "9b887f64-bfd9-408e-a7bb-161201637e84",
   "metadata": {
    "tags": []
   },
   "outputs": [],
   "source": [
    "import pandas as pd"
   ]
  },
  {
   "cell_type": "code",
   "execution_count": 28,
   "id": "f9880426-31cd-4d64-be27-ad696697ac4c",
   "metadata": {
    "tags": []
   },
   "outputs": [],
   "source": [
    "#costs = pd.read_csv('handmade22.csv', index_col=0)[['plant_name_x', 'net_generation_gwh', '2021_cost_per_unit','2022_units', '2022_cost_per_unit', 'usage']]"
   ]
  },
  {
   "cell_type": "code",
   "execution_count": 29,
   "id": "32f53e59-38c2-4f3f-b891-72e4a19c9af8",
   "metadata": {
    "tags": []
   },
   "outputs": [],
   "source": [
    "rdf = pd.read_csv('sofar110_cleaned.csv', index_col=0)"
   ]
  },
  {
   "cell_type": "code",
   "execution_count": 30,
   "id": "aaca3344-d086-4bbd-b137-15c8d7ee3eff",
   "metadata": {
    "tags": []
   },
   "outputs": [],
   "source": [
    "rdf['start'] = pd.to_datetime(rdf.start, errors='coerce').dt.year"
   ]
  },
  {
   "cell_type": "code",
   "execution_count": 31,
   "id": "16569f5a-32fd-42d9-8a6c-5759e1271c92",
   "metadata": {
    "tags": []
   },
   "outputs": [
    {
     "data": {
      "text/html": [
       "<div>\n",
       "<style scoped>\n",
       "    .dataframe tbody tr th:only-of-type {\n",
       "        vertical-align: middle;\n",
       "    }\n",
       "\n",
       "    .dataframe tbody tr th {\n",
       "        vertical-align: top;\n",
       "    }\n",
       "\n",
       "    .dataframe thead th {\n",
       "        text-align: right;\n",
       "    }\n",
       "</style>\n",
       "<table border=\"1\" class=\"dataframe\">\n",
       "  <thead>\n",
       "    <tr style=\"text-align: right;\">\n",
       "      <th></th>\n",
       "      <th>Unnamed: 0.1</th>\n",
       "      <th>own_x</th>\n",
       "      <th>own_y</th>\n",
       "      <th>plant_name</th>\n",
       "      <th>plant_name_alt</th>\n",
       "      <th>plant</th>\n",
       "      <th>fuel_type_x</th>\n",
       "      <th>fuel_type_y</th>\n",
       "      <th>capacity_mw</th>\n",
       "      <th>capacity_x</th>\n",
       "      <th>potential_name</th>\n",
       "      <th>potential_cap</th>\n",
       "      <th>start</th>\n",
       "      <th>fuel_type</th>\n",
       "      <th>own</th>\n",
       "      <th>capacity_y</th>\n",
       "      <th>end</th>\n",
       "    </tr>\n",
       "    <tr>\n",
       "      <th>Unnamed: 0</th>\n",
       "      <th></th>\n",
       "      <th></th>\n",
       "      <th></th>\n",
       "      <th></th>\n",
       "      <th></th>\n",
       "      <th></th>\n",
       "      <th></th>\n",
       "      <th></th>\n",
       "      <th></th>\n",
       "      <th></th>\n",
       "      <th></th>\n",
       "      <th></th>\n",
       "      <th></th>\n",
       "      <th></th>\n",
       "      <th></th>\n",
       "      <th></th>\n",
       "      <th></th>\n",
       "    </tr>\n",
       "  </thead>\n",
       "  <tbody>\n",
       "    <tr>\n",
       "      <th>0</th>\n",
       "      <td>1</td>\n",
       "      <td>IPP</td>\n",
       "      <td>IPP</td>\n",
       "      <td>Sharishabari 3 MW Engreen Solar Power Plant</td>\n",
       "      <td>Engreen Solar</td>\n",
       "      <td>Shorishabari Solar plant</td>\n",
       "      <td>SOLAR</td>\n",
       "      <td>SOLAR</td>\n",
       "      <td>3.0</td>\n",
       "      <td>3.0</td>\n",
       "      <td>Baraka-Patenga Chattogram 50 MW PP</td>\n",
       "      <td>50.0</td>\n",
       "      <td>2017</td>\n",
       "      <td>Solar</td>\n",
       "      <td>IPP</td>\n",
       "      <td>3.0</td>\n",
       "      <td>NaN</td>\n",
       "    </tr>\n",
       "    <tr>\n",
       "      <th>1</th>\n",
       "      <td>2</td>\n",
       "      <td>IPP</td>\n",
       "      <td>IPP</td>\n",
       "      <td>Sympa Solar Power 8 MW</td>\n",
       "      <td>Sympa Solar Power Limited</td>\n",
       "      <td>Majipara, Tetulia Solar plant</td>\n",
       "      <td>SOLAR</td>\n",
       "      <td>SOLAR</td>\n",
       "      <td>8.0</td>\n",
       "      <td>8.0</td>\n",
       "      <td>NaN</td>\n",
       "      <td>NaN</td>\n",
       "      <td>2019</td>\n",
       "      <td>Solar</td>\n",
       "      <td>IPP</td>\n",
       "      <td>8.0</td>\n",
       "      <td>NaN</td>\n",
       "    </tr>\n",
       "  </tbody>\n",
       "</table>\n",
       "</div>"
      ],
      "text/plain": [
       "            Unnamed: 0.1 own_x own_y  \\\n",
       "Unnamed: 0                             \n",
       "0                      1   IPP   IPP   \n",
       "1                      2   IPP   IPP   \n",
       "\n",
       "                                             plant_name  \\\n",
       "Unnamed: 0                                                \n",
       "0           Sharishabari 3 MW Engreen Solar Power Plant   \n",
       "1                                Sympa Solar Power 8 MW   \n",
       "\n",
       "                       plant_name_alt                          plant  \\\n",
       "Unnamed: 0                                                             \n",
       "0                       Engreen Solar       Shorishabari Solar plant   \n",
       "1           Sympa Solar Power Limited  Majipara, Tetulia Solar plant   \n",
       "\n",
       "           fuel_type_x fuel_type_y  capacity_mw  capacity_x  \\\n",
       "Unnamed: 0                                                    \n",
       "0                SOLAR       SOLAR          3.0         3.0   \n",
       "1                SOLAR       SOLAR          8.0         8.0   \n",
       "\n",
       "                                potential_name  potential_cap  start  \\\n",
       "Unnamed: 0                                                             \n",
       "0           Baraka-Patenga Chattogram 50 MW PP           50.0   2017   \n",
       "1                                          NaN            NaN   2019   \n",
       "\n",
       "           fuel_type  own  capacity_y  end  \n",
       "Unnamed: 0                                  \n",
       "0              Solar  IPP         3.0  NaN  \n",
       "1              Solar  IPP         8.0  NaN  "
      ]
     },
     "execution_count": 31,
     "metadata": {},
     "output_type": "execute_result"
    }
   ],
   "source": [
    "rdf.head(2)"
   ]
  },
  {
   "cell_type": "code",
   "execution_count": 32,
   "id": "00a95522-68a4-4e5f-9f85-a9e857c710dd",
   "metadata": {
    "tags": []
   },
   "outputs": [],
   "source": [
    "ldf = pd.read_csv('test_out.csv', index_col=0)"
   ]
  },
  {
   "cell_type": "code",
   "execution_count": 33,
   "id": "9b25f1e0-22a0-4d5c-8659-b6ab50bf9c4a",
   "metadata": {
    "tags": []
   },
   "outputs": [],
   "source": [
    "ldf = ldf[['plant_name', 'capacity_mw', 'fuel_type_x', 'own_x', 'extracted_year']].rename(columns={'extracted_year':'start'})"
   ]
  },
  {
   "cell_type": "code",
   "execution_count": 35,
   "id": "090c28e3-f30d-4d5e-b1d2-be6635c3cc48",
   "metadata": {
    "tags": []
   },
   "outputs": [
    {
     "data": {
      "text/plain": [
       "Index(['own', 'plant_name_x', 'fuel_type', 'capacity_mw', 'net_generation_gwh',\n",
       "       'usage', 'match_name_plants', 'plant_name_y', 'costs_name',\n",
       "       '2021_units', '2021_amount', '2021_cost_per_unit', '2022_units',\n",
       "       '2022_amount', '2022_cost_per_unit', 'costs_name_2022'],\n",
       "      dtype='object')"
      ]
     },
     "execution_count": 35,
     "metadata": {},
     "output_type": "execute_result"
    }
   ],
   "source": [
    "pd.read_csv('prehand.csv', index_col=0).columns"
   ]
  },
  {
   "cell_type": "code",
   "execution_count": 36,
   "id": "0b627a4a-ff03-43ef-9562-0abe666c42c5",
   "metadata": {
    "tags": []
   },
   "outputs": [],
   "source": [
    "# Joing ldf with rest of the columns\n",
    "hd = pd.read_csv('prehand.csv', index_col=0)[['plant_name_x', 'net_generation_gwh', 'usage', '2021_cost_per_unit', '2022_cost_per_unit', '2022_units']]\n",
    "ldf = ldf.merge(hd, left_on=\"plant_name\", right_on=\"plant_name_x\", how=\"left\")"
   ]
  },
  {
   "cell_type": "code",
   "execution_count": 37,
   "id": "4d0be75a-6b84-4c67-bc5c-8bd4506ec342",
   "metadata": {
    "tags": []
   },
   "outputs": [],
   "source": [
    "rdf = rdf[['plant_name', 'capacity_mw', 'fuel_type_x', 'own_x', 'start', ]].merge(hd, left_on=\"plant_name\", right_on=\"plant_name_x\", how=\"left\")"
   ]
  },
  {
   "cell_type": "code",
   "execution_count": 38,
   "id": "995ee694-6b84-489c-9e01-af77e90f785d",
   "metadata": {
    "tags": []
   },
   "outputs": [],
   "source": [
    "## WOrks"
   ]
  },
  {
   "cell_type": "code",
   "execution_count": 42,
   "id": "958cdee4-c1e9-4317-bf44-6585f53abbe0",
   "metadata": {
    "tags": []
   },
   "outputs": [
    {
     "data": {
      "text/plain": [
       "(177, 11)"
      ]
     },
     "execution_count": 42,
     "metadata": {},
     "output_type": "execute_result"
    }
   ],
   "source": [
    "df = pd.concat([rdf, ldf])\n",
    "df.shape"
   ]
  },
  {
   "cell_type": "code",
   "execution_count": 43,
   "id": "6c254197-71e1-4b76-8004-993ad601b63c",
   "metadata": {
    "tags": []
   },
   "outputs": [
    {
     "data": {
      "text/plain": [
       "fuel_type_x\n",
       "GAS       82\n",
       "HFO       63\n",
       "HSD       11\n",
       "SOLAR      6\n",
       "COAL       6\n",
       "IMPORT     5\n",
       "WIND       1\n",
       "HYDRO      1\n",
       "Name: count, dtype: int64"
      ]
     },
     "execution_count": 43,
     "metadata": {},
     "output_type": "execute_result"
    }
   ],
   "source": [
    "#rdf.fuel_type = rdf.fuel_type.str.upper()\n",
    "df.fuel_type_x.value_counts()"
   ]
  },
  {
   "cell_type": "code",
   "execution_count": 44,
   "id": "f847820c-50d0-4c51-874e-03473ae62ebf",
   "metadata": {
    "tags": []
   },
   "outputs": [
    {
     "data": {
      "text/plain": [
       "19"
      ]
     },
     "execution_count": 44,
     "metadata": {},
     "output_type": "execute_result"
    }
   ],
   "source": [
    "len(df.dropna()) - len(df.dropna().plant_name.unique())"
   ]
  },
  {
   "cell_type": "code",
   "execution_count": 45,
   "id": "cc365321-7d86-4293-931a-22b26ba0faf7",
   "metadata": {
    "tags": []
   },
   "outputs": [],
   "source": [
    "# df[\"dup\"] = df[[\"plant_name\", \"start\", \"net_generation_gwh\"]].astype(str).agg(' '.join, axis=1)"
   ]
  },
  {
   "cell_type": "code",
   "execution_count": 46,
   "id": "5a990df8-44f7-48ec-aa5e-13255e8dcdfe",
   "metadata": {
    "tags": []
   },
   "outputs": [],
   "source": [
    "df.drop(df.loc[df.plant_name.duplicated(keep=\"first\")].index, inplace=True)"
   ]
  },
  {
   "cell_type": "code",
   "execution_count": 48,
   "id": "2440ba02-9b28-4d72-a3e8-049efa4893e0",
   "metadata": {
    "tags": []
   },
   "outputs": [
    {
     "data": {
      "text/plain": [
       "(134, 11)"
      ]
     },
     "execution_count": 48,
     "metadata": {},
     "output_type": "execute_result"
    }
   ],
   "source": [
    "df.shape"
   ]
  },
  {
   "cell_type": "code",
   "execution_count": 49,
   "id": "12e3ec07-8ce6-46db-b96c-f9d250035948",
   "metadata": {
    "tags": []
   },
   "outputs": [],
   "source": [
    "# We have 134 plants in the final dataset\n",
    "df.to_csv('all_power_plants.csv')"
   ]
  },
  {
   "cell_type": "markdown",
   "id": "805b263a-78f4-4ec3-b245-f53200084fd9",
   "metadata": {},
   "source": [
    "# LOADPOINT"
   ]
  },
  {
   "cell_type": "code",
   "execution_count": 2,
   "id": "1e4919c4-d23f-404a-8924-9947e25408d1",
   "metadata": {
    "tags": []
   },
   "outputs": [],
   "source": [
    "df = pd.read_csv('all_power_plants.csv', index_col=0)"
   ]
  },
  {
   "cell_type": "code",
   "execution_count": 3,
   "id": "50640cb5-ef80-47dd-8565-44f49665bd6a",
   "metadata": {
    "tags": []
   },
   "outputs": [
    {
     "data": {
      "text/plain": [
       "(134, 11)"
      ]
     },
     "execution_count": 3,
     "metadata": {},
     "output_type": "execute_result"
    }
   ],
   "source": [
    "df.shape"
   ]
  },
  {
   "cell_type": "code",
   "execution_count": 4,
   "id": "61b6d334-e935-4349-8a84-5b7c611f3260",
   "metadata": {
    "tags": []
   },
   "outputs": [
    {
     "data": {
      "text/plain": [
       "Index(['plant_name', 'capacity_mw', 'fuel_type_x', 'own_x', 'start',\n",
       "       'plant_name_x', 'net_generation_gwh', 'usage', '2021_cost_per_unit',\n",
       "       '2022_cost_per_unit', '2022_units'],\n",
       "      dtype='object')"
      ]
     },
     "execution_count": 4,
     "metadata": {},
     "output_type": "execute_result"
    }
   ],
   "source": [
    "df.columns"
   ]
  },
  {
   "cell_type": "code",
   "execution_count": 5,
   "id": "ce7bca45-82c1-4fbd-8a9c-15f3ecbde62e",
   "metadata": {
    "tags": []
   },
   "outputs": [
    {
     "data": {
      "text/plain": [
       "own_x\n",
       "Public           57\n",
       "IPP              51\n",
       "RENTAL & SIPP    22\n",
       "IMPORT            2\n",
       "Joint venture     2\n",
       "Name: count, dtype: int64"
      ]
     },
     "execution_count": 5,
     "metadata": {},
     "output_type": "execute_result"
    }
   ],
   "source": [
    "df.own_x.value_counts()"
   ]
  },
  {
   "cell_type": "code",
   "execution_count": 7,
   "id": "fea1e4ea-51e0-438b-92dc-dd26a1c117d5",
   "metadata": {
    "tags": []
   },
   "outputs": [
    {
     "data": {
      "text/plain": [
       "<matplotlib.collections.PathCollection at 0x7f97230753d0>"
      ]
     },
     "execution_count": 7,
     "metadata": {},
     "output_type": "execute_result"
    },
    {
     "data": {
      "image/png": "[encoded data removed]",
      "text/plain": [
       "<Figure size 640x480 with 1 Axes>"
      ]
     },
     "metadata": {},
     "output_type": "display_data"
    }
   ],
   "source": [
    "#df[['usage', '2021_cost_per_unit']]\n",
    "import matplotlib.pyplot as plt\n",
    "plt.scatter(df.usage, df['2021_cost_per_unit'])"
   ]
  },
  {
   "cell_type": "code",
   "execution_count": 40,
   "id": "8996135a-a0e8-4fbe-944a-ec1eafaa8258",
   "metadata": {
    "tags": []
   },
   "outputs": [
    {
     "data": {
      "text/plain": [
       "cost_class\n",
       "0.0    2585.835358\n",
       "1.0    3120.425237\n",
       "2.0    4069.244858\n",
       "3.0    2303.777723\n",
       "Name: total_cost, dtype: float64"
      ]
     },
     "execution_count": 40,
     "metadata": {},
     "output_type": "execute_result"
    }
   ],
   "source": [
    "df['cost_class'] = pd.qcut(df['2021_cost_per_unit'], q=4, labels=False)\n",
    "df['total_cost'] = df['net_generation_gwh']*df['2021_cost_per_unit']\n",
    "df.groupby('cost_class')['total_cost'].mean()"
   ]
  },
  {
   "cell_type": "code",
   "execution_count": 54,
   "id": "5ebac0f6-2a26-4f4e-9618-8a458ef295ff",
   "metadata": {
    "tags": []
   },
   "outputs": [
    {
     "data": {
      "text/plain": [
       "[Interval(1.679, 3.415, closed='right'),\n",
       " Interval(3.415, 9.72, closed='right'),\n",
       " Interval(9.72, 12.615, closed='right'),\n",
       " Interval(12.615, 218.79, closed='right')]"
      ]
     },
     "execution_count": 54,
     "metadata": {},
     "output_type": "execute_result"
    }
   ],
   "source": [
    "list(pd.qcut(df['2021_cost_per_unit'], q=4).cat.categories.values)"
   ]
  },
  {
   "cell_type": "code",
   "execution_count": 55,
   "id": "ce0cf155-9150-47a0-a132-1d55482019da",
   "metadata": {
    "tags": []
   },
   "outputs": [],
   "source": [
    "df.to_csv('cost_cat_out.csv')"
   ]
  },
  {
   "cell_type": "code",
   "execution_count": 53,
   "id": "7710ce5f-ef9c-40e9-8d0e-9c995df801de",
   "metadata": {
    "tags": []
   },
   "outputs": [
    {
     "ename": "TypeError",
     "evalue": "'pandas._libs.interval.Interval' object is not subscriptable",
     "output_type": "error",
     "traceback": [
      "\u001b[0;31m---------------------------------------------------------------------------\u001b[0m",
      "\u001b[0;31mTypeError\u001b[0m                                 Traceback (most recent call last)",
      "Cell \u001b[0;32mIn[53], line 11\u001b[0m\n\u001b[1;32m      8\u001b[0m bar_labels \u001b[38;5;241m=\u001b[39m pd\u001b[38;5;241m.\u001b[39mqcut(df[\u001b[38;5;124m'\u001b[39m\u001b[38;5;124m2021_cost_per_unit\u001b[39m\u001b[38;5;124m'\u001b[39m], q\u001b[38;5;241m=\u001b[39m\u001b[38;5;241m4\u001b[39m)\u001b[38;5;241m.\u001b[39mcat\u001b[38;5;241m.\u001b[39mcategories\u001b[38;5;241m.\u001b[39mvalues \u001b[38;5;66;03m#['low', 'mid', 'high', 'very_high']\u001b[39;00m\n\u001b[1;32m     10\u001b[0m ax\u001b[38;5;241m.\u001b[39mbar(xvals, yvals,label\u001b[38;5;241m=\u001b[39mbar_labels,color\u001b[38;5;241m=\u001b[39mbar_colors)\n\u001b[0;32m---> 11\u001b[0m ax\u001b[38;5;241m.\u001b[39mset_xticklabels(\u001b[43m[\u001b[49m\u001b[43mc\u001b[49m\u001b[43m[\u001b[49m\u001b[38;5;241;43m1\u001b[39;49m\u001b[43m:\u001b[49m\u001b[38;5;241;43m-\u001b[39;49m\u001b[38;5;241;43m1\u001b[39;49m\u001b[43m]\u001b[49m\u001b[38;5;241;43m.\u001b[39;49m\u001b[43mreplace\u001b[49m\u001b[43m(\u001b[49m\u001b[38;5;124;43m\"\u001b[39;49m\u001b[38;5;124;43m,\u001b[39;49m\u001b[38;5;124;43m\"\u001b[39;49m\u001b[43m,\u001b[49m\u001b[38;5;124;43m\"\u001b[39;49m\u001b[38;5;124;43m to\u001b[39;49m\u001b[38;5;124;43m\"\u001b[39;49m\u001b[43m)\u001b[49m\u001b[43m \u001b[49m\u001b[38;5;28;43;01mfor\u001b[39;49;00m\u001b[43m \u001b[49m\u001b[43mc\u001b[49m\u001b[43m \u001b[49m\u001b[38;5;129;43;01min\u001b[39;49;00m\u001b[43m \u001b[49m\u001b[43mout\u001b[49m\u001b[38;5;241;43m.\u001b[39;49m\u001b[43mcat\u001b[49m\u001b[38;5;241;43m.\u001b[39;49m\u001b[43mcategories\u001b[49m\u001b[38;5;241;43m.\u001b[39;49m\u001b[43mvalues\u001b[49m\u001b[43m]\u001b[49m)\n\u001b[1;32m     12\u001b[0m ax\u001b[38;5;241m.\u001b[39mset_ylabel(\u001b[38;5;124m'\u001b[39m\u001b[38;5;124mTotal amount paid\u001b[39m\u001b[38;5;124m'\u001b[39m)\n\u001b[1;32m     13\u001b[0m \u001b[38;5;66;03m#ax.set_title('Fruit supply by kind and color')\u001b[39;00m\n",
      "Cell \u001b[0;32mIn[53], line 11\u001b[0m, in \u001b[0;36m<listcomp>\u001b[0;34m(.0)\u001b[0m\n\u001b[1;32m      8\u001b[0m bar_labels \u001b[38;5;241m=\u001b[39m pd\u001b[38;5;241m.\u001b[39mqcut(df[\u001b[38;5;124m'\u001b[39m\u001b[38;5;124m2021_cost_per_unit\u001b[39m\u001b[38;5;124m'\u001b[39m], q\u001b[38;5;241m=\u001b[39m\u001b[38;5;241m4\u001b[39m)\u001b[38;5;241m.\u001b[39mcat\u001b[38;5;241m.\u001b[39mcategories\u001b[38;5;241m.\u001b[39mvalues \u001b[38;5;66;03m#['low', 'mid', 'high', 'very_high']\u001b[39;00m\n\u001b[1;32m     10\u001b[0m ax\u001b[38;5;241m.\u001b[39mbar(xvals, yvals,label\u001b[38;5;241m=\u001b[39mbar_labels,color\u001b[38;5;241m=\u001b[39mbar_colors)\n\u001b[0;32m---> 11\u001b[0m ax\u001b[38;5;241m.\u001b[39mset_xticklabels([\u001b[43mc\u001b[49m\u001b[43m[\u001b[49m\u001b[38;5;241;43m1\u001b[39;49m\u001b[43m:\u001b[49m\u001b[38;5;241;43m-\u001b[39;49m\u001b[38;5;241;43m1\u001b[39;49m\u001b[43m]\u001b[49m\u001b[38;5;241m.\u001b[39mreplace(\u001b[38;5;124m\"\u001b[39m\u001b[38;5;124m,\u001b[39m\u001b[38;5;124m\"\u001b[39m,\u001b[38;5;124m\"\u001b[39m\u001b[38;5;124m to\u001b[39m\u001b[38;5;124m\"\u001b[39m) \u001b[38;5;28;01mfor\u001b[39;00m c \u001b[38;5;129;01min\u001b[39;00m out\u001b[38;5;241m.\u001b[39mcat\u001b[38;5;241m.\u001b[39mcategories\u001b[38;5;241m.\u001b[39mvalues])\n\u001b[1;32m     12\u001b[0m ax\u001b[38;5;241m.\u001b[39mset_ylabel(\u001b[38;5;124m'\u001b[39m\u001b[38;5;124mTotal amount paid\u001b[39m\u001b[38;5;124m'\u001b[39m)\n\u001b[1;32m     13\u001b[0m \u001b[38;5;66;03m#ax.set_title('Fruit supply by kind and color')\u001b[39;00m\n",
      "\u001b[0;31mTypeError\u001b[0m: 'pandas._libs.interval.Interval' object is not subscriptable"
     ]
    },
    {
     "data": {
      "image/png": "[encoded data removed]",
      "text/plain": [
       "<Figure size 640x480 with 1 Axes>"
      ]
     },
     "metadata": {},
     "output_type": "display_data"
    }
   ],
   "source": [
    "#plt.bar(pd.qcut(df['2021_cost_per_unit'], q=4), )\n",
    "\n",
    "fig, ax = plt.subplots()\n",
    "out = pd.qcut(df['2021_cost_per_unit'], q=4)\n",
    "xvals = df.groupby('cost_class')['total_cost'].mean().index\n",
    "yvals = df.groupby('cost_class')['total_cost'].mean().values\n",
    "bar_colors = ['tab:green', 'tab:orange',  'tab:orange', 'tab:red']\n",
    "bar_labels = pd.qcut(df['2021_cost_per_unit'], q=4).cat.categories.values #['low', 'mid', 'high', 'very_high']\n",
    "\n",
    "ax.bar(xvals, yvals,label=bar_labels,color=bar_colors)\n",
    "ax.set_xticklabels([c[1:-1].replace(\",\",\" to\") for c in out.cat.categories.values])\n",
    "ax.set_ylabel('Total amount paid')\n",
    "#ax.set_title('Fruit supply by kind and color')\n",
    "ax.legend(title='Cost category')\n",
    "\n",
    "plt.show()\n",
    "\n"
   ]
  },
  {
   "cell_type": "markdown",
   "id": "ed941331-83f5-4a9b-ac9c-d1f3b38e3faa",
   "metadata": {},
   "source": [
    "# datetime cleaning"
   ]
  },
  {
   "cell_type": "code",
   "execution_count": 19,
   "id": "9b6073e2-d880-494d-9c39-f1c9ed924c45",
   "metadata": {
    "tags": []
   },
   "outputs": [],
   "source": [
    "# Importing the regular expressions library\n",
    "import re\n",
    "\n",
    "# Defining a function to extract the date using regex\n",
    "def extract_date(value):\n",
    "    # Trying to extract the date after \"ST:\"\n",
    "    match = re.search(r'ST:\\s*(.*\\d{4})', value)\n",
    "    if match:\n",
    "        return match.group(1)\n",
    "    # If \"ST:\" is not present, trying to extract the date after \"GT:\"\n",
    "    match = re.search(r'GT:\\s*(.*\\d{4})', value)\n",
    "    if match:\n",
    "        return match.group(1)\n",
    "    return None\n"
   ]
  },
  {
   "cell_type": "code",
   "execution_count": 20,
   "id": "ac6d2960-06e3-4b10-8153-1210f64cc40b",
   "metadata": {
    "tags": []
   },
   "outputs": [
    {
     "data": {
      "text/html": [
       "<div>\n",
       "<style scoped>\n",
       "    .dataframe tbody tr th:only-of-type {\n",
       "        vertical-align: middle;\n",
       "    }\n",
       "\n",
       "    .dataframe tbody tr th {\n",
       "        vertical-align: top;\n",
       "    }\n",
       "\n",
       "    .dataframe thead th {\n",
       "        text-align: right;\n",
       "    }\n",
       "</style>\n",
       "<table border=\"1\" class=\"dataframe\">\n",
       "  <thead>\n",
       "    <tr style=\"text-align: right;\">\n",
       "      <th></th>\n",
       "      <th>start</th>\n",
       "    </tr>\n",
       "  </thead>\n",
       "  <tbody>\n",
       "  </tbody>\n",
       "</table>\n",
       "</div>"
      ],
      "text/plain": [
       "Empty DataFrame\n",
       "Columns: [start]\n",
       "Index: []"
      ]
     },
     "execution_count": 20,
     "metadata": {},
     "output_type": "execute_result"
    }
   ],
   "source": [
    "df = rdf\n",
    "df['start'] = pd.to_datetime(df['start'], errors='coerce')\n",
    "problematic_rows = df[df['start'].isna()]\n",
    "problematic_rows_original = df.loc[problematic_rows.index, 'start']\n",
    "# Applying the function to the problematic rows and converting to datetime\n",
    "df.loc[problematic_rows.index, 'start'] = problematic_rows_original.apply(extract_date).apply(pd.to_datetime)\n",
    "\n",
    "# Displaying the updated rows to verify the cleaning process\n",
    "df.loc[problematic_rows.index, ['start']]"
   ]
  },
  {
   "cell_type": "code",
   "execution_count": 21,
   "id": "33d443b1-82b6-4512-95f8-8c6b27625975",
   "metadata": {
    "tags": []
   },
   "outputs": [],
   "source": [
    "# Importing the necessary library\n",
    "from pandas.tseries.offsets import MonthEnd\n",
    "\n",
    "# Getting the current date\n",
    "current_date = pd.Timestamp.today()\n",
    "\n",
    "# Calculating the difference in days between the start dates and the current date\n",
    "days_difference = (current_date - rdf['start']).dt.days\n",
    "\n",
    "# Converting the difference in days to months (using an average month length)\n",
    "months_difference_alternative = (days_difference / 30.44).round().astype(int)\n",
    "\n",
    "# Displaying the first few rows of the calculated months difference\n",
    "rdf['age_in_months'] = months_difference_alternative"
   ]
  },
  {
   "cell_type": "code",
   "execution_count": 86,
   "id": "9b6239e5-4ab7-4217-bb7b-475293bf509f",
   "metadata": {
    "tags": []
   },
   "outputs": [],
   "source": [
    "def one_hot_merge(df, cat, cat_prefix=None):\n",
    "    if cat_prefix==None:\n",
    "        cat_prefix=cat\n",
    "    dummies = pd.get_dummies(df[cat], prefix=cat_prefix, drop_first=True)\n",
    "    df = pd.concat([df, dummies], axis=1)\n",
    "    df = df.drop(cat, axis=1)\n",
    "    return df"
   ]
  },
  {
   "cell_type": "code",
   "execution_count": 87,
   "id": "22282848-7fa8-41af-9d74-9b42d7b7ac57",
   "metadata": {
    "tags": []
   },
   "outputs": [
    {
     "data": {
      "text/plain": [
       "(111, 11)"
      ]
     },
     "execution_count": 87,
     "metadata": {},
     "output_type": "execute_result"
    }
   ],
   "source": [
    "df.dropna().shape"
   ]
  },
  {
   "cell_type": "code",
   "execution_count": 34,
   "id": "3716e0eb-ca93-4b87-9e3b-c0afc214e158",
   "metadata": {
    "tags": []
   },
   "outputs": [],
   "source": [
    "# df[\"own_code\"] = df['own'].astype('category').cat.codes\n",
    "# df[\"fuel_code\"] = df['own'].astype('category').cat.codes\n",
    "#df = rdf[['own_x', 'fuel_type_x', 'capacity_mw', 'age_in_months']]\n",
    "# df = rdf[['own_x', 'fuel_type_x', 'capacity_mw', 'age_in_months', 'plant_name']].merge(costs, left_on=\"plant_name\", right_on=\"plant_name_x\", how=\"inner\")\n",
    "# df = one_hot_merge(df, \"own_x\", \"own\")\n",
    "# df = one_hot_merge(df, \"fuel_type_x\", \"fuel\")"
   ]
  },
  {
   "cell_type": "code",
   "execution_count": 75,
   "id": "5ee18e6b-10cd-4a3d-88e6-7ab729699a8c",
   "metadata": {
    "tags": []
   },
   "outputs": [
    {
     "data": {
      "text/plain": [
       "\"\\nSELECTED COLUMNS FOR REGRESSION\\n['own', 'fuel_type', 'capacity_mw', 'net_generation_gwh', 'usage', '2021_cost_per_unit']\\n\""
      ]
     },
     "execution_count": 75,
     "metadata": {},
     "output_type": "execute_result"
    }
   ],
   "source": [
    "\"\"\"\n",
    "SELECTED COLUMNS FOR REGRESSION\n",
    "['own', 'fuel_type', 'capacity_mw', 'net_generation_gwh', 'usage', '2021_cost_per_unit']\n",
    "\"\"\""
   ]
  },
  {
   "cell_type": "code",
   "execution_count": 15,
   "id": "b7d8bb59-45c6-4944-9d16-f41fcf9f42f4",
   "metadata": {
    "tags": []
   },
   "outputs": [
    {
     "data": {
      "text/plain": [
       "Index(['plant_name_x', 'net_generation_gwh', '2021_cost_per_unit',\n",
       "       '2022_cost_per_unit', 'usage'],\n",
       "      dtype='object')"
      ]
     },
     "execution_count": 15,
     "metadata": {},
     "output_type": "execute_result"
    }
   ],
   "source": [
    "costs.columns"
   ]
  },
  {
   "cell_type": "code",
   "execution_count": 16,
   "id": "49aa3904-8e5d-4994-ac5c-8b815c9036bb",
   "metadata": {
    "tags": []
   },
   "outputs": [
    {
     "data": {
      "text/html": [
       "<div>\n",
       "<style scoped>\n",
       "    .dataframe tbody tr th:only-of-type {\n",
       "        vertical-align: middle;\n",
       "    }\n",
       "\n",
       "    .dataframe tbody tr th {\n",
       "        vertical-align: top;\n",
       "    }\n",
       "\n",
       "    .dataframe thead th {\n",
       "        text-align: right;\n",
       "    }\n",
       "</style>\n",
       "<table border=\"1\" class=\"dataframe\">\n",
       "  <thead>\n",
       "    <tr style=\"text-align: right;\">\n",
       "      <th></th>\n",
       "      <th>plant_name_x</th>\n",
       "      <th>net_generation_gwh</th>\n",
       "      <th>2021_cost_per_unit</th>\n",
       "      <th>2022_cost_per_unit</th>\n",
       "      <th>usage</th>\n",
       "      <th>cost_per_unit</th>\n",
       "    </tr>\n",
       "  </thead>\n",
       "  <tbody>\n",
       "    <tr>\n",
       "      <th>15</th>\n",
       "      <td>Kutubdia 900KW Wind PP</td>\n",
       "      <td>0.6083</td>\n",
       "      <td>6.18</td>\n",
       "      <td>422.0</td>\n",
       "      <td>NaN</td>\n",
       "      <td>214.090</td>\n",
       "    </tr>\n",
       "    <tr>\n",
       "      <th>121</th>\n",
       "      <td>Sharishabari 3 MW Engreen Solar Power Plant</td>\n",
       "      <td>3.9442</td>\n",
       "      <td>16.11</td>\n",
       "      <td>16.0</td>\n",
       "      <td>0.150</td>\n",
       "      <td>16.055</td>\n",
       "    </tr>\n",
       "    <tr>\n",
       "      <th>123</th>\n",
       "      <td>Sympa Solar Power 8 MW</td>\n",
       "      <td>11.2690</td>\n",
       "      <td>11.04</td>\n",
       "      <td>11.0</td>\n",
       "      <td>0.160</td>\n",
       "      <td>11.020</td>\n",
       "    </tr>\n",
       "    <tr>\n",
       "      <th>16</th>\n",
       "      <td>Kaptai Solar</td>\n",
       "      <td>9.7123</td>\n",
       "      <td>5.79</td>\n",
       "      <td>1556.0</td>\n",
       "      <td>0.159</td>\n",
       "      <td>780.895</td>\n",
       "    </tr>\n",
       "    <tr>\n",
       "      <th>138</th>\n",
       "      <td>Fenchugonj 50 MW Rental (Energy Prima)</td>\n",
       "      <td>219.7947</td>\n",
       "      <td>3.27</td>\n",
       "      <td>3.0</td>\n",
       "      <td>0.860</td>\n",
       "      <td>3.135</td>\n",
       "    </tr>\n",
       "    <tr>\n",
       "      <th>...</th>\n",
       "      <td>...</td>\n",
       "      <td>...</td>\n",
       "      <td>...</td>\n",
       "      <td>...</td>\n",
       "      <td>...</td>\n",
       "      <td>...</td>\n",
       "    </tr>\n",
       "    <tr>\n",
       "      <th>17</th>\n",
       "      <td>Titas 50 MW Peaking PP</td>\n",
       "      <td>45.1598</td>\n",
       "      <td>17.00</td>\n",
       "      <td>18.0</td>\n",
       "      <td>0.104</td>\n",
       "      <td>17.500</td>\n",
       "    </tr>\n",
       "    <tr>\n",
       "      <th>42</th>\n",
       "      <td>CLC Power Co. Ltd. 108 MW Bosila Keranigonj</td>\n",
       "      <td>0.0000</td>\n",
       "      <td>NaN</td>\n",
       "      <td>NaN</td>\n",
       "      <td>0.000</td>\n",
       "      <td>NaN</td>\n",
       "    </tr>\n",
       "    <tr>\n",
       "      <th>56</th>\n",
       "      <td>APR Energy 300MW</td>\n",
       "      <td>71.9614</td>\n",
       "      <td>88.90</td>\n",
       "      <td>41.0</td>\n",
       "      <td>0.030</td>\n",
       "      <td>64.950</td>\n",
       "    </tr>\n",
       "    <tr>\n",
       "      <th>63</th>\n",
       "      <td>Bogura 20 RPP (3 Yrs) Energy Prima</td>\n",
       "      <td>30.3411</td>\n",
       "      <td>3.47</td>\n",
       "      <td>NaN</td>\n",
       "      <td>0.170</td>\n",
       "      <td>3.470</td>\n",
       "    </tr>\n",
       "    <tr>\n",
       "      <th>69</th>\n",
       "      <td>IEL, Meghnaghat 100 MW</td>\n",
       "      <td>270.9907</td>\n",
       "      <td>14.07</td>\n",
       "      <td>NaN</td>\n",
       "      <td>0.310</td>\n",
       "      <td>14.070</td>\n",
       "    </tr>\n",
       "  </tbody>\n",
       "</table>\n",
       "<p>154 rows × 6 columns</p>\n",
       "</div>"
      ],
      "text/plain": [
       "                                    plant_name_x  net_generation_gwh  \\\n",
       "15                        Kutubdia 900KW Wind PP              0.6083   \n",
       "121  Sharishabari 3 MW Engreen Solar Power Plant              3.9442   \n",
       "123                       Sympa Solar Power 8 MW             11.2690   \n",
       "16                                  Kaptai Solar              9.7123   \n",
       "138       Fenchugonj 50 MW Rental (Energy Prima)            219.7947   \n",
       "..                                           ...                 ...   \n",
       "17                        Titas 50 MW Peaking PP             45.1598   \n",
       "42   CLC Power Co. Ltd. 108 MW Bosila Keranigonj              0.0000   \n",
       "56                              APR Energy 300MW             71.9614   \n",
       "63            Bogura 20 RPP (3 Yrs) Energy Prima             30.3411   \n",
       "69                        IEL, Meghnaghat 100 MW            270.9907   \n",
       "\n",
       "     2021_cost_per_unit  2022_cost_per_unit  usage  cost_per_unit  \n",
       "15                 6.18               422.0    NaN        214.090  \n",
       "121               16.11                16.0  0.150         16.055  \n",
       "123               11.04                11.0  0.160         11.020  \n",
       "16                 5.79              1556.0  0.159        780.895  \n",
       "138                3.27                 3.0  0.860          3.135  \n",
       "..                  ...                 ...    ...            ...  \n",
       "17                17.00                18.0  0.104         17.500  \n",
       "42                  NaN                 NaN  0.000            NaN  \n",
       "56                88.90                41.0  0.030         64.950  \n",
       "63                 3.47                 NaN  0.170          3.470  \n",
       "69                14.07                 NaN  0.310         14.070  \n",
       "\n",
       "[154 rows x 6 columns]"
      ]
     },
     "execution_count": 16,
     "metadata": {},
     "output_type": "execute_result"
    }
   ],
   "source": [
    "def calculate_average_general(df, col1, col2):\n",
    "    def average_row(row):\n",
    "        if pd.notnull(row[col1]) and pd.notnull(row[col2]):\n",
    "            return (row[col1] + row[col2]) / 2\n",
    "        elif pd.notnull(row[col1]):\n",
    "            return row[col1]\n",
    "        elif pd.notnull(row[col2]):\n",
    "            return row[col2]\n",
    "        return None\n",
    "    \n",
    "    return df.apply(average_row, axis=1)\n",
    "\n",
    "# Testing the function with the 'capacity_mw' and 'capacity_x' columns\n",
    "costs['cost_per_unit'] = calculate_average_general(costs, '2021_cost_per_unit', '2022_cost_per_unit')\n",
    "costs"
   ]
  },
  {
   "cell_type": "code",
   "execution_count": 88,
   "id": "700d915e-d051-4a7b-b1a3-6135139221a1",
   "metadata": {
    "tags": []
   },
   "outputs": [],
   "source": [
    "#df = rdf[['own_x', 'fuel_type_x', 'capacity_mw', 'age_in_months', 'plant_name']].merge(costs, left_on=\"plant_name\", right_on=\"plant_name_x\", how=\"inner\").drop(columns=[\"plant_name\", \"plant_name_x\"])\n",
    "df = one_hot_merge(df, \"own_x\", \"own\")\n",
    "df = one_hot_merge(df, \"fuel_type_x\", \"fuel\")\n",
    "#df['age_in_months'] = df['age_in_months']/12\n",
    "#"
   ]
  },
  {
   "cell_type": "code",
   "execution_count": 89,
   "id": "3c21d678-5a9f-429b-945f-e3d2c91e2af7",
   "metadata": {
    "tags": []
   },
   "outputs": [
    {
     "data": {
      "text/html": [
       "<div>\n",
       "<style scoped>\n",
       "    .dataframe tbody tr th:only-of-type {\n",
       "        vertical-align: middle;\n",
       "    }\n",
       "\n",
       "    .dataframe tbody tr th {\n",
       "        vertical-align: top;\n",
       "    }\n",
       "\n",
       "    .dataframe thead th {\n",
       "        text-align: right;\n",
       "    }\n",
       "</style>\n",
       "<table border=\"1\" class=\"dataframe\">\n",
       "  <thead>\n",
       "    <tr style=\"text-align: right;\">\n",
       "      <th></th>\n",
       "      <th>plant_name</th>\n",
       "      <th>capacity_mw</th>\n",
       "      <th>start</th>\n",
       "      <th>plant_name_x</th>\n",
       "      <th>net_generation_gwh</th>\n",
       "      <th>usage</th>\n",
       "      <th>2021_cost_per_unit</th>\n",
       "      <th>2022_cost_per_unit</th>\n",
       "      <th>2022_units</th>\n",
       "      <th>own_IPP</th>\n",
       "      <th>own_Joint venture</th>\n",
       "      <th>own_Public</th>\n",
       "      <th>own_RENTAL &amp; SIPP</th>\n",
       "      <th>fuel_GAS</th>\n",
       "      <th>fuel_HFO</th>\n",
       "      <th>fuel_HSD</th>\n",
       "      <th>fuel_HYDRO</th>\n",
       "      <th>fuel_IMPORT</th>\n",
       "      <th>fuel_SOLAR</th>\n",
       "      <th>fuel_WIND</th>\n",
       "    </tr>\n",
       "  </thead>\n",
       "  <tbody>\n",
       "    <tr>\n",
       "      <th>0</th>\n",
       "      <td>Sharishabari 3 MW Engreen Solar Power Plant</td>\n",
       "      <td>3.0</td>\n",
       "      <td>2017.0</td>\n",
       "      <td>Sharishabari 3 MW Engreen Solar Power Plant</td>\n",
       "      <td>3.9442</td>\n",
       "      <td>0.15</td>\n",
       "      <td>16.11</td>\n",
       "      <td>16.42</td>\n",
       "      <td>3997213</td>\n",
       "      <td>True</td>\n",
       "      <td>False</td>\n",
       "      <td>False</td>\n",
       "      <td>False</td>\n",
       "      <td>False</td>\n",
       "      <td>False</td>\n",
       "      <td>False</td>\n",
       "      <td>False</td>\n",
       "      <td>False</td>\n",
       "      <td>True</td>\n",
       "      <td>False</td>\n",
       "    </tr>\n",
       "    <tr>\n",
       "      <th>1</th>\n",
       "      <td>Sympa Solar Power 8 MW</td>\n",
       "      <td>8.0</td>\n",
       "      <td>2019.0</td>\n",
       "      <td>Sympa Solar Power 8 MW</td>\n",
       "      <td>11.2690</td>\n",
       "      <td>0.16</td>\n",
       "      <td>11.04</td>\n",
       "      <td>11.26</td>\n",
       "      <td>11994460</td>\n",
       "      <td>True</td>\n",
       "      <td>False</td>\n",
       "      <td>False</td>\n",
       "      <td>False</td>\n",
       "      <td>False</td>\n",
       "      <td>False</td>\n",
       "      <td>False</td>\n",
       "      <td>False</td>\n",
       "      <td>False</td>\n",
       "      <td>True</td>\n",
       "      <td>False</td>\n",
       "    </tr>\n",
       "  </tbody>\n",
       "</table>\n",
       "</div>"
      ],
      "text/plain": [
       "                                    plant_name  capacity_mw   start  \\\n",
       "0  Sharishabari 3 MW Engreen Solar Power Plant          3.0  2017.0   \n",
       "1                       Sympa Solar Power 8 MW          8.0  2019.0   \n",
       "\n",
       "                                  plant_name_x  net_generation_gwh  usage  \\\n",
       "0  Sharishabari 3 MW Engreen Solar Power Plant              3.9442   0.15   \n",
       "1                       Sympa Solar Power 8 MW             11.2690   0.16   \n",
       "\n",
       "   2021_cost_per_unit 2022_cost_per_unit 2022_units  own_IPP  \\\n",
       "0               16.11              16.42    3997213     True   \n",
       "1               11.04              11.26   11994460     True   \n",
       "\n",
       "   own_Joint venture  own_Public  own_RENTAL & SIPP  fuel_GAS  fuel_HFO  \\\n",
       "0              False       False              False     False     False   \n",
       "1              False       False              False     False     False   \n",
       "\n",
       "   fuel_HSD  fuel_HYDRO  fuel_IMPORT  fuel_SOLAR  fuel_WIND  \n",
       "0     False       False        False        True      False  \n",
       "1     False       False        False        True      False  "
      ]
     },
     "execution_count": 89,
     "metadata": {},
     "output_type": "execute_result"
    }
   ],
   "source": [
    "df.head(2)"
   ]
  },
  {
   "cell_type": "markdown",
   "id": "ae8a5c22-0ee1-4e18-810b-a516340c74b1",
   "metadata": {},
   "source": [
    "# Adding 2022 usage estimate"
   ]
  },
  {
   "cell_type": "code",
   "execution_count": 90,
   "id": "ba53bfd0-2dd2-4209-91e7-823d3928b6df",
   "metadata": {
    "tags": []
   },
   "outputs": [],
   "source": [
    "df.to_csv('2022_usage_added.csv')"
   ]
  },
  {
   "cell_type": "code",
   "execution_count": 2,
   "id": "ba5a2552-169f-44ae-9fb2-2270c0cda6c1",
   "metadata": {
    "tags": []
   },
   "outputs": [
    {
     "data": {
      "text/html": [
       "<div>\n",
       "<style scoped>\n",
       "    .dataframe tbody tr th:only-of-type {\n",
       "        vertical-align: middle;\n",
       "    }\n",
       "\n",
       "    .dataframe tbody tr th {\n",
       "        vertical-align: top;\n",
       "    }\n",
       "\n",
       "    .dataframe thead th {\n",
       "        text-align: right;\n",
       "    }\n",
       "</style>\n",
       "<table border=\"1\" class=\"dataframe\">\n",
       "  <thead>\n",
       "    <tr style=\"text-align: right;\">\n",
       "      <th></th>\n",
       "      <th>plant_name</th>\n",
       "      <th>plant_name_x</th>\n",
       "      <th>2022_usage</th>\n",
       "      <th>capacity_mw</th>\n",
       "      <th>start</th>\n",
       "      <th>net_generation_gwh</th>\n",
       "      <th>usage</th>\n",
       "      <th>2021_cost_per_unit</th>\n",
       "      <th>2022_cost_per_unit</th>\n",
       "      <th>own_IPP</th>\n",
       "      <th>own_Joint venture</th>\n",
       "      <th>own_Public</th>\n",
       "      <th>own_RENTAL &amp; SIPP</th>\n",
       "      <th>fuel_GAS</th>\n",
       "      <th>fuel_HFO</th>\n",
       "      <th>fuel_HSD</th>\n",
       "      <th>fuel_HYDRO</th>\n",
       "      <th>fuel_SOLAR</th>\n",
       "      <th>fuel_WIND</th>\n",
       "    </tr>\n",
       "  </thead>\n",
       "  <tbody>\n",
       "    <tr>\n",
       "      <th>7</th>\n",
       "      <td>Kumargao 10 MW Desh Combridge (15 Yrs)</td>\n",
       "      <td>Kumargao 10 MW Desh Combridge (15 Yrs)</td>\n",
       "      <td>86.0</td>\n",
       "      <td>10</td>\n",
       "      <td>2009.0</td>\n",
       "      <td>61.4628</td>\n",
       "      <td>0.70</td>\n",
       "      <td>3.84</td>\n",
       "      <td>3.62</td>\n",
       "      <td>False</td>\n",
       "      <td>False</td>\n",
       "      <td>False</td>\n",
       "      <td>True</td>\n",
       "      <td>True</td>\n",
       "      <td>False</td>\n",
       "      <td>False</td>\n",
       "      <td>False</td>\n",
       "      <td>False</td>\n",
       "      <td>False</td>\n",
       "    </tr>\n",
       "    <tr>\n",
       "      <th>64</th>\n",
       "      <td>Bogura 20 RPP (3 Yrs) Energy Prima</td>\n",
       "      <td>Bogura 20 RPP (3 Yrs) Energy Prima</td>\n",
       "      <td>0.0</td>\n",
       "      <td>20</td>\n",
       "      <td>2011.0</td>\n",
       "      <td>30.3411</td>\n",
       "      <td>0.17</td>\n",
       "      <td>3.47</td>\n",
       "      <td>NaN</td>\n",
       "      <td>False</td>\n",
       "      <td>False</td>\n",
       "      <td>False</td>\n",
       "      <td>True</td>\n",
       "      <td>True</td>\n",
       "      <td>False</td>\n",
       "      <td>False</td>\n",
       "      <td>False</td>\n",
       "      <td>False</td>\n",
       "      <td>False</td>\n",
       "    </tr>\n",
       "  </tbody>\n",
       "</table>\n",
       "</div>"
      ],
      "text/plain": [
       "                                plant_name  \\\n",
       "7   Kumargao 10 MW Desh Combridge (15 Yrs)   \n",
       "64      Bogura 20 RPP (3 Yrs) Energy Prima   \n",
       "\n",
       "                              plant_name_x  2022_usage  capacity_mw   start  \\\n",
       "7   Kumargao 10 MW Desh Combridge (15 Yrs)        86.0           10  2009.0   \n",
       "64      Bogura 20 RPP (3 Yrs) Energy Prima         0.0           20  2011.0   \n",
       "\n",
       "    net_generation_gwh  usage  2021_cost_per_unit 2022_cost_per_unit  own_IPP  \\\n",
       "7              61.4628   0.70                3.84               3.62    False   \n",
       "64             30.3411   0.17                3.47                NaN    False   \n",
       "\n",
       "    own_Joint venture  own_Public  own_RENTAL & SIPP  fuel_GAS  fuel_HFO  \\\n",
       "7               False       False               True      True     False   \n",
       "64              False       False               True      True     False   \n",
       "\n",
       "    fuel_HSD  fuel_HYDRO  fuel_SOLAR  fuel_WIND  \n",
       "7      False       False       False      False  \n",
       "64     False       False       False      False  "
      ]
     },
     "execution_count": 2,
     "metadata": {},
     "output_type": "execute_result"
    }
   ],
   "source": [
    "df = pd.read_csv('2022_usage_added.csv', index_col=0)\n",
    "df.head(2)"
   ]
  },
  {
   "cell_type": "code",
   "execution_count": 105,
   "id": "2065f887-19af-4573-a97a-ce2577cf75d9",
   "metadata": {
    "tags": []
   },
   "outputs": [
    {
     "data": {
      "text/plain": [
       "Index(['plant_name', 'plant_name_x', '2022_usage', 'capacity_mw', 'start',\n",
       "       'net_generation_gwh', 'usage', '2021_cost_per_unit',\n",
       "       '2022_cost_per_unit', 'own_IPP', 'own_Joint venture', 'own_Public',\n",
       "       'own_RENTAL & SIPP', 'fuel_GAS', 'fuel_HFO', 'fuel_HSD', 'fuel_HYDRO',\n",
       "       'fuel_SOLAR', 'fuel_WIND'],\n",
       "      dtype='object')"
      ]
     },
     "execution_count": 105,
     "metadata": {},
     "output_type": "execute_result"
    }
   ],
   "source": [
    "df.columns"
   ]
  },
  {
   "cell_type": "code",
   "execution_count": 3,
   "id": "88eb7eea-c91b-4e56-b84f-beb6620a4001",
   "metadata": {
    "tags": []
   },
   "outputs": [],
   "source": [
    "def get_plf_estimates(df, capacity_col, net_generation_col):\n",
    "    # Create new plf variable\n",
    "    final_df = df.copy()\n",
    "    final_df[\"plf\"] = ((final_df[net_generation_col])*0.001)/(final_df[capacity_col]+1)\n",
    "    sgate = final_df[[\"usage\", \"plf\"]].plf\n",
    "    final_df[\"plf\"] = (sgate - sgate.min())/sgate.max()\n",
    "    print('Correlation estimates')\n",
    "    print(final_df[[\"usage\", \"plf\"]].corr())\n",
    "    \n",
    "    # Regress plf on usage\n",
    "    import statsmodels.api as sm\n",
    "    xd = final_df[[\"usage\", \"plf\"]]\n",
    "    raw_df = xd.apply(lambda x : pd.to_numeric(x, errors=\"coerce\")).dropna().astype('float64')\n",
    "    X = sm.add_constant(raw_df[[\"plf\"]]) # Adding a constant (intercept) term\n",
    "    model = sm.OLS(raw_df.usage, X).fit()\n",
    "    summary = model.summary()\n",
    "    print(summary)\n",
    "    \n",
    "    #predicted_vals = constant_term + plf_coeff*final_df[\"plf\"]\n",
    "    return model.params\n",
    "\n",
    "def plf_creation(df, capacity_col, net_generation_col, constant_term, plf_coeff):\n",
    "    final_df = df.copy()\n",
    "    final_df[\"plf\"] = ((final_df[net_generation_col])*0.001)/(final_df[capacity_col]+1)\n",
    "    sgate = final_df[[\"usage\", \"plf\"]].plf\n",
    "    final_df[\"plf\"] = (sgate - sgate.min())/sgate.max()\n",
    "    predicted_vals = constant_term + plf_coeff*final_df[\"plf\"]\n",
    "    return predicted_vals"
   ]
  },
  {
   "cell_type": "code",
   "execution_count": 4,
   "id": "600eaa31-4d22-450a-bab3-89b191d5e907",
   "metadata": {
    "tags": []
   },
   "outputs": [],
   "source": [
    "import datetime as dt\n",
    "# Before converting, we replace hyphens with NaNs as hyphens can't be converted to numeric values\n",
    "df.replace('-', pd.NA, inplace=True)\n",
    "df[\"2022_cost_per_unit\"] = pd.to_numeric(df[\"2022_cost_per_unit\"], errors='coerce')\n",
    "df[\"2022_usage\"] = pd.to_numeric(df[\"2022_usage\"], errors='coerce')\n",
    "df[\"2021_cost_per_unit\"] = pd.to_numeric(df[\"2021_cost_per_unit\"], errors='coerce')\n",
    "#df[\"cost_increase\"] = df[\"2022_cost_per_unit\"].astype(float) - df[\"2021_cost_per_unit\"].astype(float)\n",
    "df[\"age\"] = 2023 - df[\"start\"]\n",
    "df['usage'] = df.usage.fillna(0)\n",
    "df['2022_usage'] = (df['2022_usage']/100).fillna(0)\n",
    "#df['diff'] = df[\"2022_cost_per_unit\"]-df[\"2021_cost_per_unit\"]"
   ]
  },
  {
   "cell_type": "markdown",
   "id": "9e92eb0d-04c7-4941-b08b-0658897446c6",
   "metadata": {
    "tags": []
   },
   "source": [
    "# Regress for PLF!"
   ]
  },
  {
   "cell_type": "code",
   "execution_count": 96,
   "id": "a2f6d16d-a137-4d6c-94c3-ea72ed9ed287",
   "metadata": {},
   "outputs": [
    {
     "name": "stdout",
     "output_type": "stream",
     "text": [
      "Correlation estimates\n",
      "          usage       plf\n",
      "usage  1.000000  0.785426\n",
      "plf    0.785426  1.000000\n",
      "                            OLS Regression Results                            \n",
      "==============================================================================\n",
      "Dep. Variable:                  usage   R-squared:                       0.617\n",
      "Model:                            OLS   Adj. R-squared:                  0.614\n",
      "Method:                 Least Squares   F-statistic:                     204.5\n",
      "Date:                Wed, 04 Oct 2023   Prob (F-statistic):           3.11e-28\n",
      "Time:                        22:47:15   Log-Likelihood:                 53.718\n",
      "No. Observations:                 129   AIC:                            -103.4\n",
      "Df Residuals:                     127   BIC:                            -97.72\n",
      "Df Model:                           1                                         \n",
      "Covariance Type:            nonrobust                                         \n",
      "==============================================================================\n",
      "                 coef    std err          t      P>|t|      [0.025      0.975]\n",
      "------------------------------------------------------------------------------\n",
      "const         -0.0831      0.033     -2.530      0.013      -0.148      -0.018\n",
      "plf            1.3617      0.095     14.300      0.000       1.173       1.550\n",
      "==============================================================================\n",
      "Omnibus:                      195.789   Durbin-Watson:                   2.085\n",
      "Prob(Omnibus):                  0.000   Jarque-Bera (JB):            15109.378\n",
      "Skew:                          -5.986   Prob(JB):                         0.00\n",
      "Kurtosis:                      54.650   Cond. No.                         7.39\n",
      "==============================================================================\n",
      "\n",
      "Notes:\n",
      "[1] Standard Errors assume that the covariance matrix of the errors is correctly specified.\n"
     ]
    }
   ],
   "source": [
    "constant_term, plf_coeff = get_plf_estimates(df, \"capacity_mw\", \"net_generation_gwh\")"
   ]
  },
  {
   "cell_type": "code",
   "execution_count": 101,
   "id": "da007260-cab4-429c-96b5-492398f3bf21",
   "metadata": {
    "tags": []
   },
   "outputs": [
    {
     "data": {
      "text/plain": [
       "0     0.005605\n",
       "1     0.035029\n",
       "2          NaN\n",
       "3          NaN\n",
       "5          NaN\n",
       "        ...   \n",
       "57    0.313807\n",
       "58    0.302347\n",
       "60    0.062659\n",
       "62         NaN\n",
       "64         NaN\n",
       "Name: plf, Length: 134, dtype: float64"
      ]
     },
     "execution_count": 101,
     "metadata": {},
     "output_type": "execute_result"
    }
   ],
   "source": [
    "capacity_col = \"capacity_mw\"\n",
    "net_generation_col = \"2022_units\"\n",
    "plf_creation(df, capacity_col, net_generation_col, constant_term, plf_coeff)"
   ]
  },
  {
   "cell_type": "code",
   "execution_count": null,
   "id": "ebc0c001-7c08-43bb-b161-ad136a858c4f",
   "metadata": {},
   "outputs": [],
   "source": [
    "df[\"2022_usage\"] = constant_term + plf_coeff*df[\"plf\"]"
   ]
  },
  {
   "cell_type": "code",
   "execution_count": 40,
   "id": "cf73e070-f7c4-4154-be8a-31bd43b5f4e1",
   "metadata": {
    "tags": []
   },
   "outputs": [
    {
     "data": {
      "text/plain": [
       "5"
      ]
     },
     "execution_count": 40,
     "metadata": {},
     "output_type": "execute_result"
    }
   ],
   "source": [
    "df.age.sort_values(ascending=False).isna().sum()"
   ]
  },
  {
   "cell_type": "code",
   "execution_count": 79,
   "id": "2885c1ce-73c2-4578-8111-4173a25bc5d0",
   "metadata": {},
   "outputs": [
    {
     "data": {
      "text/plain": [
       "(116, 22)"
      ]
     },
     "execution_count": 79,
     "metadata": {},
     "output_type": "execute_result"
    }
   ],
   "source": [
    "df.dropna().shape"
   ]
  },
  {
   "cell_type": "code",
   "execution_count": 80,
   "id": "54251d09-921c-4f2d-89ad-898e5d1fd66b",
   "metadata": {
    "tags": []
   },
   "outputs": [
    {
     "data": {
      "text/plain": [
       "<Axes: >"
      ]
     },
     "execution_count": 80,
     "metadata": {},
     "output_type": "execute_result"
    },
    {
     "data": {
      "image/png": "[encoded data removed]",
      "text/plain": [
       "<Figure size 640x480 with 1 Axes>"
      ]
     },
     "metadata": {},
     "output_type": "display_data"
    }
   ],
   "source": [
    "pd.to_numeric(df[\"diff\"], errors='coerce').plot(style='.')"
   ]
  },
  {
   "cell_type": "markdown",
   "id": "ec465316-c2f8-40f6-834e-4833563dd839",
   "metadata": {},
   "source": [
    "## 2 Outliers exist (at around +600 and -600)"
   ]
  },
  {
   "cell_type": "code",
   "execution_count": 22,
   "id": "c33b45c4-f7bc-4fb2-8d7e-2b381f291426",
   "metadata": {
    "tags": []
   },
   "outputs": [
    {
     "data": {
      "text/plain": [
       "<Axes: ylabel='Density'>"
      ]
     },
     "execution_count": 22,
     "metadata": {},
     "output_type": "execute_result"
    },
    {
     "data": {
      "image/png": "[encoded data removed]",
      "text/plain": [
       "<Figure size 640x480 with 1 Axes>"
      ]
     },
     "metadata": {},
     "output_type": "display_data"
    }
   ],
   "source": [
    "pd.to_numeric(df[\"diff\"], errors='coerce').plot.kde()"
   ]
  },
  {
   "cell_type": "code",
   "execution_count": 225,
   "id": "9b941df7-a6cd-4969-873f-ab15472567c6",
   "metadata": {
    "tags": []
   },
   "outputs": [
    {
     "data": {
      "text/plain": [
       "<Axes: ylabel='Density'>"
      ]
     },
     "execution_count": 225,
     "metadata": {},
     "output_type": "execute_result"
    },
    {
     "data": {
      "image/png": "[encoded data removed]",
      "text/plain": [
       "<Figure size 640x480 with 1 Axes>"
      ]
     },
     "metadata": {},
     "output_type": "display_data"
    }
   ],
   "source": [
    "# (100*(df[\"2022_cost_per_unit\"].astype(float) - df[\"2021_cost_per_unit\"].astype(float))/df[\"2021_cost_per_unit\"].astype(float)).plot(style='.')\n",
    "(100*(df[\"2022_cost_per_unit\"].astype(float) - df[\"2021_cost_per_unit\"].astype(float))/df[\"2021_cost_per_unit\"].astype(float)).replace([np.inf, -np.inf], np.nan).dropna().plot.kde()"
   ]
  },
  {
   "cell_type": "code",
   "execution_count": 81,
   "id": "736eb0a9-bdb6-403c-830b-975141ef409d",
   "metadata": {
    "tags": []
   },
   "outputs": [
    {
     "data": {
      "text/html": [
       "<div>\n",
       "<style scoped>\n",
       "    .dataframe tbody tr th:only-of-type {\n",
       "        vertical-align: middle;\n",
       "    }\n",
       "\n",
       "    .dataframe tbody tr th {\n",
       "        vertical-align: top;\n",
       "    }\n",
       "\n",
       "    .dataframe thead th {\n",
       "        text-align: right;\n",
       "    }\n",
       "</style>\n",
       "<table border=\"1\" class=\"dataframe\">\n",
       "  <thead>\n",
       "    <tr style=\"text-align: right;\">\n",
       "      <th></th>\n",
       "      <th>plant_name</th>\n",
       "      <th>capacity_mw</th>\n",
       "      <th>start</th>\n",
       "      <th>plant_name_x</th>\n",
       "      <th>net_generation_gwh</th>\n",
       "      <th>usage</th>\n",
       "      <th>2021_cost_per_unit</th>\n",
       "      <th>2022_cost_per_unit</th>\n",
       "      <th>diff</th>\n",
       "      <th>own_IPP</th>\n",
       "      <th>...</th>\n",
       "      <th>own_RENTAL &amp; SIPP</th>\n",
       "      <th>fuel_GAS</th>\n",
       "      <th>fuel_HFO</th>\n",
       "      <th>fuel_HSD</th>\n",
       "      <th>fuel_HYDRO</th>\n",
       "      <th>fuel_IMPORT</th>\n",
       "      <th>fuel_SOLAR</th>\n",
       "      <th>fuel_WIND</th>\n",
       "      <th>cost_increase</th>\n",
       "      <th>age</th>\n",
       "    </tr>\n",
       "  </thead>\n",
       "  <tbody>\n",
       "    <tr>\n",
       "      <th>95</th>\n",
       "      <td>Ghorasal Repowered CCPP Unit-3</td>\n",
       "      <td>260.0</td>\n",
       "      <td>2021.0</td>\n",
       "      <td>Ghorasal Repowered CCPP Unit-3</td>\n",
       "      <td>47.1487</td>\n",
       "      <td>0.023</td>\n",
       "      <td>3.13</td>\n",
       "      <td>681.29</td>\n",
       "      <td>678.16</td>\n",
       "      <td>False</td>\n",
       "      <td>...</td>\n",
       "      <td>False</td>\n",
       "      <td>True</td>\n",
       "      <td>False</td>\n",
       "      <td>False</td>\n",
       "      <td>False</td>\n",
       "      <td>False</td>\n",
       "      <td>False</td>\n",
       "      <td>False</td>\n",
       "      <td>678.16</td>\n",
       "      <td>2.0</td>\n",
       "    </tr>\n",
       "  </tbody>\n",
       "</table>\n",
       "<p>1 rows × 22 columns</p>\n",
       "</div>"
      ],
      "text/plain": [
       "                         plant_name  capacity_mw   start  \\\n",
       "95   Ghorasal Repowered CCPP Unit-3        260.0  2021.0   \n",
       "\n",
       "                       plant_name_x  net_generation_gwh  usage  \\\n",
       "95   Ghorasal Repowered CCPP Unit-3             47.1487  0.023   \n",
       "\n",
       "    2021_cost_per_unit  2022_cost_per_unit    diff  own_IPP  ...  \\\n",
       "95                3.13              681.29  678.16    False  ...   \n",
       "\n",
       "    own_RENTAL & SIPP  fuel_GAS  fuel_HFO  fuel_HSD  fuel_HYDRO  fuel_IMPORT  \\\n",
       "95              False      True     False     False       False        False   \n",
       "\n",
       "    fuel_SOLAR  fuel_WIND  cost_increase  age  \n",
       "95       False      False         678.16  2.0  \n",
       "\n",
       "[1 rows x 22 columns]"
      ]
     },
     "execution_count": 81,
     "metadata": {},
     "output_type": "execute_result"
    }
   ],
   "source": [
    "df.sort_values(by=[\"diff\"], ascending=False).head(1)"
   ]
  },
  {
   "cell_type": "code",
   "execution_count": 62,
   "id": "d4ef3ac4-9adc-4b6b-8613-c9285d8725f4",
   "metadata": {
    "tags": []
   },
   "outputs": [
    {
     "data": {
      "text/html": [
       "<div>\n",
       "<style scoped>\n",
       "    .dataframe tbody tr th:only-of-type {\n",
       "        vertical-align: middle;\n",
       "    }\n",
       "\n",
       "    .dataframe tbody tr th {\n",
       "        vertical-align: top;\n",
       "    }\n",
       "\n",
       "    .dataframe thead th {\n",
       "        text-align: right;\n",
       "    }\n",
       "</style>\n",
       "<table border=\"1\" class=\"dataframe\">\n",
       "  <thead>\n",
       "    <tr style=\"text-align: right;\">\n",
       "      <th></th>\n",
       "      <th>plant_name</th>\n",
       "      <th>capacity_mw</th>\n",
       "      <th>start</th>\n",
       "      <th>plant_name_x</th>\n",
       "      <th>net_generation_gwh</th>\n",
       "      <th>usage</th>\n",
       "      <th>2021_cost_per_unit</th>\n",
       "      <th>2022_cost_per_unit</th>\n",
       "      <th>diff</th>\n",
       "      <th>own_IPP</th>\n",
       "      <th>...</th>\n",
       "      <th>own_RENTAL &amp; SIPP</th>\n",
       "      <th>fuel_GAS</th>\n",
       "      <th>fuel_HFO</th>\n",
       "      <th>fuel_HSD</th>\n",
       "      <th>fuel_HYDRO</th>\n",
       "      <th>fuel_IMPORT</th>\n",
       "      <th>fuel_SOLAR</th>\n",
       "      <th>fuel_WIND</th>\n",
       "      <th>cost_increase</th>\n",
       "      <th>age</th>\n",
       "    </tr>\n",
       "  </thead>\n",
       "  <tbody>\n",
       "    <tr>\n",
       "      <th>103</th>\n",
       "      <td>Gopalganj 100 MW Peaking PP</td>\n",
       "      <td>109.0</td>\n",
       "      <td>2011.0</td>\n",
       "      <td>Gopalganj 100 MW Peaking PP</td>\n",
       "      <td>4.1326</td>\n",
       "      <td>0.007</td>\n",
       "      <td>218.79</td>\n",
       "      <td>51.49</td>\n",
       "      <td>-167.30</td>\n",
       "      <td>False</td>\n",
       "      <td>...</td>\n",
       "      <td>False</td>\n",
       "      <td>False</td>\n",
       "      <td>True</td>\n",
       "      <td>False</td>\n",
       "      <td>False</td>\n",
       "      <td>False</td>\n",
       "      <td>False</td>\n",
       "      <td>False</td>\n",
       "      <td>-167.30</td>\n",
       "      <td>12.0</td>\n",
       "    </tr>\n",
       "    <tr>\n",
       "      <th>60</th>\n",
       "      <td>Paramount Baghabari BanglaTrack</td>\n",
       "      <td>200.0</td>\n",
       "      <td>2019.0</td>\n",
       "      <td>Paramount Baghabari BanglaTrack</td>\n",
       "      <td>22.1198</td>\n",
       "      <td>0.010</td>\n",
       "      <td>180.67</td>\n",
       "      <td>55.39</td>\n",
       "      <td>-125.28</td>\n",
       "      <td>True</td>\n",
       "      <td>...</td>\n",
       "      <td>False</td>\n",
       "      <td>False</td>\n",
       "      <td>False</td>\n",
       "      <td>True</td>\n",
       "      <td>False</td>\n",
       "      <td>False</td>\n",
       "      <td>False</td>\n",
       "      <td>False</td>\n",
       "      <td>-125.28</td>\n",
       "      <td>4.0</td>\n",
       "    </tr>\n",
       "  </tbody>\n",
       "</table>\n",
       "<p>2 rows × 22 columns</p>\n",
       "</div>"
      ],
      "text/plain": [
       "                          plant_name  capacity_mw   start  \\\n",
       "103      Gopalganj 100 MW Peaking PP        109.0  2011.0   \n",
       "60   Paramount Baghabari BanglaTrack        200.0  2019.0   \n",
       "\n",
       "                        plant_name_x  net_generation_gwh  usage  \\\n",
       "103      Gopalganj 100 MW Peaking PP              4.1326  0.007   \n",
       "60   Paramount Baghabari BanglaTrack             22.1198  0.010   \n",
       "\n",
       "     2021_cost_per_unit  2022_cost_per_unit    diff  own_IPP  ...  \\\n",
       "103              218.79               51.49 -167.30    False  ...   \n",
       "60               180.67               55.39 -125.28     True  ...   \n",
       "\n",
       "     own_RENTAL & SIPP  fuel_GAS  fuel_HFO  fuel_HSD  fuel_HYDRO  fuel_IMPORT  \\\n",
       "103              False     False      True     False       False        False   \n",
       "60               False     False     False      True       False        False   \n",
       "\n",
       "     fuel_SOLAR  fuel_WIND  cost_increase   age  \n",
       "103       False      False        -167.30  12.0  \n",
       "60        False      False        -125.28   4.0  \n",
       "\n",
       "[2 rows x 22 columns]"
      ]
     },
     "execution_count": 62,
     "metadata": {},
     "output_type": "execute_result"
    }
   ],
   "source": [
    "df.sort_values(by=[\"diff\"], ascending=True).head(2)"
   ]
  },
  {
   "cell_type": "code",
   "execution_count": 41,
   "id": "3e0db438-b1a8-406a-94a5-8b8ec85dbadb",
   "metadata": {
    "tags": []
   },
   "outputs": [],
   "source": [
    "# For now, ignore these indexes\n",
    "drop_for_now = df.sort_values(by=[\"diff\"], ascending=False).head(1).index\n",
    "df.drop(drop_for_now, inplace=True)"
   ]
  },
  {
   "cell_type": "code",
   "execution_count": 42,
   "id": "67795cf3-0fcd-4afc-a47d-bad3e7942f2b",
   "metadata": {
    "tags": []
   },
   "outputs": [
    {
     "data": {
      "text/plain": [
       "(115, 22)"
      ]
     },
     "execution_count": 42,
     "metadata": {},
     "output_type": "execute_result"
    }
   ],
   "source": [
    "df.dropna().shape"
   ]
  },
  {
   "cell_type": "code",
   "execution_count": 85,
   "id": "962bb1ab-b3a7-4166-bdfc-383346290c25",
   "metadata": {
    "tags": []
   },
   "outputs": [
    {
     "data": {
      "text/plain": [
       "Index(['plant_name', 'capacity_mw', 'start', 'plant_name_x',\n",
       "       'net_generation_gwh', 'usage', '2021_cost_per_unit',\n",
       "       '2022_cost_per_unit', 'diff', 'own_IPP', 'own_Joint venture',\n",
       "       'own_Public', 'own_RENTAL & SIPP', 'fuel_GAS', 'fuel_HFO', 'fuel_HSD',\n",
       "       'fuel_HYDRO', 'fuel_IMPORT', 'fuel_SOLAR', 'fuel_WIND', 'cost_increase',\n",
       "       'age'],\n",
       "      dtype='object')"
      ]
     },
     "execution_count": 85,
     "metadata": {},
     "output_type": "execute_result"
    }
   ],
   "source": [
    "df.columns"
   ]
  },
  {
   "cell_type": "markdown",
   "id": "16f9ef76-9cce-4532-80e1-df5f5987fb9f",
   "metadata": {
    "tags": []
   },
   "source": [
    "## Regression"
   ]
  },
  {
   "cell_type": "code",
   "execution_count": 45,
   "id": "87940222-0b5a-472b-969b-da4b6faa0f6d",
   "metadata": {
    "collapsed": true,
    "jupyter": {
     "outputs_hidden": true
    },
    "tags": []
   },
   "outputs": [
    {
     "name": "stdout",
     "output_type": "stream",
     "text": [
      "Coefficients:  [ 7.73089286e-02 -4.36200301e-03 -1.85960582e-02  5.63705316e+00\n",
      "  3.54645207e+00 -2.40703030e+01  1.34992448e+01  7.02460609e+00\n",
      " -2.88361814e+01 -4.97664520e+00  6.95469449e+01  0.00000000e+00\n",
      " -1.16638154e+01]\n",
      "Variance score: 0.4856131892207771\n"
     ]
    },
    {
     "data": {
      "image/png": "[encoded data removed]",
      "text/plain": [
       "<Figure size 640x480 with 1 Axes>"
      ]
     },
     "metadata": {},
     "output_type": "display_data"
    }
   ],
   "source": [
    "from sklearn.model_selection import train_test_split\n",
    "import matplotlib.pyplot as plt\n",
    "import numpy as np\n",
    "from sklearn import datasets, linear_model, metrics\n",
    "\n",
    "raw_df = df.dropna().astype('float64')\n",
    "y_column = '2021_cost_per_unit'\n",
    "X = raw_df.drop(columns=[y_column]).values\n",
    "y = raw_df[y_column].values\n",
    "\n",
    "# splitting X and y into training and testing sets\n",
    "X_train, X_test, y_train, y_test = train_test_split(X, y, test_size=0.4, random_state=1)\n",
    "\n",
    "# create linear regression object\n",
    "reg = linear_model.LinearRegression()\n",
    "\n",
    "# train the model using the training sets\n",
    "reg.fit(X_train, y_train)\n",
    "\n",
    "# regression coefficients\n",
    "print('Coefficients: ', reg.coef_)\n",
    "\n",
    "# variance score: 1 means perfect prediction\n",
    "print('Variance score: {}'.format(reg.score(X_test, y_test)))\n",
    "\n",
    "# plot for residual error\n",
    "\n",
    "# setting plot style\n",
    "plt.style.use('fivethirtyeight')\n",
    "\n",
    "# plotting residual errors in training data\n",
    "plt.scatter(reg.predict(X_train),\n",
    "\t\t\treg.predict(X_train) - y_train,\n",
    "\t\t\tcolor=\"green\", s=10,\n",
    "\t\t\tlabel='Train data')\n",
    "\n",
    "# plotting residual errors in test data\n",
    "plt.scatter(reg.predict(X_test),\n",
    "\t\t\treg.predict(X_test) - y_test,\n",
    "\t\t\tcolor=\"blue\", s=10,\n",
    "\t\t\tlabel='Test data')\n",
    "\n",
    "# plotting line for zero residual error\n",
    "plt.hlines(y=0, xmin=0, xmax=50, linewidth=2)\n",
    "\n",
    "# plotting legend\n",
    "plt.legend(loc='upper right')\n",
    "\n",
    "# plot title\n",
    "plt.title(\"Residual errors\")\n",
    "\n",
    "# method call for showing the plot\n",
    "plt.show()\n"
   ]
  },
  {
   "cell_type": "markdown",
   "id": "787c879c-6074-4eb9-9886-22f738f623dd",
   "metadata": {
    "tags": []
   },
   "source": [
    "## Regression table"
   ]
  },
  {
   "cell_type": "code",
   "execution_count": 108,
   "id": "6cc43ad8-f81e-42e8-8cf2-0dc2b8883db0",
   "metadata": {
    "tags": []
   },
   "outputs": [],
   "source": [
    "import numpy as np\n",
    "# Selecting only the numeric columns\n",
    "numeric_columns = df[['usage', 'age', 'capacity_mw', 'net_generation_gwh', '2021_cost_per_unit', '2022_cost_per_unit', '2022_usage']]\n",
    "# Applying the natural logarithm function to the numeric columns\n",
    "# log_transformed_numeric_columns = numeric_columns.apply(np.log)\n",
    "# df.loc[:, ['age', 'capacity_mw', 'net_generation_gwh', '2021_cost_per_unit']] = log_transformed_numeric_columns.replace([np.inf, -np.inf], np.nan).fillna(0)"
   ]
  },
  {
   "cell_type": "code",
   "execution_count": 149,
   "id": "cc8bd403-3bea-47e0-87bc-b3197122a202",
   "metadata": {
    "tags": []
   },
   "outputs": [],
   "source": [
    "#df['interaction_capacity_usage'] = df['capacity_mw']*df['usage']\n",
    "df['interaction_old_public'] = 0\n",
    "df.loc[(df['own_Public']==True)&(df.age>10), 'interaction_old_public'] = 1"
   ]
  },
  {
   "cell_type": "code",
   "execution_count": 65,
   "id": "9b1dc18f-9ea5-4220-9cc6-66855da57985",
   "metadata": {
    "tags": []
   },
   "outputs": [
    {
     "name": "stderr",
     "output_type": "stream",
     "text": [
      "/home/qavi/repos/mlenv/lib/python3.11/site-packages/pandas/core/arraylike.py:396: RuntimeWarning: divide by zero encountered in log\n",
      "  result = getattr(ufunc, method)(*inputs, **kwargs)\n",
      "/home/qavi/repos/mlenv/lib/python3.11/site-packages/pandas/core/arraylike.py:396: RuntimeWarning: divide by zero encountered in log\n",
      "  result = getattr(ufunc, method)(*inputs, **kwargs)\n",
      "/home/qavi/repos/mlenv/lib/python3.11/site-packages/pandas/core/arraylike.py:396: RuntimeWarning: divide by zero encountered in log\n",
      "  result = getattr(ufunc, method)(*inputs, **kwargs)\n",
      "/home/qavi/repos/mlenv/lib/python3.11/site-packages/pandas/core/arraylike.py:396: RuntimeWarning: divide by zero encountered in log\n",
      "  result = getattr(ufunc, method)(*inputs, **kwargs)\n",
      "/home/qavi/repos/mlenv/lib/python3.11/site-packages/pandas/core/arraylike.py:396: RuntimeWarning: divide by zero encountered in log\n",
      "  result = getattr(ufunc, method)(*inputs, **kwargs)\n",
      "/home/qavi/repos/mlenv/lib/python3.11/site-packages/pandas/core/arraylike.py:396: RuntimeWarning: invalid value encountered in log\n",
      "  result = getattr(ufunc, method)(*inputs, **kwargs)\n",
      "/home/qavi/repos/mlenv/lib/python3.11/site-packages/pandas/core/arraylike.py:396: RuntimeWarning: invalid value encountered in log\n",
      "  result = getattr(ufunc, method)(*inputs, **kwargs)\n"
     ]
    },
    {
     "data": {
      "text/plain": [
       "(134, 31)"
      ]
     },
     "execution_count": 65,
     "metadata": {},
     "output_type": "execute_result"
    }
   ],
   "source": [
    "for col in numeric_columns.columns:\n",
    "    #df[f\"log_{col}\"] = np.log(df[col])\n",
    "    df[f\"log_{col}_squared\"] = np.log(df[col] ** 2)\n",
    "    #df[f\"log_{col}_squared\"] = np.log((df[col]-df[col].mean()) ** 2)\n",
    "    df[col] = np.log(df[col])\n",
    "    #df[col] = df[col] = np.log(df[col])\n",
    "df = df.replace([np.inf, -np.inf], np.nan).fillna(0)\n",
    "df.shape"
   ]
  },
  {
   "cell_type": "code",
   "execution_count": 66,
   "id": "256eaa0a-4fe9-40c2-ba28-4e563d10e083",
   "metadata": {
    "tags": []
   },
   "outputs": [
    {
     "data": {
      "text/plain": [
       "107   -6.907755\n",
       "75    -5.521461\n",
       "103   -4.961845\n",
       "106   -4.710531\n",
       "60    -4.605170\n",
       "         ...   \n",
       "62     0.000000\n",
       "57     0.000000\n",
       "23     0.000000\n",
       "29     0.000000\n",
       "89     0.000000\n",
       "Name: usage, Length: 134, dtype: float64"
      ]
     },
     "execution_count": 66,
     "metadata": {},
     "output_type": "execute_result"
    }
   ],
   "source": [
    "df.usage.sort_values()"
   ]
  },
  {
   "cell_type": "code",
   "execution_count": 67,
   "id": "4c38c081-4074-4a22-ab06-2f6d8f76bace",
   "metadata": {
    "tags": []
   },
   "outputs": [],
   "source": [
    "df.to_csv('allreg_9_23.csv')"
   ]
  },
  {
   "cell_type": "code",
   "execution_count": 5,
   "id": "269eed71-d591-4ce3-9015-565f891baf71",
   "metadata": {
    "tags": []
   },
   "outputs": [],
   "source": [
    "import pandas as pd\n",
    "import numpy as np\n",
    "df = pd.read_csv('allreg_9_23.csv', index_col=0)"
   ]
  },
  {
   "cell_type": "markdown",
   "id": "90bd5a79-10be-4ca1-8baf-0063c4abaa4e",
   "metadata": {
    "tags": []
   },
   "source": [
    "## Regression table for y var = 2021 cost per unit"
   ]
  },
  {
   "cell_type": "code",
   "execution_count": 91,
   "id": "d92582e0-bb35-49d0-8053-61a689135e2d",
   "metadata": {
    "collapsed": true,
    "jupyter": {
     "outputs_hidden": true
    },
    "tags": []
   },
   "outputs": [
    {
     "name": "stdout",
     "output_type": "stream",
     "text": [
      "(133, 25) (133, 18) (133,)\n",
      "                            OLS Regression Results                            \n",
      "==============================================================================\n",
      "Dep. Variable:     2021_cost_per_unit   R-squared:                       0.710\n",
      "Model:                            OLS   Adj. R-squared:                  0.673\n",
      "Method:                 Least Squares   F-statistic:                     19.09\n",
      "Date:                Fri, 22 Sep 2023   Prob (F-statistic):           9.97e-25\n",
      "Time:                        19:47:27   Log-Likelihood:                -117.74\n",
      "No. Observations:                 133   AIC:                             267.5\n",
      "Df Residuals:                     117   BIC:                             313.7\n",
      "Df Model:                          15                                         \n",
      "Covariance Type:            nonrobust                                         \n",
      "==================================================================================================\n",
      "                                     coef    std err          t      P>|t|      [0.025      0.975]\n",
      "--------------------------------------------------------------------------------------------------\n",
      "const                              1.3470      0.368      3.663      0.000       0.619       2.075\n",
      "capacity_mw                       -0.0094      0.011     -0.816      0.416      -0.032       0.013\n",
      "net_generation_gwh                -1.3355      0.268     -4.980      0.000      -1.867      -0.804\n",
      "usage                             -1.1363      0.393     -2.889      0.005      -1.915      -0.357\n",
      "own_IPP                            0.4567      0.283      1.612      0.110      -0.104       1.018\n",
      "own_Joint venture                  0.4479      0.450      0.996      0.321      -0.443       1.339\n",
      "own_Public                         0.5333      0.262      2.035      0.044       0.014       1.052\n",
      "own_RENTAL & SIPP                  0.4470      0.294      1.521      0.131      -0.135       1.029\n",
      "fuel_GAS                          -0.8843      0.457     -1.936      0.055      -1.789       0.020\n",
      "fuel_HFO                           0.4834      0.466      1.037      0.302      -0.440       1.406\n",
      "fuel_HSD                           2.0398      0.526      3.876      0.000       0.998       3.082\n",
      "fuel_HYDRO                        -1.5383      0.778     -1.976      0.051      -3.080       0.003\n",
      "fuel_IMPORT                       -0.5379      0.469     -1.148      0.253      -1.466       0.390\n",
      "fuel_SOLAR                         0.3402      0.555      0.613      0.541      -0.759       1.439\n",
      "fuel_WIND                         -0.3896      0.823     -0.473      0.637      -2.020       1.240\n",
      "age                                0.0289      0.014      2.034      0.044       0.001       0.057\n",
      "log_age_squared                    0.0578      0.028      2.034      0.044       0.002       0.114\n",
      "log_capacity_mw_squared           -0.0187      0.023     -0.816      0.416      -0.064       0.027\n",
      "log_net_generation_gwh_squared     0.7285      0.125      5.843      0.000       0.482       0.975\n",
      "==============================================================================\n",
      "Omnibus:                       28.615   Durbin-Watson:                   1.702\n",
      "Prob(Omnibus):                  0.000   Jarque-Bera (JB):              264.316\n",
      "Skew:                           0.106   Prob(JB):                     4.02e-58\n",
      "Kurtosis:                       9.903   Cond. No.                     3.24e+17\n",
      "==============================================================================\n",
      "\n",
      "Notes:\n",
      "[1] Standard Errors assume that the covariance matrix of the errors is correctly specified.\n",
      "[2] The smallest eigenvalue is 3.29e-31. This might indicate that there are\n",
      "strong multicollinearity problems or that the design matrix is singular.\n"
     ]
    }
   ],
   "source": [
    "import statsmodels.api as sm\n",
    "import pandas as pd\n",
    "\n",
    "\n",
    "y_column = '2021_cost_per_unit'\n",
    "dropy = ['2021_cost_per_unit', '2022_cost_per_unit', 'cost_increase', 'diff', 'log_2021_cost_per_unit_squared', 'log_2022_cost_per_unit_squared', 'log_cost_increase_squared']\n",
    "raw_df = df.drop(df.loc[df[y_column].isna()].index).drop(columns=['start', 'plant_name_x', 'plant_name']).dropna().astype('float64')\n",
    "xdf = raw_df.drop(columns=dropy)\n",
    "ydf = raw_df[y_column].dropna()\n",
    "print(raw_df.shape, xdf.shape, ydf.shape)\n",
    "# raw_df = df.drop(columns=['cost_per_unit', '2022_cost_per_unit']).dropna().astype('float64')\n",
    "# y_column = '2021_cost_per_unit'\n",
    "# X = raw_df.drop(columns=[y_column])\n",
    "# y = raw_df[y_column]\n",
    "X = sm.add_constant(xdf) # Adding a constant (intercept) term\n",
    "model = sm.OLS(ydf, X).fit()\n",
    "summary = model.summary()\n",
    "print(summary)"
   ]
  },
  {
   "cell_type": "code",
   "execution_count": 6,
   "id": "be881f6d-675d-45d2-87a3-3f2d83445208",
   "metadata": {
    "tags": []
   },
   "outputs": [
    {
     "ename": "KeyError",
     "evalue": "\"['log_cost_increase_squared'] not found in axis\"",
     "output_type": "error",
     "traceback": [
      "\u001b[0;31m---------------------------------------------------------------------------\u001b[0m",
      "\u001b[0;31mKeyError\u001b[0m                                  Traceback (most recent call last)",
      "Cell \u001b[0;32mIn[6], line 9\u001b[0m\n\u001b[1;32m      6\u001b[0m dropy \u001b[38;5;241m=\u001b[39m [\u001b[38;5;124m'\u001b[39m\u001b[38;5;124m2021_cost_per_unit\u001b[39m\u001b[38;5;124m'\u001b[39m, \u001b[38;5;124m'\u001b[39m\u001b[38;5;124m2022_cost_per_unit\u001b[39m\u001b[38;5;124m'\u001b[39m, \u001b[38;5;124m'\u001b[39m\u001b[38;5;124mcost_increase\u001b[39m\u001b[38;5;124m'\u001b[39m, \u001b[38;5;124m'\u001b[39m\u001b[38;5;124mlog_2021_cost_per_unit_squared\u001b[39m\u001b[38;5;124m'\u001b[39m,\n\u001b[1;32m      7\u001b[0m        \u001b[38;5;124m'\u001b[39m\u001b[38;5;124mlog_2022_cost_per_unit_squared\u001b[39m\u001b[38;5;124m'\u001b[39m, \u001b[38;5;124m'\u001b[39m\u001b[38;5;124mlog_cost_increase_squared\u001b[39m\u001b[38;5;124m'\u001b[39m,  \u001b[38;5;124m'\u001b[39m\u001b[38;5;124mown_Public\u001b[39m\u001b[38;5;124m'\u001b[39m, \u001b[38;5;124m'\u001b[39m\u001b[38;5;124mfuel_GAS\u001b[39m\u001b[38;5;124m'\u001b[39m, \u001b[38;5;124m'\u001b[39m\u001b[38;5;124mdiff\u001b[39m\u001b[38;5;124m'\u001b[39m]\n\u001b[1;32m      8\u001b[0m raw_df \u001b[38;5;241m=\u001b[39m df\u001b[38;5;241m.\u001b[39mdrop(columns\u001b[38;5;241m=\u001b[39m[\u001b[38;5;124m'\u001b[39m\u001b[38;5;124mstart\u001b[39m\u001b[38;5;124m'\u001b[39m, \u001b[38;5;124m'\u001b[39m\u001b[38;5;124mplant_name_x\u001b[39m\u001b[38;5;124m'\u001b[39m, \u001b[38;5;124m'\u001b[39m\u001b[38;5;124mplant_name\u001b[39m\u001b[38;5;124m'\u001b[39m])\u001b[38;5;241m.\u001b[39mapply(\u001b[38;5;28;01mlambda\u001b[39;00m x : pd\u001b[38;5;241m.\u001b[39mto_numeric(x, errors\u001b[38;5;241m=\u001b[39m\u001b[38;5;124m\"\u001b[39m\u001b[38;5;124mcoerce\u001b[39m\u001b[38;5;124m\"\u001b[39m))\u001b[38;5;241m.\u001b[39mdrop(df\u001b[38;5;241m.\u001b[39mloc[df[y_column]\u001b[38;5;241m.\u001b[39misna()]\u001b[38;5;241m.\u001b[39mindex)\u001b[38;5;241m.\u001b[39mdropna()\u001b[38;5;241m.\u001b[39mastype(\u001b[38;5;124m'\u001b[39m\u001b[38;5;124mfloat64\u001b[39m\u001b[38;5;124m'\u001b[39m)\n\u001b[0;32m----> 9\u001b[0m xdf \u001b[38;5;241m=\u001b[39m \u001b[43mraw_df\u001b[49m\u001b[38;5;241;43m.\u001b[39;49m\u001b[43mdrop\u001b[49m\u001b[43m(\u001b[49m\u001b[43mcolumns\u001b[49m\u001b[38;5;241;43m=\u001b[39;49m\u001b[43mdropy\u001b[49m\u001b[43m)\u001b[49m\n\u001b[1;32m     10\u001b[0m ydf \u001b[38;5;241m=\u001b[39m raw_df[y_column]\u001b[38;5;241m.\u001b[39mdropna()\n\u001b[1;32m     11\u001b[0m \u001b[38;5;28mprint\u001b[39m(raw_df\u001b[38;5;241m.\u001b[39mshape, xdf\u001b[38;5;241m.\u001b[39mshape, ydf\u001b[38;5;241m.\u001b[39mshape)\n",
      "File \u001b[0;32m~/repos/mlenv/lib/python3.11/site-packages/pandas/core/frame.py:5258\u001b[0m, in \u001b[0;36mDataFrame.drop\u001b[0;34m(self, labels, axis, index, columns, level, inplace, errors)\u001b[0m\n\u001b[1;32m   5110\u001b[0m \u001b[38;5;28;01mdef\u001b[39;00m \u001b[38;5;21mdrop\u001b[39m(\n\u001b[1;32m   5111\u001b[0m     \u001b[38;5;28mself\u001b[39m,\n\u001b[1;32m   5112\u001b[0m     labels: IndexLabel \u001b[38;5;241m=\u001b[39m \u001b[38;5;28;01mNone\u001b[39;00m,\n\u001b[0;32m   (...)\u001b[0m\n\u001b[1;32m   5119\u001b[0m     errors: IgnoreRaise \u001b[38;5;241m=\u001b[39m \u001b[38;5;124m\"\u001b[39m\u001b[38;5;124mraise\u001b[39m\u001b[38;5;124m\"\u001b[39m,\n\u001b[1;32m   5120\u001b[0m ) \u001b[38;5;241m-\u001b[39m\u001b[38;5;241m>\u001b[39m DataFrame \u001b[38;5;241m|\u001b[39m \u001b[38;5;28;01mNone\u001b[39;00m:\n\u001b[1;32m   5121\u001b[0m \u001b[38;5;250m    \u001b[39m\u001b[38;5;124;03m\"\"\"\u001b[39;00m\n\u001b[1;32m   5122\u001b[0m \u001b[38;5;124;03m    Drop specified labels from rows or columns.\u001b[39;00m\n\u001b[1;32m   5123\u001b[0m \n\u001b[0;32m   (...)\u001b[0m\n\u001b[1;32m   5256\u001b[0m \u001b[38;5;124;03m            weight  1.0     0.8\u001b[39;00m\n\u001b[1;32m   5257\u001b[0m \u001b[38;5;124;03m    \"\"\"\u001b[39;00m\n\u001b[0;32m-> 5258\u001b[0m     \u001b[38;5;28;01mreturn\u001b[39;00m \u001b[38;5;28;43msuper\u001b[39;49m\u001b[43m(\u001b[49m\u001b[43m)\u001b[49m\u001b[38;5;241;43m.\u001b[39;49m\u001b[43mdrop\u001b[49m\u001b[43m(\u001b[49m\n\u001b[1;32m   5259\u001b[0m \u001b[43m        \u001b[49m\u001b[43mlabels\u001b[49m\u001b[38;5;241;43m=\u001b[39;49m\u001b[43mlabels\u001b[49m\u001b[43m,\u001b[49m\n\u001b[1;32m   5260\u001b[0m \u001b[43m        \u001b[49m\u001b[43maxis\u001b[49m\u001b[38;5;241;43m=\u001b[39;49m\u001b[43maxis\u001b[49m\u001b[43m,\u001b[49m\n\u001b[1;32m   5261\u001b[0m \u001b[43m        \u001b[49m\u001b[43mindex\u001b[49m\u001b[38;5;241;43m=\u001b[39;49m\u001b[43mindex\u001b[49m\u001b[43m,\u001b[49m\n\u001b[1;32m   5262\u001b[0m \u001b[43m        \u001b[49m\u001b[43mcolumns\u001b[49m\u001b[38;5;241;43m=\u001b[39;49m\u001b[43mcolumns\u001b[49m\u001b[43m,\u001b[49m\n\u001b[1;32m   5263\u001b[0m \u001b[43m        \u001b[49m\u001b[43mlevel\u001b[49m\u001b[38;5;241;43m=\u001b[39;49m\u001b[43mlevel\u001b[49m\u001b[43m,\u001b[49m\n\u001b[1;32m   5264\u001b[0m \u001b[43m        \u001b[49m\u001b[43minplace\u001b[49m\u001b[38;5;241;43m=\u001b[39;49m\u001b[43minplace\u001b[49m\u001b[43m,\u001b[49m\n\u001b[1;32m   5265\u001b[0m \u001b[43m        \u001b[49m\u001b[43merrors\u001b[49m\u001b[38;5;241;43m=\u001b[39;49m\u001b[43merrors\u001b[49m\u001b[43m,\u001b[49m\n\u001b[1;32m   5266\u001b[0m \u001b[43m    \u001b[49m\u001b[43m)\u001b[49m\n",
      "File \u001b[0;32m~/repos/mlenv/lib/python3.11/site-packages/pandas/core/generic.py:4549\u001b[0m, in \u001b[0;36mNDFrame.drop\u001b[0;34m(self, labels, axis, index, columns, level, inplace, errors)\u001b[0m\n\u001b[1;32m   4547\u001b[0m \u001b[38;5;28;01mfor\u001b[39;00m axis, labels \u001b[38;5;129;01min\u001b[39;00m axes\u001b[38;5;241m.\u001b[39mitems():\n\u001b[1;32m   4548\u001b[0m     \u001b[38;5;28;01mif\u001b[39;00m labels \u001b[38;5;129;01mis\u001b[39;00m \u001b[38;5;129;01mnot\u001b[39;00m \u001b[38;5;28;01mNone\u001b[39;00m:\n\u001b[0;32m-> 4549\u001b[0m         obj \u001b[38;5;241m=\u001b[39m \u001b[43mobj\u001b[49m\u001b[38;5;241;43m.\u001b[39;49m\u001b[43m_drop_axis\u001b[49m\u001b[43m(\u001b[49m\u001b[43mlabels\u001b[49m\u001b[43m,\u001b[49m\u001b[43m \u001b[49m\u001b[43maxis\u001b[49m\u001b[43m,\u001b[49m\u001b[43m \u001b[49m\u001b[43mlevel\u001b[49m\u001b[38;5;241;43m=\u001b[39;49m\u001b[43mlevel\u001b[49m\u001b[43m,\u001b[49m\u001b[43m \u001b[49m\u001b[43merrors\u001b[49m\u001b[38;5;241;43m=\u001b[39;49m\u001b[43merrors\u001b[49m\u001b[43m)\u001b[49m\n\u001b[1;32m   4551\u001b[0m \u001b[38;5;28;01mif\u001b[39;00m inplace:\n\u001b[1;32m   4552\u001b[0m     \u001b[38;5;28mself\u001b[39m\u001b[38;5;241m.\u001b[39m_update_inplace(obj)\n",
      "File \u001b[0;32m~/repos/mlenv/lib/python3.11/site-packages/pandas/core/generic.py:4591\u001b[0m, in \u001b[0;36mNDFrame._drop_axis\u001b[0;34m(self, labels, axis, level, errors, only_slice)\u001b[0m\n\u001b[1;32m   4589\u001b[0m         new_axis \u001b[38;5;241m=\u001b[39m axis\u001b[38;5;241m.\u001b[39mdrop(labels, level\u001b[38;5;241m=\u001b[39mlevel, errors\u001b[38;5;241m=\u001b[39merrors)\n\u001b[1;32m   4590\u001b[0m     \u001b[38;5;28;01melse\u001b[39;00m:\n\u001b[0;32m-> 4591\u001b[0m         new_axis \u001b[38;5;241m=\u001b[39m \u001b[43maxis\u001b[49m\u001b[38;5;241;43m.\u001b[39;49m\u001b[43mdrop\u001b[49m\u001b[43m(\u001b[49m\u001b[43mlabels\u001b[49m\u001b[43m,\u001b[49m\u001b[43m \u001b[49m\u001b[43merrors\u001b[49m\u001b[38;5;241;43m=\u001b[39;49m\u001b[43merrors\u001b[49m\u001b[43m)\u001b[49m\n\u001b[1;32m   4592\u001b[0m     indexer \u001b[38;5;241m=\u001b[39m axis\u001b[38;5;241m.\u001b[39mget_indexer(new_axis)\n\u001b[1;32m   4594\u001b[0m \u001b[38;5;66;03m# Case for non-unique axis\u001b[39;00m\n\u001b[1;32m   4595\u001b[0m \u001b[38;5;28;01melse\u001b[39;00m:\n",
      "File \u001b[0;32m~/repos/mlenv/lib/python3.11/site-packages/pandas/core/indexes/base.py:6699\u001b[0m, in \u001b[0;36mIndex.drop\u001b[0;34m(self, labels, errors)\u001b[0m\n\u001b[1;32m   6697\u001b[0m \u001b[38;5;28;01mif\u001b[39;00m mask\u001b[38;5;241m.\u001b[39many():\n\u001b[1;32m   6698\u001b[0m     \u001b[38;5;28;01mif\u001b[39;00m errors \u001b[38;5;241m!=\u001b[39m \u001b[38;5;124m\"\u001b[39m\u001b[38;5;124mignore\u001b[39m\u001b[38;5;124m\"\u001b[39m:\n\u001b[0;32m-> 6699\u001b[0m         \u001b[38;5;28;01mraise\u001b[39;00m \u001b[38;5;167;01mKeyError\u001b[39;00m(\u001b[38;5;124mf\u001b[39m\u001b[38;5;124m\"\u001b[39m\u001b[38;5;132;01m{\u001b[39;00m\u001b[38;5;28mlist\u001b[39m(labels[mask])\u001b[38;5;132;01m}\u001b[39;00m\u001b[38;5;124m not found in axis\u001b[39m\u001b[38;5;124m\"\u001b[39m)\n\u001b[1;32m   6700\u001b[0m     indexer \u001b[38;5;241m=\u001b[39m indexer[\u001b[38;5;241m~\u001b[39mmask]\n\u001b[1;32m   6701\u001b[0m \u001b[38;5;28;01mreturn\u001b[39;00m \u001b[38;5;28mself\u001b[39m\u001b[38;5;241m.\u001b[39mdelete(indexer)\n",
      "\u001b[0;31mKeyError\u001b[0m: \"['log_cost_increase_squared'] not found in axis\""
     ]
    }
   ],
   "source": [
    "import statsmodels.api as sm\n",
    "import pandas as pd\n",
    "\n",
    "\n",
    "y_column = '2021_cost_per_unit'\n",
    "dropy = ['2021_cost_per_unit', '2022_cost_per_unit', 'cost_increase', 'log_2021_cost_per_unit_squared',\n",
    "       'log_2022_cost_per_unit_squared', 'log_cost_increase_squared',  'own_Public', 'fuel_GAS', 'diff']\n",
    "raw_df = df.drop(columns=['start', 'plant_name_x', 'plant_name']).apply(lambda x : pd.to_numeric(x, errors=\"coerce\")).drop(df.loc[df[y_column].isna()].index).dropna().astype('float64')\n",
    "xdf = raw_df.drop(columns=dropy)\n",
    "ydf = raw_df[y_column].dropna()\n",
    "print(raw_df.shape, xdf.shape, ydf.shape)\n",
    "# raw_df = df.drop(columns=['cost_per_unit', '2022_cost_per_unit']).dropna().astype('float64')\n",
    "# y_column = '2021_cost_per_unit'\n",
    "# X = raw_df.drop(columns=[y_column])\n",
    "# y = raw_df[y_column]\n",
    "X = sm.add_constant(xdf) # Adding a constant (intercept) term\n",
    "model = sm.OLS(ydf, X).fit()\n",
    "summary = model.summary()\n",
    "print(summary)"
   ]
  },
  {
   "cell_type": "code",
   "execution_count": 144,
   "id": "04b01a14-b5d1-4cc7-997f-1d0675859373",
   "metadata": {
    "tags": []
   },
   "outputs": [
    {
     "data": {
      "text/html": [
       "<div>\n",
       "<style scoped>\n",
       "    .dataframe tbody tr th:only-of-type {\n",
       "        vertical-align: middle;\n",
       "    }\n",
       "\n",
       "    .dataframe tbody tr th {\n",
       "        vertical-align: top;\n",
       "    }\n",
       "\n",
       "    .dataframe thead th {\n",
       "        text-align: right;\n",
       "    }\n",
       "</style>\n",
       "<table border=\"1\" class=\"dataframe\">\n",
       "  <thead>\n",
       "    <tr style=\"text-align: right;\">\n",
       "      <th></th>\n",
       "      <th>Coef.</th>\n",
       "      <th>Std.Err.</th>\n",
       "      <th>t</th>\n",
       "      <th>P&gt;|t|</th>\n",
       "      <th>[0.025</th>\n",
       "      <th>0.975]</th>\n",
       "    </tr>\n",
       "  </thead>\n",
       "  <tbody>\n",
       "    <tr>\n",
       "      <th>const</th>\n",
       "      <td>0.505796</td>\n",
       "      <td>0.272970</td>\n",
       "      <td>1.852938</td>\n",
       "      <td>6.636864e-02</td>\n",
       "      <td>-0.034711</td>\n",
       "      <td>1.046304</td>\n",
       "    </tr>\n",
       "    <tr>\n",
       "      <th>net_generation_gwh</th>\n",
       "      <td>-1.126713</td>\n",
       "      <td>0.264007</td>\n",
       "      <td>-4.267745</td>\n",
       "      <td>3.987662e-05</td>\n",
       "      <td>-1.649472</td>\n",
       "      <td>-0.603953</td>\n",
       "    </tr>\n",
       "    <tr>\n",
       "      <th>usage</th>\n",
       "      <td>-0.051205</td>\n",
       "      <td>0.011510</td>\n",
       "      <td>-4.448834</td>\n",
       "      <td>1.954803e-05</td>\n",
       "      <td>-0.073996</td>\n",
       "      <td>-0.028415</td>\n",
       "    </tr>\n",
       "    <tr>\n",
       "      <th>own_IPP</th>\n",
       "      <td>-0.084380</td>\n",
       "      <td>0.154756</td>\n",
       "      <td>-0.545249</td>\n",
       "      <td>5.866026e-01</td>\n",
       "      <td>-0.390812</td>\n",
       "      <td>0.222051</td>\n",
       "    </tr>\n",
       "    <tr>\n",
       "      <th>own_Joint venture</th>\n",
       "      <td>0.785891</td>\n",
       "      <td>0.453059</td>\n",
       "      <td>1.734632</td>\n",
       "      <td>8.539531e-02</td>\n",
       "      <td>-0.111212</td>\n",
       "      <td>1.682994</td>\n",
       "    </tr>\n",
       "    <tr>\n",
       "      <th>own_RENTAL &amp; SIPP</th>\n",
       "      <td>-0.124556</td>\n",
       "      <td>0.159306</td>\n",
       "      <td>-0.781870</td>\n",
       "      <td>4.358441e-01</td>\n",
       "      <td>-0.439998</td>\n",
       "      <td>0.190885</td>\n",
       "    </tr>\n",
       "    <tr>\n",
       "      <th>fuel_HFO</th>\n",
       "      <td>1.264329</td>\n",
       "      <td>0.148131</td>\n",
       "      <td>8.535238</td>\n",
       "      <td>5.328655e-14</td>\n",
       "      <td>0.971016</td>\n",
       "      <td>1.557642</td>\n",
       "    </tr>\n",
       "    <tr>\n",
       "      <th>fuel_HSD</th>\n",
       "      <td>2.524585</td>\n",
       "      <td>0.302942</td>\n",
       "      <td>8.333553</td>\n",
       "      <td>1.567483e-13</td>\n",
       "      <td>1.924729</td>\n",
       "      <td>3.124441</td>\n",
       "    </tr>\n",
       "    <tr>\n",
       "      <th>fuel_HYDRO</th>\n",
       "      <td>-0.524457</td>\n",
       "      <td>0.625840</td>\n",
       "      <td>-0.838004</td>\n",
       "      <td>4.037082e-01</td>\n",
       "      <td>-1.763683</td>\n",
       "      <td>0.714769</td>\n",
       "    </tr>\n",
       "    <tr>\n",
       "      <th>fuel_IMPORT</th>\n",
       "      <td>0.501441</td>\n",
       "      <td>0.456057</td>\n",
       "      <td>1.099513</td>\n",
       "      <td>2.737637e-01</td>\n",
       "      <td>-0.401598</td>\n",
       "      <td>1.404480</td>\n",
       "    </tr>\n",
       "    <tr>\n",
       "      <th>fuel_SOLAR</th>\n",
       "      <td>1.160385</td>\n",
       "      <td>0.306099</td>\n",
       "      <td>3.790886</td>\n",
       "      <td>2.371911e-04</td>\n",
       "      <td>0.554279</td>\n",
       "      <td>1.766491</td>\n",
       "    </tr>\n",
       "    <tr>\n",
       "      <th>fuel_WIND</th>\n",
       "      <td>1.081271</td>\n",
       "      <td>0.654988</td>\n",
       "      <td>1.650824</td>\n",
       "      <td>1.014112e-01</td>\n",
       "      <td>-0.215672</td>\n",
       "      <td>2.378213</td>\n",
       "    </tr>\n",
       "    <tr>\n",
       "      <th>age</th>\n",
       "      <td>0.019708</td>\n",
       "      <td>0.013545</td>\n",
       "      <td>1.455015</td>\n",
       "      <td>1.482980e-01</td>\n",
       "      <td>-0.007112</td>\n",
       "      <td>0.046528</td>\n",
       "    </tr>\n",
       "    <tr>\n",
       "      <th>log_usage_squared</th>\n",
       "      <td>-0.102411</td>\n",
       "      <td>0.023020</td>\n",
       "      <td>-4.448834</td>\n",
       "      <td>1.954803e-05</td>\n",
       "      <td>-0.147992</td>\n",
       "      <td>-0.056830</td>\n",
       "    </tr>\n",
       "    <tr>\n",
       "      <th>log_age_squared</th>\n",
       "      <td>0.039415</td>\n",
       "      <td>0.027089</td>\n",
       "      <td>1.455015</td>\n",
       "      <td>1.482980e-01</td>\n",
       "      <td>-0.014224</td>\n",
       "      <td>0.093055</td>\n",
       "    </tr>\n",
       "    <tr>\n",
       "      <th>log_net_generation_gwh_squared</th>\n",
       "      <td>0.596143</td>\n",
       "      <td>0.125666</td>\n",
       "      <td>4.743888</td>\n",
       "      <td>5.880962e-06</td>\n",
       "      <td>0.347313</td>\n",
       "      <td>0.844974</td>\n",
       "    </tr>\n",
       "  </tbody>\n",
       "</table>\n",
       "</div>"
      ],
      "text/plain": [
       "                                   Coef.  Std.Err.         t         P>|t|  \\\n",
       "const                           0.505796  0.272970  1.852938  6.636864e-02   \n",
       "net_generation_gwh             -1.126713  0.264007 -4.267745  3.987662e-05   \n",
       "usage                          -0.051205  0.011510 -4.448834  1.954803e-05   \n",
       "own_IPP                        -0.084380  0.154756 -0.545249  5.866026e-01   \n",
       "own_Joint venture               0.785891  0.453059  1.734632  8.539531e-02   \n",
       "own_RENTAL & SIPP              -0.124556  0.159306 -0.781870  4.358441e-01   \n",
       "fuel_HFO                        1.264329  0.148131  8.535238  5.328655e-14   \n",
       "fuel_HSD                        2.524585  0.302942  8.333553  1.567483e-13   \n",
       "fuel_HYDRO                     -0.524457  0.625840 -0.838004  4.037082e-01   \n",
       "fuel_IMPORT                     0.501441  0.456057  1.099513  2.737637e-01   \n",
       "fuel_SOLAR                      1.160385  0.306099  3.790886  2.371911e-04   \n",
       "fuel_WIND                       1.081271  0.654988  1.650824  1.014112e-01   \n",
       "age                             0.019708  0.013545  1.455015  1.482980e-01   \n",
       "log_usage_squared              -0.102411  0.023020 -4.448834  1.954803e-05   \n",
       "log_age_squared                 0.039415  0.027089  1.455015  1.482980e-01   \n",
       "log_net_generation_gwh_squared  0.596143  0.125666  4.743888  5.880962e-06   \n",
       "\n",
       "                                  [0.025    0.975]  \n",
       "const                          -0.034711  1.046304  \n",
       "net_generation_gwh             -1.649472 -0.603953  \n",
       "usage                          -0.073996 -0.028415  \n",
       "own_IPP                        -0.390812  0.222051  \n",
       "own_Joint venture              -0.111212  1.682994  \n",
       "own_RENTAL & SIPP              -0.439998  0.190885  \n",
       "fuel_HFO                        0.971016  1.557642  \n",
       "fuel_HSD                        1.924729  3.124441  \n",
       "fuel_HYDRO                     -1.763683  0.714769  \n",
       "fuel_IMPORT                    -0.401598  1.404480  \n",
       "fuel_SOLAR                      0.554279  1.766491  \n",
       "fuel_WIND                      -0.215672  2.378213  \n",
       "age                            -0.007112  0.046528  \n",
       "log_usage_squared              -0.147992 -0.056830  \n",
       "log_age_squared                -0.014224  0.093055  \n",
       "log_net_generation_gwh_squared  0.347313  0.844974  "
      ]
     },
     "execution_count": 144,
     "metadata": {},
     "output_type": "execute_result"
    }
   ],
   "source": [
    "model.summary2().tables[1]"
   ]
  },
  {
   "cell_type": "code",
   "execution_count": 151,
   "id": "7b7f5e60-8ea1-47d9-bb53-0082ea260f9d",
   "metadata": {
    "tags": []
   },
   "outputs": [
    {
     "name": "stdout",
     "output_type": "stream",
     "text": [
      "(133, 27) (133, 16) (133,)\n",
      "                            OLS Regression Results                            \n",
      "==============================================================================\n",
      "Dep. Variable:     2021_cost_per_unit   R-squared:                       0.726\n",
      "Model:                            OLS   Adj. R-squared:                  0.693\n",
      "Method:                 Least Squares   F-statistic:                     22.28\n",
      "Date:                Sat, 23 Sep 2023   Prob (F-statistic):           9.32e-27\n",
      "Time:                        21:46:56   Log-Likelihood:                -114.06\n",
      "No. Observations:                 133   AIC:                             258.1\n",
      "Df Residuals:                     118   BIC:                             301.5\n",
      "Df Model:                          14                                         \n",
      "Covariance Type:            nonrobust                                         \n",
      "==================================================================================================\n",
      "                                     coef    std err          t      P>|t|      [0.025      0.975]\n",
      "--------------------------------------------------------------------------------------------------\n",
      "const                              0.5173      0.273      1.894      0.061      -0.024       1.058\n",
      "net_generation_gwh                -1.1359      0.264     -4.301      0.000      -1.659      -0.613\n",
      "usage                             -0.0492      0.012     -4.213      0.000      -0.072      -0.026\n",
      "own_IPP                            0.0113      0.181      0.062      0.950      -0.347       0.370\n",
      "own_Joint venture                  0.8177      0.454      1.801      0.074      -0.081       1.717\n",
      "own_RENTAL & SIPP                  0.0442      0.230      0.193      0.848      -0.411       0.499\n",
      "fuel_HFO                           1.2476      0.149      8.373      0.000       0.953       1.543\n",
      "fuel_HSD                           2.5510      0.304      8.391      0.000       1.949       3.153\n",
      "fuel_HYDRO                        -0.5144      0.626     -0.822      0.413      -1.754       0.725\n",
      "fuel_IMPORT                        0.5021      0.456      1.101      0.273      -0.401       1.405\n",
      "fuel_SOLAR                         1.1745      0.306      3.834      0.000       0.568       1.781\n",
      "fuel_WIND                          1.0182      0.658      1.548      0.124      -0.284       2.321\n",
      "age                                0.0036      0.021      0.172      0.864      -0.038       0.045\n",
      "interaction_old_public             0.2736      0.268      1.020      0.310      -0.258       0.805\n",
      "log_usage_squared                 -0.0984      0.023     -4.213      0.000      -0.145      -0.052\n",
      "log_age_squared                    0.0072      0.042      0.172      0.864      -0.075       0.090\n",
      "log_net_generation_gwh_squared     0.6044      0.126      4.800      0.000       0.355       0.854\n",
      "==============================================================================\n",
      "Omnibus:                       75.326   Durbin-Watson:                   1.790\n",
      "Prob(Omnibus):                  0.000   Jarque-Bera (JB):              913.833\n",
      "Skew:                          -1.597   Prob(JB):                    3.66e-199\n",
      "Kurtosis:                      15.438   Cond. No.                     1.26e+17\n",
      "==============================================================================\n",
      "\n",
      "Notes:\n",
      "[1] Standard Errors assume that the covariance matrix of the errors is correctly specified.\n",
      "[2] The smallest eigenvalue is 1.42e-30. This might indicate that there are\n",
      "strong multicollinearity problems or that the design matrix is singular.\n"
     ]
    }
   ],
   "source": [
    "import statsmodels.api as sm\n",
    "import pandas as pd\n",
    "\n",
    "\n",
    "y_column = '2021_cost_per_unit'\n",
    "dropy = ['2021_cost_per_unit', '2022_cost_per_unit', 'cost_increase', 'log_2021_cost_per_unit_squared',\n",
    "       'log_2022_cost_per_unit_squared', 'log_cost_increase_squared',  'own_Public', 'fuel_GAS', 'diff', 'capacity_mw', 'log_capacity_mw_squared']\n",
    "raw_df = df.drop(columns=['start', 'plant_name_x', 'plant_name']).apply(lambda x : pd.to_numeric(x, errors=\"coerce\")).drop(df.loc[df[y_column].isna()].index).dropna().astype('float64')\n",
    "xdf = raw_df.drop(columns=dropy)\n",
    "ydf = raw_df[y_column].dropna()\n",
    "print(raw_df.shape, xdf.shape, ydf.shape)\n",
    "# raw_df = df.drop(columns=['cost_per_unit', '2022_cost_per_unit']).dropna().astype('float64')\n",
    "# y_column = '2021_cost_per_unit'\n",
    "# X = raw_df.drop(columns=[y_column])\n",
    "# y = raw_df[y_column]\n",
    "X = sm.add_constant(xdf) # Adding a constant (intercept) term\n",
    "model = sm.OLS(ydf, X).fit()\n",
    "summary = model.summary()\n",
    "print(summary)"
   ]
  },
  {
   "cell_type": "code",
   "execution_count": 130,
   "id": "c4af766c-3223-45bf-aeac-04d6c6bf73e4",
   "metadata": {
    "tags": []
   },
   "outputs": [
    {
     "name": "stdout",
     "output_type": "stream",
     "text": [
      "(133, 27) (133, 16) (133,)\n",
      "                            OLS Regression Results                            \n",
      "==============================================================================\n",
      "Dep. Variable:     2021_cost_per_unit   R-squared:                       0.651\n",
      "Model:                            OLS   Adj. R-squared:                  0.603\n",
      "Method:                 Least Squares   F-statistic:                     13.51\n",
      "Date:                Sat, 23 Sep 2023   Prob (F-statistic):           1.17e-19\n",
      "Time:                        21:03:07   Log-Likelihood:                -130.09\n",
      "No. Observations:                 133   AIC:                             294.2\n",
      "Df Residuals:                     116   BIC:                             343.3\n",
      "Df Model:                          16                                         \n",
      "Covariance Type:            nonrobust                                         \n",
      "==============================================================================================\n",
      "                                 coef    std err          t      P>|t|      [0.025      0.975]\n",
      "----------------------------------------------------------------------------------------------\n",
      "const                          0.8356      0.421      1.983      0.050       0.001       1.670\n",
      "capacity_mw                    0.0061      0.072      0.085      0.932      -0.136       0.148\n",
      "usage                         -0.3165      0.067     -4.724      0.000      -0.449      -0.184\n",
      "own_IPP                        0.1094      0.173      0.634      0.527      -0.233       0.451\n",
      "own_Joint venture              0.7714      0.560      1.379      0.171      -0.337       1.880\n",
      "own_RENTAL & SIPP              0.0079      0.218      0.036      0.971      -0.425       0.440\n",
      "fuel_HFO                       1.0727      0.182      5.894      0.000       0.712       1.433\n",
      "fuel_HSD                       1.9387      0.333      5.815      0.000       1.278       2.599\n",
      "fuel_HYDRO                    -0.4722      0.734     -0.643      0.521      -1.926       0.981\n",
      "fuel_IMPORT                    0.8215      0.546      1.504      0.135      -0.260       1.903\n",
      "fuel_SOLAR                     0.8906      0.378      2.358      0.020       0.142       1.639\n",
      "fuel_WIND                      0.9955      0.768      1.297      0.197      -0.525       2.516\n",
      "age                            0.0578      0.077      0.749      0.456      -0.095       0.211\n",
      "interaction_capacity_usage     0.0006      0.001      0.469      0.640      -0.002       0.003\n",
      "log_usage_squared             -0.0368      0.031     -1.205      0.231      -0.097       0.024\n",
      "log_age_squared                0.0012      0.032      0.037      0.971      -0.061       0.064\n",
      "log_capacity_mw_squared       -0.0250      0.035     -0.723      0.471      -0.094       0.044\n",
      "==============================================================================\n",
      "Omnibus:                      109.312   Durbin-Watson:                   1.590\n",
      "Prob(Omnibus):                  0.000   Jarque-Bera (JB):             1431.449\n",
      "Skew:                          -2.719   Prob(JB):                    1.46e-311\n",
      "Kurtosis:                      18.124   Cond. No.                     1.11e+03\n",
      "==============================================================================\n",
      "\n",
      "Notes:\n",
      "[1] Standard Errors assume that the covariance matrix of the errors is correctly specified.\n",
      "[2] The condition number is large, 1.11e+03. This might indicate that there are\n",
      "strong multicollinearity or other numerical problems.\n"
     ]
    }
   ],
   "source": [
    "import statsmodels.api as sm\n",
    "import pandas as pd\n",
    "\n",
    "\n",
    "y_column = '2021_cost_per_unit'\n",
    "dropy = ['2021_cost_per_unit', '2022_cost_per_unit', 'cost_increase', 'log_2021_cost_per_unit_squared',\n",
    "       'log_2022_cost_per_unit_squared', 'log_cost_increase_squared',  'own_Public', 'fuel_GAS', 'diff', 'net_generation_gwh', 'log_net_generation_gwh_squared']\n",
    "raw_df = df.drop(columns=['start', 'plant_name_x', 'plant_name']).apply(lambda x : pd.to_numeric(x, errors=\"coerce\")).drop(df.loc[df[y_column].isna()].index).dropna().astype('float64')\n",
    "xdf = raw_df.drop(columns=dropy)\n",
    "ydf = raw_df[y_column].dropna()\n",
    "print(raw_df.shape, xdf.shape, ydf.shape)\n",
    "# raw_df = df.drop(columns=['cost_per_unit', '2022_cost_per_unit']).dropna().astype('float64')\n",
    "# y_column = '2021_cost_per_unit'\n",
    "# X = raw_df.drop(columns=[y_column])\n",
    "# y = raw_df[y_column]\n",
    "X = sm.add_constant(xdf) # Adding a constant (intercept) term\n",
    "model = sm.OLS(ydf, X).fit()\n",
    "summary = model.summary()\n",
    "print(summary)"
   ]
  },
  {
   "cell_type": "code",
   "execution_count": 97,
   "id": "eba2c073-7358-465c-b55d-eaa30f984659",
   "metadata": {
    "collapsed": true,
    "jupyter": {
     "outputs_hidden": true
    },
    "tags": []
   },
   "outputs": [
    {
     "name": "stderr",
     "output_type": "stream",
     "text": [
      "/home/qavi/repos/mlenv/lib/python3.11/site-packages/pandas/core/arraylike.py:396: RuntimeWarning: divide by zero encountered in log\n",
      "  result = getattr(ufunc, method)(*inputs, **kwargs)\n"
     ]
    },
    {
     "data": {
      "image/png": "[encoded data removed]",
      "text/plain": [
       "<Figure size 1200x800 with 1 Axes>"
      ]
     },
     "metadata": {},
     "output_type": "display_data"
    }
   ],
   "source": [
    "import matplotlib.pyplot as plt\n",
    "import matplotlib.patches as mpatches\n",
    "# Creating a color mapping for the different 'own_' variables\n",
    "color_mapping = {\n",
    "    'own_IPP': 'r',           # Independent Power Producer\n",
    "    'own_Joint venture': 'r', # Joint venture\n",
    "    'own_Public': 'g',        # Public\n",
    "    'own_RENTAL & SIPP': 'r'  # Rental & Small Independent Power Producer\n",
    "}\n",
    "\n",
    "ownership_columns = [col for col in df.columns if 'own_' in col]\n",
    "# Assigning colors based on the ownership columns\n",
    "df['color_3d'] = df[ownership_columns].idxmax(axis=1).map(color_mapping)\n",
    "\n",
    "# 3D Plot: Capacity, Usage, and 2021 Cost Per Unit with Ownership Colors\n",
    "fig = plt.figure(figsize=(12, 8))\n",
    "ax = fig.add_subplot(111, projection='3d')\n",
    "scatter = ax.scatter(df['capacity_mw'], df['usage'], np.log(df['2021_cost_per_unit']), c=df['color_3d'], marker='o')\n",
    "\n",
    "# Setting up title and labels\n",
    "ax.set_title('3D Plot: Capacity, Usage, and 2021 Cost Per Unit (Colored by Ownership)')\n",
    "ax.set_xlabel('Capacity (MW)')\n",
    "ax.set_ylabel('Usage')\n",
    "ax.set_zlabel('2021 Cost Per Unit')\n",
    "\n",
    "# Setting up the legend\n",
    "legend_labels_3d = [mpatches.Patch(color=color, label=label.replace('own_', '')) for label, color in color_mapping.items()]\n",
    "ax.legend(handles=legend_labels_3d, title='Ownership', loc='upper left')\n",
    "\n",
    "plt.show()\n"
   ]
  },
  {
   "cell_type": "markdown",
   "id": "37be4236-8837-4b51-ab38-eaedb2d031ae",
   "metadata": {
    "tags": []
   },
   "source": [
    "# Translog"
   ]
  },
  {
   "cell_type": "code",
   "execution_count": 120,
   "id": "ca721939-a264-4f91-ad4a-fa3cba62a4d4",
   "metadata": {
    "tags": []
   },
   "outputs": [
    {
     "data": {
      "text/plain": [
       "Index(['plant_name', 'plant_name_x', '2022_usage', 'capacity_mw', 'start',\n",
       "       'net_generation_gwh', 'usage', '2021_cost_per_unit',\n",
       "       '2022_cost_per_unit', 'own_IPP', 'own_Joint venture', 'own_Public',\n",
       "       'own_RENTAL & SIPP', 'fuel_GAS', 'fuel_HFO', 'fuel_HSD', 'fuel_HYDRO',\n",
       "       'fuel_SOLAR', 'fuel_WIND', 'age'],\n",
       "      dtype='object')"
      ]
     },
     "execution_count": 120,
     "metadata": {},
     "output_type": "execute_result"
    }
   ],
   "source": [
    "df.columns"
   ]
  },
  {
   "cell_type": "code",
   "execution_count": 7,
   "id": "ff043e68-f63a-4648-b304-76e4ae0d38bf",
   "metadata": {},
   "outputs": [],
   "source": [
    "df['2021_units'] = df['capacity_mw']*df['usage']\n",
    "df['2022_units'] = df['capacity_mw']*df['2022_usage']\n",
    "df['change_in_units'] = df['2022_units'] - df['2021_units']\n",
    "df['pct_change_in_units'] = (100*df['change_in_units'])/df['2021_units']"
   ]
  },
  {
   "cell_type": "code",
   "execution_count": 8,
   "id": "3cdd999b-573f-457d-b544-8e92dc8a74c3",
   "metadata": {
    "collapsed": true,
    "jupyter": {
     "outputs_hidden": true
    },
    "tags": []
   },
   "outputs": [
    {
     "name": "stderr",
     "output_type": "stream",
     "text": [
      "/home/qavi/repos/mlenv/lib/python3.11/site-packages/pandas/core/arraylike.py:396: RuntimeWarning: divide by zero encountered in log\n",
      "  result = getattr(ufunc, method)(*inputs, **kwargs)\n",
      "/home/qavi/repos/mlenv/lib/python3.11/site-packages/pandas/core/arraylike.py:396: RuntimeWarning: invalid value encountered in log\n",
      "  result = getattr(ufunc, method)(*inputs, **kwargs)\n",
      "/tmp/ipykernel_66917/1587424856.py:8: SettingWithCopyWarning: \n",
      "A value is trying to be set on a copy of a slice from a DataFrame.\n",
      "Try using .loc[row_indexer,col_indexer] = value instead\n",
      "\n",
      "See the caveats in the documentation: https://pandas.pydata.org/pandas-docs/stable/user_guide/indexing.html#returning-a-view-versus-a-copy\n",
      "  xd[f\"log_{col}\"] = np.log(df[col])\n",
      "/home/qavi/repos/mlenv/lib/python3.11/site-packages/pandas/core/arraylike.py:396: RuntimeWarning: divide by zero encountered in log\n",
      "  result = getattr(ufunc, method)(*inputs, **kwargs)\n",
      "/home/qavi/repos/mlenv/lib/python3.11/site-packages/pandas/core/arraylike.py:396: RuntimeWarning: invalid value encountered in log\n",
      "  result = getattr(ufunc, method)(*inputs, **kwargs)\n",
      "/tmp/ipykernel_66917/1587424856.py:9: SettingWithCopyWarning: \n",
      "A value is trying to be set on a copy of a slice from a DataFrame.\n",
      "Try using .loc[row_indexer,col_indexer] = value instead\n",
      "\n",
      "See the caveats in the documentation: https://pandas.pydata.org/pandas-docs/stable/user_guide/indexing.html#returning-a-view-versus-a-copy\n",
      "  xd[f\"log_{col}_squared\"] = (np.log(df[col]) ** 2)\n",
      "/home/qavi/repos/mlenv/lib/python3.11/site-packages/pandas/core/arraylike.py:396: RuntimeWarning: divide by zero encountered in log\n",
      "  result = getattr(ufunc, method)(*inputs, **kwargs)\n",
      "/tmp/ipykernel_66917/1587424856.py:8: SettingWithCopyWarning: \n",
      "A value is trying to be set on a copy of a slice from a DataFrame.\n",
      "Try using .loc[row_indexer,col_indexer] = value instead\n",
      "\n",
      "See the caveats in the documentation: https://pandas.pydata.org/pandas-docs/stable/user_guide/indexing.html#returning-a-view-versus-a-copy\n",
      "  xd[f\"log_{col}\"] = np.log(df[col])\n",
      "/home/qavi/repos/mlenv/lib/python3.11/site-packages/pandas/core/arraylike.py:396: RuntimeWarning: divide by zero encountered in log\n",
      "  result = getattr(ufunc, method)(*inputs, **kwargs)\n",
      "/tmp/ipykernel_66917/1587424856.py:9: SettingWithCopyWarning: \n",
      "A value is trying to be set on a copy of a slice from a DataFrame.\n",
      "Try using .loc[row_indexer,col_indexer] = value instead\n",
      "\n",
      "See the caveats in the documentation: https://pandas.pydata.org/pandas-docs/stable/user_guide/indexing.html#returning-a-view-versus-a-copy\n",
      "  xd[f\"log_{col}_squared\"] = (np.log(df[col]) ** 2)\n",
      "/home/qavi/repos/mlenv/lib/python3.11/site-packages/pandas/core/arraylike.py:396: RuntimeWarning: divide by zero encountered in log\n",
      "  result = getattr(ufunc, method)(*inputs, **kwargs)\n",
      "/tmp/ipykernel_66917/1587424856.py:8: SettingWithCopyWarning: \n",
      "A value is trying to be set on a copy of a slice from a DataFrame.\n",
      "Try using .loc[row_indexer,col_indexer] = value instead\n",
      "\n",
      "See the caveats in the documentation: https://pandas.pydata.org/pandas-docs/stable/user_guide/indexing.html#returning-a-view-versus-a-copy\n",
      "  xd[f\"log_{col}\"] = np.log(df[col])\n",
      "/home/qavi/repos/mlenv/lib/python3.11/site-packages/pandas/core/arraylike.py:396: RuntimeWarning: divide by zero encountered in log\n",
      "  result = getattr(ufunc, method)(*inputs, **kwargs)\n",
      "/tmp/ipykernel_66917/1587424856.py:9: SettingWithCopyWarning: \n",
      "A value is trying to be set on a copy of a slice from a DataFrame.\n",
      "Try using .loc[row_indexer,col_indexer] = value instead\n",
      "\n",
      "See the caveats in the documentation: https://pandas.pydata.org/pandas-docs/stable/user_guide/indexing.html#returning-a-view-versus-a-copy\n",
      "  xd[f\"log_{col}_squared\"] = (np.log(df[col]) ** 2)\n",
      "/home/qavi/repos/mlenv/lib/python3.11/site-packages/pandas/core/arraylike.py:396: RuntimeWarning: divide by zero encountered in log\n",
      "  result = getattr(ufunc, method)(*inputs, **kwargs)\n",
      "/home/qavi/repos/mlenv/lib/python3.11/site-packages/pandas/core/arraylike.py:396: RuntimeWarning: invalid value encountered in log\n",
      "  result = getattr(ufunc, method)(*inputs, **kwargs)\n",
      "/tmp/ipykernel_66917/1587424856.py:8: SettingWithCopyWarning: \n",
      "A value is trying to be set on a copy of a slice from a DataFrame.\n",
      "Try using .loc[row_indexer,col_indexer] = value instead\n",
      "\n",
      "See the caveats in the documentation: https://pandas.pydata.org/pandas-docs/stable/user_guide/indexing.html#returning-a-view-versus-a-copy\n",
      "  xd[f\"log_{col}\"] = np.log(df[col])\n",
      "/home/qavi/repos/mlenv/lib/python3.11/site-packages/pandas/core/arraylike.py:396: RuntimeWarning: divide by zero encountered in log\n",
      "  result = getattr(ufunc, method)(*inputs, **kwargs)\n",
      "/home/qavi/repos/mlenv/lib/python3.11/site-packages/pandas/core/arraylike.py:396: RuntimeWarning: invalid value encountered in log\n",
      "  result = getattr(ufunc, method)(*inputs, **kwargs)\n",
      "/tmp/ipykernel_66917/1587424856.py:9: SettingWithCopyWarning: \n",
      "A value is trying to be set on a copy of a slice from a DataFrame.\n",
      "Try using .loc[row_indexer,col_indexer] = value instead\n",
      "\n",
      "See the caveats in the documentation: https://pandas.pydata.org/pandas-docs/stable/user_guide/indexing.html#returning-a-view-versus-a-copy\n",
      "  xd[f\"log_{col}_squared\"] = (np.log(df[col]) ** 2)\n",
      "/home/qavi/repos/mlenv/lib/python3.11/site-packages/pandas/core/arraylike.py:396: RuntimeWarning: divide by zero encountered in log\n",
      "  result = getattr(ufunc, method)(*inputs, **kwargs)\n",
      "/tmp/ipykernel_66917/1587424856.py:8: SettingWithCopyWarning: \n",
      "A value is trying to be set on a copy of a slice from a DataFrame.\n",
      "Try using .loc[row_indexer,col_indexer] = value instead\n",
      "\n",
      "See the caveats in the documentation: https://pandas.pydata.org/pandas-docs/stable/user_guide/indexing.html#returning-a-view-versus-a-copy\n",
      "  xd[f\"log_{col}\"] = np.log(df[col])\n",
      "/home/qavi/repos/mlenv/lib/python3.11/site-packages/pandas/core/arraylike.py:396: RuntimeWarning: divide by zero encountered in log\n",
      "  result = getattr(ufunc, method)(*inputs, **kwargs)\n",
      "/tmp/ipykernel_66917/1587424856.py:9: SettingWithCopyWarning: \n",
      "A value is trying to be set on a copy of a slice from a DataFrame.\n",
      "Try using .loc[row_indexer,col_indexer] = value instead\n",
      "\n",
      "See the caveats in the documentation: https://pandas.pydata.org/pandas-docs/stable/user_guide/indexing.html#returning-a-view-versus-a-copy\n",
      "  xd[f\"log_{col}_squared\"] = (np.log(df[col]) ** 2)\n",
      "/home/qavi/repos/mlenv/lib/python3.11/site-packages/pandas/core/arraylike.py:396: RuntimeWarning: divide by zero encountered in log\n",
      "  result = getattr(ufunc, method)(*inputs, **kwargs)\n",
      "/tmp/ipykernel_66917/1587424856.py:8: SettingWithCopyWarning: \n",
      "A value is trying to be set on a copy of a slice from a DataFrame.\n",
      "Try using .loc[row_indexer,col_indexer] = value instead\n",
      "\n",
      "See the caveats in the documentation: https://pandas.pydata.org/pandas-docs/stable/user_guide/indexing.html#returning-a-view-versus-a-copy\n",
      "  xd[f\"log_{col}\"] = np.log(df[col])\n",
      "/home/qavi/repos/mlenv/lib/python3.11/site-packages/pandas/core/arraylike.py:396: RuntimeWarning: divide by zero encountered in log\n",
      "  result = getattr(ufunc, method)(*inputs, **kwargs)\n",
      "/tmp/ipykernel_66917/1587424856.py:9: SettingWithCopyWarning: \n",
      "A value is trying to be set on a copy of a slice from a DataFrame.\n",
      "Try using .loc[row_indexer,col_indexer] = value instead\n",
      "\n",
      "See the caveats in the documentation: https://pandas.pydata.org/pandas-docs/stable/user_guide/indexing.html#returning-a-view-versus-a-copy\n",
      "  xd[f\"log_{col}_squared\"] = (np.log(df[col]) ** 2)\n",
      "/home/qavi/repos/mlenv/lib/python3.11/site-packages/pandas/core/arraylike.py:396: RuntimeWarning: divide by zero encountered in log\n",
      "  result = getattr(ufunc, method)(*inputs, **kwargs)\n",
      "/home/qavi/repos/mlenv/lib/python3.11/site-packages/pandas/core/arraylike.py:396: RuntimeWarning: invalid value encountered in log\n",
      "  result = getattr(ufunc, method)(*inputs, **kwargs)\n",
      "/tmp/ipykernel_66917/1587424856.py:8: SettingWithCopyWarning: \n",
      "A value is trying to be set on a copy of a slice from a DataFrame.\n",
      "Try using .loc[row_indexer,col_indexer] = value instead\n",
      "\n",
      "See the caveats in the documentation: https://pandas.pydata.org/pandas-docs/stable/user_guide/indexing.html#returning-a-view-versus-a-copy\n",
      "  xd[f\"log_{col}\"] = np.log(df[col])\n",
      "/home/qavi/repos/mlenv/lib/python3.11/site-packages/pandas/core/arraylike.py:396: RuntimeWarning: divide by zero encountered in log\n",
      "  result = getattr(ufunc, method)(*inputs, **kwargs)\n",
      "/home/qavi/repos/mlenv/lib/python3.11/site-packages/pandas/core/arraylike.py:396: RuntimeWarning: invalid value encountered in log\n",
      "  result = getattr(ufunc, method)(*inputs, **kwargs)\n",
      "/tmp/ipykernel_66917/1587424856.py:9: SettingWithCopyWarning: \n",
      "A value is trying to be set on a copy of a slice from a DataFrame.\n",
      "Try using .loc[row_indexer,col_indexer] = value instead\n",
      "\n",
      "See the caveats in the documentation: https://pandas.pydata.org/pandas-docs/stable/user_guide/indexing.html#returning-a-view-versus-a-copy\n",
      "  xd[f\"log_{col}_squared\"] = (np.log(df[col]) ** 2)\n",
      "/home/qavi/repos/mlenv/lib/python3.11/site-packages/pandas/core/arraylike.py:396: RuntimeWarning: divide by zero encountered in log\n",
      "  result = getattr(ufunc, method)(*inputs, **kwargs)\n",
      "/home/qavi/repos/mlenv/lib/python3.11/site-packages/pandas/core/arraylike.py:396: RuntimeWarning: invalid value encountered in log\n",
      "  result = getattr(ufunc, method)(*inputs, **kwargs)\n",
      "/tmp/ipykernel_66917/1587424856.py:8: SettingWithCopyWarning: \n",
      "A value is trying to be set on a copy of a slice from a DataFrame.\n",
      "Try using .loc[row_indexer,col_indexer] = value instead\n",
      "\n",
      "See the caveats in the documentation: https://pandas.pydata.org/pandas-docs/stable/user_guide/indexing.html#returning-a-view-versus-a-copy\n",
      "  xd[f\"log_{col}\"] = np.log(df[col])\n",
      "/home/qavi/repos/mlenv/lib/python3.11/site-packages/pandas/core/arraylike.py:396: RuntimeWarning: divide by zero encountered in log\n",
      "  result = getattr(ufunc, method)(*inputs, **kwargs)\n",
      "/home/qavi/repos/mlenv/lib/python3.11/site-packages/pandas/core/arraylike.py:396: RuntimeWarning: invalid value encountered in log\n",
      "  result = getattr(ufunc, method)(*inputs, **kwargs)\n",
      "/tmp/ipykernel_66917/1587424856.py:9: SettingWithCopyWarning: \n",
      "A value is trying to be set on a copy of a slice from a DataFrame.\n",
      "Try using .loc[row_indexer,col_indexer] = value instead\n",
      "\n",
      "See the caveats in the documentation: https://pandas.pydata.org/pandas-docs/stable/user_guide/indexing.html#returning-a-view-versus-a-copy\n",
      "  xd[f\"log_{col}_squared\"] = (np.log(df[col]) ** 2)\n",
      "/home/qavi/repos/mlenv/lib/python3.11/site-packages/pandas/core/arraylike.py:396: RuntimeWarning: invalid value encountered in log\n",
      "  result = getattr(ufunc, method)(*inputs, **kwargs)\n",
      "/tmp/ipykernel_66917/1587424856.py:8: SettingWithCopyWarning: \n",
      "A value is trying to be set on a copy of a slice from a DataFrame.\n",
      "Try using .loc[row_indexer,col_indexer] = value instead\n",
      "\n",
      "See the caveats in the documentation: https://pandas.pydata.org/pandas-docs/stable/user_guide/indexing.html#returning-a-view-versus-a-copy\n",
      "  xd[f\"log_{col}\"] = np.log(df[col])\n",
      "/home/qavi/repos/mlenv/lib/python3.11/site-packages/pandas/core/arraylike.py:396: RuntimeWarning: invalid value encountered in log\n",
      "  result = getattr(ufunc, method)(*inputs, **kwargs)\n",
      "/tmp/ipykernel_66917/1587424856.py:9: SettingWithCopyWarning: \n",
      "A value is trying to be set on a copy of a slice from a DataFrame.\n",
      "Try using .loc[row_indexer,col_indexer] = value instead\n",
      "\n",
      "See the caveats in the documentation: https://pandas.pydata.org/pandas-docs/stable/user_guide/indexing.html#returning-a-view-versus-a-copy\n",
      "  xd[f\"log_{col}_squared\"] = (np.log(df[col]) ** 2)\n"
     ]
    },
    {
     "data": {
      "text/plain": [
       "(134, 28)"
      ]
     },
     "execution_count": 8,
     "metadata": {},
     "output_type": "execute_result"
    }
   ],
   "source": [
    "numeric_columns = df[['usage', 'age', 'capacity_mw', 'net_generation_gwh', '2021_cost_per_unit',\n",
    "                      '2022_cost_per_unit', '2022_usage', 'change_in_units', 'pct_change_in_units']]\n",
    "xd = df[['own_IPP', 'own_Joint venture',\n",
    "       'own_Public', 'own_RENTAL & SIPP', 'fuel_GAS', 'fuel_HFO', 'fuel_HSD',\n",
    "       'fuel_HYDRO', 'fuel_SOLAR', 'fuel_WIND']]\n",
    "\n",
    "for col in numeric_columns.columns:\n",
    "    xd[f\"log_{col}\"] = np.log(df[col])\n",
    "    xd[f\"log_{col}_squared\"] = (np.log(df[col]) ** 2)\n",
    "    #xd[col] = np.log(df[col])\n",
    "\n",
    "xd = xd.replace([np.inf, -np.inf], np.nan).fillna(0)\n",
    "xd.shape"
   ]
  },
  {
   "cell_type": "code",
   "execution_count": 71,
   "id": "590682ce-4c55-4c9d-8108-7713f835df11",
   "metadata": {
    "collapsed": true,
    "jupyter": {
     "outputs_hidden": true
    },
    "tags": []
   },
   "outputs": [
    {
     "name": "stdout",
     "output_type": "stream",
     "text": [
      "own_IPP own_Joint venture\n",
      "own_IPP own_Public\n",
      "own_IPP own_RENTAL & SIPP\n",
      "own_IPP fuel_GAS\n",
      "own_IPP fuel_HFO\n",
      "own_IPP fuel_HSD\n",
      "own_IPP fuel_HYDRO\n",
      "own_IPP fuel_IMPORT\n",
      "own_IPP fuel_SOLAR\n",
      "own_IPP fuel_WIND\n",
      "own_IPP log_age\n",
      "own_IPP log_age_squared\n",
      "own_IPP log_usage\n",
      "own_IPP log_usage_squared\n",
      "own_IPP log_capacity_mw\n",
      "own_IPP log_capacity_mw_squared\n",
      "own_IPP log_net_generation_gwh\n",
      "own_IPP log_net_generation_gwh_squared\n",
      "own_IPP log_2021_cost_per_unit\n",
      "own_IPP log_2021_cost_per_unit_squared\n",
      "own_IPP log_2022_cost_per_unit\n",
      "own_IPP log_2022_cost_per_unit_squared\n",
      "own_IPP log_cost_increase\n",
      "own_IPP log_cost_increase_squared\n",
      "own_Joint venture own_IPP\n",
      "own_Joint venture own_Public\n",
      "own_Joint venture own_RENTAL & SIPP\n",
      "own_Joint venture fuel_GAS\n",
      "own_Joint venture fuel_HFO\n",
      "own_Joint venture fuel_HSD\n",
      "own_Joint venture fuel_HYDRO\n",
      "own_Joint venture fuel_IMPORT\n",
      "own_Joint venture fuel_SOLAR\n",
      "own_Joint venture fuel_WIND\n",
      "own_Joint venture log_age\n",
      "own_Joint venture log_age_squared\n",
      "own_Joint venture log_usage\n",
      "own_Joint venture log_usage_squared\n",
      "own_Joint venture log_capacity_mw\n",
      "own_Joint venture log_capacity_mw_squared\n",
      "own_Joint venture log_net_generation_gwh\n",
      "own_Joint venture log_net_generation_gwh_squared\n",
      "own_Joint venture log_2021_cost_per_unit\n",
      "own_Joint venture log_2021_cost_per_unit_squared\n",
      "own_Joint venture log_2022_cost_per_unit\n",
      "own_Joint venture log_2022_cost_per_unit_squared\n",
      "own_Joint venture log_cost_increase\n",
      "own_Joint venture log_cost_increase_squared\n",
      "own_Public own_IPP\n",
      "own_Public own_Joint venture\n",
      "own_Public own_RENTAL & SIPP\n",
      "own_Public fuel_GAS\n",
      "own_Public fuel_HFO\n",
      "own_Public fuel_HSD\n",
      "own_Public fuel_HYDRO\n",
      "own_Public fuel_IMPORT\n",
      "own_Public fuel_SOLAR\n",
      "own_Public fuel_WIND\n",
      "own_Public log_age\n",
      "own_Public log_age_squared\n",
      "own_Public log_usage\n",
      "own_Public log_usage_squared\n",
      "own_Public log_capacity_mw\n",
      "own_Public log_capacity_mw_squared\n",
      "own_Public log_net_generation_gwh\n",
      "own_Public log_net_generation_gwh_squared\n",
      "own_Public log_2021_cost_per_unit\n",
      "own_Public log_2021_cost_per_unit_squared\n",
      "own_Public log_2022_cost_per_unit\n",
      "own_Public log_2022_cost_per_unit_squared\n",
      "own_Public log_cost_increase\n",
      "own_Public log_cost_increase_squared\n",
      "own_RENTAL & SIPP own_IPP\n",
      "own_RENTAL & SIPP own_Joint venture\n",
      "own_RENTAL & SIPP own_Public\n",
      "own_RENTAL & SIPP fuel_GAS\n",
      "own_RENTAL & SIPP fuel_HFO\n",
      "own_RENTAL & SIPP fuel_HSD\n",
      "own_RENTAL & SIPP fuel_HYDRO\n",
      "own_RENTAL & SIPP fuel_IMPORT\n",
      "own_RENTAL & SIPP fuel_SOLAR\n",
      "own_RENTAL & SIPP fuel_WIND\n",
      "own_RENTAL & SIPP log_age\n",
      "own_RENTAL & SIPP log_age_squared\n",
      "own_RENTAL & SIPP log_usage\n",
      "own_RENTAL & SIPP log_usage_squared\n",
      "own_RENTAL & SIPP log_capacity_mw\n",
      "own_RENTAL & SIPP log_capacity_mw_squared\n",
      "own_RENTAL & SIPP log_net_generation_gwh\n",
      "own_RENTAL & SIPP log_net_generation_gwh_squared\n",
      "own_RENTAL & SIPP log_2021_cost_per_unit\n",
      "own_RENTAL & SIPP log_2021_cost_per_unit_squared\n",
      "own_RENTAL & SIPP log_2022_cost_per_unit\n",
      "own_RENTAL & SIPP log_2022_cost_per_unit_squared\n",
      "own_RENTAL & SIPP log_cost_increase\n",
      "own_RENTAL & SIPP log_cost_increase_squared\n",
      "fuel_GAS own_IPP\n",
      "fuel_GAS own_Joint venture\n",
      "fuel_GAS own_Public\n",
      "fuel_GAS own_RENTAL & SIPP\n",
      "fuel_GAS fuel_HFO\n",
      "fuel_GAS fuel_HSD\n",
      "fuel_GAS fuel_HYDRO\n",
      "fuel_GAS fuel_IMPORT\n",
      "fuel_GAS fuel_SOLAR\n",
      "fuel_GAS fuel_WIND\n",
      "fuel_GAS log_age\n",
      "fuel_GAS log_age_squared\n",
      "fuel_GAS log_usage\n",
      "fuel_GAS log_usage_squared\n",
      "fuel_GAS log_capacity_mw\n",
      "fuel_GAS log_capacity_mw_squared\n",
      "fuel_GAS log_net_generation_gwh\n",
      "fuel_GAS log_net_generation_gwh_squared\n",
      "fuel_GAS log_2021_cost_per_unit\n",
      "fuel_GAS log_2021_cost_per_unit_squared\n",
      "fuel_GAS log_2022_cost_per_unit\n",
      "fuel_GAS log_2022_cost_per_unit_squared\n",
      "fuel_GAS log_cost_increase\n",
      "fuel_GAS log_cost_increase_squared\n",
      "fuel_HFO own_IPP\n",
      "fuel_HFO own_Joint venture\n",
      "fuel_HFO own_Public\n",
      "fuel_HFO own_RENTAL & SIPP\n",
      "fuel_HFO fuel_GAS\n",
      "fuel_HFO fuel_HSD\n",
      "fuel_HFO fuel_HYDRO\n",
      "fuel_HFO fuel_IMPORT\n",
      "fuel_HFO fuel_SOLAR\n",
      "fuel_HFO fuel_WIND\n",
      "fuel_HFO log_age\n",
      "fuel_HFO log_age_squared\n",
      "fuel_HFO log_usage\n",
      "fuel_HFO log_usage_squared\n",
      "fuel_HFO log_capacity_mw\n",
      "fuel_HFO log_capacity_mw_squared\n",
      "fuel_HFO log_net_generation_gwh\n",
      "fuel_HFO log_net_generation_gwh_squared\n",
      "fuel_HFO log_2021_cost_per_unit\n",
      "fuel_HFO log_2021_cost_per_unit_squared\n",
      "fuel_HFO log_2022_cost_per_unit\n",
      "fuel_HFO log_2022_cost_per_unit_squared\n",
      "fuel_HFO log_cost_increase\n",
      "fuel_HFO log_cost_increase_squared\n",
      "fuel_HSD own_IPP\n",
      "fuel_HSD own_Joint venture\n",
      "fuel_HSD own_Public\n",
      "fuel_HSD own_RENTAL & SIPP\n",
      "fuel_HSD fuel_GAS\n",
      "fuel_HSD fuel_HFO\n",
      "fuel_HSD fuel_HYDRO\n",
      "fuel_HSD fuel_IMPORT\n",
      "fuel_HSD fuel_SOLAR\n",
      "fuel_HSD fuel_WIND\n",
      "fuel_HSD log_age\n",
      "fuel_HSD log_age_squared\n",
      "fuel_HSD log_usage\n",
      "fuel_HSD log_usage_squared\n",
      "fuel_HSD log_capacity_mw\n",
      "fuel_HSD log_capacity_mw_squared\n",
      "fuel_HSD log_net_generation_gwh\n",
      "fuel_HSD log_net_generation_gwh_squared\n",
      "fuel_HSD log_2021_cost_per_unit\n",
      "fuel_HSD log_2021_cost_per_unit_squared\n",
      "fuel_HSD log_2022_cost_per_unit\n",
      "fuel_HSD log_2022_cost_per_unit_squared\n",
      "fuel_HSD log_cost_increase\n",
      "fuel_HSD log_cost_increase_squared\n",
      "fuel_HYDRO own_IPP\n",
      "fuel_HYDRO own_Joint venture\n",
      "fuel_HYDRO own_Public\n",
      "fuel_HYDRO own_RENTAL & SIPP\n",
      "fuel_HYDRO fuel_GAS\n",
      "fuel_HYDRO fuel_HFO\n",
      "fuel_HYDRO fuel_HSD\n",
      "fuel_HYDRO fuel_IMPORT\n",
      "fuel_HYDRO fuel_SOLAR\n",
      "fuel_HYDRO fuel_WIND\n",
      "fuel_HYDRO log_age\n",
      "fuel_HYDRO log_age_squared\n",
      "fuel_HYDRO log_usage\n",
      "fuel_HYDRO log_usage_squared\n",
      "fuel_HYDRO log_capacity_mw\n",
      "fuel_HYDRO log_capacity_mw_squared\n",
      "fuel_HYDRO log_net_generation_gwh\n",
      "fuel_HYDRO log_net_generation_gwh_squared\n",
      "fuel_HYDRO log_2021_cost_per_unit\n",
      "fuel_HYDRO log_2021_cost_per_unit_squared\n",
      "fuel_HYDRO log_2022_cost_per_unit\n",
      "fuel_HYDRO log_2022_cost_per_unit_squared\n",
      "fuel_HYDRO log_cost_increase\n",
      "fuel_HYDRO log_cost_increase_squared\n",
      "fuel_IMPORT own_IPP\n",
      "fuel_IMPORT own_Joint venture\n",
      "fuel_IMPORT own_Public\n",
      "fuel_IMPORT own_RENTAL & SIPP\n",
      "fuel_IMPORT fuel_GAS\n",
      "fuel_IMPORT fuel_HFO\n",
      "fuel_IMPORT fuel_HSD\n",
      "fuel_IMPORT fuel_HYDRO\n",
      "fuel_IMPORT fuel_SOLAR\n",
      "fuel_IMPORT fuel_WIND\n",
      "fuel_IMPORT log_age\n",
      "fuel_IMPORT log_age_squared\n",
      "fuel_IMPORT log_usage\n",
      "fuel_IMPORT log_usage_squared\n",
      "fuel_IMPORT log_capacity_mw\n",
      "fuel_IMPORT log_capacity_mw_squared\n",
      "fuel_IMPORT log_net_generation_gwh\n",
      "fuel_IMPORT log_net_generation_gwh_squared\n",
      "fuel_IMPORT log_2021_cost_per_unit\n",
      "fuel_IMPORT log_2021_cost_per_unit_squared\n",
      "fuel_IMPORT log_2022_cost_per_unit\n",
      "fuel_IMPORT log_2022_cost_per_unit_squared\n",
      "fuel_IMPORT log_cost_increase\n",
      "fuel_IMPORT log_cost_increase_squared\n",
      "fuel_SOLAR own_IPP\n",
      "fuel_SOLAR own_Joint venture\n",
      "fuel_SOLAR own_Public\n",
      "fuel_SOLAR own_RENTAL & SIPP\n",
      "fuel_SOLAR fuel_GAS\n",
      "fuel_SOLAR fuel_HFO\n",
      "fuel_SOLAR fuel_HSD\n",
      "fuel_SOLAR fuel_HYDRO\n",
      "fuel_SOLAR fuel_IMPORT\n",
      "fuel_SOLAR fuel_WIND\n",
      "fuel_SOLAR log_age\n",
      "fuel_SOLAR log_age_squared\n",
      "fuel_SOLAR log_usage\n",
      "fuel_SOLAR log_usage_squared\n",
      "fuel_SOLAR log_capacity_mw\n",
      "fuel_SOLAR log_capacity_mw_squared\n",
      "fuel_SOLAR log_net_generation_gwh\n",
      "fuel_SOLAR log_net_generation_gwh_squared\n",
      "fuel_SOLAR log_2021_cost_per_unit\n",
      "fuel_SOLAR log_2021_cost_per_unit_squared\n",
      "fuel_SOLAR log_2022_cost_per_unit\n",
      "fuel_SOLAR log_2022_cost_per_unit_squared\n",
      "fuel_SOLAR log_cost_increase\n",
      "fuel_SOLAR log_cost_increase_squared\n",
      "fuel_WIND own_IPP\n",
      "fuel_WIND own_Joint venture\n",
      "fuel_WIND own_Public\n",
      "fuel_WIND own_RENTAL & SIPP\n",
      "fuel_WIND fuel_GAS\n",
      "fuel_WIND fuel_HFO\n",
      "fuel_WIND fuel_HSD\n",
      "fuel_WIND fuel_HYDRO\n",
      "fuel_WIND fuel_IMPORT\n",
      "fuel_WIND fuel_SOLAR\n",
      "fuel_WIND log_age\n",
      "fuel_WIND log_age_squared\n",
      "fuel_WIND log_usage\n",
      "fuel_WIND log_usage_squared\n",
      "fuel_WIND log_capacity_mw\n",
      "fuel_WIND log_capacity_mw_squared\n",
      "fuel_WIND log_net_generation_gwh\n",
      "fuel_WIND log_net_generation_gwh_squared\n",
      "fuel_WIND log_2021_cost_per_unit\n",
      "fuel_WIND log_2021_cost_per_unit_squared\n",
      "fuel_WIND log_2022_cost_per_unit\n",
      "fuel_WIND log_2022_cost_per_unit_squared\n",
      "fuel_WIND log_cost_increase\n",
      "fuel_WIND log_cost_increase_squared\n",
      "log_age own_IPP\n",
      "log_age own_Joint venture\n",
      "log_age own_Public\n",
      "log_age own_RENTAL & SIPP\n",
      "log_age fuel_GAS\n",
      "log_age fuel_HFO\n",
      "log_age fuel_HSD\n",
      "log_age fuel_HYDRO\n",
      "log_age fuel_IMPORT\n",
      "log_age fuel_SOLAR\n",
      "log_age fuel_WIND\n",
      "log_age log_age_squared\n",
      "log_age log_usage\n",
      "log_age log_usage_squared\n",
      "log_age log_capacity_mw\n",
      "log_age log_capacity_mw_squared\n",
      "log_age log_net_generation_gwh\n",
      "log_age log_net_generation_gwh_squared\n",
      "log_age log_2021_cost_per_unit\n",
      "log_age log_2021_cost_per_unit_squared\n",
      "log_age log_2022_cost_per_unit\n",
      "log_age log_2022_cost_per_unit_squared\n",
      "log_age log_cost_increase\n",
      "log_age log_cost_increase_squared\n",
      "log_age_squared own_IPP\n",
      "log_age_squared own_Joint venture\n",
      "log_age_squared own_Public\n",
      "log_age_squared own_RENTAL & SIPP\n",
      "log_age_squared fuel_GAS\n",
      "log_age_squared fuel_HFO\n",
      "log_age_squared fuel_HSD\n",
      "log_age_squared fuel_HYDRO\n",
      "log_age_squared fuel_IMPORT\n",
      "log_age_squared fuel_SOLAR\n",
      "log_age_squared fuel_WIND\n",
      "log_age_squared log_age\n",
      "log_age_squared log_usage\n",
      "log_age_squared log_usage_squared\n",
      "log_age_squared log_capacity_mw\n",
      "log_age_squared log_capacity_mw_squared\n",
      "log_age_squared log_net_generation_gwh\n",
      "log_age_squared log_net_generation_gwh_squared\n",
      "log_age_squared log_2021_cost_per_unit\n",
      "log_age_squared log_2021_cost_per_unit_squared\n",
      "log_age_squared log_2022_cost_per_unit\n",
      "log_age_squared log_2022_cost_per_unit_squared\n",
      "log_age_squared log_cost_increase\n",
      "log_age_squared log_cost_increase_squared\n",
      "log_usage own_IPP\n",
      "log_usage own_Joint venture\n",
      "log_usage own_Public\n",
      "log_usage own_RENTAL & SIPP\n",
      "log_usage fuel_GAS\n",
      "log_usage fuel_HFO\n",
      "log_usage fuel_HSD\n",
      "log_usage fuel_HYDRO\n",
      "log_usage fuel_IMPORT\n",
      "log_usage fuel_SOLAR\n",
      "log_usage fuel_WIND\n",
      "log_usage log_age\n",
      "log_usage log_age_squared\n",
      "log_usage log_usage_squared\n",
      "log_usage log_capacity_mw\n",
      "log_usage log_capacity_mw_squared\n",
      "log_usage log_net_generation_gwh\n",
      "log_usage log_net_generation_gwh_squared\n",
      "log_usage log_2021_cost_per_unit\n",
      "log_usage log_2021_cost_per_unit_squared\n",
      "log_usage log_2022_cost_per_unit\n",
      "log_usage log_2022_cost_per_unit_squared\n",
      "log_usage log_cost_increase\n",
      "log_usage log_cost_increase_squared\n",
      "log_usage_squared own_IPP\n",
      "log_usage_squared own_Joint venture\n",
      "log_usage_squared own_Public\n",
      "log_usage_squared own_RENTAL & SIPP\n",
      "log_usage_squared fuel_GAS\n",
      "log_usage_squared fuel_HFO\n",
      "log_usage_squared fuel_HSD\n",
      "log_usage_squared fuel_HYDRO\n",
      "log_usage_squared fuel_IMPORT\n",
      "log_usage_squared fuel_SOLAR\n",
      "log_usage_squared fuel_WIND\n",
      "log_usage_squared log_age\n",
      "log_usage_squared log_age_squared\n",
      "log_usage_squared log_usage\n",
      "log_usage_squared log_capacity_mw\n",
      "log_usage_squared log_capacity_mw_squared\n",
      "log_usage_squared log_net_generation_gwh\n",
      "log_usage_squared log_net_generation_gwh_squared\n",
      "log_usage_squared log_2021_cost_per_unit\n",
      "log_usage_squared log_2021_cost_per_unit_squared\n",
      "log_usage_squared log_2022_cost_per_unit\n",
      "log_usage_squared log_2022_cost_per_unit_squared\n",
      "log_usage_squared log_cost_increase\n",
      "log_usage_squared log_cost_increase_squared\n",
      "log_capacity_mw own_IPP\n",
      "log_capacity_mw own_Joint venture\n",
      "log_capacity_mw own_Public\n",
      "log_capacity_mw own_RENTAL & SIPP\n",
      "log_capacity_mw fuel_GAS\n",
      "log_capacity_mw fuel_HFO\n",
      "log_capacity_mw fuel_HSD\n",
      "log_capacity_mw fuel_HYDRO\n",
      "log_capacity_mw fuel_IMPORT\n",
      "log_capacity_mw fuel_SOLAR\n",
      "log_capacity_mw fuel_WIND\n",
      "log_capacity_mw log_age\n",
      "log_capacity_mw log_age_squared\n",
      "log_capacity_mw log_usage\n",
      "log_capacity_mw log_usage_squared\n",
      "log_capacity_mw log_capacity_mw_squared\n",
      "log_capacity_mw log_net_generation_gwh\n",
      "log_capacity_mw log_net_generation_gwh_squared\n",
      "log_capacity_mw log_2021_cost_per_unit\n",
      "log_capacity_mw log_2021_cost_per_unit_squared\n",
      "log_capacity_mw log_2022_cost_per_unit\n",
      "log_capacity_mw log_2022_cost_per_unit_squared\n",
      "log_capacity_mw log_cost_increase\n",
      "log_capacity_mw log_cost_increase_squared\n",
      "log_capacity_mw_squared own_IPP\n",
      "log_capacity_mw_squared own_Joint venture\n",
      "log_capacity_mw_squared own_Public\n",
      "log_capacity_mw_squared own_RENTAL & SIPP\n",
      "log_capacity_mw_squared fuel_GAS\n",
      "log_capacity_mw_squared fuel_HFO\n",
      "log_capacity_mw_squared fuel_HSD\n",
      "log_capacity_mw_squared fuel_HYDRO\n",
      "log_capacity_mw_squared fuel_IMPORT\n",
      "log_capacity_mw_squared fuel_SOLAR\n",
      "log_capacity_mw_squared fuel_WIND\n",
      "log_capacity_mw_squared log_age\n",
      "log_capacity_mw_squared log_age_squared\n",
      "log_capacity_mw_squared log_usage\n",
      "log_capacity_mw_squared log_usage_squared\n",
      "log_capacity_mw_squared log_capacity_mw\n",
      "log_capacity_mw_squared log_net_generation_gwh\n",
      "log_capacity_mw_squared log_net_generation_gwh_squared\n",
      "log_capacity_mw_squared log_2021_cost_per_unit\n",
      "log_capacity_mw_squared log_2021_cost_per_unit_squared\n",
      "log_capacity_mw_squared log_2022_cost_per_unit\n",
      "log_capacity_mw_squared log_2022_cost_per_unit_squared\n",
      "log_capacity_mw_squared log_cost_increase\n",
      "log_capacity_mw_squared log_cost_increase_squared\n",
      "log_net_generation_gwh own_IPP\n",
      "log_net_generation_gwh own_Joint venture\n",
      "log_net_generation_gwh own_Public\n",
      "log_net_generation_gwh own_RENTAL & SIPP\n",
      "log_net_generation_gwh fuel_GAS\n",
      "log_net_generation_gwh fuel_HFO\n",
      "log_net_generation_gwh fuel_HSD\n",
      "log_net_generation_gwh fuel_HYDRO\n",
      "log_net_generation_gwh fuel_IMPORT\n",
      "log_net_generation_gwh fuel_SOLAR\n",
      "log_net_generation_gwh fuel_WIND\n",
      "log_net_generation_gwh log_age\n",
      "log_net_generation_gwh log_age_squared\n",
      "log_net_generation_gwh log_usage\n",
      "log_net_generation_gwh log_usage_squared\n",
      "log_net_generation_gwh log_capacity_mw\n",
      "log_net_generation_gwh log_capacity_mw_squared\n",
      "log_net_generation_gwh log_net_generation_gwh_squared\n",
      "log_net_generation_gwh log_2021_cost_per_unit\n",
      "log_net_generation_gwh log_2021_cost_per_unit_squared\n",
      "log_net_generation_gwh log_2022_cost_per_unit\n",
      "log_net_generation_gwh log_2022_cost_per_unit_squared\n",
      "log_net_generation_gwh log_cost_increase\n",
      "log_net_generation_gwh log_cost_increase_squared\n",
      "log_net_generation_gwh_squared own_IPP\n",
      "log_net_generation_gwh_squared own_Joint venture\n",
      "log_net_generation_gwh_squared own_Public\n",
      "log_net_generation_gwh_squared own_RENTAL & SIPP\n",
      "log_net_generation_gwh_squared fuel_GAS\n",
      "log_net_generation_gwh_squared fuel_HFO\n",
      "log_net_generation_gwh_squared fuel_HSD\n",
      "log_net_generation_gwh_squared fuel_HYDRO\n",
      "log_net_generation_gwh_squared fuel_IMPORT\n",
      "log_net_generation_gwh_squared fuel_SOLAR\n",
      "log_net_generation_gwh_squared fuel_WIND\n",
      "log_net_generation_gwh_squared log_age\n",
      "log_net_generation_gwh_squared log_age_squared\n",
      "log_net_generation_gwh_squared log_usage\n",
      "log_net_generation_gwh_squared log_usage_squared\n",
      "log_net_generation_gwh_squared log_capacity_mw\n",
      "log_net_generation_gwh_squared log_capacity_mw_squared\n",
      "log_net_generation_gwh_squared log_net_generation_gwh\n",
      "log_net_generation_gwh_squared log_2021_cost_per_unit\n",
      "log_net_generation_gwh_squared log_2021_cost_per_unit_squared\n",
      "log_net_generation_gwh_squared log_2022_cost_per_unit\n",
      "log_net_generation_gwh_squared log_2022_cost_per_unit_squared\n",
      "log_net_generation_gwh_squared log_cost_increase\n",
      "log_net_generation_gwh_squared log_cost_increase_squared\n",
      "log_2021_cost_per_unit own_IPP\n",
      "log_2021_cost_per_unit own_Joint venture\n",
      "log_2021_cost_per_unit own_Public\n",
      "log_2021_cost_per_unit own_RENTAL & SIPP\n",
      "log_2021_cost_per_unit fuel_GAS\n",
      "log_2021_cost_per_unit fuel_HFO\n",
      "log_2021_cost_per_unit fuel_HSD\n",
      "log_2021_cost_per_unit fuel_HYDRO\n",
      "log_2021_cost_per_unit fuel_IMPORT\n",
      "log_2021_cost_per_unit fuel_SOLAR\n",
      "log_2021_cost_per_unit fuel_WIND\n",
      "log_2021_cost_per_unit log_age\n",
      "log_2021_cost_per_unit log_age_squared\n",
      "log_2021_cost_per_unit log_usage\n",
      "log_2021_cost_per_unit log_usage_squared\n",
      "log_2021_cost_per_unit log_capacity_mw\n",
      "log_2021_cost_per_unit log_capacity_mw_squared\n",
      "log_2021_cost_per_unit log_net_generation_gwh\n",
      "log_2021_cost_per_unit log_net_generation_gwh_squared\n",
      "log_2021_cost_per_unit log_2021_cost_per_unit_squared\n",
      "log_2021_cost_per_unit log_2022_cost_per_unit\n",
      "log_2021_cost_per_unit log_2022_cost_per_unit_squared\n",
      "log_2021_cost_per_unit log_cost_increase\n",
      "log_2021_cost_per_unit log_cost_increase_squared\n",
      "log_2021_cost_per_unit_squared own_IPP\n",
      "log_2021_cost_per_unit_squared own_Joint venture\n",
      "log_2021_cost_per_unit_squared own_Public\n",
      "log_2021_cost_per_unit_squared own_RENTAL & SIPP\n",
      "log_2021_cost_per_unit_squared fuel_GAS\n",
      "log_2021_cost_per_unit_squared fuel_HFO\n",
      "log_2021_cost_per_unit_squared fuel_HSD\n",
      "log_2021_cost_per_unit_squared fuel_HYDRO\n",
      "log_2021_cost_per_unit_squared fuel_IMPORT\n",
      "log_2021_cost_per_unit_squared fuel_SOLAR\n",
      "log_2021_cost_per_unit_squared fuel_WIND\n",
      "log_2021_cost_per_unit_squared log_age\n",
      "log_2021_cost_per_unit_squared log_age_squared\n",
      "log_2021_cost_per_unit_squared log_usage\n",
      "log_2021_cost_per_unit_squared log_usage_squared\n",
      "log_2021_cost_per_unit_squared log_capacity_mw\n",
      "log_2021_cost_per_unit_squared log_capacity_mw_squared\n",
      "log_2021_cost_per_unit_squared log_net_generation_gwh\n",
      "log_2021_cost_per_unit_squared log_net_generation_gwh_squared\n",
      "log_2021_cost_per_unit_squared log_2021_cost_per_unit\n",
      "log_2021_cost_per_unit_squared log_2022_cost_per_unit\n",
      "log_2021_cost_per_unit_squared log_2022_cost_per_unit_squared\n",
      "log_2021_cost_per_unit_squared log_cost_increase\n",
      "log_2021_cost_per_unit_squared log_cost_increase_squared\n",
      "log_2022_cost_per_unit own_IPP\n",
      "log_2022_cost_per_unit own_Joint venture\n",
      "log_2022_cost_per_unit own_Public\n",
      "log_2022_cost_per_unit own_RENTAL & SIPP\n",
      "log_2022_cost_per_unit fuel_GAS\n",
      "log_2022_cost_per_unit fuel_HFO\n",
      "log_2022_cost_per_unit fuel_HSD\n",
      "log_2022_cost_per_unit fuel_HYDRO\n",
      "log_2022_cost_per_unit fuel_IMPORT\n",
      "log_2022_cost_per_unit fuel_SOLAR\n",
      "log_2022_cost_per_unit fuel_WIND\n",
      "log_2022_cost_per_unit log_age\n",
      "log_2022_cost_per_unit log_age_squared\n",
      "log_2022_cost_per_unit log_usage\n",
      "log_2022_cost_per_unit log_usage_squared\n",
      "log_2022_cost_per_unit log_capacity_mw\n",
      "log_2022_cost_per_unit log_capacity_mw_squared\n",
      "log_2022_cost_per_unit log_net_generation_gwh\n",
      "log_2022_cost_per_unit log_net_generation_gwh_squared\n",
      "log_2022_cost_per_unit log_2021_cost_per_unit\n",
      "log_2022_cost_per_unit log_2021_cost_per_unit_squared\n",
      "log_2022_cost_per_unit log_2022_cost_per_unit_squared\n",
      "log_2022_cost_per_unit log_cost_increase\n",
      "log_2022_cost_per_unit log_cost_increase_squared\n",
      "log_2022_cost_per_unit_squared own_IPP\n",
      "log_2022_cost_per_unit_squared own_Joint venture\n",
      "log_2022_cost_per_unit_squared own_Public\n",
      "log_2022_cost_per_unit_squared own_RENTAL & SIPP\n",
      "log_2022_cost_per_unit_squared fuel_GAS\n",
      "log_2022_cost_per_unit_squared fuel_HFO\n",
      "log_2022_cost_per_unit_squared fuel_HSD\n",
      "log_2022_cost_per_unit_squared fuel_HYDRO\n",
      "log_2022_cost_per_unit_squared fuel_IMPORT\n",
      "log_2022_cost_per_unit_squared fuel_SOLAR\n",
      "log_2022_cost_per_unit_squared fuel_WIND\n",
      "log_2022_cost_per_unit_squared log_age\n",
      "log_2022_cost_per_unit_squared log_age_squared\n",
      "log_2022_cost_per_unit_squared log_usage\n",
      "log_2022_cost_per_unit_squared log_usage_squared\n",
      "log_2022_cost_per_unit_squared log_capacity_mw\n",
      "log_2022_cost_per_unit_squared log_capacity_mw_squared\n",
      "log_2022_cost_per_unit_squared log_net_generation_gwh\n",
      "log_2022_cost_per_unit_squared log_net_generation_gwh_squared\n",
      "log_2022_cost_per_unit_squared log_2021_cost_per_unit\n",
      "log_2022_cost_per_unit_squared log_2021_cost_per_unit_squared\n",
      "log_2022_cost_per_unit_squared log_2022_cost_per_unit\n",
      "log_2022_cost_per_unit_squared log_cost_increase\n",
      "log_2022_cost_per_unit_squared log_cost_increase_squared\n",
      "log_cost_increase own_IPP\n",
      "log_cost_increase own_Joint venture\n",
      "log_cost_increase own_Public\n",
      "log_cost_increase own_RENTAL & SIPP\n",
      "log_cost_increase fuel_GAS\n",
      "log_cost_increase fuel_HFO\n",
      "log_cost_increase fuel_HSD\n",
      "log_cost_increase fuel_HYDRO\n",
      "log_cost_increase fuel_IMPORT\n",
      "log_cost_increase fuel_SOLAR\n",
      "log_cost_increase fuel_WIND\n",
      "log_cost_increase log_age\n",
      "log_cost_increase log_age_squared\n",
      "log_cost_increase log_usage\n",
      "log_cost_increase log_usage_squared\n",
      "log_cost_increase log_capacity_mw\n",
      "log_cost_increase log_capacity_mw_squared\n",
      "log_cost_increase log_net_generation_gwh\n",
      "log_cost_increase log_net_generation_gwh_squared\n",
      "log_cost_increase log_2021_cost_per_unit\n",
      "log_cost_increase log_2021_cost_per_unit_squared\n",
      "log_cost_increase log_2022_cost_per_unit\n",
      "log_cost_increase log_2022_cost_per_unit_squared\n",
      "log_cost_increase log_cost_increase_squared\n",
      "log_cost_increase_squared own_IPP\n",
      "log_cost_increase_squared own_Joint venture\n",
      "log_cost_increase_squared own_Public\n",
      "log_cost_increase_squared own_RENTAL & SIPP\n",
      "log_cost_increase_squared fuel_GAS\n",
      "log_cost_increase_squared fuel_HFO\n",
      "log_cost_increase_squared fuel_HSD\n",
      "log_cost_increase_squared fuel_HYDRO\n",
      "log_cost_increase_squared fuel_IMPORT\n",
      "log_cost_increase_squared fuel_SOLAR\n",
      "log_cost_increase_squared fuel_WIND\n",
      "log_cost_increase_squared log_age\n",
      "log_cost_increase_squared log_age_squared\n",
      "log_cost_increase_squared log_usage\n",
      "log_cost_increase_squared log_usage_squared\n",
      "log_cost_increase_squared log_capacity_mw\n",
      "log_cost_increase_squared log_capacity_mw_squared\n",
      "log_cost_increase_squared log_net_generation_gwh\n",
      "log_cost_increase_squared log_net_generation_gwh_squared\n",
      "log_cost_increase_squared log_2021_cost_per_unit\n",
      "log_cost_increase_squared log_2021_cost_per_unit_squared\n",
      "log_cost_increase_squared log_2022_cost_per_unit\n",
      "log_cost_increase_squared log_2022_cost_per_unit_squared\n",
      "log_cost_increase_squared log_cost_increase\n"
     ]
    }
   ],
   "source": [
    "for col1 in xd.columns:\n",
    "    for col2 in xd.columns:\n",
    "        if col1!=col2:\n",
    "            print(col1, col2)"
   ]
  },
  {
   "cell_type": "code",
   "execution_count": 9,
   "id": "ce156b31-85d1-45b8-b486-dad958863e82",
   "metadata": {
    "tags": []
   },
   "outputs": [
    {
     "data": {
      "text/plain": [
       "Index(['own_IPP', 'own_Joint venture', 'own_Public', 'own_RENTAL & SIPP',\n",
       "       'fuel_GAS', 'fuel_HFO', 'fuel_HSD', 'fuel_HYDRO', 'fuel_SOLAR',\n",
       "       'fuel_WIND', 'log_usage', 'log_usage_squared', 'log_age',\n",
       "       'log_age_squared', 'log_capacity_mw', 'log_capacity_mw_squared',\n",
       "       'log_net_generation_gwh', 'log_net_generation_gwh_squared',\n",
       "       'log_2021_cost_per_unit', 'log_2021_cost_per_unit_squared',\n",
       "       'log_2022_cost_per_unit', 'log_2022_cost_per_unit_squared',\n",
       "       'log_2022_usage', 'log_2022_usage_squared', 'log_change_in_units',\n",
       "       'log_change_in_units_squared', 'log_pct_change_in_units',\n",
       "       'log_pct_change_in_units_squared'],\n",
       "      dtype='object')"
      ]
     },
     "execution_count": 9,
     "metadata": {},
     "output_type": "execute_result"
    }
   ],
   "source": [
    "xd.columns"
   ]
  },
  {
   "cell_type": "code",
   "execution_count": 10,
   "id": "7e9d69f2-b7a4-4e8d-9186-84a2892ec668",
   "metadata": {
    "tags": []
   },
   "outputs": [
    {
     "name": "stdout",
     "output_type": "stream",
     "text": [
      "(134, 28) (134, 20) (134,)\n",
      "                              OLS Regression Results                              \n",
      "==================================================================================\n",
      "Dep. Variable:     log_2021_cost_per_unit   R-squared:                       0.705\n",
      "Model:                                OLS   Adj. R-squared:                  0.659\n",
      "Method:                     Least Squares   F-statistic:                     15.30\n",
      "Date:                    Tue, 24 Oct 2023   Prob (F-statistic):           1.06e-22\n",
      "Time:                            19:07:32   Log-Likelihood:                -13.098\n",
      "No. Observations:                     134   AIC:                             64.20\n",
      "Df Residuals:                         115   BIC:                             119.3\n",
      "Df Model:                              18                                         \n",
      "Covariance Type:                nonrobust                                         \n",
      "===================================================================================================\n",
      "                                      coef    std err          t      P>|t|      [0.025      0.975]\n",
      "---------------------------------------------------------------------------------------------------\n",
      "const                               0.0133      0.153      0.087      0.931      -0.289       0.316\n",
      "own_IPP                            -0.0576      0.075     -0.768      0.444      -0.206       0.091\n",
      "own_Joint venture                   0.5083      0.225      2.261      0.026       0.063       0.954\n",
      "own_RENTAL & SIPP                  -0.0918      0.093     -0.990      0.324      -0.275       0.092\n",
      "fuel_HFO                            0.6827      0.077      8.860      0.000       0.530       0.835\n",
      "fuel_HSD                            1.0563      0.141      7.474      0.000       0.776       1.336\n",
      "fuel_HYDRO                         -0.1495      0.392     -0.382      0.703      -0.925       0.626\n",
      "fuel_SOLAR                          0.6797      0.160      4.237      0.000       0.362       0.997\n",
      "fuel_WIND                           0.4177      0.321      1.300      0.196      -0.219       1.054\n",
      "log_usage                        1.466e-16   1.55e-16      0.944      0.347   -1.61e-16    4.54e-16\n",
      "log_usage_squared                3.425e-16   1.26e-16      2.717      0.008    9.28e-17    5.92e-16\n",
      "log_age                             0.4597      0.144      3.188      0.002       0.174       0.745\n",
      "log_age_squared                    -0.2915      0.130     -2.249      0.026      -0.548      -0.035\n",
      "log_capacity_mw                    -0.0548      0.265     -0.206      0.837      -0.581       0.471\n",
      "log_capacity_mw_squared             0.0104      0.148      0.070      0.944      -0.282       0.303\n",
      "log_net_generation_gwh              0.2430      0.127      1.907      0.059      -0.009       0.495\n",
      "log_net_generation_gwh_squared     -0.0622      0.073     -0.852      0.396      -0.207       0.082\n",
      "log_change_in_units                 0.0419      0.040      1.039      0.301      -0.038       0.122\n",
      "log_change_in_units_squared         0.0134      0.019      0.690      0.491      -0.025       0.052\n",
      "log_pct_change_in_units            -0.0064      0.060     -0.106      0.916      -0.126       0.113\n",
      "log_pct_change_in_units_squared    -0.0050      0.012     -0.415      0.679      -0.029       0.019\n",
      "==============================================================================\n",
      "Omnibus:                       43.084   Durbin-Watson:                   1.884\n",
      "Prob(Omnibus):                  0.000   Jarque-Bera (JB):              123.688\n",
      "Skew:                          -1.211   Prob(JB):                     1.39e-27\n",
      "Kurtosis:                       7.035   Cond. No.                     1.05e+18\n",
      "==============================================================================\n",
      "\n",
      "Notes:\n",
      "[1] Standard Errors assume that the covariance matrix of the errors is correctly specified.\n",
      "[2] The smallest eigenvalue is 2.05e-32. This might indicate that there are\n",
      "strong multicollinearity problems or that the design matrix is singular.\n"
     ]
    }
   ],
   "source": [
    "import statsmodels.api as sm\n",
    "import pandas as pd\n",
    "\n",
    "\n",
    "y_column = 'log_2021_cost_per_unit'\n",
    "dropy = ['log_2021_cost_per_unit', 'log_2022_cost_per_unit', 'log_2021_cost_per_unit_squared',\n",
    "       'log_2022_cost_per_unit_squared',  'own_Public', 'fuel_GAS', 'log_2022_usage', 'log_2022_usage_squared']\n",
    "#raw_df = df.drop(columns=['start', 'plant_name_x', 'plant_name']).apply(lambda x : pd.to_numeric(x, errors=\"coerce\")).drop(df.loc[df[y_column].isna()].index).dropna().astype('float64')\n",
    "raw_df = xd.apply(lambda x : pd.to_numeric(x, errors=\"coerce\")).dropna().astype('float64')\n",
    "xdf = raw_df.drop(columns=dropy)\n",
    "ydf = raw_df[y_column].dropna()\n",
    "print(raw_df.shape, xdf.shape, ydf.shape)\n",
    "# raw_df = df.drop(columns=['cost_per_unit', '2022_cost_per_unit']).dropna().astype('float64')\n",
    "# y_column = '2021_cost_per_unit'\n",
    "# X = raw_df.drop(columns=[y_column])\n",
    "# y = raw_df[y_column]\n",
    "X = sm.add_constant(xdf) # Adding a constant (intercept) term\n",
    "model = sm.OLS(ydf, X).fit()\n",
    "summary = model.summary()\n",
    "print(summary)"
   ]
  },
  {
   "cell_type": "code",
   "execution_count": 234,
   "id": "c9a04b28-a050-4160-9a6f-ed93ff9ad3f1",
   "metadata": {
    "tags": []
   },
   "outputs": [],
   "source": [
    "pd.DataFrame(summary.tables[0]).to_csv('main_results_stats.csv')"
   ]
  },
  {
   "cell_type": "code",
   "execution_count": 237,
   "id": "8de0ced0-0dd8-48a2-9e01-1501f5972f29",
   "metadata": {
    "tags": []
   },
   "outputs": [],
   "source": [
    "rs = pd.DataFrame(summary.tables[1])\n",
    "rs.columns = rs.loc[0,:]"
   ]
  },
  {
   "cell_type": "code",
   "execution_count": 245,
   "id": "332d1538-c186-4b15-b1ae-ac2c8613ca6c",
   "metadata": {
    "tags": []
   },
   "outputs": [],
   "source": [
    "rs.index = rs.iloc[:, 0]"
   ]
  },
  {
   "cell_type": "code",
   "execution_count": 252,
   "id": "bb7de5bc-093b-43b1-bbb5-9c8b16cb0f1b",
   "metadata": {
    "tags": []
   },
   "outputs": [
    {
     "data": {
      "text/plain": [
       "Index([, coef, std err, t, P>|t|, [0.025, 0.975]], dtype='object', name=0)"
      ]
     },
     "execution_count": 252,
     "metadata": {},
     "output_type": "execute_result"
    }
   ],
   "source": [
    "rs.columns"
   ]
  },
  {
   "cell_type": "code",
   "execution_count": 253,
   "id": "96452dd2-ea09-495f-a61f-3032531b40fc",
   "metadata": {
    "tags": []
   },
   "outputs": [],
   "source": [
    "rs.columns = ['row1', 'coef', 'std_err', 't', 'P>|t|', 'confidence_interval_0.025', 'confidence_interval_0.975']"
   ]
  },
  {
   "cell_type": "code",
   "execution_count": 268,
   "id": "8721f2f0-5a36-4fbc-8fce-c473d8a3ebe9",
   "metadata": {
    "tags": []
   },
   "outputs": [],
   "source": [
    "finres = rs.drop(columns=['row1']).iloc[1:]"
   ]
  },
  {
   "cell_type": "code",
   "execution_count": 266,
   "id": "7c0a8c66-b839-44e1-89d9-4aab07d875cb",
   "metadata": {
    "tags": []
   },
   "outputs": [
    {
     "data": {
      "text/html": [
       "<div>\n",
       "<style scoped>\n",
       "    .dataframe tbody tr th:only-of-type {\n",
       "        vertical-align: middle;\n",
       "    }\n",
       "\n",
       "    .dataframe tbody tr th {\n",
       "        vertical-align: top;\n",
       "    }\n",
       "\n",
       "    .dataframe thead th {\n",
       "        text-align: right;\n",
       "    }\n",
       "</style>\n",
       "<table border=\"1\" class=\"dataframe\">\n",
       "  <thead>\n",
       "    <tr style=\"text-align: right;\">\n",
       "      <th></th>\n",
       "      <th>coef</th>\n",
       "      <th>std_err</th>\n",
       "      <th>t</th>\n",
       "      <th>P&gt;|t|</th>\n",
       "      <th>confidence_interval_0.025</th>\n",
       "      <th>confidence_interval_0.975</th>\n",
       "    </tr>\n",
       "    <tr>\n",
       "      <th></th>\n",
       "      <th></th>\n",
       "      <th></th>\n",
       "      <th></th>\n",
       "      <th></th>\n",
       "      <th></th>\n",
       "      <th></th>\n",
       "    </tr>\n",
       "  </thead>\n",
       "  <tbody>\n",
       "  </tbody>\n",
       "</table>\n",
       "</div>"
      ],
      "text/plain": [
       "Empty DataFrame\n",
       "Columns: [coef, std_err, t, P>|t|, confidence_interval_0.025, confidence_interval_0.975]\n",
       "Index: []"
      ]
     },
     "execution_count": 266,
     "metadata": {},
     "output_type": "execute_result"
    }
   ],
   "source": [
    "finres['P>|t|'] = pd.to_numeric(finres['P>|t|'], errors='coerce')\n",
    "finres.loc[finres['P>|t|']<0.05]"
   ]
  },
  {
   "cell_type": "code",
   "execution_count": 271,
   "id": "17a5cc2b-1362-458d-b8f0-ae2351df52b9",
   "metadata": {
    "tags": []
   },
   "outputs": [
    {
     "data": {
      "text/plain": [
       "\n",
       "const                               0.089\n",
       "own_IPP                             0.726\n",
       "own_Joint venture                   0.216\n",
       "own_RENTAL & SIPP                   0.462\n",
       "fuel_HFO                            0.000\n",
       "fuel_HSD                            0.000\n",
       "fuel_HYDRO                          0.454\n",
       "fuel_SOLAR                          0.340\n",
       "fuel_WIND                           0.377\n",
       "log_usage                           0.004\n",
       "log_usage_squared                   0.078\n",
       "log_age                             0.157\n",
       "log_age_squared                     0.308\n",
       "log_capacity_mw                     0.033\n",
       "log_capacity_mw_squared             0.072\n",
       "log_net_generation_gwh              0.088\n",
       "log_net_generation_gwh_squared      0.206\n",
       "log_change_in_units                 0.472\n",
       "log_change_in_units_squared         0.846\n",
       "log_pct_change_in_units             0.031\n",
       "log_pct_change_in_units_squared     0.047\n",
       "Name: P>|t|, dtype: object"
      ]
     },
     "execution_count": 271,
     "metadata": {},
     "output_type": "execute_result"
    }
   ],
   "source": [
    "finres['P>|t|']"
   ]
  },
  {
   "cell_type": "code",
   "execution_count": 153,
   "id": "1bf5013d-c337-49fb-8287-3c6c7fda1baf",
   "metadata": {
    "tags": []
   },
   "outputs": [],
   "source": [
    "def plot_nonlinear(coeff1, coeff2, ser):\n",
    "    age_effect = (coeff1*np.log(ser))+(coeff2*np.log(ser**2))\n",
    "    print(f'{ser.name}(x) effect on log_unit_cost (y)')\n",
    "    retser = pd.Series(age_effect.values, index=ser.values)\n",
    "    retser.plot(style='.')"
   ]
  },
  {
   "cell_type": "code",
   "execution_count": 156,
   "id": "063b2772-afe3-4932-8e30-2f511b566f9f",
   "metadata": {
    "tags": []
   },
   "outputs": [
    {
     "name": "stdout",
     "output_type": "stream",
     "text": [
      "usage(x) effect on log_unit_cost (y)\n"
     ]
    },
    {
     "name": "stderr",
     "output_type": "stream",
     "text": [
      "/home/qavi/repos/mlenv/lib/python3.11/site-packages/pandas/core/arraylike.py:396: RuntimeWarning: divide by zero encountered in log\n",
      "  result = getattr(ufunc, method)(*inputs, **kwargs)\n"
     ]
    },
    {
     "data": {
      "image/png": "[encoded data removed]",
      "text/plain": [
       "<Figure size 640x480 with 1 Axes>"
      ]
     },
     "metadata": {},
     "output_type": "display_data"
    }
   ],
   "source": [
    "plot_nonlinear(-0.0492, -0.0984, df.usage)"
   ]
  },
  {
   "cell_type": "code",
   "execution_count": 214,
   "id": "63a95462-ddbe-4275-b532-2988c03a6f40",
   "metadata": {
    "tags": []
   },
   "outputs": [
    {
     "name": "stdout",
     "output_type": "stream",
     "text": [
      "net_generation_gwh(x) effect on log_unit_cost (y)\n"
     ]
    },
    {
     "name": "stderr",
     "output_type": "stream",
     "text": [
      "/home/qavi/repos/mlenv/lib/python3.11/site-packages/pandas/core/arraylike.py:396: RuntimeWarning: divide by zero encountered in log\n",
      "  result = getattr(ufunc, method)(*inputs, **kwargs)\n",
      "/home/qavi/repos/mlenv/lib/python3.11/site-packages/pandas/core/arraylike.py:396: RuntimeWarning: invalid value encountered in log\n",
      "  result = getattr(ufunc, method)(*inputs, **kwargs)\n"
     ]
    },
    {
     "data": {
      "image/png": "[encoded data removed]",
      "text/plain": [
       "<Figure size 640x480 with 1 Axes>"
      ]
     },
     "metadata": {},
     "output_type": "display_data"
    }
   ],
   "source": [
    "plot_nonlinear(-1.3, 0.7, df.net_generation_gwh)"
   ]
  },
  {
   "cell_type": "code",
   "execution_count": 159,
   "id": "86cce8a8-c81b-420f-b88b-719186d7caa8",
   "metadata": {
    "tags": []
   },
   "outputs": [
    {
     "data": {
      "text/html": [
       "<div>\n",
       "<style scoped>\n",
       "    .dataframe tbody tr th:only-of-type {\n",
       "        vertical-align: middle;\n",
       "    }\n",
       "\n",
       "    .dataframe tbody tr th {\n",
       "        vertical-align: top;\n",
       "    }\n",
       "\n",
       "    .dataframe thead th {\n",
       "        text-align: right;\n",
       "    }\n",
       "</style>\n",
       "<table border=\"1\" class=\"dataframe\">\n",
       "  <thead>\n",
       "    <tr style=\"text-align: right;\">\n",
       "      <th></th>\n",
       "      <th>plant_name</th>\n",
       "      <th>capacity_mw</th>\n",
       "      <th>start</th>\n",
       "      <th>plant_name_x</th>\n",
       "      <th>net_generation_gwh</th>\n",
       "      <th>usage</th>\n",
       "      <th>2021_cost_per_unit</th>\n",
       "      <th>2022_cost_per_unit</th>\n",
       "      <th>diff</th>\n",
       "      <th>own_IPP</th>\n",
       "      <th>...</th>\n",
       "      <th>own_RENTAL &amp; SIPP</th>\n",
       "      <th>fuel_GAS</th>\n",
       "      <th>fuel_HFO</th>\n",
       "      <th>fuel_HSD</th>\n",
       "      <th>fuel_HYDRO</th>\n",
       "      <th>fuel_IMPORT</th>\n",
       "      <th>fuel_SOLAR</th>\n",
       "      <th>fuel_WIND</th>\n",
       "      <th>cost_increase</th>\n",
       "      <th>age</th>\n",
       "    </tr>\n",
       "  </thead>\n",
       "  <tbody>\n",
       "    <tr>\n",
       "      <th>79</th>\n",
       "      <td>Payra, Potuakhali 2*660 MW PP (U-1)</td>\n",
       "      <td>622.0</td>\n",
       "      <td>2020.0</td>\n",
       "      <td>Payra, Potuakhali 2*660 MW PP (U-1)</td>\n",
       "      <td>2049.4159</td>\n",
       "      <td>0.397</td>\n",
       "      <td>8.6</td>\n",
       "      <td>13.85</td>\n",
       "      <td>5.25</td>\n",
       "      <td>False</td>\n",
       "      <td>...</td>\n",
       "      <td>False</td>\n",
       "      <td>False</td>\n",
       "      <td>False</td>\n",
       "      <td>False</td>\n",
       "      <td>False</td>\n",
       "      <td>False</td>\n",
       "      <td>False</td>\n",
       "      <td>False</td>\n",
       "      <td>5.25</td>\n",
       "      <td>3.0</td>\n",
       "    </tr>\n",
       "    <tr>\n",
       "      <th>81</th>\n",
       "      <td>Payra, Potuakhali 2*660 MW PP (U-2)</td>\n",
       "      <td>622.0</td>\n",
       "      <td>2020.0</td>\n",
       "      <td>Payra, Potuakhali 2*660 MW PP (U-2)</td>\n",
       "      <td>1762.5061</td>\n",
       "      <td>0.339</td>\n",
       "      <td>8.6</td>\n",
       "      <td>13.85</td>\n",
       "      <td>5.25</td>\n",
       "      <td>False</td>\n",
       "      <td>...</td>\n",
       "      <td>False</td>\n",
       "      <td>False</td>\n",
       "      <td>False</td>\n",
       "      <td>False</td>\n",
       "      <td>False</td>\n",
       "      <td>False</td>\n",
       "      <td>False</td>\n",
       "      <td>False</td>\n",
       "      <td>5.25</td>\n",
       "      <td>3.0</td>\n",
       "    </tr>\n",
       "  </tbody>\n",
       "</table>\n",
       "<p>2 rows × 22 columns</p>\n",
       "</div>"
      ],
      "text/plain": [
       "                             plant_name  capacity_mw   start  \\\n",
       "79  Payra, Potuakhali 2*660 MW PP (U-1)        622.0  2020.0   \n",
       "81  Payra, Potuakhali 2*660 MW PP (U-2)        622.0  2020.0   \n",
       "\n",
       "                           plant_name_x  net_generation_gwh  usage  \\\n",
       "79  Payra, Potuakhali 2*660 MW PP (U-1)           2049.4159  0.397   \n",
       "81  Payra, Potuakhali 2*660 MW PP (U-2)           1762.5061  0.339   \n",
       "\n",
       "    2021_cost_per_unit  2022_cost_per_unit  diff  own_IPP  ...  \\\n",
       "79                 8.6               13.85  5.25    False  ...   \n",
       "81                 8.6               13.85  5.25    False  ...   \n",
       "\n",
       "    own_RENTAL & SIPP  fuel_GAS  fuel_HFO  fuel_HSD  fuel_HYDRO  fuel_IMPORT  \\\n",
       "79              False     False     False     False       False        False   \n",
       "81              False     False     False     False       False        False   \n",
       "\n",
       "    fuel_SOLAR  fuel_WIND  cost_increase  age  \n",
       "79       False      False           5.25  3.0  \n",
       "81       False      False           5.25  3.0  \n",
       "\n",
       "[2 rows x 22 columns]"
      ]
     },
     "execution_count": 159,
     "metadata": {},
     "output_type": "execute_result"
    }
   ],
   "source": [
    "df.loc[df['own_Joint venture']]"
   ]
  },
  {
   "cell_type": "code",
   "execution_count": 176,
   "id": "1db0aa0a-106f-40eb-b24c-7e6258bfe590",
   "metadata": {
    "tags": []
   },
   "outputs": [],
   "source": [
    "xdf[y_column] = ydf\n",
    "xdf.to_csv('all_plants_reg21.csv')"
   ]
  },
  {
   "cell_type": "markdown",
   "id": "f108f765-57e0-4922-b725-c7762fcc58f4",
   "metadata": {
    "jp-MarkdownHeadingCollapsed": true,
    "tags": []
   },
   "source": [
    "# Regression table for y var = increase in cost per unit"
   ]
  },
  {
   "cell_type": "code",
   "execution_count": 78,
   "id": "a8ac4e5d-e3b2-423d-928a-93c2ab555c4d",
   "metadata": {
    "tags": []
   },
   "outputs": [
    {
     "name": "stdout",
     "output_type": "stream",
     "text": [
      "(133, 25) (133, 16) (133,)\n",
      "                            OLS Regression Results                            \n",
      "==============================================================================\n",
      "Dep. Variable:     2021_cost_per_unit   R-squared:                       0.705\n",
      "Model:                            OLS   Adj. R-squared:                  0.670\n",
      "Method:                 Least Squares   F-statistic:                     20.13\n",
      "Date:                Wed, 23 Aug 2023   Prob (F-statistic):           5.67e-25\n",
      "Time:                        03:26:26   Log-Likelihood:                -119.20\n",
      "No. Observations:                 133   AIC:                             268.4\n",
      "Df Residuals:                     118   BIC:                             311.8\n",
      "Df Model:                          14                                         \n",
      "Covariance Type:            nonrobust                                         \n",
      "==================================================================================================\n",
      "                                     coef    std err          t      P>|t|      [0.025      0.975]\n",
      "--------------------------------------------------------------------------------------------------\n",
      "const                              0.9106      0.326      2.796      0.006       0.266       1.555\n",
      "capacity_mw                       -0.0040      0.012     -0.328      0.744      -0.028       0.020\n",
      "net_generation_gwh                -1.3629      0.271     -5.028      0.000      -1.900      -0.826\n",
      "usage                             -1.0973      0.402     -2.728      0.007      -1.894      -0.301\n",
      "own_IPP                           -0.1061      0.164     -0.646      0.519      -0.431       0.219\n",
      "own_Joint venture                  0.7381      0.475      1.555      0.123      -0.202       1.678\n",
      "own_RENTAL & SIPP                 -0.1179      0.192     -0.614      0.540      -0.498       0.262\n",
      "fuel_HFO                           1.3697      0.155      8.836      0.000       1.063       1.677\n",
      "fuel_HSD                           2.9271      0.292     10.024      0.000       2.349       3.505\n",
      "fuel_HYDRO                        -0.7019      0.656     -1.070      0.287      -2.001       0.597\n",
      "fuel_IMPORT                       -0.2001      0.514     -0.390      0.697      -1.217       0.817\n",
      "fuel_SOLAR                         1.2716      0.332      3.835      0.000       0.615       1.928\n",
      "fuel_WIND                          0.5689      0.693      0.820      0.414      -0.804       1.942\n",
      "age                                0.0295      0.014      2.085      0.039       0.001       0.057\n",
      "log_age_squared                    0.0590      0.028      2.085      0.039       0.003       0.115\n",
      "log_capacity_mw_squared           -0.0080      0.024     -0.328      0.744      -0.056       0.040\n",
      "log_net_generation_gwh_squared     0.7392      0.126      5.881      0.000       0.490       0.988\n",
      "==============================================================================\n",
      "Omnibus:                       26.978   Durbin-Watson:                   1.666\n",
      "Prob(Omnibus):                  0.000   Jarque-Bera (JB):              228.083\n",
      "Skew:                           0.038   Prob(JB):                     2.97e-50\n",
      "Kurtosis:                       9.415   Cond. No.                     1.57e+17\n",
      "==============================================================================\n",
      "\n",
      "Notes:\n",
      "[1] Standard Errors assume that the covariance matrix of the errors is correctly specified.\n",
      "[2] The smallest eigenvalue is 1.41e-30. This might indicate that there are\n",
      "strong multicollinearity problems or that the design matrix is singular.\n"
     ]
    }
   ],
   "source": [
    "# Modified but deleted rows\n",
    "import statsmodels.api as sm\n",
    "import pandas as pd\n",
    "\n",
    "\n",
    "y_column = '2021_cost_per_unit'\n",
    "dropy = ['2021_cost_per_unit', '2022_cost_per_unit', 'cost_increase', 'log_2021_cost_per_unit_squared',\n",
    "       'log_2022_cost_per_unit_squared', 'log_cost_increase_squared',  'own_Public', 'fuel_GAS', 'diff']\n",
    "raw_df = df.drop(columns=['start', 'plant_name_x', 'plant_name']).apply(lambda x : pd.to_numeric(x, errors=\"coerce\")).drop(df.loc[df[y_column].isna()].index)\n",
    "raw_df.replace([np.inf, -np.inf], np.nan, inplace=True)\n",
    "raw_df = raw_df.astype(float).dropna()\n",
    "xdf = raw_df.drop(columns=dropy)\n",
    "ydf = raw_df[y_column]\n",
    "print(raw_df.shape, xdf.shape, ydf.shape)\n",
    "# raw_df = df.drop(columns=['cost_per_unit', '2022_cost_per_unit']).dropna().astype('float64')\n",
    "# y_column = '2021_cost_per_unit'\n",
    "# X = raw_df.drop(columns=[y_column])\n",
    "# y = raw_df[y_column]\n",
    "X = sm.add_constant(xdf) # Adding a constant (intercept) term\n",
    "model = sm.OLS(ydf, X).fit()\n",
    "summary = model.summary()\n",
    "print(summary)"
   ]
  },
  {
   "cell_type": "code",
   "execution_count": 76,
   "id": "b913417f-e906-443a-9026-a3227dccc66e",
   "metadata": {
    "tags": []
   },
   "outputs": [
    {
     "name": "stdout",
     "output_type": "stream",
     "text": [
      "(133, 25) (133, 19) (133,)\n",
      "                            OLS Regression Results                            \n",
      "==============================================================================\n",
      "Dep. Variable:          cost_increase   R-squared:                       0.805\n",
      "Model:                            OLS   Adj. R-squared:                  0.777\n",
      "Method:                 Least Squares   F-statistic:                     28.00\n",
      "Date:                Wed, 23 Aug 2023   Prob (F-statistic):           5.13e-33\n",
      "Time:                        03:24:27   Log-Likelihood:                -128.69\n",
      "No. Observations:                 133   AIC:                             293.4\n",
      "Df Residuals:                     115   BIC:                             345.4\n",
      "Df Model:                          17                                         \n",
      "Covariance Type:            nonrobust                                         \n",
      "==================================================================================================\n",
      "                                     coef    std err          t      P>|t|      [0.025      0.975]\n",
      "--------------------------------------------------------------------------------------------------\n",
      "const                              0.7179      0.402      1.784      0.077      -0.079       1.515\n",
      "capacity_mw                       -0.0442      0.013     -3.340      0.001      -0.070      -0.018\n",
      "net_generation_gwh                -0.4070      0.325     -1.251      0.213      -1.051       0.237\n",
      "usage                             -0.8457      0.463     -1.829      0.070      -1.762       0.070\n",
      "own_IPP                           -0.3163      0.183     -1.730      0.086      -0.678       0.046\n",
      "own_Joint venture                  0.6217      0.524      1.186      0.238      -0.416       1.660\n",
      "own_RENTAL & SIPP                 -0.2905      0.210     -1.385      0.169      -0.706       0.125\n",
      "fuel_HFO                           0.9632      0.227      4.241      0.000       0.513       1.413\n",
      "fuel_HSD                           0.8625      0.440      1.958      0.053      -0.010       1.735\n",
      "fuel_HYDRO                         0.1938      0.718      0.270      0.788      -1.228       1.615\n",
      "fuel_IMPORT                       -0.5286      0.560     -0.944      0.347      -1.637       0.580\n",
      "fuel_SOLAR                         0.8386      0.388      2.161      0.033       0.070       1.607\n",
      "fuel_WIND                         -0.0134      0.759     -0.018      0.986      -1.518       1.491\n",
      "age                                0.0223      0.016      1.376      0.171      -0.010       0.054\n",
      "log_age_squared                    0.0446      0.032      1.376      0.171      -0.020       0.109\n",
      "log_capacity_mw_squared           -0.0883      0.026     -3.340      0.001      -0.141      -0.036\n",
      "log_net_generation_gwh_squared     0.3421      0.156      2.198      0.030       0.034       0.650\n",
      "log_2021_cost_per_unit_squared    -0.4694      0.054     -8.634      0.000      -0.577      -0.362\n",
      "log_2022_cost_per_unit_squared     0.1185      0.043      2.753      0.007       0.033       0.204\n",
      "log_cost_increase_squared          0.3716      0.028     13.149      0.000       0.316       0.428\n",
      "==============================================================================\n",
      "Omnibus:                       10.319   Durbin-Watson:                   1.543\n",
      "Prob(Omnibus):                  0.006   Jarque-Bera (JB):               21.324\n",
      "Skew:                           0.221   Prob(JB):                     2.34e-05\n",
      "Kurtosis:                       4.911   Cond. No.                     1.50e+17\n",
      "==============================================================================\n",
      "\n",
      "Notes:\n",
      "[1] Standard Errors assume that the covariance matrix of the errors is correctly specified.\n",
      "[2] The smallest eigenvalue is 1.75e-30. This might indicate that there are\n",
      "strong multicollinearity problems or that the design matrix is singular.\n"
     ]
    }
   ],
   "source": [
    "y_column = 'cost_increase'\n",
    "dropy = ['2021_cost_per_unit', '2022_cost_per_unit', 'cost_increase', 'own_Public', 'fuel_GAS', 'diff']\n",
    "raw_df = df.drop(columns=['start', 'plant_name_x', 'plant_name']).apply(lambda x : pd.to_numeric(x, errors=\"coerce\")).drop(df.loc[df[y_column].isna()].index)\n",
    "raw_df.replace([np.inf, -np.inf], np.nan, inplace=True)\n",
    "raw_df = raw_df.astype(float).dropna()\n",
    "xdf = raw_df.drop(columns=dropy)\n",
    "ydf = raw_df[y_column]\n",
    "print(raw_df.shape, xdf.shape, ydf.shape)\n",
    "X = sm.add_constant(xdf) # Adding a constant (intercept) term\n",
    "model = sm.OLS(ydf, X).fit()\n",
    "summary = model.summary()\n",
    "print(summary)"
   ]
  },
  {
   "cell_type": "code",
   "execution_count": null,
   "id": "7fec7c75-673f-4161-94a6-0ab5522bf9f7",
   "metadata": {},
   "outputs": [],
   "source": []
  },
  {
   "cell_type": "code",
   "execution_count": 173,
   "id": "eba7ca8f-62b7-4111-9c02-75ceb5e77f8b",
   "metadata": {
    "tags": []
   },
   "outputs": [
    {
     "data": {
      "text/html": [
       "<div>\n",
       "<style scoped>\n",
       "    .dataframe tbody tr th:only-of-type {\n",
       "        vertical-align: middle;\n",
       "    }\n",
       "\n",
       "    .dataframe tbody tr th {\n",
       "        vertical-align: top;\n",
       "    }\n",
       "\n",
       "    .dataframe thead th {\n",
       "        text-align: right;\n",
       "    }\n",
       "</style>\n",
       "<table border=\"1\" class=\"dataframe\">\n",
       "  <thead>\n",
       "    <tr style=\"text-align: right;\">\n",
       "      <th></th>\n",
       "      <th>capacity_mw</th>\n",
       "      <th>start</th>\n",
       "      <th>net_generation_gwh</th>\n",
       "      <th>usage</th>\n",
       "      <th>2021_cost_per_unit</th>\n",
       "      <th>2022_cost_per_unit</th>\n",
       "      <th>cost_increase</th>\n",
       "      <th>age</th>\n",
       "    </tr>\n",
       "  </thead>\n",
       "  <tbody>\n",
       "    <tr>\n",
       "      <th>count</th>\n",
       "      <td>134.000000</td>\n",
       "      <td>129.000000</td>\n",
       "      <td>134.000000</td>\n",
       "      <td>134.000000</td>\n",
       "      <td>134.000000</td>\n",
       "      <td>122.000000</td>\n",
       "      <td>119.000000</td>\n",
       "      <td>134.000000</td>\n",
       "    </tr>\n",
       "    <tr>\n",
       "      <th>mean</th>\n",
       "      <td>4.328309</td>\n",
       "      <td>2011.364341</td>\n",
       "      <td>4.981183</td>\n",
       "      <td>0.346299</td>\n",
       "      <td>2.014712</td>\n",
       "      <td>2887.732238</td>\n",
       "      <td>2948.653828</td>\n",
       "      <td>2.006359</td>\n",
       "    </tr>\n",
       "    <tr>\n",
       "      <th>std</th>\n",
       "      <td>1.387385</td>\n",
       "      <td>10.917974</td>\n",
       "      <td>2.016372</td>\n",
       "      <td>0.258454</td>\n",
       "      <td>1.091487</td>\n",
       "      <td>13547.172226</td>\n",
       "      <td>13712.053395</td>\n",
       "      <td>0.937027</td>\n",
       "    </tr>\n",
       "    <tr>\n",
       "      <th>min</th>\n",
       "      <td>0.000000</td>\n",
       "      <td>1962.000000</td>\n",
       "      <td>-0.497087</td>\n",
       "      <td>0.000000</td>\n",
       "      <td>0.000000</td>\n",
       "      <td>-693.232517</td>\n",
       "      <td>-167.300000</td>\n",
       "      <td>0.000000</td>\n",
       "    </tr>\n",
       "    <tr>\n",
       "      <th>25%</th>\n",
       "      <td>3.936680</td>\n",
       "      <td>2009.000000</td>\n",
       "      <td>4.069937</td>\n",
       "      <td>0.120500</td>\n",
       "      <td>1.185553</td>\n",
       "      <td>4.302500</td>\n",
       "      <td>0.020000</td>\n",
       "      <td>1.386294</td>\n",
       "    </tr>\n",
       "    <tr>\n",
       "      <th>50%</th>\n",
       "      <td>4.634682</td>\n",
       "      <td>2015.000000</td>\n",
       "      <td>5.399796</td>\n",
       "      <td>0.332500</td>\n",
       "      <td>2.151762</td>\n",
       "      <td>16.050000</td>\n",
       "      <td>2.260000</td>\n",
       "      <td>1.945910</td>\n",
       "    </tr>\n",
       "    <tr>\n",
       "      <th>75%</th>\n",
       "      <td>5.298317</td>\n",
       "      <td>2019.000000</td>\n",
       "      <td>6.306067</td>\n",
       "      <td>0.539000</td>\n",
       "      <td>2.526928</td>\n",
       "      <td>22.777500</td>\n",
       "      <td>5.950000</td>\n",
       "      <td>2.620530</td>\n",
       "    </tr>\n",
       "    <tr>\n",
       "      <th>max</th>\n",
       "      <td>6.432940</td>\n",
       "      <td>2022.000000</td>\n",
       "      <td>7.987944</td>\n",
       "      <td>0.890000</td>\n",
       "      <td>5.388112</td>\n",
       "      <td>68129.000000</td>\n",
       "      <td>68125.870000</td>\n",
       "      <td>4.110874</td>\n",
       "    </tr>\n",
       "  </tbody>\n",
       "</table>\n",
       "</div>"
      ],
      "text/plain": [
       "       capacity_mw        start  net_generation_gwh       usage  \\\n",
       "count   134.000000   129.000000          134.000000  134.000000   \n",
       "mean      4.328309  2011.364341            4.981183    0.346299   \n",
       "std       1.387385    10.917974            2.016372    0.258454   \n",
       "min       0.000000  1962.000000           -0.497087    0.000000   \n",
       "25%       3.936680  2009.000000            4.069937    0.120500   \n",
       "50%       4.634682  2015.000000            5.399796    0.332500   \n",
       "75%       5.298317  2019.000000            6.306067    0.539000   \n",
       "max       6.432940  2022.000000            7.987944    0.890000   \n",
       "\n",
       "       2021_cost_per_unit  2022_cost_per_unit  cost_increase         age  \n",
       "count          134.000000          122.000000     119.000000  134.000000  \n",
       "mean             2.014712         2887.732238    2948.653828    2.006359  \n",
       "std              1.091487        13547.172226   13712.053395    0.937027  \n",
       "min              0.000000         -693.232517    -167.300000    0.000000  \n",
       "25%              1.185553            4.302500       0.020000    1.386294  \n",
       "50%              2.151762           16.050000       2.260000    1.945910  \n",
       "75%              2.526928           22.777500       5.950000    2.620530  \n",
       "max              5.388112        68129.000000   68125.870000    4.110874  "
      ]
     },
     "execution_count": 173,
     "metadata": {},
     "output_type": "execute_result"
    }
   ],
   "source": [
    "df.describe()"
   ]
  },
  {
   "cell_type": "markdown",
   "id": "adad6944-d6d2-42a6-93a1-af04307026cc",
   "metadata": {},
   "source": [
    "# Regression table for y var = 2022 usage"
   ]
  },
  {
   "cell_type": "code",
   "execution_count": 16,
   "id": "1ee9126d-90bd-4f4f-80f9-91095715aa71",
   "metadata": {
    "tags": []
   },
   "outputs": [
    {
     "data": {
      "text/plain": [
       "Index(['plant_name', '2022_usage', 'capacity_mw', 'start',\n",
       "       'net_generation_gwh', 'usage', '2021_cost_per_unit',\n",
       "       '2022_cost_per_unit', 'own_IPP', 'own_Joint venture', 'own_Public',\n",
       "       'own_RENTAL & SIPP', 'fuel_GAS', 'fuel_HFO', 'fuel_HSD', 'fuel_HYDRO',\n",
       "       'fuel_SOLAR', 'fuel_WIND'],\n",
       "      dtype='object')"
      ]
     },
     "execution_count": 16,
     "metadata": {},
     "output_type": "execute_result"
    }
   ],
   "source": [
    "alld = pd.read_excel('all_plants_true_data.xlsx', index_col=None, header=0, sheet_name='2022_usage_added')  \n",
    "xd = alld.drop(columns=['Unnamed: 0', 'plant_name_x'])\n",
    "xd.columns"
   ]
  },
  {
   "cell_type": "code",
   "execution_count": 26,
   "id": "a9752452-07fa-434d-b549-22602d7cb8c2",
   "metadata": {
    "tags": []
   },
   "outputs": [
    {
     "data": {
      "text/plain": [
       "62"
      ]
     },
     "execution_count": 26,
     "metadata": {},
     "output_type": "execute_result"
    }
   ],
   "source": [
    "(xd['2021_cost_demeaned']>0).sum()"
   ]
  },
  {
   "cell_type": "code",
   "execution_count": 33,
   "id": "741317be-e7e6-4b38-abb6-19607cd36645",
   "metadata": {
    "tags": []
   },
   "outputs": [
    {
     "data": {
      "text/html": [
       "<div>\n",
       "<style scoped>\n",
       "    .dataframe tbody tr th:only-of-type {\n",
       "        vertical-align: middle;\n",
       "    }\n",
       "\n",
       "    .dataframe tbody tr th {\n",
       "        vertical-align: top;\n",
       "    }\n",
       "\n",
       "    .dataframe thead th {\n",
       "        text-align: right;\n",
       "    }\n",
       "</style>\n",
       "<table border=\"1\" class=\"dataframe\">\n",
       "  <thead>\n",
       "    <tr style=\"text-align: right;\">\n",
       "      <th></th>\n",
       "      <th>usage_diff</th>\n",
       "      <th>2021_cost_demeaned</th>\n",
       "    </tr>\n",
       "  </thead>\n",
       "  <tbody>\n",
       "    <tr>\n",
       "      <th>1</th>\n",
       "      <td>-0.170</td>\n",
       "      <td>-6.46</td>\n",
       "    </tr>\n",
       "    <tr>\n",
       "      <th>8</th>\n",
       "      <td>-0.030</td>\n",
       "      <td>-3.27</td>\n",
       "    </tr>\n",
       "    <tr>\n",
       "      <th>9</th>\n",
       "      <td>0.108</td>\n",
       "      <td>0.57</td>\n",
       "    </tr>\n",
       "    <tr>\n",
       "      <th>11</th>\n",
       "      <td>0.140</td>\n",
       "      <td>-4.70</td>\n",
       "    </tr>\n",
       "    <tr>\n",
       "      <th>13</th>\n",
       "      <td>-0.230</td>\n",
       "      <td>2.60</td>\n",
       "    </tr>\n",
       "    <tr>\n",
       "      <th>...</th>\n",
       "      <td>...</td>\n",
       "      <td>...</td>\n",
       "    </tr>\n",
       "    <tr>\n",
       "      <th>126</th>\n",
       "      <td>0.092</td>\n",
       "      <td>-7.89</td>\n",
       "    </tr>\n",
       "    <tr>\n",
       "      <th>127</th>\n",
       "      <td>0.050</td>\n",
       "      <td>-6.92</td>\n",
       "    </tr>\n",
       "    <tr>\n",
       "      <th>129</th>\n",
       "      <td>0.008</td>\n",
       "      <td>-1.33</td>\n",
       "    </tr>\n",
       "    <tr>\n",
       "      <th>130</th>\n",
       "      <td>0.044</td>\n",
       "      <td>-1.33</td>\n",
       "    </tr>\n",
       "    <tr>\n",
       "      <th>131</th>\n",
       "      <td>-0.005</td>\n",
       "      <td>-6.65</td>\n",
       "    </tr>\n",
       "  </tbody>\n",
       "</table>\n",
       "<p>99 rows × 2 columns</p>\n",
       "</div>"
      ],
      "text/plain": [
       "     usage_diff  2021_cost_demeaned\n",
       "1        -0.170               -6.46\n",
       "8        -0.030               -3.27\n",
       "9         0.108                0.57\n",
       "11        0.140               -4.70\n",
       "13       -0.230                2.60\n",
       "..          ...                 ...\n",
       "126       0.092               -7.89\n",
       "127       0.050               -6.92\n",
       "129       0.008               -1.33\n",
       "130       0.044               -1.33\n",
       "131      -0.005               -6.65\n",
       "\n",
       "[99 rows x 2 columns]"
      ]
     },
     "execution_count": 33,
     "metadata": {},
     "output_type": "execute_result"
    }
   ],
   "source": [
    "xd['usage_diff'] = (xd['2022_usage']/100)-xd['usage']\n",
    "xd['2021_cost_demeaned']= xd['2021_cost_per_unit']-xd['2021_cost_per_unit'].median()\n",
    "xd.loc[xd['usage']<0.6][['usage_diff', '2021_cost_demeaned']]"
   ]
  },
  {
   "cell_type": "code",
   "execution_count": 37,
   "id": "4b8486c0-b7ec-4516-a761-1607439942a6",
   "metadata": {
    "tags": []
   },
   "outputs": [
    {
     "name": "stdout",
     "output_type": "stream",
     "text": [
      "                            OLS Regression Results                            \n",
      "==============================================================================\n",
      "Dep. Variable:             usage_diff   R-squared:                       0.000\n",
      "Model:                            OLS   Adj. R-squared:                 -0.011\n",
      "Method:                 Least Squares   F-statistic:                  0.001634\n",
      "Date:                Tue, 24 Oct 2023   Prob (F-statistic):              0.968\n",
      "Time:                        19:21:09   Log-Likelihood:                 20.522\n",
      "No. Observations:                  93   AIC:                            -37.04\n",
      "Df Residuals:                      91   BIC:                            -31.98\n",
      "Df Model:                           1                                         \n",
      "Covariance Type:            nonrobust                                         \n",
      "======================================================================================\n",
      "                         coef    std err          t      P>|t|      [0.025      0.975]\n",
      "--------------------------------------------------------------------------------------\n",
      "const                  0.0609      0.021      2.862      0.005       0.019       0.103\n",
      "2021_cost_demeaned  2.249e-05      0.001      0.040      0.968      -0.001       0.001\n",
      "==============================================================================\n",
      "Omnibus:                       17.939   Durbin-Watson:                   1.825\n",
      "Prob(Omnibus):                  0.000   Jarque-Bera (JB):               29.048\n",
      "Skew:                           0.805   Prob(JB):                     4.92e-07\n",
      "Kurtosis:                       5.215   Cond. No.                         40.0\n",
      "==============================================================================\n",
      "\n",
      "Notes:\n",
      "[1] Standard Errors assume that the covariance matrix of the errors is correctly specified.\n"
     ]
    }
   ],
   "source": [
    "raw_df = xd.loc[xd['usage']<0.6][['usage_diff', '2021_cost_demeaned']].apply(lambda x : pd.to_numeric(x, errors=\"coerce\")).dropna().astype('float64')\n",
    "\n",
    "X = sm.add_constant(raw_df[['2021_cost_demeaned']])\n",
    "model = sm.OLS(raw_df['usage_diff'], X).fit()\n",
    "summary = model.summary()\n",
    "print(summary)"
   ]
  },
  {
   "cell_type": "code",
   "execution_count": 125,
   "id": "9c3b1a8d-4def-4867-8229-9b6f927e6ab6",
   "metadata": {
    "tags": []
   },
   "outputs": [
    {
     "name": "stdout",
     "output_type": "stream",
     "text": [
      "(132, 24) (132, 18) (132,)\n",
      "                            OLS Regression Results                            \n",
      "==============================================================================\n",
      "Dep. Variable:         log_2022_usage   R-squared:                       0.587\n",
      "Model:                            OLS   Adj. R-squared:                  0.522\n",
      "Method:                 Least Squares   F-statistic:                     8.937\n",
      "Date:                Fri, 06 Oct 2023   Prob (F-statistic):           1.41e-14\n",
      "Time:                        15:25:12   Log-Likelihood:                -139.84\n",
      "No. Observations:                 132   AIC:                             317.7\n",
      "Df Residuals:                     113   BIC:                             372.5\n",
      "Df Model:                          18                                         \n",
      "Covariance Type:            nonrobust                                         \n",
      "==================================================================================================\n",
      "                                     coef    std err          t      P>|t|      [0.025      0.975]\n",
      "--------------------------------------------------------------------------------------------------\n",
      "const                              0.3282      0.695      0.472      0.638      -1.050       1.706\n",
      "own_IPP                            0.3159      0.205      1.538      0.127      -0.091       0.723\n",
      "own_Joint venture                  0.4045      0.604      0.670      0.505      -0.793       1.602\n",
      "own_RENTAL & SIPP                 -0.4241      0.253     -1.676      0.096      -0.925       0.077\n",
      "fuel_HFO                           0.0079      0.266      0.030      0.976      -0.520       0.535\n",
      "fuel_HSD                          -0.2294      0.471     -0.487      0.627      -1.163       0.704\n",
      "fuel_HYDRO                         0.7119      0.842      0.845      0.400      -0.957       2.381\n",
      "fuel_SOLAR                        -0.6820      0.489     -1.394      0.166      -1.651       0.287\n",
      "fuel_WIND                          0.1827      1.031      0.177      0.860      -1.859       2.225\n",
      "log_usage                          0.6855      0.313      2.191      0.031       0.066       1.305\n",
      "log_usage_squared                  0.0397      0.050      0.788      0.432      -0.060       0.139\n",
      "log_age                            0.5610      0.303      1.854      0.066      -0.039       1.161\n",
      "log_age_squared                   -0.1608      0.078     -2.075      0.040      -0.314      -0.007\n",
      "log_capacity_mw                   -0.2489      0.422     -0.590      0.556      -1.085       0.587\n",
      "log_capacity_mw_squared            0.0031      0.061      0.050      0.960      -0.118       0.124\n",
      "log_net_generation_gwh             0.2480      0.265      0.936      0.351      -0.277       0.773\n",
      "log_net_generation_gwh_squared    -0.0181      0.036     -0.505      0.614      -0.089       0.053\n",
      "log_2021_cost_per_unit            -0.5184      0.336     -1.542      0.126      -1.184       0.148\n",
      "log_2021_cost_per_unit_squared     0.0667      0.063      1.052      0.295      -0.059       0.192\n",
      "==============================================================================\n",
      "Omnibus:                       45.999   Durbin-Watson:                   1.966\n",
      "Prob(Omnibus):                  0.000   Jarque-Bera (JB):              181.045\n",
      "Skew:                          -1.178   Prob(JB):                     4.86e-40\n",
      "Kurtosis:                       8.231   Cond. No.                         705.\n",
      "==============================================================================\n",
      "\n",
      "Notes:\n",
      "[1] Standard Errors assume that the covariance matrix of the errors is correctly specified.\n"
     ]
    }
   ],
   "source": [
    "y_column = 'log_2022_usage'\n",
    "dropy = ['log_2022_cost_per_unit',\n",
    "       'log_2022_cost_per_unit_squared',  'own_Public', 'fuel_GAS', 'log_2022_usage', 'log_2022_usage_squared']\n",
    "#raw_df = df.drop(columns=['start', 'plant_name_x', 'plant_name']).apply(lambda x : pd.to_numeric(x, errors=\"coerce\")).drop(df.loc[df[y_column].isna()].index).dropna().astype('float64')\n",
    "raw_df = xd.apply(lambda x : pd.to_numeric(x, errors=\"coerce\")).dropna().astype('float64')\n",
    "xdf = raw_df.drop(columns=dropy)\n",
    "ydf = raw_df[y_column].dropna()\n",
    "print(raw_df.shape, xdf.shape, ydf.shape)\n",
    "# raw_df = df.drop(columns=['cost_per_unit', '2022_cost_per_unit']).dropna().astype('float64')\n",
    "# y_column = '2021_cost_per_unit'\n",
    "# X = raw_df.drop(columns=[y_column])\n",
    "# y = raw_df[y_column]\n",
    "X = sm.add_constant(xdf) # Adding a constant (intercept) term\n",
    "model = sm.OLS(ydf, X).fit()\n",
    "summary = model.summary()\n",
    "print(summary)"
   ]
  },
  {
   "cell_type": "code",
   "execution_count": 157,
   "id": "c96e3f22-8067-4d73-a3eb-388838c71e0f",
   "metadata": {
    "tags": []
   },
   "outputs": [],
   "source": [
    "xd['2021_total_cost'] = xd['log_net_generation_gwh']*xd['log_2021_cost_per_unit']"
   ]
  },
  {
   "cell_type": "code",
   "execution_count": 159,
   "id": "969b20f2-1964-412c-872d-75946244a266",
   "metadata": {
    "tags": []
   },
   "outputs": [
    {
     "name": "stdout",
     "output_type": "stream",
     "text": [
      "                             OLS Regression Results                            \n",
      "===============================================================================\n",
      "Dep. Variable:     log_change_in_units   R-squared:                       0.202\n",
      "Model:                             OLS   Adj. R-squared:                  0.189\n",
      "Method:                  Least Squares   F-statistic:                     16.29\n",
      "Date:                 Fri, 06 Oct 2023   Prob (F-statistic):           4.93e-07\n",
      "Time:                         16:09:23   Log-Likelihood:                -229.80\n",
      "No. Observations:                  132   AIC:                             465.6\n",
      "Df Residuals:                      129   BIC:                             474.2\n",
      "Df Model:                            2                                         \n",
      "Covariance Type:             nonrobust                                         \n",
      "===================================================================================\n",
      "                      coef    std err          t      P>|t|      [0.025      0.975]\n",
      "-----------------------------------------------------------------------------------\n",
      "const              -1.4541      0.514     -2.827      0.005      -2.472      -0.436\n",
      "2021_total_cost     0.0852      0.028      3.065      0.003       0.030       0.140\n",
      "log_capacity_mw     0.3964      0.120      3.316      0.001       0.160       0.633\n",
      "==============================================================================\n",
      "Omnibus:                        5.126   Durbin-Watson:                   1.958\n",
      "Prob(Omnibus):                  0.077   Jarque-Bera (JB):                4.780\n",
      "Skew:                           0.402   Prob(JB):                       0.0916\n",
      "Kurtosis:                       2.529   Cond. No.                         50.0\n",
      "==============================================================================\n",
      "\n",
      "Notes:\n",
      "[1] Standard Errors assume that the covariance matrix of the errors is correctly specified.\n"
     ]
    }
   ],
   "source": [
    "raw_df = xd[['log_change_in_units', '2021_total_cost', 'log_capacity_mw']].apply(lambda x : pd.to_numeric(x, errors=\"coerce\")).dropna().astype('float64')\n",
    "\n",
    "X = sm.add_constant(raw_df[['2021_total_cost', 'log_capacity_mw']])\n",
    "model = sm.OLS(raw_df['log_change_in_units'], X).fit()\n",
    "summary = model.summary()\n",
    "print(summary)"
   ]
  },
  {
   "cell_type": "code",
   "execution_count": 160,
   "id": "4d946185-f2d2-488c-89cd-ad903adcc9d8",
   "metadata": {
    "tags": []
   },
   "outputs": [
    {
     "name": "stdout",
     "output_type": "stream",
     "text": [
      "                             OLS Regression Results                            \n",
      "===============================================================================\n",
      "Dep. Variable:     log_change_in_units   R-squared:                       0.174\n",
      "Model:                             OLS   Adj. R-squared:                  0.161\n",
      "Method:                  Least Squares   F-statistic:                     13.60\n",
      "Date:                 Fri, 06 Oct 2023   Prob (F-statistic):           4.37e-06\n",
      "Time:                         16:11:23   Log-Likelihood:                -232.03\n",
      "No. Observations:                  132   AIC:                             470.1\n",
      "Df Residuals:                      129   BIC:                             478.7\n",
      "Df Model:                            2                                         \n",
      "Covariance Type:             nonrobust                                         \n",
      "==========================================================================================\n",
      "                             coef    std err          t      P>|t|      [0.025      0.975]\n",
      "------------------------------------------------------------------------------------------\n",
      "const                     -1.8291      0.583     -3.138      0.002      -2.982      -0.676\n",
      "log_2021_cost_per_unit     0.2482      0.113      2.189      0.030       0.024       0.472\n",
      "log_capacity_mw            0.5518      0.113      4.881      0.000       0.328       0.775\n",
      "==============================================================================\n",
      "Omnibus:                        4.605   Durbin-Watson:                   1.899\n",
      "Prob(Omnibus):                  0.100   Jarque-Bera (JB):                3.545\n",
      "Skew:                           0.278   Prob(JB):                        0.170\n",
      "Kurtosis:                       2.421   Cond. No.                         24.6\n",
      "==============================================================================\n",
      "\n",
      "Notes:\n",
      "[1] Standard Errors assume that the covariance matrix of the errors is correctly specified.\n"
     ]
    }
   ],
   "source": [
    "raw_df = xd[['log_change_in_units', 'log_2021_cost_per_unit', 'log_capacity_mw']].apply(lambda x : pd.to_numeric(x, errors=\"coerce\")).dropna().astype('float64')\n",
    "\n",
    "X = sm.add_constant(raw_df[['log_2021_cost_per_unit', 'log_capacity_mw']])\n",
    "model = sm.OLS(raw_df['log_change_in_units'], X).fit()\n",
    "summary = model.summary()\n",
    "print(summary)"
   ]
  },
  {
   "cell_type": "code",
   "execution_count": 166,
   "id": "6f656997-d22e-4545-bace-602cfb1c6c2a",
   "metadata": {
    "tags": []
   },
   "outputs": [
    {
     "name": "stdout",
     "output_type": "stream",
     "text": [
      "                               OLS Regression Results                              \n",
      "===================================================================================\n",
      "Dep. Variable:     log_pct_change_in_units   R-squared:                       0.220\n",
      "Model:                                 OLS   Adj. R-squared:                  0.208\n",
      "Method:                      Least Squares   F-statistic:                     18.20\n",
      "Date:                     Fri, 06 Oct 2023   Prob (F-statistic):           1.09e-07\n",
      "Time:                             17:26:56   Log-Likelihood:                -278.36\n",
      "No. Observations:                      132   AIC:                             562.7\n",
      "Df Residuals:                          129   BIC:                             571.4\n",
      "Df Model:                                2                                         \n",
      "Covariance Type:                 nonrobust                                         \n",
      "==========================================================================================\n",
      "                             coef    std err          t      P>|t|      [0.025      0.975]\n",
      "------------------------------------------------------------------------------------------\n",
      "const                     -1.0271      0.828     -1.240      0.217      -2.665       0.611\n",
      "log_2021_cost_per_unit     0.9505      0.161      5.903      0.000       0.632       1.269\n",
      "log_capacity_mw            0.2693      0.161      1.677      0.096      -0.048       0.587\n",
      "==============================================================================\n",
      "Omnibus:                       19.719   Durbin-Watson:                   2.026\n",
      "Prob(Omnibus):                  0.000   Jarque-Bera (JB):               26.493\n",
      "Skew:                           0.817   Prob(JB):                     1.77e-06\n",
      "Kurtosis:                       4.466   Cond. No.                         24.6\n",
      "==============================================================================\n",
      "\n",
      "Notes:\n",
      "[1] Standard Errors assume that the covariance matrix of the errors is correctly specified.\n"
     ]
    }
   ],
   "source": [
    "raw_df = xd[['log_pct_change_in_units', 'log_2021_cost_per_unit', 'log_capacity_mw']].apply(lambda x : pd.to_numeric(x, errors=\"coerce\")).dropna().astype('float64')\n",
    "\n",
    "X = sm.add_constant(raw_df[['log_2021_cost_per_unit', 'log_capacity_mw']])\n",
    "model = sm.OLS(raw_df['log_pct_change_in_units'], X).fit()\n",
    "summary = model.summary()\n",
    "print(summary)"
   ]
  },
  {
   "cell_type": "code",
   "execution_count": 195,
   "id": "c1523e68-bcfb-441b-8dfb-3934a2660ac4",
   "metadata": {
    "tags": []
   },
   "outputs": [],
   "source": [
    "xd['plf_greater_than_0.6']=df['2022_usage']>0.6\n",
    "xd['pct_change_in_units'] = df['pct_change_in_units']\n",
    "xd = xd.replace([np.inf, -np.inf], np.nan).fillna(0)"
   ]
  },
  {
   "cell_type": "code",
   "execution_count": 216,
   "id": "fbafb2d0-a2cd-4483-81bb-a74482b9eed2",
   "metadata": {
    "tags": []
   },
   "outputs": [],
   "source": [
    "df['age_bin'] = pd.qcut(df.age, 10, labels=False)"
   ]
  },
  {
   "cell_type": "code",
   "execution_count": 218,
   "id": "add244b0-a746-47fa-ada3-21d6e1df631c",
   "metadata": {
    "tags": []
   },
   "outputs": [
    {
     "data": {
      "text/plain": [
       "<Axes: xlabel='age_bin'>"
      ]
     },
     "execution_count": 218,
     "metadata": {},
     "output_type": "execute_result"
    },
    {
     "data": {
      "image/png": "[encoded data removed]",
      "text/plain": [
       "<Figure size 640x480 with 1 Axes>"
      ]
     },
     "metadata": {},
     "output_type": "display_data"
    }
   ],
   "source": [
    "import matplotlib.pyplot as plt\n",
    "df.groupby(\"age_bin\")['usage'].mean().plot()"
   ]
  },
  {
   "cell_type": "code",
   "execution_count": 213,
   "id": "3879ebbd-09aa-42df-ac4a-dddb61ef809d",
   "metadata": {
    "tags": []
   },
   "outputs": [
    {
     "data": {
      "text/plain": [
       "<matplotlib.collections.PathCollection at 0x7f9ec0991190>"
      ]
     },
     "execution_count": 213,
     "metadata": {},
     "output_type": "execute_result"
    },
    {
     "data": {
      "image/png": "[encoded data removed]",
      "text/plain": [
       "<Figure size 640x480 with 1 Axes>"
      ]
     },
     "metadata": {},
     "output_type": "display_data"
    }
   ],
   "source": [
    "plt.scatter(df.age, df.usage)"
   ]
  },
  {
   "cell_type": "code",
   "execution_count": 214,
   "id": "9f4e8f59-ad53-4d5c-a5b8-5c48c7b6cfb5",
   "metadata": {
    "tags": []
   },
   "outputs": [
    {
     "name": "stdout",
     "output_type": "stream",
     "text": [
      "                               OLS Regression Results                              \n",
      "===================================================================================\n",
      "Dep. Variable:     log_pct_change_in_units   R-squared:                       0.236\n",
      "Model:                                 OLS   Adj. R-squared:                  0.218\n",
      "Method:                      Least Squares   F-statistic:                     13.21\n",
      "Date:                     Fri, 06 Oct 2023   Prob (F-statistic):           1.44e-07\n",
      "Time:                             18:20:52   Log-Likelihood:                -276.96\n",
      "No. Observations:                      132   AIC:                             561.9\n",
      "Df Residuals:                          128   BIC:                             573.5\n",
      "Df Model:                                3                                         \n",
      "Covariance Type:                 nonrobust                                         \n",
      "==========================================================================================\n",
      "                             coef    std err          t      P>|t|      [0.025      0.975]\n",
      "------------------------------------------------------------------------------------------\n",
      "const                     -1.2565      0.834     -1.506      0.134      -2.907       0.394\n",
      "log_2021_cost_per_unit     1.0056      0.163      6.155      0.000       0.682       1.329\n",
      "log_capacity_mw            0.2537      0.160      1.588      0.115      -0.062       0.570\n",
      "plf_greater_than_0.6       0.6516      0.394      1.652      0.101      -0.129       1.432\n",
      "==============================================================================\n",
      "Omnibus:                       24.163   Durbin-Watson:                   2.070\n",
      "Prob(Omnibus):                  0.000   Jarque-Bera (JB):               37.607\n",
      "Skew:                           0.898   Prob(JB):                     6.82e-09\n",
      "Kurtosis:                       4.901   Cond. No.                         25.0\n",
      "==============================================================================\n",
      "\n",
      "Notes:\n",
      "[1] Standard Errors assume that the covariance matrix of the errors is correctly specified.\n"
     ]
    }
   ],
   "source": [
    "raw_df = xd[['log_pct_change_in_units', 'plf_greater_than_0.6', 'log_2021_cost_per_unit', 'log_capacity_mw']].apply(lambda x : pd.to_numeric(x, errors=\"coerce\")).dropna().astype('float64')\n",
    "\n",
    "X = sm.add_constant(raw_df[['log_2021_cost_per_unit', 'log_capacity_mw', 'plf_greater_than_0.6']])\n",
    "model = sm.OLS(raw_df['log_pct_change_in_units'], X).fit()\n",
    "summary = model.summary()\n",
    "print(summary)"
   ]
  },
  {
   "cell_type": "code",
   "execution_count": 215,
   "id": "e3ec14a4-ee1a-409b-a767-b94fb9096c1e",
   "metadata": {
    "tags": []
   },
   "outputs": [
    {
     "data": {
      "text/html": [
       "<table class=\"simpletable\">\n",
       "<caption>OLS Regression Results</caption>\n",
       "<tr>\n",
       "  <th>Dep. Variable:</th>    <td>log_pct_change_in_units</td> <th>  R-squared:         </th> <td>   0.236</td>\n",
       "</tr>\n",
       "<tr>\n",
       "  <th>Model:</th>                      <td>OLS</td>           <th>  Adj. R-squared:    </th> <td>   0.218</td>\n",
       "</tr>\n",
       "<tr>\n",
       "  <th>Method:</th>                <td>Least Squares</td>      <th>  F-statistic:       </th> <td>   13.21</td>\n",
       "</tr>\n",
       "<tr>\n",
       "  <th>Date:</th>                <td>Fri, 06 Oct 2023</td>     <th>  Prob (F-statistic):</th> <td>1.44e-07</td>\n",
       "</tr>\n",
       "<tr>\n",
       "  <th>Time:</th>                    <td>18:20:52</td>         <th>  Log-Likelihood:    </th> <td> -276.96</td>\n",
       "</tr>\n",
       "<tr>\n",
       "  <th>No. Observations:</th>         <td>   132</td>          <th>  AIC:               </th> <td>   561.9</td>\n",
       "</tr>\n",
       "<tr>\n",
       "  <th>Df Residuals:</th>             <td>   128</td>          <th>  BIC:               </th> <td>   573.5</td>\n",
       "</tr>\n",
       "<tr>\n",
       "  <th>Df Model:</th>                 <td>     3</td>          <th>                     </th>     <td> </td>   \n",
       "</tr>\n",
       "<tr>\n",
       "  <th>Covariance Type:</th>         <td>nonrobust</td>        <th>                     </th>     <td> </td>   \n",
       "</tr>\n",
       "</table>"
      ],
      "text/latex": [
       "\\begin{center}\n",
       "\\begin{tabular}{lclc}\n",
       "\\toprule\n",
       "\\textbf{Dep. Variable:}    & log\\_pct\\_change\\_in\\_units & \\textbf{  R-squared:         } &    0.236  \\\\\n",
       "\\textbf{Model:}            &             OLS             & \\textbf{  Adj. R-squared:    } &    0.218  \\\\\n",
       "\\textbf{Method:}           &        Least Squares        & \\textbf{  F-statistic:       } &    13.21  \\\\\n",
       "\\textbf{Date:}             &       Fri, 06 Oct 2023      & \\textbf{  Prob (F-statistic):} & 1.44e-07  \\\\\n",
       "\\textbf{Time:}             &           18:20:52          & \\textbf{  Log-Likelihood:    } &  -276.96  \\\\\n",
       "\\textbf{No. Observations:} &               132           & \\textbf{  AIC:               } &    561.9  \\\\\n",
       "\\textbf{Df Residuals:}     &               128           & \\textbf{  BIC:               } &    573.5  \\\\\n",
       "\\textbf{Df Model:}         &                 3           & \\textbf{                     } &           \\\\\n",
       "\\textbf{Covariance Type:}  &          nonrobust          & \\textbf{                     } &           \\\\\n",
       "\\bottomrule\n",
       "\\end{tabular}\n",
       "%\\caption{OLS Regression Results}\n",
       "\\end{center}"
      ],
      "text/plain": [
       "<class 'statsmodels.iolib.table.SimpleTable'>"
      ]
     },
     "execution_count": 215,
     "metadata": {},
     "output_type": "execute_result"
    }
   ],
   "source": [
    "summary.tables[0]"
   ]
  },
  {
   "cell_type": "code",
   "execution_count": 219,
   "id": "2685bae1-2c01-4f37-b6a1-8d0c7f07b673",
   "metadata": {
    "tags": []
   },
   "outputs": [
    {
     "data": {
      "text/html": [
       "<table class=\"simpletable\">\n",
       "<tr>\n",
       "             <td></td>               <th>coef</th>     <th>std err</th>      <th>t</th>      <th>P>|t|</th>  <th>[0.025</th>    <th>0.975]</th>  \n",
       "</tr>\n",
       "<tr>\n",
       "  <th>const</th>                  <td>   -1.2565</td> <td>    0.834</td> <td>   -1.506</td> <td> 0.134</td> <td>   -2.907</td> <td>    0.394</td>\n",
       "</tr>\n",
       "<tr>\n",
       "  <th>log_2021_cost_per_unit</th> <td>    1.0056</td> <td>    0.163</td> <td>    6.155</td> <td> 0.000</td> <td>    0.682</td> <td>    1.329</td>\n",
       "</tr>\n",
       "<tr>\n",
       "  <th>log_capacity_mw</th>        <td>    0.2537</td> <td>    0.160</td> <td>    1.588</td> <td> 0.115</td> <td>   -0.062</td> <td>    0.570</td>\n",
       "</tr>\n",
       "<tr>\n",
       "  <th>plf_greater_than_0.6</th>   <td>    0.6516</td> <td>    0.394</td> <td>    1.652</td> <td> 0.101</td> <td>   -0.129</td> <td>    1.432</td>\n",
       "</tr>\n",
       "</table>"
      ],
      "text/latex": [
       "\\begin{center}\n",
       "\\begin{tabular}{lcccccc}\n",
       "\\toprule\n",
       "                                    & \\textbf{coef} & \\textbf{std err} & \\textbf{t} & \\textbf{P$> |$t$|$} & \\textbf{[0.025} & \\textbf{0.975]}  \\\\\n",
       "\\midrule\n",
       "\\textbf{const}                      &      -1.2565  &        0.834     &    -1.506  &         0.134        &       -2.907    &        0.394     \\\\\n",
       "\\textbf{log\\_2021\\_cost\\_per\\_unit} &       1.0056  &        0.163     &     6.155  &         0.000        &        0.682    &        1.329     \\\\\n",
       "\\textbf{log\\_capacity\\_mw}          &       0.2537  &        0.160     &     1.588  &         0.115        &       -0.062    &        0.570     \\\\\n",
       "\\textbf{plf\\_greater\\_than\\_0.6}    &       0.6516  &        0.394     &     1.652  &         0.101        &       -0.129    &        1.432     \\\\\n",
       "\\bottomrule\n",
       "\\end{tabular}\n",
       "\\end{center}"
      ],
      "text/plain": [
       "<class 'statsmodels.iolib.table.SimpleTable'>"
      ]
     },
     "execution_count": 219,
     "metadata": {},
     "output_type": "execute_result"
    }
   ],
   "source": [
    "summary.tables[1]"
   ]
  },
  {
   "cell_type": "code",
   "execution_count": 223,
   "id": "67d98e17-aeac-4f8d-8dd8-a6a3b5c9e6c2",
   "metadata": {
    "tags": []
   },
   "outputs": [
    {
     "name": "stdout",
     "output_type": "stream",
     "text": [
      "                            OLS Regression Results                            \n",
      "==============================================================================\n",
      "Dep. Variable:            plf_over_60   R-squared:                       0.047\n",
      "Model:                            OLS   Adj. R-squared:                  0.032\n",
      "Method:                 Least Squares   F-statistic:                     3.168\n",
      "Date:                Fri, 06 Oct 2023   Prob (F-statistic):             0.0454\n",
      "Time:                        18:42:21   Log-Likelihood:                -79.543\n",
      "No. Observations:                 132   AIC:                             165.1\n",
      "Df Residuals:                     129   BIC:                             173.7\n",
      "Df Model:                           2                                         \n",
      "Covariance Type:            nonrobust                                         \n",
      "==========================================================================================\n",
      "                             coef    std err          t      P>|t|      [0.025      0.975]\n",
      "------------------------------------------------------------------------------------------\n",
      "const                      0.3521      0.184      1.917      0.057      -0.011       0.715\n",
      "log_2021_cost_per_unit    -0.0846      0.036     -2.370      0.019      -0.155      -0.014\n",
      "log_capacity_mw            0.0239      0.036      0.672      0.503      -0.047       0.094\n",
      "==============================================================================\n",
      "Omnibus:                       45.133   Durbin-Watson:                   1.599\n",
      "Prob(Omnibus):                  0.000   Jarque-Bera (JB):               22.088\n",
      "Skew:                           0.837   Prob(JB):                     1.60e-05\n",
      "Kurtosis:                       1.899   Cond. No.                         24.6\n",
      "==============================================================================\n",
      "\n",
      "Notes:\n",
      "[1] Standard Errors assume that the covariance matrix of the errors is correctly specified.\n"
     ]
    }
   ],
   "source": [
    "raw_df = xd[['plf_over_60', 'log_2021_cost_per_unit', 'log_capacity_mw']].apply(lambda x : pd.to_numeric(x, errors=\"coerce\")).dropna().astype('float64')\n",
    "\n",
    "X = sm.add_constant(raw_df[['log_2021_cost_per_unit', 'log_capacity_mw']])\n",
    "model = sm.OLS(raw_df['plf_over_60'], X).fit()\n",
    "summary = model.summary()\n",
    "print(summary)"
   ]
  },
  {
   "cell_type": "markdown",
   "id": "e942a8f8-c962-40df-b39d-4110f951010c",
   "metadata": {
    "jp-MarkdownHeadingCollapsed": true,
    "tags": []
   },
   "source": [
    "# Bull"
   ]
  },
  {
   "cell_type": "code",
   "execution_count": 111,
   "id": "60b76e77-efea-42c3-ade4-fe50608270c2",
   "metadata": {
    "tags": []
   },
   "outputs": [],
   "source": [
    "myd = rdf[['own_x', 'fuel_type_x', 'capacity_mw', 'age_in_months', 'plant_name']].merge(costs, left_on=\"plant_name\", right_on=\"plant_name_x\", how=\"inner\").drop(columns=[\"plant_name\", \"plant_name_x\"])"
   ]
  },
  {
   "cell_type": "code",
   "execution_count": 108,
   "id": "ede28c9e-68f7-41ca-ab93-0cd3d53098ac",
   "metadata": {
    "tags": []
   },
   "outputs": [],
   "source": [
    "def get_value_counts_df(df):\n",
    "    # Creating an empty DataFrame to store the results\n",
    "    value_counts_df = pd.DataFrame()\n",
    "\n",
    "    # Looping through categorical columns\n",
    "    for col in df.select_dtypes(include=['object']).columns:\n",
    "        # Getting value counts for the current column\n",
    "        value_counts = df[col].value_counts().reset_index()\n",
    "\n",
    "        # Renaming the columns for clarity\n",
    "        value_counts.columns = [col, 'count']\n",
    "\n",
    "        # Adding a percentage column\n",
    "        value_counts['percentage'] = (value_counts['count'] / value_counts['count'].sum()) * 100\n",
    "\n",
    "        # Transposing the DataFrame for better visualization\n",
    "        value_counts = value_counts.set_index(col).T\n",
    "\n",
    "        # Appending to the result DataFrame\n",
    "        value_counts_df = pd.concat([value_counts_df, value_counts], axis=1)\n",
    "\n",
    "    # Resulting DataFrame containing value counts for all categorical columns\n",
    "    return value_counts_df\n"
   ]
  },
  {
   "cell_type": "code",
   "execution_count": 116,
   "id": "f9c0c99a-8fda-4071-9dbd-e18cd7ff3d08",
   "metadata": {},
   "outputs": [
    {
     "data": {
      "text/plain": [
       "Index(['own_x', 'fuel_type_x'], dtype='object')"
      ]
     },
     "execution_count": 116,
     "metadata": {},
     "output_type": "execute_result"
    }
   ],
   "source": [
    "myd.select_dtypes(include=['object']).columns"
   ]
  },
  {
   "cell_type": "code",
   "execution_count": 121,
   "id": "1478231b-4a8a-4de2-a618-0e10a56ed627",
   "metadata": {
    "tags": []
   },
   "outputs": [
    {
     "data": {
      "text/plain": [
       "<Axes: ylabel='count'>"
      ]
     },
     "execution_count": 121,
     "metadata": {},
     "output_type": "execute_result"
    },
    {
     "data": {
      "image/png": "[encoded data removed]",
      "text/plain": [
       "<Figure size 640x480 with 1 Axes>"
      ]
     },
     "metadata": {},
     "output_type": "display_data"
    }
   ],
   "source": [
    "myd['fuel_type_x'].value_counts().plot.pie()"
   ]
  },
  {
   "cell_type": "code",
   "execution_count": 122,
   "id": "65274fa5-0a8d-480f-92e3-270894f125f6",
   "metadata": {
    "tags": []
   },
   "outputs": [
    {
     "data": {
      "text/plain": [
       "<Axes: ylabel='count'>"
      ]
     },
     "execution_count": 122,
     "metadata": {},
     "output_type": "execute_result"
    },
    {
     "data": {
      "image/png": "[encoded data removed]",
      "text/plain": [
       "<Figure size 640x480 with 1 Axes>"
      ]
     },
     "metadata": {},
     "output_type": "display_data"
    }
   ],
   "source": [
    "myd['own_x'].value_counts().plot.pie()"
   ]
  },
  {
   "cell_type": "code",
   "execution_count": null,
   "id": "cb69e41b-23a2-4975-b47e-6597b55a814b",
   "metadata": {},
   "outputs": [],
   "source": []
  }
 ],
 "metadata": {
  "kernelspec": {
   "display_name": "mlenv",
   "language": "python",
   "name": "mlenv"
  },
  "language_info": {
   "codemirror_mode": {
    "name": "ipython",
    "version": 3
   },
   "file_extension": ".py",
   "mimetype": "text/x-python",
   "name": "python",
   "nbconvert_exporter": "python",
   "pygments_lexer": "ipython3",
   "version": "3.11.4"
  }
 },
 "nbformat": 4,
 "nbformat_minor": 5
}
